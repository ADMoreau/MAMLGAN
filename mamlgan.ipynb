{
  "nbformat": 4,
  "nbformat_minor": 0,
  "metadata": {
    "colab": {
      "name": "mamlgan.ipynb",
      "provenance": [],
      "collapsed_sections": [],
      "include_colab_link": true
    },
    "kernelspec": {
      "name": "python3",
      "display_name": "Python 3"
    },
    "accelerator": "GPU"
  },
  "cells": [
    {
      "cell_type": "markdown",
      "metadata": {
        "id": "view-in-github",
        "colab_type": "text"
      },
      "source": [
        "<a href=\"https://colab.research.google.com/github/ADMoreau/MAMLGAN/blob/master/mamlgan.ipynb\" target=\"_parent\"><img src=\"https://colab.research.google.com/assets/colab-badge.svg\" alt=\"Open In Colab\"/></a>"
      ]
    },
    {
      "cell_type": "code",
      "metadata": {
        "id": "RYyAhpCO35Jw",
        "colab_type": "code",
        "outputId": "c21736bd-7fa1-4dd5-ea12-b48270395db2",
        "colab": {
          "base_uri": "https://localhost:8080/",
          "height": 54
        }
      },
      "source": [
        "from google.colab import drive\n",
        "drive.mount('/content/drive')"
      ],
      "execution_count": 0,
      "outputs": [
        {
          "output_type": "stream",
          "text": [
            "Drive already mounted at /content/drive; to attempt to forcibly remount, call drive.mount(\"/content/drive\", force_remount=True).\n"
          ],
          "name": "stdout"
        }
      ]
    },
    {
      "cell_type": "code",
      "metadata": {
        "id": "zYPbkTpBSO-B",
        "colab_type": "code",
        "colab": {}
      },
      "source": [
        "import cv2\n",
        "import torch\n",
        "import requests\n",
        "import numpy as np\n",
        "import gc\n",
        "import pandas as pd\n",
        "from pycocotools.coco import COCO\n",
        "import skimage.io as io\n",
        "import matplotlib.pyplot as plt\n",
        "import pylab\n",
        "from PIL import Image\n",
        "from IPython.display import display, HTML, clear_output\n",
        "from ipywidgets import widgets, Layout\n",
        "from io import BytesIO\n",
        "import argparse\n",
        "import os\n",
        "import numpy as np\n",
        "import math\n",
        "import itertools\n",
        "import datetime\n",
        "import time\n",
        "import sys\n",
        "from tqdm import trange\n",
        "\n",
        "from torch.distributions import Normal, Categorical\n",
        "import torchvision\n",
        "from torchvision import datasets, models, transforms\n",
        "import torchvision.transforms as transforms\n",
        "from torchvision.utils import save_image\n",
        "from torch.utils.data import DataLoader\n",
        "from torchvision import datasets\n",
        "import torchvision.models as models\n",
        "import torchvision.transforms as transforms\n",
        "import torch.nn as nn\n",
        "import torch.nn.functional as F\n",
        "import torch\n",
        "from copy import deepcopy\n",
        "import scipy\n",
        "import scipy.misc\n",
        "from torch.autograd import Variable\n",
        "from torchvision.models.utils import load_state_dict_from_url\n",
        "\n",
        "\n",
        "cuda = torch.cuda.is_available()\n",
        "\n",
        "if cuda:\n",
        "  device = torch.device(\"cuda:0\")"
      ],
      "execution_count": 0,
      "outputs": []
    },
    {
      "cell_type": "code",
      "metadata": {
        "id": "_smJwUSNQkBY",
        "colab_type": "code",
        "outputId": "ec30faef-1c1f-442f-ee69-aa49ffecb8fe",
        "colab": {
          "base_uri": "https://localhost:8080/",
          "height": 72
        }
      },
      "source": [
        "!pip install --upgrade efficientnet-pytorch"
      ],
      "execution_count": 0,
      "outputs": [
        {
          "output_type": "stream",
          "text": [
            "Requirement already up-to-date: efficientnet-pytorch in /usr/local/lib/python3.6/dist-packages (0.6.1)\n",
            "Requirement already satisfied, skipping upgrade: torch in /usr/local/lib/python3.6/dist-packages (from efficientnet-pytorch) (1.4.0)\n"
          ],
          "name": "stdout"
        }
      ]
    },
    {
      "cell_type": "code",
      "metadata": {
        "id": "Do8lD5ilQceO",
        "colab_type": "code",
        "colab": {}
      },
      "source": [
        "from efficientnet_pytorch.utils import (\n",
        "    round_filters,\n",
        "    round_repeats,\n",
        "    drop_connect,\n",
        "    get_same_padding_conv2d,\n",
        "    get_model_params,\n",
        "    efficientnet_params,\n",
        "    load_pretrained_weights,\n",
        "    Swish,\n",
        "    MemoryEfficientSwish,\n",
        ")\n",
        "\n",
        "class MBConvBlock(nn.Module):\n",
        "    \"\"\"\n",
        "    Mobile Inverted Residual Bottleneck Block\n",
        "    Args:\n",
        "        block_args (namedtuple): BlockArgs, see above\n",
        "        global_params (namedtuple): GlobalParam, see above\n",
        "    Attributes:\n",
        "        has_se (bool): Whether the block contains a Squeeze and Excitation layer.\n",
        "    \"\"\"\n",
        "\n",
        "    def __init__(self, block_args, global_params):\n",
        "        super().__init__()\n",
        "        self._block_args = block_args\n",
        "        self._bn_mom = 1 - global_params.batch_norm_momentum\n",
        "        self._bn_eps = global_params.batch_norm_epsilon\n",
        "        self.has_se = (self._block_args.se_ratio is not None) and (0 < self._block_args.se_ratio <= 1)\n",
        "        self.id_skip = block_args.id_skip  # skip connection and drop connect\n",
        "\n",
        "        # Get static or dynamic convolution depending on image size\n",
        "        Conv2d = get_same_padding_conv2d(image_size=global_params.image_size)\n",
        "\n",
        "        # Expansion phase\n",
        "        inp = self._block_args.input_filters  # number of input channels\n",
        "        oup = self._block_args.input_filters * self._block_args.expand_ratio  # number of output channels\n",
        "        if self._block_args.expand_ratio != 1:\n",
        "            self._expand_conv = Conv2d(in_channels=inp, out_channels=oup, kernel_size=1, bias=False)\n",
        "            self._bn0 = nn.BatchNorm2d(num_features=oup, momentum=self._bn_mom, eps=self._bn_eps)\n",
        "\n",
        "        # Depthwise convolution phase\n",
        "        k = self._block_args.kernel_size\n",
        "        s = self._block_args.stride\n",
        "        self._depthwise_conv = Conv2d(\n",
        "            in_channels=oup, out_channels=oup, groups=oup,  # groups makes it depthwise\n",
        "            kernel_size=k, stride=s, bias=False)\n",
        "        self._bn1 = nn.BatchNorm2d(num_features=oup, momentum=self._bn_mom, eps=self._bn_eps)\n",
        "\n",
        "        # Squeeze and Excitation layer, if desired\n",
        "        if self.has_se:\n",
        "            num_squeezed_channels = max(1, int(self._block_args.input_filters * self._block_args.se_ratio))\n",
        "            self._se_reduce = Conv2d(in_channels=oup, out_channels=num_squeezed_channels, kernel_size=1)\n",
        "            self._se_expand = Conv2d(in_channels=num_squeezed_channels, out_channels=oup, kernel_size=1)\n",
        "\n",
        "        # Output phase\n",
        "        final_oup = self._block_args.output_filters\n",
        "        self._project_conv = Conv2d(in_channels=oup, out_channels=final_oup, kernel_size=1, bias=False)\n",
        "        self._bn2 = nn.BatchNorm2d(num_features=final_oup, momentum=self._bn_mom, eps=self._bn_eps)\n",
        "        self._swish = MemoryEfficientSwish()\n",
        "\n",
        "    def forward(self, inputs, drop_connect_rate=None):\n",
        "        \"\"\"\n",
        "        :param inputs: input tensor\n",
        "        :param drop_connect_rate: drop connect rate (float, between 0 and 1)\n",
        "        :return: output of block\n",
        "        \"\"\"\n",
        "\n",
        "        # Expansion and Depthwise Convolution\n",
        "        x = inputs\n",
        "        if self._block_args.expand_ratio != 1:\n",
        "            x = self._swish(self._bn0(self._expand_conv(inputs)))\n",
        "        x = self._swish(self._bn1(self._depthwise_conv(x)))\n",
        "\n",
        "        # Squeeze and Excitation\n",
        "        if self.has_se:\n",
        "            x_squeezed = F.adaptive_avg_pool2d(x, 1)\n",
        "            x_squeezed = self._se_expand(self._swish(self._se_reduce(x_squeezed)))\n",
        "            x = torch.sigmoid(x_squeezed) * x\n",
        "\n",
        "        x = self._bn2(self._project_conv(x))\n",
        "\n",
        "        # Skip connection and drop connect\n",
        "        input_filters, output_filters = self._block_args.input_filters, self._block_args.output_filters\n",
        "        if self.id_skip and self._block_args.stride == 1 and input_filters == output_filters:\n",
        "            if drop_connect_rate:\n",
        "                x = drop_connect(x, p=drop_connect_rate, training=self.training)\n",
        "            x = x + inputs  # skip connection\n",
        "        return x\n",
        "\n",
        "    def set_swish(self, memory_efficient=True):\n",
        "        \"\"\"Sets swish function as memory efficient (for training) or standard (for export)\"\"\"\n",
        "        self._swish = MemoryEfficientSwish() if memory_efficient else Swish()\n",
        "\n",
        "\n",
        "class EfficientNet(nn.Module):\n",
        "    \"\"\"\n",
        "    An EfficientNet model. Most easily loaded with the .from_name or .from_pretrained methods\n",
        "    Args:\n",
        "        blocks_args (list): A list of BlockArgs to construct blocks\n",
        "        global_params (namedtuple): A set of GlobalParams shared between blocks\n",
        "    Example:\n",
        "        model = EfficientNet.from_pretrained('efficientnet-b0')\n",
        "    \"\"\"\n",
        "\n",
        "    def __init__(self, blocks_args=None, global_params=None):\n",
        "        super().__init__()\n",
        "        assert isinstance(blocks_args, list), 'blocks_args should be a list'\n",
        "        assert len(blocks_args) > 0, 'block args must be greater than 0'\n",
        "        self._global_params = global_params\n",
        "        self._blocks_args = blocks_args\n",
        "\n",
        "        # Get static or dynamic convolution depending on image size\n",
        "        Conv2d = get_same_padding_conv2d(image_size=global_params.image_size)\n",
        "\n",
        "        # Batch norm parameters\n",
        "        bn_mom = 1 - self._global_params.batch_norm_momentum\n",
        "        bn_eps = self._global_params.batch_norm_epsilon\n",
        "\n",
        "        # Stem\n",
        "        in_channels = 3  # rgb\n",
        "        out_channels = round_filters(32, self._global_params)  # number of output channels\n",
        "        self._conv_stem = Conv2d(in_channels, out_channels, kernel_size=3, stride=2, bias=False)\n",
        "        self._bn0 = nn.BatchNorm2d(num_features=out_channels, momentum=bn_mom, eps=bn_eps)\n",
        "\n",
        "        # Build blocks\n",
        "        self._blocks = nn.ModuleList([])\n",
        "        for block_args in self._blocks_args:\n",
        "\n",
        "            # Update block input and output filters based on depth multiplier.\n",
        "            block_args = block_args._replace(\n",
        "                input_filters=round_filters(block_args.input_filters, self._global_params),\n",
        "                output_filters=round_filters(block_args.output_filters, self._global_params),\n",
        "                num_repeat=round_repeats(block_args.num_repeat, self._global_params)\n",
        "            )\n",
        "\n",
        "            # The first block needs to take care of stride and filter size increase.\n",
        "            self._blocks.append(MBConvBlock(block_args, self._global_params))\n",
        "            if block_args.num_repeat > 1:\n",
        "                block_args = block_args._replace(input_filters=block_args.output_filters, stride=1)\n",
        "            for _ in range(block_args.num_repeat - 1):\n",
        "                self._blocks.append(MBConvBlock(block_args, self._global_params))\n",
        "\n",
        "        # Head\n",
        "        in_channels = block_args.output_filters  # output of final block\n",
        "        out_channels = round_filters(1280, self._global_params)\n",
        "        self._conv_head = Conv2d(in_channels, out_channels, kernel_size=1, bias=False)\n",
        "        self._bn1 = nn.BatchNorm2d(num_features=out_channels, momentum=bn_mom, eps=bn_eps)\n",
        "\n",
        "        # Final linear layer\n",
        "        self._avg_pooling = nn.AdaptiveAvgPool2d(1)\n",
        "        self._dropout = nn.Dropout(self._global_params.dropout_rate)\n",
        "        self._fc = nn.Linear(out_channels, self._global_params.num_classes)\n",
        "        self._swish = MemoryEfficientSwish()\n",
        "\n",
        "    def set_swish(self, memory_efficient=True):\n",
        "        \"\"\"Sets swish function as memory efficient (for training) or standard (for export)\"\"\"\n",
        "        self._swish = MemoryEfficientSwish() if memory_efficient else Swish()\n",
        "        for block in self._blocks:\n",
        "            block.set_swish(memory_efficient)\n",
        "\n",
        "\n",
        "    def extract_features(self, inputs):\n",
        "        \"\"\" Returns output of the final convolution layer \"\"\"\n",
        "\n",
        "        # Stem\n",
        "        x = self._swish(self._bn0(self._conv_stem(inputs)))\n",
        "\n",
        "        # Blocks\n",
        "        for idx, block in enumerate(self._blocks):\n",
        "            drop_connect_rate = self._global_params.drop_connect_rate\n",
        "            if drop_connect_rate:\n",
        "                drop_connect_rate *= float(idx) / len(self._blocks)\n",
        "            x = block(x, drop_connect_rate=drop_connect_rate)\n",
        "\n",
        "        # Head\n",
        "        x = self._swish(self._bn1(self._conv_head(x)))\n",
        "\n",
        "        return x\n",
        "\n",
        "    def classify(self, inputs):\n",
        "        bs = inputs.size(0)\n",
        "        # Pooling and final linear layer\n",
        "        x = self._avg_pooling(inputs)\n",
        "        x = x.view(bs, -1)\n",
        "        x = self._dropout(x)\n",
        "        x = self._fc(x)\n",
        "        return x\n",
        "\n",
        "    def forward(self, inputs):\n",
        "        \"\"\" Calls extract_features to extract features, applies final linear layer, and returns logits. \"\"\"\n",
        "        # Convolution layers\n",
        "        x = self.extract_features(inputs)\n",
        "        x = self.classify(x)\n",
        "        return x\n",
        "        \n",
        "\n",
        "    @classmethod\n",
        "    def from_name(cls, model_name, override_params=None):\n",
        "        cls._check_model_name_is_valid(model_name)\n",
        "        blocks_args, global_params = get_model_params(model_name, override_params)\n",
        "        return cls(blocks_args, global_params)\n",
        "\n",
        "    @classmethod\n",
        "    def from_pretrained(cls, model_name, advprop=False, num_classes=1000, in_channels=3):\n",
        "        model = cls.from_name(model_name, override_params={'num_classes': num_classes})\n",
        "        load_pretrained_weights(model, model_name, load_fc=(num_classes == 1000), advprop=advprop)\n",
        "        if in_channels != 3:\n",
        "            Conv2d = get_same_padding_conv2d(image_size = model._global_params.image_size)\n",
        "            out_channels = round_filters(32, model._global_params)\n",
        "            model._conv_stem = Conv2d(in_channels, out_channels, kernel_size=3, stride=2, bias=False)\n",
        "        return model\n",
        "    \n",
        "    @classmethod\n",
        "    def get_image_size(cls, model_name):\n",
        "        cls._check_model_name_is_valid(model_name)\n",
        "        _, _, res, _ = efficientnet_params(model_name)\n",
        "        return res\n",
        "\n",
        "    @classmethod\n",
        "    def _check_model_name_is_valid(cls, model_name):\n",
        "        \"\"\" Validates model name. \"\"\" \n",
        "        valid_models = ['efficientnet-b'+str(i) for i in range(9)]\n",
        "        if model_name not in valid_models:\n",
        "            raise ValueError('model_name should be one of: ' + ', '.join(valid_models))"
      ],
      "execution_count": 0,
      "outputs": []
    },
    {
      "cell_type": "code",
      "metadata": {
        "id": "tnE_bT0EuQHG",
        "colab_type": "code",
        "colab": {}
      },
      "source": [
        "efficientnet_transform=transforms.Compose([transforms.ToTensor(),\n",
        "                              transforms.Normalize((0.4914, 0.4822, 0.4465), (0.2023, 0.1994, 0.2010))])\n",
        "\n",
        "efficientnet = EfficientNet.from_name('efficientnet-b5') \n",
        "out_channels = round_filters(1280, efficientnet._global_params)\n",
        "efficientnet._fc = nn.Linear(out_channels, 10)\n",
        "efficientnet = efficientnet.to(device)\n",
        "efficientnet.load_state_dict(torch.load('/content/drive/My Drive/cifar10.pth'))\n",
        "efficientnet.eval()"
      ],
      "execution_count": 0,
      "outputs": []
    },
    {
      "cell_type": "markdown",
      "metadata": {
        "id": "LTcT20e8PodH",
        "colab_type": "text"
      },
      "source": [
        "MUNIT Constructor\n",
        "\n",
        "https://github.com/eriklindernoren/PyTorch-GAN/blob/master/implementations/munit"
      ]
    },
    {
      "cell_type": "code",
      "metadata": {
        "id": "MAgZvFTX3eod",
        "colab_type": "code",
        "colab": {}
      },
      "source": [
        "def weights_init_normal(m):\n",
        "    classname = m.__class__.__name__\n",
        "    if classname.find(\"Conv\") != -1:\n",
        "        torch.nn.init.normal_(m.weight.data, 0.0, 0.02)\n",
        "    elif classname.find(\"BatchNorm2d\") != -1:\n",
        "        torch.nn.init.normal_(m.weight.data, 1.0, 0.02)\n",
        "        torch.nn.init.constant_(m.bias.data, 0.0)\n",
        "\n",
        "\n",
        "class LambdaLR:\n",
        "    def __init__(self, n_epochs, offset, decay_start_epoch):\n",
        "        assert (n_epochs - decay_start_epoch) > 0, \"Decay must start before the training session ends!\"\n",
        "        self.n_epochs = n_epochs\n",
        "        self.offset = offset\n",
        "        self.decay_start_epoch = decay_start_epoch\n",
        "\n",
        "    def step(self, epoch):\n",
        "        return 1.0 - max(0, epoch + self.offset - self.decay_start_epoch) / (self.n_epochs - self.decay_start_epoch)\n",
        "\n",
        "\n",
        "class Encoder(nn.Module):\n",
        "    def __init__(self, in_channels=3, dim=64, n_residual=3, n_downsample=2, style_dim=8):\n",
        "        super(Encoder, self).__init__()\n",
        "        self.content_encoder = ContentEncoder(in_channels, dim, n_residual, n_downsample)\n",
        "        self.style_encoder = StyleEncoder(in_channels, dim, n_downsample, style_dim)\n",
        "\n",
        "    def forward(self, x):\n",
        "        content_code = self.content_encoder(x)\n",
        "        style_code = self.style_encoder(x)\n",
        "        return content_code, style_code\n",
        "\n",
        "\n",
        "class Decoder(nn.Module):\n",
        "    def __init__(self, out_channels=3, dim=64, n_residual=3, n_upsample=2, style_dim=8):\n",
        "        super(Decoder, self).__init__()\n",
        "\n",
        "        layers = []\n",
        "        dim = dim * 2 ** n_upsample\n",
        "        # Residual blocks\n",
        "        for _ in range(n_residual):\n",
        "            layers += [ResidualBlock(dim, norm=\"adain\")]\n",
        "\n",
        "        # Upsampling\n",
        "        for _ in range(n_upsample):\n",
        "            layers += [\n",
        "                nn.Upsample(scale_factor=2),\n",
        "                nn.Conv2d(dim, dim // 2, 5, stride=1, padding=2),\n",
        "                LayerNorm(dim // 2),\n",
        "                nn.ReLU(inplace=True),\n",
        "            ]\n",
        "            dim = dim // 2\n",
        "\n",
        "        # Output layer\n",
        "        layers += [nn.ReflectionPad2d(3), nn.Conv2d(dim, out_channels, 7), nn.Tanh()]\n",
        "\n",
        "        self.model = nn.Sequential(*layers)\n",
        "\n",
        "        # Initiate mlp (predicts AdaIN parameters)\n",
        "        num_adain_params = self.get_num_adain_params()\n",
        "        self.mlp = MLP(style_dim, num_adain_params)\n",
        "\n",
        "    def get_num_adain_params(self):\n",
        "        \"\"\"Return the number of AdaIN parameters needed by the model\"\"\"\n",
        "        num_adain_params = 0\n",
        "        for m in self.modules():\n",
        "            if m.__class__.__name__ == \"AdaptiveInstanceNorm2d\":\n",
        "                num_adain_params += 2 * m.num_features\n",
        "        return num_adain_params\n",
        "\n",
        "    def assign_adain_params(self, adain_params):\n",
        "        \"\"\"Assign the adain_params to the AdaIN layers in model\"\"\"\n",
        "        for m in self.modules():\n",
        "            if m.__class__.__name__ == \"AdaptiveInstanceNorm2d\":\n",
        "                # Extract mean and std predictions\n",
        "                mean = adain_params[:, : m.num_features]\n",
        "                std = adain_params[:, m.num_features : 2 * m.num_features]\n",
        "                # Update bias and weight\n",
        "                m.bias = mean.contiguous().view(-1)\n",
        "                m.weight = std.contiguous().view(-1)\n",
        "                # Move pointer\n",
        "                if adain_params.size(1) > 2 * m.num_features:\n",
        "                    adain_params = adain_params[:, 2 * m.num_features :]\n",
        "\n",
        "    def forward(self, content_code, style_code):\n",
        "        # Update AdaIN parameters by MLP prediction based off style code\n",
        "        self.assign_adain_params(self.mlp(style_code))\n",
        "        img = self.model(content_code)\n",
        "        return img\n",
        "\n",
        "\n",
        "class ContentEncoder(nn.Module):\n",
        "    def __init__(self, in_channels=3, dim=64, n_residual=3, n_downsample=2):\n",
        "        super(ContentEncoder, self).__init__()\n",
        "\n",
        "        # Initial convolution block\n",
        "        layers = [\n",
        "            nn.ReflectionPad2d(3),\n",
        "            nn.Conv2d(in_channels, dim, 7),\n",
        "            nn.InstanceNorm2d(dim),\n",
        "            nn.ReLU(inplace=True),\n",
        "        ]\n",
        "\n",
        "        # Downsampling\n",
        "        for _ in range(n_downsample):\n",
        "            layers += [\n",
        "                nn.Conv2d(dim, dim * 2, 4, stride=2, padding=1),\n",
        "                nn.InstanceNorm2d(dim * 2),\n",
        "                nn.ReLU(inplace=True),\n",
        "            ]\n",
        "            dim *= 2\n",
        "\n",
        "        # Residual blocks\n",
        "        for _ in range(n_residual):\n",
        "            layers += [ResidualBlock(dim, norm=\"in\")]\n",
        "\n",
        "        self.model = nn.Sequential(*layers)\n",
        "\n",
        "    def forward(self, x):\n",
        "        return self.model(x)\n",
        "\n",
        "\n",
        "class StyleEncoder(nn.Module):\n",
        "    def __init__(self, in_channels=3, dim=64, n_downsample=2, style_dim=8):\n",
        "        super(StyleEncoder, self).__init__()\n",
        "\n",
        "        # Initial conv block\n",
        "        layers = [nn.ReflectionPad2d(3), nn.Conv2d(in_channels, dim, 7), nn.ReLU(inplace=True)]\n",
        "\n",
        "        # Downsampling\n",
        "        for _ in range(2):\n",
        "            layers += [nn.Conv2d(dim, dim * 2, 4, stride=2, padding=1), nn.ReLU(inplace=True)]\n",
        "            dim *= 2\n",
        "\n",
        "        # Downsampling with constant depth\n",
        "        for _ in range(n_downsample - 2):\n",
        "            layers += [nn.Conv2d(dim, dim, 4, stride=2, padding=1), nn.ReLU(inplace=True)]\n",
        "\n",
        "        # Average pool and output layer\n",
        "        layers += [nn.AdaptiveAvgPool2d(1), nn.Conv2d(dim, style_dim, 1, 1, 0)]\n",
        "\n",
        "        self.model = nn.Sequential(*layers)\n",
        "\n",
        "    def forward(self, x):\n",
        "        return self.model(x)\n",
        "\n",
        "\n",
        "class MLP(nn.Module):\n",
        "    def __init__(self, input_dim, output_dim, dim=256, n_blk=3, activ=\"relu\"):\n",
        "        super(MLP, self).__init__()\n",
        "        layers = [nn.Linear(input_dim, dim), nn.ReLU(inplace=True)]\n",
        "        for _ in range(n_blk - 2):\n",
        "            layers += [nn.Linear(dim, dim), nn.ReLU(inplace=True)]\n",
        "        layers += [nn.Linear(dim, output_dim)]\n",
        "        self.model = nn.Sequential(*layers)\n",
        "\n",
        "    def forward(self, x):\n",
        "        return self.model(x.view(x.size(0), -1))\n",
        "\n",
        "\n",
        "class MultiDiscriminator(nn.Module):\n",
        "    def __init__(self, in_channels=3):\n",
        "        super(MultiDiscriminator, self).__init__()\n",
        "\n",
        "        def discriminator_block(in_filters, out_filters, normalize=True):\n",
        "            \"\"\"Returns downsampling layers of each discriminator block\"\"\"\n",
        "            layers = [nn.Conv2d(in_filters, out_filters, 4, stride=2, padding=1)]\n",
        "            if normalize:\n",
        "                layers.append(nn.InstanceNorm2d(out_filters))\n",
        "            layers.append(nn.LeakyReLU(0.2, inplace=True))\n",
        "            return layers\n",
        "\n",
        "        # Extracts three discriminator models\n",
        "        self.models = nn.ModuleList()\n",
        "        for i in range(3):\n",
        "            self.models.add_module(\n",
        "                \"disc_%d\" % i,\n",
        "                nn.Sequential(\n",
        "                    *discriminator_block(in_channels, 64, normalize=False),\n",
        "                    *discriminator_block(64, 128),\n",
        "                    *discriminator_block(128, 256),\n",
        "                    *discriminator_block(256, 512),\n",
        "                    nn.Conv2d(512, 1, 3, padding=1)\n",
        "                ),\n",
        "            )\n",
        "\n",
        "        self.downsample = nn.AvgPool2d(in_channels, stride=2, padding=[1, 1], count_include_pad=False)\n",
        "\n",
        "    def compute_loss(self, x, gt):\n",
        "        \"\"\"Computes the MSE between model output and scalar gt\"\"\"\n",
        "        loss = sum([torch.mean((out - gt) ** 2) for out in self.forward(x)])\n",
        "        return loss\n",
        "\n",
        "    def forward(self, x):\n",
        "        outputs = []\n",
        "        for m in self.models:\n",
        "            outputs.append(m(x))\n",
        "            x = self.downsample(x)\n",
        "        return outputs\n",
        "\n",
        "\n",
        "class ResidualBlock(nn.Module):\n",
        "    def __init__(self, features, norm=\"in\"):\n",
        "        super(ResidualBlock, self).__init__()\n",
        "\n",
        "        norm_layer = AdaptiveInstanceNorm2d if norm == \"adain\" else nn.InstanceNorm2d\n",
        "\n",
        "        self.block = nn.Sequential(\n",
        "            nn.ReflectionPad2d(1),\n",
        "            nn.Conv2d(features, features, 3),\n",
        "            norm_layer(features),\n",
        "            nn.ReLU(inplace=True),\n",
        "            nn.ReflectionPad2d(1),\n",
        "            nn.Conv2d(features, features, 3),\n",
        "            norm_layer(features),\n",
        "        )\n",
        "\n",
        "    def forward(self, x):\n",
        "        return x + self.block(x)\n",
        "\n",
        "\n",
        "class AdaptiveInstanceNorm2d(nn.Module):\n",
        "    \"\"\"Reference: https://github.com/NVlabs/MUNIT/blob/master/networks.py\"\"\"\n",
        "\n",
        "    def __init__(self, num_features, eps=1e-5, momentum=0.1):\n",
        "        super(AdaptiveInstanceNorm2d, self).__init__()\n",
        "        self.num_features = num_features\n",
        "        self.eps = eps\n",
        "        self.momentum = momentum\n",
        "        # weight and bias are dynamically assigned\n",
        "        self.weight = None\n",
        "        self.bias = None\n",
        "        # just dummy buffers, not used\n",
        "        self.register_buffer(\"running_mean\", torch.zeros(num_features))\n",
        "        self.register_buffer(\"running_var\", torch.ones(num_features))\n",
        "\n",
        "    def forward(self, x):\n",
        "        assert (\n",
        "            self.weight is not None and self.bias is not None\n",
        "        ), \"Please assign weight and bias before calling AdaIN!\"\n",
        "        b, c, h, w = x.size()\n",
        "        running_mean = self.running_mean.repeat(b)\n",
        "        running_var = self.running_var.repeat(b)\n",
        "\n",
        "        # Apply instance norm\n",
        "        x_reshaped = x.contiguous().view(1, b * c, h, w)\n",
        "\n",
        "        out = F.batch_norm(\n",
        "            x_reshaped, running_mean, running_var, self.weight, self.bias, True, self.momentum, self.eps\n",
        "        )\n",
        "\n",
        "        return out.view(b, c, h, w)\n",
        "\n",
        "    def __repr__(self):\n",
        "        return self.__class__.__name__ + \"(\" + str(self.num_features) + \")\"\n",
        "\n",
        "\n",
        "class LayerNorm(nn.Module):\n",
        "    def __init__(self, num_features, eps=1e-5, affine=True):\n",
        "        super(LayerNorm, self).__init__()\n",
        "        self.num_features = num_features\n",
        "        self.affine = affine\n",
        "        self.eps = eps\n",
        "\n",
        "        if self.affine:\n",
        "            self.gamma = nn.Parameter(torch.Tensor(num_features).uniform_())\n",
        "            self.beta = nn.Parameter(torch.zeros(num_features))\n",
        "\n",
        "    def forward(self, x):\n",
        "        shape = [-1] + [1] * (x.dim() - 1)\n",
        "        mean = x.view(x.size(0), -1).mean(1).view(*shape)\n",
        "        std = x.view(x.size(0), -1).std(1).view(*shape)\n",
        "        x = (x - mean) / (std + self.eps)\n",
        "\n",
        "        if self.affine:\n",
        "            shape = [1, -1] + [1] * (x.dim() - 2)\n",
        "            x = x * self.gamma.view(*shape) + self.beta.view(*shape)\n",
        "        return x"
      ],
      "execution_count": 0,
      "outputs": []
    },
    {
      "cell_type": "code",
      "metadata": {
        "id": "R23raiMITwjo",
        "colab_type": "code",
        "colab": {}
      },
      "source": [
        "def discount_rewards(r, gamma):\n",
        "  discounted_r = torch.zeros_like(r)\n",
        "  running_add = 0\n",
        "  for t in reversed(range(0, r.size(-1))):\n",
        "      running_add = running_add * gamma + r[t]\n",
        "      discounted_r[t] = running_add\n",
        "  return discounted_r\n",
        "\n",
        "class StylePolicy(nn.Module):\n",
        "  def __init__(self, latent_dim=512, img_size = 64, window_size = 16):\n",
        "    super(StylePolicy, self).__init__()\n",
        "    self.gamma = 0.99\n",
        "    self.action_probs = []\n",
        "    self.saved_log_probs = []\n",
        "    self.rewards = []\n",
        "\n",
        "    self.fc = nn.Linear(8192, 1024)\n",
        "    self.ReLU1_1 = nn.ReLU(inplace=True)\n",
        "\n",
        "    self.fc_2 = nn.Linear(1044, 512)\n",
        "    self.ReLU1_2 = nn.ReLU(inplace=True)\n",
        "\n",
        "    self.lfc = nn.Linear(latent_dim, 256)\n",
        "    self.lat = nn.Linear(256, img_size - window_size)\n",
        "    self.lon = nn.Linear(256, img_size - window_size)\n",
        "\n",
        "    self.fc_a = nn.Linear(latent_dim, 256)\n",
        "    self.mean_a = nn.Linear(256, 1)\n",
        "    self.sigma_a = nn.Linear(256, 1) \n",
        "\n",
        "    self.fc_b = nn.Linear(latent_dim, 256)\n",
        "    self.mean_b = nn.Linear(256, 1)\n",
        "    self.sigma_b = nn.Linear(256, 1) \n",
        "\n",
        "    self.fc_c = nn.Linear(latent_dim, 256)\n",
        "    self.mean_c = nn.Linear(256, 1)\n",
        "    self.sigma_c = nn.Linear(256, 1) \n",
        "\n",
        "    self.fc_d = nn.Linear(latent_dim, 256)\n",
        "    self.mean_d = nn.Linear(256, 1)\n",
        "    self.sigma_d = nn.Linear(256, 1) \n",
        "\n",
        "    self.fc_e = nn.Linear(latent_dim, 256)\n",
        "    self.mean_e = nn.Linear(256, 1)\n",
        "    self.sigma_e = nn.Linear(256, 1) \n",
        "\n",
        "    self.fc_f = nn.Linear(latent_dim, 256)\n",
        "    self.mean_f = nn.Linear(256, 1)\n",
        "    self.sigma_f = nn.Linear(256, 1) \n",
        "\n",
        "    self.fc_g = nn.Linear(latent_dim, 256)\n",
        "    self.mean_g = nn.Linear(256, 1)\n",
        "    self.sigma_g = nn.Linear(256, 1) \n",
        "\n",
        "    self.fc_h = nn.Linear(latent_dim, 256)\n",
        "    self.mean_h = nn.Linear(256, 1)\n",
        "    self.sigma_h = nn.Linear(256, 1) \n",
        "\n",
        "  def forward(self, efficientnet_encoding, efficientnet_output, goal_vector):\n",
        "    r = torch.flatten(efficientnet_encoding, 1)\n",
        "    r = self.fc(r)\n",
        "    r = self.ReLU1_1(r)\n",
        "\n",
        "    z = torch.cat((r, efficientnet_output, goal_vector), 1)\n",
        "    z = self.ReLU1_2(self.fc_2(z))\n",
        "\n",
        "    # Decode the hidden state of the last time step\n",
        "    lz = nn.ReLU()(self.lfc(z))\n",
        "    lat = Categorical(nn.Softmax(dim=1)(self.lat(lz)))\n",
        "    lon = Categorical(nn.Softmax(dim=1)(self.lon(lz)))\n",
        "\n",
        "    z_a = nn.ReLU()(self.fc_a(z))\n",
        "    mu_a = self.mean_a(z_a)\n",
        "    sig_a = nn.Softplus()(self.sigma_a(z_a)) + 1e-5\n",
        "    style_a = Normal(mu_a, sig_a)\n",
        "\n",
        "    z_b = nn.ReLU()(self.fc_b(z))\n",
        "    mu_b = self.mean_b(z_b)\n",
        "    sig_b = nn.Softplus()(self.sigma_b(z_b)) + 1e-5\n",
        "    style_b = Normal(mu_b, sig_b)\n",
        "\n",
        "    z_c = nn.ReLU()(self.fc_c(z))\n",
        "    mu_c = self.mean_c(z_c)\n",
        "    sig_c = nn.Softplus()(self.sigma_c(z_c)) + 1e-5\n",
        "    style_c = Normal(mu_c, sig_c)\n",
        "\n",
        "    z_d = nn.ReLU()(self.fc_d(z))\n",
        "    mu_d = self.mean_d(z_d)\n",
        "    sig_d = nn.Softplus()(self.sigma_d(z_d)) + 1e-5\n",
        "    style_d = Normal(mu_d, sig_d)\n",
        "\n",
        "    z_e = nn.ReLU()(self.fc_e(z))\n",
        "    mu_e = self.mean_e(z_e)\n",
        "    sig_e = nn.Softplus()(self.sigma_e(z_e)) + 1e-5\n",
        "    style_e = Normal(mu_e, sig_e)\n",
        "\n",
        "    z_f = nn.ReLU()(self.fc_f(z))\n",
        "    mu_f = self.mean_f(z_f)\n",
        "    sig_f = nn.Softplus()(self.sigma_f(z_f)) + 1e-5\n",
        "    style_f = Normal(mu_f, sig_f)\n",
        "\n",
        "    z_g = nn.ReLU()(self.fc_g(z))\n",
        "    mu_g = self.mean_g(z_g)\n",
        "    sig_g = nn.Softplus()(self.sigma_g(z_g)) + 1e-5\n",
        "    style_g = Normal(mu_g, sig_g)\n",
        "\n",
        "    z_h = nn.ReLU()(self.fc_h(z))\n",
        "    mu_h = self.mean_h(z_h)\n",
        "    sig_h = nn.Softplus()(self.sigma_h(z_h)) + 1e-5\n",
        "    style_h = Normal(mu_h, sig_h)\n",
        "    \n",
        "    return lat, lon, style_a, style_b, style_c, style_d, style_e, style_f, style_g, style_h\n",
        "\n",
        "  def get_action(self, efficientnet_encoding, efficientnet_output, goal_vector):\n",
        "    lat, lon, style_a, style_b, style_c, style_d, style_e, style_f, style_g, style_h = self.forward(efficientnet_encoding, efficientnet_output, goal_vector)\n",
        "    lat_action = lat.sample() \n",
        "    lon_action = lon.sample()\n",
        "    style_a_action = style_a.sample()\n",
        "    style_b_action = style_b.sample()\n",
        "    style_c_action = style_c.sample()\n",
        "    style_d_action = style_d.sample()\n",
        "    style_e_action = style_e.sample()\n",
        "    style_f_action = style_f.sample()\n",
        "    style_g_action = style_g.sample()\n",
        "    style_h_action = style_h.sample()\n",
        "    action_log_prob = lat.log_prob(lat_action) \\\n",
        "                      * lon.log_prob(lon_action) \\\n",
        "                      * style_a.log_prob(style_a_action) \\\n",
        "                      * style_b.log_prob(style_b_action) \\\n",
        "                      * style_c.log_prob(style_c_action) \\\n",
        "                      * style_d.log_prob(style_d_action) \\\n",
        "                      * style_e.log_prob(style_e_action) \\\n",
        "                      * style_f.log_prob(style_f_action) \\\n",
        "                      * style_g.log_prob(style_g_action) \\\n",
        "                      * style_h.log_prob(style_h_action) \n",
        "    self.action_probs.append(action_log_prob)\n",
        "    return lat_action, lon_action, style_a_action, style_b_action, style_c_action, \\\n",
        "            style_d_action, style_e_action, style_f_action, style_g_action, style_h_action\n",
        "\n",
        "  def episode_finished(self):\n",
        "    #print(\"Self.action_probs : {}\".format(self.action_probs))\n",
        "    action_probs = torch.stack(self.action_probs, dim=0) \\\n",
        "            .to(device).squeeze(-1)\n",
        "    rewards = torch.stack(self.rewards, dim=0).to(device).squeeze(-1)\n",
        "    self.action_probs, self.rewards = [], []\n",
        "\n",
        "    G = discount_rewards(rewards, self.gamma)\n",
        "    #print(\"G : {}\".format(G))\n",
        "    G = (G - G.mean()) / (G.std() + 1e-9) #normalize discounted rewards\n",
        "    loss = (-1 * action_probs * G.detach()).sum()\n",
        "    #print(\"G : {}, Rewards : {}, Action_probs : {}\".format(G, rewards, action_probs))\n",
        "    sys.stdout.write(\"\\rReinforce Loss : {} Reinforce Mean Reward : {}\".format(loss, rewards.detach().mean()))\n",
        "    sys.stdout.flush()\n",
        "    return loss\n",
        "\n",
        "  def store_outcome(self, reward):\n",
        "    self.rewards.append(torch.Tensor([reward]))"
      ],
      "execution_count": 0,
      "outputs": []
    },
    {
      "cell_type": "markdown",
      "metadata": {
        "id": "U02K7u_VRDL-",
        "colab_type": "text"
      },
      "source": [
        "params"
      ]
    },
    {
      "cell_type": "code",
      "metadata": {
        "id": "oOXCWaHBRCMz",
        "colab_type": "code",
        "colab": {}
      },
      "source": [
        "dataset_name        = 'cifar10'\n",
        "epoch               = 215           #epoch to start training from\n",
        "n_epochs            = 2000         #number of epochs of training\n",
        "batch_size          = 10         #size of the batches\n",
        "lr                  = 0.0001      #adam: learning rate\n",
        "b1                  = 0.5         #adam: decay of first order momentum of gradient\n",
        "b2                  = 0.999       #adam: decay of first order momentum of gradient\n",
        "decay_epoch         = 100         #epoch from which to start lr decay\n",
        "img_height          = 64         #size of image height\n",
        "img_width           = 64         #size of image width\n",
        "channels            = 3           #number of image channels\n",
        "sample_interval     = 400         #interval saving generator samples\n",
        "n_downsample        = 5           #number downsampling layers in encoder\n",
        "n_residual          = 2           #number of residual blocks in encoder / decoder\n",
        "dim                 = 64          #number of filters in first encoder layer\n",
        "style_dim           = 8        #dimensionality of the style code\n",
        "reinforce_iterations= 64\n",
        "inner_loop_batch_size=10          #how many iterations to use for training the discriminator and dec/enc\n",
        "outerstepsize0       = 0.1 # stepsize of outer optimization, i.e., meta-optimization"
      ],
      "execution_count": 0,
      "outputs": []
    },
    {
      "cell_type": "code",
      "metadata": {
        "id": "7ZheOgFgjHJS",
        "colab_type": "code",
        "outputId": "dbf62cbb-d91f-4b18-97eb-de64958c0a36",
        "colab": {
          "base_uri": "https://localhost:8080/",
          "height": 34
        }
      },
      "source": [
        "from torchvision import datasets, transforms\n",
        "train_dataset = datasets.CIFAR10(root=\"./data/\",\n",
        "                                transform=transforms.Compose([\n",
        "                                    transforms.Resize(64),\n",
        "                                    transforms.RandomCrop(16),\n",
        "                                    transforms.Resize(64),\n",
        "                                    transforms.ToTensor(),\n",
        "                                    transforms.Normalize((0.5, 0.5, 0.5), (0.5, 0.5, 0.5))]),\n",
        "                                train=True,\n",
        "                                download=True)\n",
        "\n",
        "train_loader = torch.utils.data.DataLoader(\n",
        "    train_dataset,\n",
        "    batch_size=32,\n",
        "    shuffle=True,\n",
        "    num_workers=4,\n",
        "    drop_last=True)"
      ],
      "execution_count": 0,
      "outputs": [
        {
          "output_type": "stream",
          "text": [
            "Files already downloaded and verified\n"
          ],
          "name": "stdout"
        }
      ]
    },
    {
      "cell_type": "code",
      "metadata": {
        "id": "D9m6aoRo9aig",
        "colab_type": "code",
        "colab": {}
      },
      "source": [
        "# Create sample and checkpoint directories\n",
        "if not os.path.isdir(\"/content/drive/My Drive/model\"):\n",
        "  os.makedirs(\"/content/drive/My Drive/model\")\n",
        "if not os.path.isdir(\"/content/drive/My Drive/model/images/\"):\n",
        "  os.makedirs(\"/content/drive/My Drive/model/images/\")\n",
        "if not os.path.isdir(\"/content/drive/My Drive/model/saved_models/\"):\n",
        "  os.makedirs(\"/content/drive/My Drive/model/saved_models/\")\n",
        "if not os.path.isdir(\"/content/drive/My Drive/model/saved_models/cifar10/\"):\n",
        "  os.makedirs(\"/content/drive/My Drive/model/saved_models/cifar10/\")"
      ],
      "execution_count": 0,
      "outputs": []
    },
    {
      "cell_type": "code",
      "metadata": {
        "id": "-BpFVeaBxMR4",
        "colab_type": "code",
        "colab": {}
      },
      "source": [
        "CrossEntropy_criterion = nn.CrossEntropyLoss()\n",
        "L1_criterion = torch.nn.L1Loss()\n",
        "\n",
        "# Initialize encoders, generators and discriminators\n",
        "StylePolicy = StylePolicy()\n",
        "\n",
        "Enc = Encoder(dim=dim, n_downsample=n_downsample, n_residual=n_residual, style_dim=style_dim)\n",
        "Dec = Decoder(dim=dim, n_upsample=n_downsample, n_residual=n_residual, style_dim=style_dim)\n",
        "\n",
        "D = MultiDiscriminator()"
      ],
      "execution_count": 0,
      "outputs": []
    },
    {
      "cell_type": "code",
      "metadata": {
        "id": "f_Y4_Wr5P3Gm",
        "colab_type": "code",
        "colab": {}
      },
      "source": [
        "if cuda:\n",
        "  StylePolicy.to(device)\n",
        "  Enc = Enc.to(device)\n",
        "  Dec = Dec.to(device)\n",
        "  D = D.to(device)\n",
        "\n",
        "  CrossEntropy_criterion = CrossEntropy_criterion.to(device)\n",
        "  L1_criterion = L1_criterion.to(device)\n",
        "\n",
        "if epoch != 0:\n",
        "# Load pretrained models\n",
        "  StylePolicy.load_state_dict(torch.load(\"/content/drive/My Drive/model/saved_models/%s/Policy.pth\" % (dataset_name)))\n",
        "  Enc.load_state_dict(torch.load(\"/content/drive/My Drive/model/saved_models/%s/Enc.pth\" % (dataset_name)))\n",
        "  Dec.load_state_dict(torch.load(\"/content/drive/My Drive/model/saved_models/%s/Dec.pth\" % (dataset_name)))\n",
        "  D.load_state_dict(torch.load(\"/content/drive/My Drive/model/saved_models/%s/D.pth\" % (dataset_name)))\n",
        "\n",
        "else:\n",
        "  # Initialize weights\n",
        "  StylePolicy.apply(weights_init_normal)\n",
        "  Enc.apply(weights_init_normal)\n",
        "  Dec.apply(weights_init_normal)\n",
        "  D.apply(weights_init_normal)\n",
        "\n",
        "# Loss weights\n",
        "lambda_gan = 5\n",
        "lambda_style = 10\n",
        "lambda_cont = 1\n",
        "\n",
        "# Optimizers\n",
        "optimizer_G = torch.optim.Adam(\n",
        "    itertools.chain(Enc.parameters(), Dec.parameters()),\n",
        "    lr=lr,\n",
        "    betas=(b1, b2),\n",
        ")\n",
        "optimizer_D = torch.optim.Adam(D.parameters(), lr=lr, betas=(b1, b2))\n",
        "\n",
        "# Learning rate update schedulers\n",
        "lr_scheduler_G = torch.optim.lr_scheduler.LambdaLR(\n",
        "    optimizer_G, lr_lambda=LambdaLR(n_epochs, epoch, decay_epoch).step\n",
        ")\n",
        "lr_scheduler_D = torch.optim.lr_scheduler.LambdaLR(\n",
        "    optimizer_D, lr_lambda=LambdaLR(n_epochs, epoch, decay_epoch).step\n",
        ")\n",
        "\n",
        "reinforce_optimizer = torch.optim.SGD(StylePolicy.parameters(), lr=.0001, momentum=0.9, weight_decay=5e-4)"
      ],
      "execution_count": 0,
      "outputs": []
    },
    {
      "cell_type": "code",
      "metadata": {
        "id": "iuriRJ0V-2-8",
        "colab_type": "code",
        "outputId": "0aa96b47-ce09-44f2-e517-36a41871f79b",
        "colab": {
          "base_uri": "https://localhost:8080/",
          "height": 1000
        }
      },
      "source": [
        "# Adversarial ground truths\n",
        "valid = 1\n",
        "fake = 0\n",
        "\n",
        "log_file = open(\"/content/drive/My Drive/model/log.txt\", 'a')\n",
        "\n",
        "for epoch in trange(epoch, n_epochs, desc=\"Epoch\"):\n",
        "  torch.cuda.empty_cache()\n",
        "  #save the initial weights for the REPTILE loop\n",
        "  weights_original = deepcopy(StylePolicy.state_dict())\n",
        "  new_weights = []\n",
        "  #running_reward = 10\n",
        "\n",
        "  for i in trange(batch_size, desc=\"Batch\"):\n",
        "    torch.cuda.empty_cache()\n",
        "    #initialize empty tensors to save information to train the discriminators and generators\n",
        "    content_code_stack = torch.empty(32, 2048, 2, 2)\n",
        "    content_code_recovered_stack = torch.empty(32, 2048, 2, 2)\n",
        "    style_code_stack = torch.empty(32, style_dim, 1, 1)\n",
        "    style_code_recovered_stack = torch.empty(32, style_dim, 1, 1)\n",
        "    X_stack = torch.empty(32, channels, img_height, img_width).cuda()\n",
        "\n",
        "    #create random goal class one-hot encoded vector\n",
        "    indices = torch.randint(0,10, size=(1,1))\n",
        "    one_hot = torch.nn.functional.one_hot(indices, 10) # size=(4,7,n)\n",
        "    goal = one_hot.squeeze(0).float().cuda()\n",
        "    goal_reinforce = indices.long().cuda()[0]\n",
        "\n",
        "    #generate gaussian noise image\n",
        "    mu, sigma = 0, 1.0 # mean and standard deviation\n",
        "    image = np.random.normal(mu, sigma, [img_height, img_width, channels])\n",
        "    image = 255*(image - np.min(image))/np.ptp(image)\n",
        "    X = image.astype(np.uint8)\n",
        "\n",
        "    X = efficientnet_transform(transforms.ToPILImage()(X).convert(\"RGB\"))\n",
        "    X.unsqueeze_(0)\n",
        "    X = Variable(X).to(device)\n",
        "\n",
        "    efficientnet_features = efficientnet.extract_features(X)\n",
        "    efficientnet_class = efficientnet.classify(efficientnet_features)\n",
        "    policycode = StylePolicy.get_action(efficientnet_features, efficientnet_class, goal)\n",
        "  \n",
        "    #iterations of recurrent image development, 100 good enough? Potentially explore stacking samples for proper batching\n",
        "    for reinforce_iteration in range(reinforce_iterations):\n",
        "      X_focus = X[:, :, policycode[0]:policycode[0] + 16, policycode[1]:policycode[1] + 16]\n",
        "      X_focus = torch.nn.functional.interpolate(X_focus, size=[img_height, img_width], mode = 'bilinear')\n",
        "      \n",
        "      content_code = efficientnet.extract_features(X_focus)\n",
        "      style_code = torch.stack(policycode[2:]).unsqueeze(dim=0)\n",
        "\n",
        "      # Reconstruct images\n",
        "      X_hat = Dec(content_code, style_code)\n",
        "\n",
        "      X[:, :, policycode[0]:policycode[0] + 16, policycode[1]:policycode[1] + 16] = \\\n",
        "                      torch.nn.functional.interpolate(X_hat, size=[16, 16], mode = 'bilinear')\n",
        "\n",
        "      efficientnet_features = efficientnet.extract_features(X)\n",
        "      Efficientnet_encoding = torch.nn.Softmax(dim=1)(efficientnet.classify(efficientnet_features))\n",
        "      Efficientnet_encdoing = Efficientnet_encoding\n",
        "\n",
        "      if reinforce_iteration == reinforce_iterations - 33:\n",
        "        content_code_stack[reinforce_iteration, :, :, :] = content_code\n",
        "        style_code_stack[reinforce_iteration, :, :, :] = style_code\n",
        "        X_stack[reinforce_iteration, :, :, :] = X_hat\n",
        "\n",
        "      #get the reward for each step taken during the inner model training for the REINFORCE algorithm\n",
        "      reward = -1 * CrossEntropy_criterion(Efficientnet_encoding, goal_reinforce)\n",
        "\n",
        "      StylePolicy.store_outcome(reward)\n",
        "\n",
        "      policycode = StylePolicy.get_action(efficientnet_features, Efficientnet_encoding, goal)\n",
        "\n",
        "      sys.stdout.write('\\rEpoch %d Batch %d Iteration %d Reward %.2f%%' % (epoch, i, reinforce_iteration, reward))\n",
        "      sys.stdout.flush()\n",
        "\n",
        "      #save data if batch number is 0\n",
        "      if i == 0:\n",
        "        if not os.path.isdir(\"/content/drive/My Drive/model/images/{}\".format(epoch)):\n",
        "          os.makedirs(\"/content/drive/My Drive/model/images/{}\".format(epoch))\n",
        "        torchvision.utils.save_image(X, '/content/drive/My Drive/model/images/{}/iter_{}.jpg'.format(epoch, reinforce_iteration))\n",
        "      line = \"\\r\\rEpoch:{},Batch:{},Iter:{},Reward:{}\".format(epoch, i, reinforce_iteration, reward)\n",
        "      log_file.write(line)\n",
        "      #print(line)\n",
        "\n",
        "    # Cycle translation\n",
        "    content_code_recovered_stack, style_code_recovered_stack = Enc(X_stack)\n",
        "\n",
        "    # Losses\n",
        "    loss_GAN = 5 * D.compute_loss(X_stack.detach(), valid)\n",
        "    loss_s = 10 * L1_criterion(style_code_recovered_stack.cuda().detach(), style_code_stack.cuda().detach()) #.detach().item()\n",
        "    loss_c = lambda_cont * L1_criterion(content_code_recovered_stack.cuda().detach(), content_code_stack.cuda().detach()) #.detach().item()\n",
        "    \n",
        "    optimizer_G.zero_grad()\n",
        "    loss_G = loss_GAN + loss_s + loss_c\n",
        "    loss_G.backward()\n",
        "    optimizer_G.step()\n",
        "\n",
        "    optimizer_D.zero_grad()\n",
        "    true_image = next(iter(train_loader))[0]\n",
        "    loss_D = D.compute_loss(true_image.cuda(), valid) + D.compute_loss(X_hat.detach(), fake)\n",
        "    loss_D.backward()\n",
        "    optimizer_D.step()\n",
        "\n",
        "    #finish iteration - train REINFORCE algo\n",
        "    reinforce_loss = StylePolicy.episode_finished()\n",
        "    reinforce_optimizer.zero_grad()\n",
        "    reinforce_loss.backward()\n",
        "    reinforce_optimizer.step()\n",
        "    log_file.write(\"Epoch:{},Batch:{},Reinforce_Loss:{}\\n\".format(epoch, i, reinforce_loss))\n",
        "\n",
        "    #save trained weights & reload the weights from the original model\n",
        "    new_weights.append(deepcopy(StylePolicy.state_dict()))\n",
        "    StylePolicy.load_state_dict({ name: weights_original[name] for name in weights_original })\n",
        "\n",
        "  #meta training step, REPTILE\n",
        "  ws = len(new_weights)\n",
        "  fweights = { name : new_weights[0][name]/float(ws) for name in new_weights[0] }\n",
        "  for i in range(1, ws):\n",
        "      #cur_weights = deepcopy(model.state_dict())\n",
        "      for name in new_weights[i]:\n",
        "          fweights[name] += new_weights[i][name]/float(ws)\n",
        "  outerstepsize = outerstepsize0 * (1 - epoch / n_epochs) # linear schedule\n",
        "  StylePolicy.load_state_dict({name : \n",
        "      weights_original[name] + ((fweights[name] - weights_original[name]) * outerstepsize) \n",
        "      for name in weights_original})\n",
        "  \n",
        "  # Update learning rates\n",
        "  lr_scheduler_G.step()\n",
        "  lr_scheduler_D.step()\n",
        "  torch.save(StylePolicy.state_dict(), \"/content/drive/My Drive/model/saved_models/%s/Policy.pth\" % (dataset_name))\n",
        "  torch.save(Enc.state_dict(), \"/content/drive/My Drive/model/saved_models/%s/Enc.pth\" % (dataset_name))\n",
        "  torch.save(Dec.state_dict(), \"/content/drive/My Drive/model/saved_models/%s/Dec.pth\" % (dataset_name))\n",
        "  torch.save(D.state_dict(), \"/content/drive/My Drive/model/saved_models/%s/D.pth\" % (dataset_name))\n"
      ],
      "execution_count": 0,
      "outputs": [
        {
          "output_type": "stream",
          "text": [
            "Epoch:   0%|          | 0/1785 [00:00<?, ?it/s]\n",
            "Batch:   0%|          | 0/10 [00:00<?, ?it/s]\u001b[A"
          ],
          "name": "stderr"
        },
        {
          "output_type": "stream",
          "text": [
            "\rEpoch 215 Batch 0 Iteration 0 Reward -2.43%"
          ],
          "name": "stdout"
        },
        {
          "output_type": "stream",
          "text": [
            "/usr/local/lib/python3.6/dist-packages/torch/nn/functional.py:2506: UserWarning: Default upsampling behavior when mode=bilinear is changed to align_corners=False since 0.4.0. Please specify align_corners=True if the old behavior is desired. See the documentation of nn.Upsample for details.\n",
            "  \"See the documentation of nn.Upsample for details.\".format(mode))\n"
          ],
          "name": "stderr"
        },
        {
          "output_type": "stream",
          "text": [
            "Reinforce Loss : -0.005859375 Reinforce Max Reward : -2.375192165374756"
          ],
          "name": "stdout"
        },
        {
          "output_type": "stream",
          "text": [
            "\n",
            "Batch:  10%|█         | 1/10 [00:24<03:43, 24.87s/it]\u001b[A"
          ],
          "name": "stderr"
        },
        {
          "output_type": "stream",
          "text": [
            "Reinforce Loss : 0.015625 Reinforce Max Reward : -1.848824381828308"
          ],
          "name": "stdout"
        },
        {
          "output_type": "stream",
          "text": [
            "\n",
            "Batch:  20%|██        | 2/10 [00:40<02:57, 22.19s/it]\u001b[A"
          ],
          "name": "stderr"
        },
        {
          "output_type": "stream",
          "text": [
            "Reinforce Loss : -0.001953125 Reinforce Max Reward : -2.4218201637268066"
          ],
          "name": "stdout"
        },
        {
          "output_type": "stream",
          "text": [
            "\n",
            "Batch:  30%|███       | 3/10 [00:56<02:20, 20.14s/it]\u001b[A"
          ],
          "name": "stderr"
        },
        {
          "output_type": "stream",
          "text": [
            "Reinforce Loss : -0.001953125 Reinforce Max Reward : -2.1174798011779785"
          ],
          "name": "stdout"
        },
        {
          "output_type": "stream",
          "text": [
            "\n",
            "Batch:  40%|████      | 4/10 [01:11<01:52, 18.79s/it]\u001b[A"
          ],
          "name": "stderr"
        },
        {
          "output_type": "stream",
          "text": [
            "Reinforce Loss : 0.015625 Reinforce Max Reward : -2.384948253631592"
          ],
          "name": "stdout"
        },
        {
          "output_type": "stream",
          "text": [
            "\n",
            "Batch:  50%|█████     | 5/10 [01:27<01:29, 17.93s/it]\u001b[A"
          ],
          "name": "stderr"
        },
        {
          "output_type": "stream",
          "text": [
            "Reinforce Loss : 0.017578125 Reinforce Max Reward : -2.4234230518341064"
          ],
          "name": "stdout"
        },
        {
          "output_type": "stream",
          "text": [
            "\n",
            "Batch:  60%|██████    | 6/10 [01:43<01:09, 17.32s/it]\u001b[A"
          ],
          "name": "stderr"
        },
        {
          "output_type": "stream",
          "text": [
            "Reinforce Loss : -0.00390625 Reinforce Max Reward : -2.33429217338562"
          ],
          "name": "stdout"
        },
        {
          "output_type": "stream",
          "text": [
            "\n",
            "Batch:  70%|███████   | 7/10 [01:59<00:50, 16.81s/it]\u001b[A"
          ],
          "name": "stderr"
        },
        {
          "output_type": "stream",
          "text": [
            "Reinforce Loss : -0.00390625 Reinforce Max Reward : -2.291266441345215"
          ],
          "name": "stdout"
        },
        {
          "output_type": "stream",
          "text": [
            "\n",
            "Batch:  80%|████████  | 8/10 [02:15<00:33, 16.50s/it]\u001b[A"
          ],
          "name": "stderr"
        },
        {
          "output_type": "stream",
          "text": [
            "Reinforce Loss : -0.00390625 Reinforce Max Reward : -2.4446089267730713"
          ],
          "name": "stdout"
        },
        {
          "output_type": "stream",
          "text": [
            "\n",
            "Batch:  90%|█████████ | 9/10 [02:30<00:16, 16.25s/it]\u001b[A"
          ],
          "name": "stderr"
        },
        {
          "output_type": "stream",
          "text": [
            "Reinforce Loss : -0.005859375 Reinforce Max Reward : -2.3993353843688965"
          ],
          "name": "stdout"
        },
        {
          "output_type": "stream",
          "text": [
            "\n",
            "Batch: 100%|██████████| 10/10 [02:46<00:00, 16.15s/it]\u001b[A\n",
            "Epoch:   0%|          | 1/1785 [03:00<89:31:16, 180.65s/it]\n",
            "Batch:   0%|          | 0/10 [00:00<?, ?it/s]\u001b[A"
          ],
          "name": "stderr"
        },
        {
          "output_type": "stream",
          "text": [
            "Reinforce Loss : -0.017578125 Reinforce Max Reward : -2.4324231147766113"
          ],
          "name": "stdout"
        },
        {
          "output_type": "stream",
          "text": [
            "\n",
            "Batch:  10%|█         | 1/10 [00:21<03:15, 21.71s/it]\u001b[A"
          ],
          "name": "stderr"
        },
        {
          "output_type": "stream",
          "text": [
            "Reinforce Loss : 0.001953125 Reinforce Max Reward : -2.38482403755188"
          ],
          "name": "stdout"
        },
        {
          "output_type": "stream",
          "text": [
            "\n",
            "Batch:  20%|██        | 2/10 [00:37<02:39, 19.97s/it]\u001b[A"
          ],
          "name": "stderr"
        },
        {
          "output_type": "stream",
          "text": [
            "Reinforce Loss : -0.0009765625 Reinforce Max Reward : -2.404481887817383"
          ],
          "name": "stdout"
        },
        {
          "output_type": "stream",
          "text": [
            "\n",
            "Batch:  30%|███       | 3/10 [00:53<02:10, 18.70s/it]\u001b[A"
          ],
          "name": "stderr"
        },
        {
          "output_type": "stream",
          "text": [
            "Reinforce Loss : -0.0078125 Reinforce Max Reward : -2.239600896835327"
          ],
          "name": "stdout"
        },
        {
          "output_type": "stream",
          "text": [
            "\n",
            "Batch:  40%|████      | 4/10 [01:09<01:46, 17.79s/it]\u001b[A"
          ],
          "name": "stderr"
        },
        {
          "output_type": "stream",
          "text": [
            "Reinforce Loss : -0.00390625 Reinforce Max Reward : -2.252746105194092"
          ],
          "name": "stdout"
        },
        {
          "output_type": "stream",
          "text": [
            "\n",
            "Batch:  50%|█████     | 5/10 [01:24<01:26, 17.21s/it]\u001b[A"
          ],
          "name": "stderr"
        },
        {
          "output_type": "stream",
          "text": [
            "Reinforce Loss : 0.00390625 Reinforce Max Reward : -2.4361155033111572"
          ],
          "name": "stdout"
        },
        {
          "output_type": "stream",
          "text": [
            "\n",
            "Batch:  60%|██████    | 6/10 [01:40<01:07, 16.85s/it]\u001b[A"
          ],
          "name": "stderr"
        },
        {
          "output_type": "stream",
          "text": [
            "Reinforce Loss : 0.001953125 Reinforce Max Reward : -1.9546704292297363"
          ],
          "name": "stdout"
        },
        {
          "output_type": "stream",
          "text": [
            "\n",
            "Batch:  70%|███████   | 7/10 [01:56<00:49, 16.39s/it]\u001b[A"
          ],
          "name": "stderr"
        },
        {
          "output_type": "stream",
          "text": [
            "Reinforce Loss : -0.001953125 Reinforce Max Reward : -2.393582582473755"
          ],
          "name": "stdout"
        },
        {
          "output_type": "stream",
          "text": [
            "\n",
            "Batch:  80%|████████  | 8/10 [02:11<00:32, 16.20s/it]\u001b[A"
          ],
          "name": "stderr"
        },
        {
          "output_type": "stream",
          "text": [
            "Reinforce Loss : -0.0078125 Reinforce Max Reward : -2.424652576446533"
          ],
          "name": "stdout"
        },
        {
          "output_type": "stream",
          "text": [
            "\n",
            "Batch:  90%|█████████ | 9/10 [02:27<00:16, 16.01s/it]\u001b[A"
          ],
          "name": "stderr"
        },
        {
          "output_type": "stream",
          "text": [
            "Reinforce Loss : 0.01171875 Reinforce Max Reward : -2.4236345291137695"
          ],
          "name": "stdout"
        },
        {
          "output_type": "stream",
          "text": [
            "\n",
            "Batch: 100%|██████████| 10/10 [02:43<00:00, 15.91s/it]\u001b[A\n",
            "Epoch:   0%|          | 2/1785 [06:00<89:24:32, 180.52s/it]\n",
            "Batch:   0%|          | 0/10 [00:00<?, ?it/s]\u001b[A"
          ],
          "name": "stderr"
        },
        {
          "output_type": "stream",
          "text": [
            "Reinforce Loss : 0.013671875 Reinforce Max Reward : -2.398489475250244"
          ],
          "name": "stdout"
        },
        {
          "output_type": "stream",
          "text": [
            "\n",
            "Batch:  10%|█         | 1/10 [00:18<02:46, 18.46s/it]\u001b[A"
          ],
          "name": "stderr"
        },
        {
          "output_type": "stream",
          "text": [
            "Reinforce Loss : -0.00390625 Reinforce Max Reward : -2.3650174140930176"
          ],
          "name": "stdout"
        },
        {
          "output_type": "stream",
          "text": [
            "\n",
            "Batch:  20%|██        | 2/10 [00:34<02:21, 17.64s/it]\u001b[A"
          ],
          "name": "stderr"
        },
        {
          "output_type": "stream",
          "text": [
            "Reinforce Loss : -0.0078125 Reinforce Max Reward : -2.433488130569458"
          ],
          "name": "stdout"
        },
        {
          "output_type": "stream",
          "text": [
            "\n",
            "Batch:  30%|███       | 3/10 [00:49<01:59, 17.04s/it]\u001b[A"
          ],
          "name": "stderr"
        },
        {
          "output_type": "stream",
          "text": [
            "Reinforce Loss : 0.001953125 Reinforce Max Reward : -2.4204814434051514"
          ],
          "name": "stdout"
        },
        {
          "output_type": "stream",
          "text": [
            "\n",
            "Batch:  40%|████      | 4/10 [01:05<01:39, 16.64s/it]\u001b[A"
          ],
          "name": "stderr"
        },
        {
          "output_type": "stream",
          "text": [
            "Reinforce Loss : -0.00390625 Reinforce Max Reward : -2.4329404830932617"
          ],
          "name": "stdout"
        },
        {
          "output_type": "stream",
          "text": [
            "\n",
            "Batch:  50%|█████     | 5/10 [01:21<01:21, 16.30s/it]\u001b[A"
          ],
          "name": "stderr"
        },
        {
          "output_type": "stream",
          "text": [
            "Reinforce Loss : -0.001953125 Reinforce Max Reward : -2.4354090690612793"
          ],
          "name": "stdout"
        },
        {
          "output_type": "stream",
          "text": [
            "\n",
            "Batch:  60%|██████    | 6/10 [01:36<01:04, 16.09s/it]\u001b[A"
          ],
          "name": "stderr"
        },
        {
          "output_type": "stream",
          "text": [
            "Reinforce Loss : -0.01171875 Reinforce Max Reward : -2.414299249649048"
          ],
          "name": "stdout"
        },
        {
          "output_type": "stream",
          "text": [
            "\n",
            "Batch:  70%|███████   | 7/10 [01:52<00:47, 15.93s/it]\u001b[A"
          ],
          "name": "stderr"
        },
        {
          "output_type": "stream",
          "text": [
            "Reinforce Loss : -0.001953125 Reinforce Max Reward : -2.418654203414917"
          ],
          "name": "stdout"
        },
        {
          "output_type": "stream",
          "text": [
            "\n",
            "Batch:  80%|████████  | 8/10 [02:07<00:31, 15.83s/it]\u001b[A"
          ],
          "name": "stderr"
        },
        {
          "output_type": "stream",
          "text": [
            "Reinforce Loss : 0.005859375 Reinforce Max Reward : -2.0919175148010254"
          ],
          "name": "stdout"
        },
        {
          "output_type": "stream",
          "text": [
            "\n",
            "Batch:  90%|█████████ | 9/10 [02:23<00:15, 15.83s/it]\u001b[A"
          ],
          "name": "stderr"
        },
        {
          "output_type": "stream",
          "text": [
            "Reinforce Loss : -0.001953125 Reinforce Max Reward : -2.412412166595459"
          ],
          "name": "stdout"
        },
        {
          "output_type": "stream",
          "text": [
            "\n",
            "Batch: 100%|██████████| 10/10 [02:39<00:00, 15.76s/it]\u001b[A\n",
            "Epoch:   0%|          | 3/1785 [08:55<88:29:29, 178.77s/it]\n",
            "Batch:   0%|          | 0/10 [00:00<?, ?it/s]\u001b[A"
          ],
          "name": "stderr"
        },
        {
          "output_type": "stream",
          "text": [
            "Reinforce Loss : 0.001953125 Reinforce Max Reward : -2.389160633087158"
          ],
          "name": "stdout"
        },
        {
          "output_type": "stream",
          "text": [
            "\n",
            "Batch:  10%|█         | 1/10 [00:20<03:00, 20.10s/it]\u001b[A"
          ],
          "name": "stderr"
        },
        {
          "output_type": "stream",
          "text": [
            "Reinforce Loss : 0.0 Reinforce Max Reward : -2.0382847785949707"
          ],
          "name": "stdout"
        },
        {
          "output_type": "stream",
          "text": [
            "\n",
            "Batch:  20%|██        | 2/10 [00:35<02:30, 18.77s/it]\u001b[A"
          ],
          "name": "stderr"
        },
        {
          "output_type": "stream",
          "text": [
            "Reinforce Loss : -0.0009765625 Reinforce Max Reward : -2.3208353519439697"
          ],
          "name": "stdout"
        },
        {
          "output_type": "stream",
          "text": [
            "\n",
            "Batch:  30%|███       | 3/10 [00:51<02:04, 17.86s/it]\u001b[A"
          ],
          "name": "stderr"
        },
        {
          "output_type": "stream",
          "text": [
            "Reinforce Loss : -0.0087890625 Reinforce Max Reward : -2.449061870574951"
          ],
          "name": "stdout"
        },
        {
          "output_type": "stream",
          "text": [
            "\n",
            "Batch:  40%|████      | 4/10 [01:07<01:42, 17.16s/it]\u001b[A"
          ],
          "name": "stderr"
        },
        {
          "output_type": "stream",
          "text": [
            "Reinforce Loss : 0.0 Reinforce Max Reward : -2.42130708694458"
          ],
          "name": "stdout"
        },
        {
          "output_type": "stream",
          "text": [
            "\n",
            "Batch:  50%|█████     | 5/10 [01:22<01:23, 16.74s/it]\u001b[A"
          ],
          "name": "stderr"
        },
        {
          "output_type": "stream",
          "text": [
            "Reinforce Loss : -0.0078125 Reinforce Max Reward : -2.108424425125122"
          ],
          "name": "stdout"
        },
        {
          "output_type": "stream",
          "text": [
            "\n",
            "Batch:  60%|██████    | 6/10 [01:38<01:05, 16.36s/it]\u001b[A"
          ],
          "name": "stderr"
        },
        {
          "output_type": "stream",
          "text": [
            "Reinforce Loss : -0.0087890625 Reinforce Max Reward : -2.376765251159668"
          ],
          "name": "stdout"
        },
        {
          "output_type": "stream",
          "text": [
            "\n",
            "Batch:  70%|███████   | 7/10 [01:53<00:48, 16.17s/it]\u001b[A"
          ],
          "name": "stderr"
        },
        {
          "output_type": "stream",
          "text": [
            "Reinforce Loss : 0.0087890625 Reinforce Max Reward : -2.4314520359039307"
          ],
          "name": "stdout"
        },
        {
          "output_type": "stream",
          "text": [
            "\n",
            "Batch:  80%|████████  | 8/10 [02:09<00:32, 16.01s/it]\u001b[A"
          ],
          "name": "stderr"
        },
        {
          "output_type": "stream",
          "text": [
            "Reinforce Loss : 0.00390625 Reinforce Max Reward : -2.3625364303588867"
          ],
          "name": "stdout"
        },
        {
          "output_type": "stream",
          "text": [
            "\n",
            "Batch:  90%|█████████ | 9/10 [02:25<00:15, 15.90s/it]\u001b[A"
          ],
          "name": "stderr"
        },
        {
          "output_type": "stream",
          "text": [
            "Reinforce Loss : -0.0078125 Reinforce Max Reward : -2.4150803089141846"
          ],
          "name": "stdout"
        },
        {
          "output_type": "stream",
          "text": [
            "\n",
            "Batch: 100%|██████████| 10/10 [02:40<00:00, 15.81s/it]\u001b[A\n",
            "Epoch:   0%|          | 4/1785 [11:53<88:20:14, 178.56s/it]\n",
            "Batch:   0%|          | 0/10 [00:00<?, ?it/s]\u001b[A"
          ],
          "name": "stderr"
        },
        {
          "output_type": "stream",
          "text": [
            "Reinforce Loss : 0.015625 Reinforce Max Reward : -2.4331531524658203"
          ],
          "name": "stdout"
        },
        {
          "output_type": "stream",
          "text": [
            "\n",
            "Batch:  10%|█         | 1/10 [00:20<03:06, 20.77s/it]\u001b[A"
          ],
          "name": "stderr"
        },
        {
          "output_type": "stream",
          "text": [
            "Reinforce Loss : -0.00390625 Reinforce Max Reward : -2.3923516273498535"
          ],
          "name": "stdout"
        },
        {
          "output_type": "stream",
          "text": [
            "\n",
            "Batch:  20%|██        | 2/10 [00:36<02:33, 19.20s/it]\u001b[A"
          ],
          "name": "stderr"
        },
        {
          "output_type": "stream",
          "text": [
            "Reinforce Loss : -0.00390625 Reinforce Max Reward : -2.4064221382141113"
          ],
          "name": "stdout"
        },
        {
          "output_type": "stream",
          "text": [
            "\n",
            "Batch:  30%|███       | 3/10 [00:52<02:07, 18.16s/it]\u001b[A"
          ],
          "name": "stderr"
        },
        {
          "output_type": "stream",
          "text": [
            "Reinforce Loss : -0.001953125 Reinforce Max Reward : -2.436652421951294"
          ],
          "name": "stdout"
        },
        {
          "output_type": "stream",
          "text": [
            "\n",
            "Batch:  40%|████      | 4/10 [01:07<01:44, 17.38s/it]\u001b[A"
          ],
          "name": "stderr"
        },
        {
          "output_type": "stream",
          "text": [
            "Reinforce Loss : 0.0029296875 Reinforce Max Reward : -2.419875144958496"
          ],
          "name": "stdout"
        },
        {
          "output_type": "stream",
          "text": [
            "\n",
            "Batch:  50%|█████     | 5/10 [01:23<01:24, 16.84s/it]\u001b[A"
          ],
          "name": "stderr"
        },
        {
          "output_type": "stream",
          "text": [
            "Reinforce Loss : -0.001953125 Reinforce Max Reward : -2.4223380088806152"
          ],
          "name": "stdout"
        },
        {
          "output_type": "stream",
          "text": [
            "\n",
            "Batch:  60%|██████    | 6/10 [01:39<01:07, 16.78s/it]\u001b[A"
          ],
          "name": "stderr"
        },
        {
          "output_type": "stream",
          "text": [
            "Reinforce Loss : 0.001953125 Reinforce Max Reward : -2.408853530883789"
          ],
          "name": "stdout"
        },
        {
          "output_type": "stream",
          "text": [
            "\n",
            "Batch:  70%|███████   | 7/10 [01:56<00:49, 16.62s/it]\u001b[A"
          ],
          "name": "stderr"
        },
        {
          "output_type": "stream",
          "text": [
            "Reinforce Loss : -0.0009765625 Reinforce Max Reward : -2.440159320831299"
          ],
          "name": "stdout"
        },
        {
          "output_type": "stream",
          "text": [
            "\n",
            "Batch:  80%|████████  | 8/10 [02:11<00:32, 16.38s/it]\u001b[A"
          ],
          "name": "stderr"
        },
        {
          "output_type": "stream",
          "text": [
            "Reinforce Loss : 0.00390625 Reinforce Max Reward : -2.4350671768188477"
          ],
          "name": "stdout"
        },
        {
          "output_type": "stream",
          "text": [
            "\n",
            "Batch:  90%|█████████ | 9/10 [02:27<00:16, 16.21s/it]\u001b[A"
          ],
          "name": "stderr"
        },
        {
          "output_type": "stream",
          "text": [
            "Reinforce Loss : 0.01171875 Reinforce Max Reward : -2.437775135040283"
          ],
          "name": "stdout"
        },
        {
          "output_type": "stream",
          "text": [
            "\n",
            "Batch: 100%|██████████| 10/10 [02:43<00:00, 16.02s/it]\u001b[A\n",
            "Epoch:   0%|          | 5/1785 [14:49<87:56:02, 177.84s/it]\n",
            "Batch:   0%|          | 0/10 [00:00<?, ?it/s]\u001b[A"
          ],
          "name": "stderr"
        },
        {
          "output_type": "stream",
          "text": [
            "Reinforce Loss : 0.001953125 Reinforce Max Reward : -2.4131858348846436"
          ],
          "name": "stdout"
        },
        {
          "output_type": "stream",
          "text": [
            "\n",
            "Batch:  10%|█         | 1/10 [00:22<03:18, 22.10s/it]\u001b[A"
          ],
          "name": "stderr"
        },
        {
          "output_type": "stream",
          "text": [
            "Reinforce Loss : 0.046875 Reinforce Max Reward : -2.322720527648926"
          ],
          "name": "stdout"
        },
        {
          "output_type": "stream",
          "text": [
            "\n",
            "Batch:  20%|██        | 2/10 [00:38<02:42, 20.25s/it]\u001b[A"
          ],
          "name": "stderr"
        },
        {
          "output_type": "stream",
          "text": [
            "Reinforce Loss : 0.0068359375 Reinforce Max Reward : -2.436614990234375"
          ],
          "name": "stdout"
        },
        {
          "output_type": "stream",
          "text": [
            "\n",
            "Batch:  30%|███       | 3/10 [00:53<02:12, 18.89s/it]\u001b[A"
          ],
          "name": "stderr"
        },
        {
          "output_type": "stream",
          "text": [
            "Reinforce Loss : 0.01171875 Reinforce Max Reward : -2.343397855758667"
          ],
          "name": "stdout"
        },
        {
          "output_type": "stream",
          "text": [
            "\n",
            "Batch:  40%|████      | 4/10 [01:09<01:47, 17.96s/it]\u001b[A"
          ],
          "name": "stderr"
        },
        {
          "output_type": "stream",
          "text": [
            "Reinforce Loss : -0.00390625 Reinforce Max Reward : -2.4263312816619873"
          ],
          "name": "stdout"
        },
        {
          "output_type": "stream",
          "text": [
            "\n",
            "Batch:  50%|█████     | 5/10 [01:25<01:26, 17.31s/it]\u001b[A"
          ],
          "name": "stderr"
        },
        {
          "output_type": "stream",
          "text": [
            "Reinforce Loss : -0.00390625 Reinforce Max Reward : -2.4072155952453613"
          ],
          "name": "stdout"
        },
        {
          "output_type": "stream",
          "text": [
            "\n",
            "Batch:  60%|██████    | 6/10 [01:41<01:07, 16.82s/it]\u001b[A"
          ],
          "name": "stderr"
        },
        {
          "output_type": "stream",
          "text": [
            "Reinforce Loss : 0.005859375 Reinforce Max Reward : -2.357064723968506"
          ],
          "name": "stdout"
        },
        {
          "output_type": "stream",
          "text": [
            "\n",
            "Batch:  70%|███████   | 7/10 [01:56<00:49, 16.49s/it]\u001b[A"
          ],
          "name": "stderr"
        },
        {
          "output_type": "stream",
          "text": [
            "Reinforce Loss : -0.001953125 Reinforce Max Reward : -2.4063472747802734"
          ],
          "name": "stdout"
        },
        {
          "output_type": "stream",
          "text": [
            "\n",
            "Batch:  80%|████████  | 8/10 [02:12<00:32, 16.22s/it]\u001b[A"
          ],
          "name": "stderr"
        },
        {
          "output_type": "stream",
          "text": [
            "Reinforce Loss : -0.001953125 Reinforce Max Reward : -2.2857742309570312"
          ],
          "name": "stdout"
        },
        {
          "output_type": "stream",
          "text": [
            "\n",
            "Batch:  90%|█████████ | 9/10 [02:28<00:16, 16.10s/it]\u001b[A"
          ],
          "name": "stderr"
        },
        {
          "output_type": "stream",
          "text": [
            "Reinforce Loss : 0.00390625 Reinforce Max Reward : -2.4420242309570312"
          ],
          "name": "stdout"
        },
        {
          "output_type": "stream",
          "text": [
            "\n",
            "Batch: 100%|██████████| 10/10 [02:43<00:00, 15.92s/it]\u001b[A\n",
            "Epoch:   0%|          | 6/1785 [17:48<87:58:53, 178.04s/it]\n",
            "Batch:   0%|          | 0/10 [00:00<?, ?it/s]\u001b[A"
          ],
          "name": "stderr"
        },
        {
          "output_type": "stream",
          "text": [
            "Reinforce Loss : -0.01953125 Reinforce Max Reward : -2.418424606323242"
          ],
          "name": "stdout"
        },
        {
          "output_type": "stream",
          "text": [
            "\n",
            "Batch:  10%|█         | 1/10 [00:20<03:04, 20.48s/it]\u001b[A"
          ],
          "name": "stderr"
        },
        {
          "output_type": "stream",
          "text": [
            "Reinforce Loss : 0.0 Reinforce Max Reward : -2.123983144760132"
          ],
          "name": "stdout"
        },
        {
          "output_type": "stream",
          "text": [
            "\n",
            "Batch:  20%|██        | 2/10 [00:36<02:32, 19.05s/it]\u001b[A"
          ],
          "name": "stderr"
        },
        {
          "output_type": "stream",
          "text": [
            "Reinforce Loss : 0.0 Reinforce Max Reward : -2.341032028198242"
          ],
          "name": "stdout"
        },
        {
          "output_type": "stream",
          "text": [
            "\n",
            "Batch:  30%|███       | 3/10 [00:51<02:06, 18.01s/it]\u001b[A"
          ],
          "name": "stderr"
        },
        {
          "output_type": "stream",
          "text": [
            "Reinforce Loss : -0.001953125 Reinforce Max Reward : -2.428856372833252"
          ],
          "name": "stdout"
        },
        {
          "output_type": "stream",
          "text": [
            "\n",
            "Batch:  40%|████      | 4/10 [01:07<01:44, 17.34s/it]\u001b[A"
          ],
          "name": "stderr"
        },
        {
          "output_type": "stream",
          "text": [
            "Reinforce Loss : 0.00390625 Reinforce Max Reward : -2.299901008605957"
          ],
          "name": "stdout"
        },
        {
          "output_type": "stream",
          "text": [
            "\n",
            "Batch:  50%|█████     | 5/10 [01:23<01:24, 16.85s/it]\u001b[A"
          ],
          "name": "stderr"
        },
        {
          "output_type": "stream",
          "text": [
            "Reinforce Loss : -0.005859375 Reinforce Max Reward : -2.390477180480957"
          ],
          "name": "stdout"
        },
        {
          "output_type": "stream",
          "text": [
            "\n",
            "Batch:  60%|██████    | 6/10 [01:39<01:06, 16.52s/it]\u001b[A"
          ],
          "name": "stderr"
        },
        {
          "output_type": "stream",
          "text": [
            "Reinforce Loss : -0.005859375 Reinforce Max Reward : -2.431690216064453"
          ],
          "name": "stdout"
        },
        {
          "output_type": "stream",
          "text": [
            "\n",
            "Batch:  70%|███████   | 7/10 [01:54<00:48, 16.24s/it]\u001b[A"
          ],
          "name": "stderr"
        },
        {
          "output_type": "stream",
          "text": [
            "Reinforce Loss : -0.005859375 Reinforce Max Reward : -2.424732208251953"
          ],
          "name": "stdout"
        },
        {
          "output_type": "stream",
          "text": [
            "\n",
            "Batch:  80%|████████  | 8/10 [02:10<00:32, 16.10s/it]\u001b[A"
          ],
          "name": "stderr"
        },
        {
          "output_type": "stream",
          "text": [
            "Reinforce Loss : 0.0234375 Reinforce Max Reward : -2.4400248527526855"
          ],
          "name": "stdout"
        },
        {
          "output_type": "stream",
          "text": [
            "\n",
            "Batch:  90%|█████████ | 9/10 [02:26<00:15, 15.98s/it]\u001b[A"
          ],
          "name": "stderr"
        },
        {
          "output_type": "stream",
          "text": [
            "Reinforce Loss : -0.00390625 Reinforce Max Reward : -2.329132556915283"
          ],
          "name": "stdout"
        },
        {
          "output_type": "stream",
          "text": [
            "\n",
            "Batch: 100%|██████████| 10/10 [02:41<00:00, 15.83s/it]\u001b[A\n",
            "Epoch:   0%|          | 7/1785 [20:45<87:52:15, 177.92s/it]\n",
            "Batch:   0%|          | 0/10 [00:00<?, ?it/s]\u001b[A"
          ],
          "name": "stderr"
        },
        {
          "output_type": "stream",
          "text": [
            "Reinforce Loss : -0.005859375 Reinforce Max Reward : -2.3712997436523438"
          ],
          "name": "stdout"
        },
        {
          "output_type": "stream",
          "text": [
            "\n",
            "Batch:  10%|█         | 1/10 [00:20<03:08, 20.95s/it]\u001b[A"
          ],
          "name": "stderr"
        },
        {
          "output_type": "stream",
          "text": [
            "Reinforce Loss : -0.00390625 Reinforce Max Reward : -2.4238710403442383"
          ],
          "name": "stdout"
        },
        {
          "output_type": "stream",
          "text": [
            "\n",
            "Batch:  20%|██        | 2/10 [00:36<02:35, 19.46s/it]\u001b[A"
          ],
          "name": "stderr"
        },
        {
          "output_type": "stream",
          "text": [
            "Reinforce Loss : 0.0048828125 Reinforce Max Reward : -2.4504809379577637"
          ],
          "name": "stdout"
        },
        {
          "output_type": "stream",
          "text": [
            "\n",
            "Batch:  30%|███       | 3/10 [00:52<02:08, 18.30s/it]\u001b[A"
          ],
          "name": "stderr"
        },
        {
          "output_type": "stream",
          "text": [
            "Reinforce Loss : 0.0 Reinforce Max Reward : -2.4362192153930664"
          ],
          "name": "stdout"
        },
        {
          "output_type": "stream",
          "text": [
            "\n",
            "Batch:  40%|████      | 4/10 [01:08<01:44, 17.49s/it]\u001b[A"
          ],
          "name": "stderr"
        },
        {
          "output_type": "stream",
          "text": [
            "Reinforce Loss : 0.01171875 Reinforce Max Reward : -2.429286479949951"
          ],
          "name": "stdout"
        },
        {
          "output_type": "stream",
          "text": [
            "\n",
            "Batch:  50%|█████     | 5/10 [01:23<01:24, 16.93s/it]\u001b[A"
          ],
          "name": "stderr"
        },
        {
          "output_type": "stream",
          "text": [
            "Reinforce Loss : 0.00390625 Reinforce Max Reward : -1.9046273231506348"
          ],
          "name": "stdout"
        },
        {
          "output_type": "stream",
          "text": [
            "\n",
            "Batch:  60%|██████    | 6/10 [01:39<01:06, 16.59s/it]\u001b[A"
          ],
          "name": "stderr"
        },
        {
          "output_type": "stream",
          "text": [
            "Reinforce Loss : -0.00390625 Reinforce Max Reward : -2.410691261291504"
          ],
          "name": "stdout"
        },
        {
          "output_type": "stream",
          "text": [
            "\n",
            "Batch:  70%|███████   | 7/10 [01:55<00:48, 16.32s/it]\u001b[A"
          ],
          "name": "stderr"
        },
        {
          "output_type": "stream",
          "text": [
            "Reinforce Loss : -0.0009765625 Reinforce Max Reward : -2.3955323696136475"
          ],
          "name": "stdout"
        },
        {
          "output_type": "stream",
          "text": [
            "\n",
            "Batch:  80%|████████  | 8/10 [02:10<00:32, 16.10s/it]\u001b[A"
          ],
          "name": "stderr"
        },
        {
          "output_type": "stream",
          "text": [
            "Reinforce Loss : -0.005859375 Reinforce Max Reward : -2.4131879806518555"
          ],
          "name": "stdout"
        },
        {
          "output_type": "stream",
          "text": [
            "\n",
            "Batch:  90%|█████████ | 9/10 [02:26<00:16, 16.01s/it]\u001b[A"
          ],
          "name": "stderr"
        },
        {
          "output_type": "stream",
          "text": [
            "Reinforce Loss : -0.00390625 Reinforce Max Reward : -2.3701391220092773"
          ],
          "name": "stdout"
        },
        {
          "output_type": "stream",
          "text": [
            "\n",
            "Batch: 100%|██████████| 10/10 [02:42<00:00, 15.85s/it]\u001b[A\n",
            "Epoch:   0%|          | 8/1785 [23:43<87:48:36, 177.89s/it]\n",
            "Batch:   0%|          | 0/10 [00:00<?, ?it/s]\u001b[A"
          ],
          "name": "stderr"
        },
        {
          "output_type": "stream",
          "text": [
            "Reinforce Loss : -0.001953125 Reinforce Max Reward : -2.4420363903045654"
          ],
          "name": "stdout"
        },
        {
          "output_type": "stream",
          "text": [
            "\n",
            "Batch:  10%|█         | 1/10 [00:21<03:09, 21.03s/it]\u001b[A"
          ],
          "name": "stderr"
        },
        {
          "output_type": "stream",
          "text": [
            "Reinforce Loss : -0.015625 Reinforce Max Reward : -2.1481618881225586"
          ],
          "name": "stdout"
        },
        {
          "output_type": "stream",
          "text": [
            "\n",
            "Batch:  20%|██        | 2/10 [00:36<02:35, 19.50s/it]\u001b[A"
          ],
          "name": "stderr"
        },
        {
          "output_type": "stream",
          "text": [
            "Reinforce Loss : -0.0029296875 Reinforce Max Reward : -2.4012451171875"
          ],
          "name": "stdout"
        },
        {
          "output_type": "stream",
          "text": [
            "\n",
            "Batch:  30%|███       | 3/10 [00:52<02:08, 18.33s/it]\u001b[A"
          ],
          "name": "stderr"
        },
        {
          "output_type": "stream",
          "text": [
            "Reinforce Loss : -0.013671875 Reinforce Max Reward : -2.440882682800293"
          ],
          "name": "stdout"
        },
        {
          "output_type": "stream",
          "text": [
            "\n",
            "Batch:  40%|████      | 4/10 [01:08<01:45, 17.54s/it]\u001b[A"
          ],
          "name": "stderr"
        },
        {
          "output_type": "stream",
          "text": [
            "Reinforce Loss : 0.0029296875 Reinforce Max Reward : -2.432044267654419"
          ],
          "name": "stdout"
        },
        {
          "output_type": "stream",
          "text": [
            "\n",
            "Batch:  50%|█████     | 5/10 [01:23<01:24, 16.99s/it]\u001b[A"
          ],
          "name": "stderr"
        },
        {
          "output_type": "stream",
          "text": [
            "Reinforce Loss : -0.00390625 Reinforce Max Reward : -2.4368245601654053"
          ],
          "name": "stdout"
        },
        {
          "output_type": "stream",
          "text": [
            "\n",
            "Batch:  60%|██████    | 6/10 [01:39<01:06, 16.63s/it]\u001b[A"
          ],
          "name": "stderr"
        },
        {
          "output_type": "stream",
          "text": [
            "Reinforce Loss : -0.0107421875 Reinforce Max Reward : -2.302730083465576"
          ],
          "name": "stdout"
        },
        {
          "output_type": "stream",
          "text": [
            "\n",
            "Batch:  70%|███████   | 7/10 [01:55<00:48, 16.31s/it]\u001b[A"
          ],
          "name": "stderr"
        },
        {
          "output_type": "stream",
          "text": [
            "Reinforce Loss : 0.013671875 Reinforce Max Reward : -2.4245073795318604"
          ],
          "name": "stdout"
        },
        {
          "output_type": "stream",
          "text": [
            "\n",
            "Batch:  80%|████████  | 8/10 [02:10<00:32, 16.10s/it]\u001b[A"
          ],
          "name": "stderr"
        },
        {
          "output_type": "stream",
          "text": [
            "Reinforce Loss : 0.0009765625 Reinforce Max Reward : -2.4073615074157715"
          ],
          "name": "stdout"
        },
        {
          "output_type": "stream",
          "text": [
            "\n",
            "Batch:  90%|█████████ | 9/10 [02:26<00:15, 15.98s/it]\u001b[A"
          ],
          "name": "stderr"
        },
        {
          "output_type": "stream",
          "text": [
            "Reinforce Loss : 0.00390625 Reinforce Max Reward : -2.104705333709717"
          ],
          "name": "stdout"
        },
        {
          "output_type": "stream",
          "text": [
            "\n",
            "Batch: 100%|██████████| 10/10 [02:42<00:00, 15.91s/it]\u001b[A\n",
            "Epoch:   1%|          | 9/1785 [26:40<87:34:04, 177.50s/it]\n",
            "Batch:   0%|          | 0/10 [00:00<?, ?it/s]\u001b[A"
          ],
          "name": "stderr"
        },
        {
          "output_type": "stream",
          "text": [
            "Reinforce Loss : 0.005859375 Reinforce Max Reward : -2.328559398651123"
          ],
          "name": "stdout"
        },
        {
          "output_type": "stream",
          "text": [
            "\n",
            "Batch:  10%|█         | 1/10 [00:22<03:21, 22.39s/it]\u001b[A"
          ],
          "name": "stderr"
        },
        {
          "output_type": "stream",
          "text": [
            "Reinforce Loss : -0.001953125 Reinforce Max Reward : -2.4275524616241455"
          ],
          "name": "stdout"
        },
        {
          "output_type": "stream",
          "text": [
            "\n",
            "Batch:  20%|██        | 2/10 [00:38<02:43, 20.42s/it]\u001b[A"
          ],
          "name": "stderr"
        },
        {
          "output_type": "stream",
          "text": [
            "Reinforce Loss : -0.005859375 Reinforce Max Reward : -2.407785415649414"
          ],
          "name": "stdout"
        },
        {
          "output_type": "stream",
          "text": [
            "\n",
            "Batch:  30%|███       | 3/10 [00:53<02:12, 18.97s/it]\u001b[A"
          ],
          "name": "stderr"
        },
        {
          "output_type": "stream",
          "text": [
            "Reinforce Loss : -0.0048828125 Reinforce Max Reward : -2.4408013820648193"
          ],
          "name": "stdout"
        },
        {
          "output_type": "stream",
          "text": [
            "\n",
            "Batch:  40%|████      | 4/10 [01:09<01:47, 17.96s/it]\u001b[A"
          ],
          "name": "stderr"
        },
        {
          "output_type": "stream",
          "text": [
            "Reinforce Loss : 0.0 Reinforce Max Reward : -2.1956467628479004"
          ],
          "name": "stdout"
        },
        {
          "output_type": "stream",
          "text": [
            "\n",
            "Batch:  50%|█████     | 5/10 [01:25<01:26, 17.26s/it]\u001b[A"
          ],
          "name": "stderr"
        },
        {
          "output_type": "stream",
          "text": [
            "Reinforce Loss : -0.0078125 Reinforce Max Reward : -2.4004831314086914"
          ],
          "name": "stdout"
        },
        {
          "output_type": "stream",
          "text": [
            "\n",
            "Batch:  60%|██████    | 6/10 [01:40<01:07, 16.84s/it]\u001b[A"
          ],
          "name": "stderr"
        },
        {
          "output_type": "stream",
          "text": [
            "Reinforce Loss : -0.0048828125 Reinforce Max Reward : -1.9879034757614136"
          ],
          "name": "stdout"
        },
        {
          "output_type": "stream",
          "text": [
            "\n",
            "Batch:  70%|███████   | 7/10 [01:56<00:49, 16.44s/it]\u001b[A"
          ],
          "name": "stderr"
        },
        {
          "output_type": "stream",
          "text": [
            "Reinforce Loss : -0.00390625 Reinforce Max Reward : -2.428640365600586"
          ],
          "name": "stdout"
        },
        {
          "output_type": "stream",
          "text": [
            "\n",
            "Batch:  80%|████████  | 8/10 [02:12<00:32, 16.21s/it]\u001b[A"
          ],
          "name": "stderr"
        },
        {
          "output_type": "stream",
          "text": [
            "Reinforce Loss : 0.0009765625 Reinforce Max Reward : -2.1738815307617188"
          ],
          "name": "stdout"
        },
        {
          "output_type": "stream",
          "text": [
            "\n",
            "Batch:  90%|█████████ | 9/10 [02:27<00:16, 16.07s/it]\u001b[A"
          ],
          "name": "stderr"
        },
        {
          "output_type": "stream",
          "text": [
            "Reinforce Loss : 0.005859375 Reinforce Max Reward : -2.25504732131958"
          ],
          "name": "stdout"
        },
        {
          "output_type": "stream",
          "text": [
            "\n",
            "Batch: 100%|██████████| 10/10 [02:43<00:00, 15.96s/it]\u001b[A\n",
            "Epoch:   1%|          | 10/1785 [29:37<87:27:34, 177.38s/it]\n",
            "Batch:   0%|          | 0/10 [00:00<?, ?it/s]\u001b[A"
          ],
          "name": "stderr"
        },
        {
          "output_type": "stream",
          "text": [
            "Reinforce Loss : 0.005859375 Reinforce Max Reward : -2.206066608428955"
          ],
          "name": "stdout"
        },
        {
          "output_type": "stream",
          "text": [
            "\n",
            "Batch:  10%|█         | 1/10 [00:23<03:29, 23.24s/it]\u001b[A"
          ],
          "name": "stderr"
        },
        {
          "output_type": "stream",
          "text": [
            "Reinforce Loss : 0.013671875 Reinforce Max Reward : -2.4312891960144043"
          ],
          "name": "stdout"
        },
        {
          "output_type": "stream",
          "text": [
            "\n",
            "Batch:  20%|██        | 2/10 [00:38<02:47, 20.98s/it]\u001b[A"
          ],
          "name": "stderr"
        },
        {
          "output_type": "stream",
          "text": [
            "Reinforce Loss : -0.0029296875 Reinforce Max Reward : -2.420253276824951"
          ],
          "name": "stdout"
        },
        {
          "output_type": "stream",
          "text": [
            "\n",
            "Batch:  30%|███       | 3/10 [00:54<02:15, 19.37s/it]\u001b[A"
          ],
          "name": "stderr"
        },
        {
          "output_type": "stream",
          "text": [
            "Reinforce Loss : -0.00390625 Reinforce Max Reward : -2.416213274002075"
          ],
          "name": "stdout"
        },
        {
          "output_type": "stream",
          "text": [
            "\n",
            "Batch:  40%|████      | 4/10 [01:10<01:49, 18.31s/it]\u001b[A"
          ],
          "name": "stderr"
        },
        {
          "output_type": "stream",
          "text": [
            "Reinforce Loss : 0.0087890625 Reinforce Max Reward : -1.731136679649353"
          ],
          "name": "stdout"
        },
        {
          "output_type": "stream",
          "text": [
            "\n",
            "Batch:  50%|█████     | 5/10 [01:26<01:27, 17.55s/it]\u001b[A"
          ],
          "name": "stderr"
        },
        {
          "output_type": "stream",
          "text": [
            "Reinforce Loss : -0.009765625 Reinforce Max Reward : -2.425722122192383"
          ],
          "name": "stdout"
        },
        {
          "output_type": "stream",
          "text": [
            "\n",
            "Batch:  60%|██████    | 6/10 [01:41<01:08, 17.03s/it]\u001b[A"
          ],
          "name": "stderr"
        },
        {
          "output_type": "stream",
          "text": [
            "Reinforce Loss : 0.00390625 Reinforce Max Reward : -2.300166368484497"
          ],
          "name": "stdout"
        },
        {
          "output_type": "stream",
          "text": [
            "\n",
            "Batch:  70%|███████   | 7/10 [01:57<00:49, 16.59s/it]\u001b[A"
          ],
          "name": "stderr"
        },
        {
          "output_type": "stream",
          "text": [
            "Reinforce Loss : -0.0029296875 Reinforce Max Reward : -1.9460182189941406"
          ],
          "name": "stdout"
        },
        {
          "output_type": "stream",
          "text": [
            "\n",
            "Batch:  80%|████████  | 8/10 [02:13<00:32, 16.33s/it]\u001b[A"
          ],
          "name": "stderr"
        },
        {
          "output_type": "stream",
          "text": [
            "Reinforce Loss : 0.00390625 Reinforce Max Reward : -2.376316785812378"
          ],
          "name": "stdout"
        },
        {
          "output_type": "stream",
          "text": [
            "\n",
            "Batch:  90%|█████████ | 9/10 [02:29<00:16, 16.17s/it]\u001b[A"
          ],
          "name": "stderr"
        },
        {
          "output_type": "stream",
          "text": [
            "Reinforce Loss : -0.00390625 Reinforce Max Reward : -2.4106106758117676"
          ],
          "name": "stdout"
        },
        {
          "output_type": "stream",
          "text": [
            "\n",
            "Batch: 100%|██████████| 10/10 [02:44<00:00, 16.09s/it]\u001b[A\n",
            "Epoch:   1%|          | 11/1785 [32:37<87:44:39, 178.06s/it]\n",
            "Batch:   0%|          | 0/10 [00:00<?, ?it/s]\u001b[A"
          ],
          "name": "stderr"
        },
        {
          "output_type": "stream",
          "text": [
            "Reinforce Loss : 0.001953125 Reinforce Max Reward : -2.393561601638794"
          ],
          "name": "stdout"
        },
        {
          "output_type": "stream",
          "text": [
            "\n",
            "Batch:  10%|█         | 1/10 [00:21<03:14, 21.66s/it]\u001b[A"
          ],
          "name": "stderr"
        },
        {
          "output_type": "stream",
          "text": [
            "Reinforce Loss : -0.005859375 Reinforce Max Reward : -2.357520580291748"
          ],
          "name": "stdout"
        },
        {
          "output_type": "stream",
          "text": [
            "\n",
            "Batch:  20%|██        | 2/10 [00:37<02:38, 19.85s/it]\u001b[A"
          ],
          "name": "stderr"
        },
        {
          "output_type": "stream",
          "text": [
            "Reinforce Loss : 0.00390625 Reinforce Max Reward : -2.385686159133911"
          ],
          "name": "stdout"
        },
        {
          "output_type": "stream",
          "text": [
            "\n",
            "Batch:  30%|███       | 3/10 [00:52<02:09, 18.55s/it]\u001b[A"
          ],
          "name": "stderr"
        },
        {
          "output_type": "stream",
          "text": [
            "Reinforce Loss : -0.001953125 Reinforce Max Reward : -2.4322378635406494"
          ],
          "name": "stdout"
        },
        {
          "output_type": "stream",
          "text": [
            "\n",
            "Batch:  40%|████      | 4/10 [01:08<01:46, 17.75s/it]\u001b[A"
          ],
          "name": "stderr"
        },
        {
          "output_type": "stream",
          "text": [
            "Reinforce Loss : -0.00390625 Reinforce Max Reward : -2.4241700172424316"
          ],
          "name": "stdout"
        },
        {
          "output_type": "stream",
          "text": [
            "\n",
            "Batch:  50%|█████     | 5/10 [01:24<01:25, 17.10s/it]\u001b[A"
          ],
          "name": "stderr"
        },
        {
          "output_type": "stream",
          "text": [
            "Reinforce Loss : -0.001953125 Reinforce Max Reward : -2.4223382472991943"
          ],
          "name": "stdout"
        },
        {
          "output_type": "stream",
          "text": [
            "\n",
            "Batch:  60%|██████    | 6/10 [01:40<01:06, 16.74s/it]\u001b[A"
          ],
          "name": "stderr"
        },
        {
          "output_type": "stream",
          "text": [
            "Reinforce Loss : 0.01171875 Reinforce Max Reward : -2.2623443603515625"
          ],
          "name": "stdout"
        },
        {
          "output_type": "stream",
          "text": [
            "\n",
            "Batch:  70%|███████   | 7/10 [01:55<00:49, 16.42s/it]\u001b[A"
          ],
          "name": "stderr"
        },
        {
          "output_type": "stream",
          "text": [
            "Reinforce Loss : 0.021484375 Reinforce Max Reward : -2.4248576164245605"
          ],
          "name": "stdout"
        },
        {
          "output_type": "stream",
          "text": [
            "\n",
            "Batch:  80%|████████  | 8/10 [02:11<00:32, 16.20s/it]\u001b[A"
          ],
          "name": "stderr"
        },
        {
          "output_type": "stream",
          "text": [
            "Reinforce Loss : -0.0029296875 Reinforce Max Reward : -2.18902587890625"
          ],
          "name": "stdout"
        },
        {
          "output_type": "stream",
          "text": [
            "\n",
            "Batch:  90%|█████████ | 9/10 [02:27<00:16, 16.03s/it]\u001b[A"
          ],
          "name": "stderr"
        },
        {
          "output_type": "stream",
          "text": [
            "Reinforce Loss : 0.001953125 Reinforce Max Reward : -1.7377442121505737"
          ],
          "name": "stdout"
        },
        {
          "output_type": "stream",
          "text": [
            "\n",
            "Batch: 100%|██████████| 10/10 [02:42<00:00, 15.95s/it]\u001b[A\n",
            "Epoch:   1%|          | 12/1785 [35:37<88:06:46, 178.91s/it]\n",
            "Batch:   0%|          | 0/10 [00:00<?, ?it/s]\u001b[A"
          ],
          "name": "stderr"
        },
        {
          "output_type": "stream",
          "text": [
            "Reinforce Loss : -0.001953125 Reinforce Max Reward : -2.3806509971618652"
          ],
          "name": "stdout"
        },
        {
          "output_type": "stream",
          "text": [
            "\n",
            "Batch:  10%|█         | 1/10 [00:18<02:44, 18.31s/it]\u001b[A"
          ],
          "name": "stderr"
        },
        {
          "output_type": "stream",
          "text": [
            "Reinforce Loss : -0.0029296875 Reinforce Max Reward : -2.356743812561035"
          ],
          "name": "stdout"
        },
        {
          "output_type": "stream",
          "text": [
            "\n",
            "Batch:  20%|██        | 2/10 [00:34<02:20, 17.55s/it]\u001b[A"
          ],
          "name": "stderr"
        },
        {
          "output_type": "stream",
          "text": [
            "Reinforce Loss : 0.0 Reinforce Max Reward : -1.9482030868530273"
          ],
          "name": "stdout"
        },
        {
          "output_type": "stream",
          "text": [
            "\n",
            "Batch:  30%|███       | 3/10 [00:49<01:59, 17.05s/it]\u001b[A"
          ],
          "name": "stderr"
        },
        {
          "output_type": "stream",
          "text": [
            "Reinforce Loss : 0.0234375 Reinforce Max Reward : -2.2509121894836426"
          ],
          "name": "stdout"
        },
        {
          "output_type": "stream",
          "text": [
            "\n",
            "Batch:  40%|████      | 4/10 [01:05<01:39, 16.66s/it]\u001b[A"
          ],
          "name": "stderr"
        },
        {
          "output_type": "stream",
          "text": [
            "Reinforce Loss : 0.00390625 Reinforce Max Reward : -2.002223014831543"
          ],
          "name": "stdout"
        },
        {
          "output_type": "stream",
          "text": [
            "\n",
            "Batch:  50%|█████     | 5/10 [01:21<01:21, 16.38s/it]\u001b[A"
          ],
          "name": "stderr"
        },
        {
          "output_type": "stream",
          "text": [
            "Reinforce Loss : -0.00390625 Reinforce Max Reward : -2.4004149436950684"
          ],
          "name": "stdout"
        },
        {
          "output_type": "stream",
          "text": [
            "\n",
            "Batch:  60%|██████    | 6/10 [01:37<01:04, 16.15s/it]\u001b[A"
          ],
          "name": "stderr"
        },
        {
          "output_type": "stream",
          "text": [
            "Reinforce Loss : 0.009765625 Reinforce Max Reward : -2.4332997798919678"
          ],
          "name": "stdout"
        },
        {
          "output_type": "stream",
          "text": [
            "\n",
            "Batch:  70%|███████   | 7/10 [01:52<00:47, 15.97s/it]\u001b[A"
          ],
          "name": "stderr"
        },
        {
          "output_type": "stream",
          "text": [
            "Reinforce Loss : 0.0078125 Reinforce Max Reward : -2.3179993629455566"
          ],
          "name": "stdout"
        },
        {
          "output_type": "stream",
          "text": [
            "\n",
            "Batch:  80%|████████  | 8/10 [02:08<00:31, 15.91s/it]\u001b[A"
          ],
          "name": "stderr"
        },
        {
          "output_type": "stream",
          "text": [
            "Reinforce Loss : -0.00390625 Reinforce Max Reward : -2.431673049926758"
          ],
          "name": "stdout"
        },
        {
          "output_type": "stream",
          "text": [
            "\n",
            "Batch:  90%|█████████ | 9/10 [02:24<00:15, 15.84s/it]\u001b[A"
          ],
          "name": "stderr"
        },
        {
          "output_type": "stream",
          "text": [
            "Reinforce Loss : -0.005859375 Reinforce Max Reward : -2.2848079204559326"
          ],
          "name": "stdout"
        },
        {
          "output_type": "stream",
          "text": [
            "\n",
            "Batch: 100%|██████████| 10/10 [02:39<00:00, 15.79s/it]\u001b[A\n",
            "Epoch:   1%|          | 13/1785 [38:31<87:12:32, 177.17s/it]\n",
            "Batch:   0%|          | 0/10 [00:00<?, ?it/s]\u001b[A"
          ],
          "name": "stderr"
        },
        {
          "output_type": "stream",
          "text": [
            "Reinforce Loss : -0.005859375 Reinforce Max Reward : -2.406012773513794"
          ],
          "name": "stdout"
        },
        {
          "output_type": "stream",
          "text": [
            "\n",
            "Batch:  10%|█         | 1/10 [00:23<03:28, 23.22s/it]\u001b[A"
          ],
          "name": "stderr"
        },
        {
          "output_type": "stream",
          "text": [
            "Reinforce Loss : -0.017578125 Reinforce Max Reward : -2.4215383529663086"
          ],
          "name": "stdout"
        },
        {
          "output_type": "stream",
          "text": [
            "\n",
            "Batch:  20%|██        | 2/10 [00:38<02:47, 20.98s/it]\u001b[A"
          ],
          "name": "stderr"
        },
        {
          "output_type": "stream",
          "text": [
            "Reinforce Loss : 0.0009765625 Reinforce Max Reward : -2.4519548416137695"
          ],
          "name": "stdout"
        },
        {
          "output_type": "stream",
          "text": [
            "\n",
            "Batch:  30%|███       | 3/10 [00:54<02:15, 19.42s/it]\u001b[A"
          ],
          "name": "stderr"
        },
        {
          "output_type": "stream",
          "text": [
            "Reinforce Loss : -0.005859375 Reinforce Max Reward : -2.3439793586730957"
          ],
          "name": "stdout"
        },
        {
          "output_type": "stream",
          "text": [
            "\n",
            "Batch:  40%|████      | 4/10 [01:10<01:50, 18.34s/it]\u001b[A"
          ],
          "name": "stderr"
        },
        {
          "output_type": "stream",
          "text": [
            "Reinforce Loss : 0.001953125 Reinforce Max Reward : -2.155985116958618"
          ],
          "name": "stdout"
        },
        {
          "output_type": "stream",
          "text": [
            "\n",
            "Batch:  50%|█████     | 5/10 [01:26<01:27, 17.53s/it]\u001b[A"
          ],
          "name": "stderr"
        },
        {
          "output_type": "stream",
          "text": [
            "Reinforce Loss : -0.0078125 Reinforce Max Reward : -2.3741164207458496"
          ],
          "name": "stdout"
        },
        {
          "output_type": "stream",
          "text": [
            "\n",
            "Batch:  60%|██████    | 6/10 [01:41<01:07, 16.94s/it]\u001b[A"
          ],
          "name": "stderr"
        },
        {
          "output_type": "stream",
          "text": [
            "Reinforce Loss : -0.0048828125 Reinforce Max Reward : -2.4173507690429688"
          ],
          "name": "stdout"
        },
        {
          "output_type": "stream",
          "text": [
            "\n",
            "Batch:  70%|███████   | 7/10 [01:57<00:49, 16.57s/it]\u001b[A"
          ],
          "name": "stderr"
        },
        {
          "output_type": "stream",
          "text": [
            "Reinforce Loss : 0.0 Reinforce Max Reward : -2.329667091369629"
          ],
          "name": "stdout"
        },
        {
          "output_type": "stream",
          "text": [
            "\n",
            "Batch:  80%|████████  | 8/10 [02:13<00:32, 16.25s/it]\u001b[A"
          ],
          "name": "stderr"
        },
        {
          "output_type": "stream",
          "text": [
            "Reinforce Loss : 0.0 Reinforce Max Reward : -2.172365188598633"
          ],
          "name": "stdout"
        },
        {
          "output_type": "stream",
          "text": [
            "\n",
            "Batch:  90%|█████████ | 9/10 [02:28<00:16, 16.06s/it]\u001b[A"
          ],
          "name": "stderr"
        },
        {
          "output_type": "stream",
          "text": [
            "Reinforce Loss : 0.001953125 Reinforce Max Reward : -2.42557954788208"
          ],
          "name": "stdout"
        },
        {
          "output_type": "stream",
          "text": [
            "\n",
            "Batch: 100%|██████████| 10/10 [02:44<00:00, 15.92s/it]\u001b[A\n",
            "Epoch:   1%|          | 14/1785 [41:31<87:35:35, 178.06s/it]\n",
            "Batch:   0%|          | 0/10 [00:00<?, ?it/s]\u001b[A"
          ],
          "name": "stderr"
        },
        {
          "output_type": "stream",
          "text": [
            "Reinforce Loss : 0.01171875 Reinforce Max Reward : -2.4445061683654785"
          ],
          "name": "stdout"
        },
        {
          "output_type": "stream",
          "text": [
            "\n",
            "Batch:  10%|█         | 1/10 [00:20<03:03, 20.41s/it]\u001b[A"
          ],
          "name": "stderr"
        },
        {
          "output_type": "stream",
          "text": [
            "Reinforce Loss : 0.0009765625 Reinforce Max Reward : -2.4384682178497314"
          ],
          "name": "stdout"
        },
        {
          "output_type": "stream",
          "text": [
            "\n",
            "Batch:  20%|██        | 2/10 [00:36<02:31, 18.98s/it]\u001b[A"
          ],
          "name": "stderr"
        },
        {
          "output_type": "stream",
          "text": [
            "Reinforce Loss : -0.005859375 Reinforce Max Reward : -1.8865993022918701"
          ],
          "name": "stdout"
        },
        {
          "output_type": "stream",
          "text": [
            "\n",
            "Batch:  30%|███       | 3/10 [00:51<02:06, 18.00s/it]\u001b[A"
          ],
          "name": "stderr"
        },
        {
          "output_type": "stream",
          "text": [
            "Reinforce Loss : -0.001953125 Reinforce Max Reward : -2.0204355716705322"
          ],
          "name": "stdout"
        },
        {
          "output_type": "stream",
          "text": [
            "\n",
            "Batch:  40%|████      | 4/10 [01:07<01:43, 17.23s/it]\u001b[A"
          ],
          "name": "stderr"
        },
        {
          "output_type": "stream",
          "text": [
            "Reinforce Loss : 0.0 Reinforce Max Reward : -2.431812047958374"
          ],
          "name": "stdout"
        },
        {
          "output_type": "stream",
          "text": [
            "\n",
            "Batch:  50%|█████     | 5/10 [01:22<01:23, 16.73s/it]\u001b[A"
          ],
          "name": "stderr"
        },
        {
          "output_type": "stream",
          "text": [
            "Reinforce Loss : 0.013671875 Reinforce Max Reward : -2.2717771530151367"
          ],
          "name": "stdout"
        },
        {
          "output_type": "stream",
          "text": [
            "\n",
            "Batch:  60%|██████    | 6/10 [01:38<01:05, 16.46s/it]\u001b[A"
          ],
          "name": "stderr"
        },
        {
          "output_type": "stream",
          "text": [
            "Reinforce Loss : 0.0 Reinforce Max Reward : -2.2447543144226074"
          ],
          "name": "stdout"
        },
        {
          "output_type": "stream",
          "text": [
            "\n",
            "Batch:  70%|███████   | 7/10 [01:54<00:48, 16.22s/it]\u001b[A"
          ],
          "name": "stderr"
        },
        {
          "output_type": "stream",
          "text": [
            "Reinforce Loss : -0.021484375 Reinforce Max Reward : -2.4234886169433594"
          ],
          "name": "stdout"
        },
        {
          "output_type": "stream",
          "text": [
            "\n",
            "Batch:  80%|████████  | 8/10 [02:09<00:32, 16.04s/it]\u001b[A"
          ],
          "name": "stderr"
        },
        {
          "output_type": "stream",
          "text": [
            "Reinforce Loss : 0.0 Reinforce Max Reward : -2.428476333618164"
          ],
          "name": "stdout"
        },
        {
          "output_type": "stream",
          "text": [
            "\n",
            "Batch:  90%|█████████ | 9/10 [02:25<00:15, 15.87s/it]\u001b[A"
          ],
          "name": "stderr"
        },
        {
          "output_type": "stream",
          "text": [
            "Reinforce Loss : -0.0078125 Reinforce Max Reward : -1.820874810218811"
          ],
          "name": "stdout"
        },
        {
          "output_type": "stream",
          "text": [
            "\n",
            "Batch: 100%|██████████| 10/10 [02:40<00:00, 15.78s/it]\u001b[A\n",
            "Epoch:   1%|          | 15/1785 [44:27<87:13:10, 177.40s/it]\n",
            "Batch:   0%|          | 0/10 [00:00<?, ?it/s]\u001b[A"
          ],
          "name": "stderr"
        },
        {
          "output_type": "stream",
          "text": [
            "Reinforce Loss : -0.01171875 Reinforce Max Reward : -2.428915023803711"
          ],
          "name": "stdout"
        },
        {
          "output_type": "stream",
          "text": [
            "\n",
            "Batch:  10%|█         | 1/10 [00:22<03:18, 22.01s/it]\u001b[A"
          ],
          "name": "stderr"
        },
        {
          "output_type": "stream",
          "text": [
            "Reinforce Loss : -0.00390625 Reinforce Max Reward : -2.428250789642334"
          ],
          "name": "stdout"
        },
        {
          "output_type": "stream",
          "text": [
            "\n",
            "Batch:  20%|██        | 2/10 [00:37<02:40, 20.08s/it]\u001b[A"
          ],
          "name": "stderr"
        },
        {
          "output_type": "stream",
          "text": [
            "Reinforce Loss : 0.001953125 Reinforce Max Reward : -2.3433775901794434"
          ],
          "name": "stdout"
        },
        {
          "output_type": "stream",
          "text": [
            "\n",
            "Batch:  30%|███       | 3/10 [00:53<02:11, 18.80s/it]\u001b[A"
          ],
          "name": "stderr"
        },
        {
          "output_type": "stream",
          "text": [
            "Reinforce Loss : 0.0 Reinforce Max Reward : -2.4006776809692383"
          ],
          "name": "stdout"
        },
        {
          "output_type": "stream",
          "text": [
            "\n",
            "Batch:  40%|████      | 4/10 [01:08<01:46, 17.81s/it]\u001b[A"
          ],
          "name": "stderr"
        },
        {
          "output_type": "stream",
          "text": [
            "Reinforce Loss : 0.0 Reinforce Max Reward : -2.186481475830078"
          ],
          "name": "stdout"
        },
        {
          "output_type": "stream",
          "text": [
            "\n",
            "Batch:  50%|█████     | 5/10 [01:24<01:25, 17.18s/it]\u001b[A"
          ],
          "name": "stderr"
        },
        {
          "output_type": "stream",
          "text": [
            "Reinforce Loss : 0.0009765625 Reinforce Max Reward : -2.4189062118530273"
          ],
          "name": "stdout"
        },
        {
          "output_type": "stream",
          "text": [
            "\n",
            "Batch:  60%|██████    | 6/10 [01:40<01:06, 16.68s/it]\u001b[A"
          ],
          "name": "stderr"
        },
        {
          "output_type": "stream",
          "text": [
            "Reinforce Loss : 0.009765625 Reinforce Max Reward : -2.0960116386413574"
          ],
          "name": "stdout"
        },
        {
          "output_type": "stream",
          "text": [
            "\n",
            "Batch:  70%|███████   | 7/10 [01:55<00:49, 16.38s/it]\u001b[A"
          ],
          "name": "stderr"
        },
        {
          "output_type": "stream",
          "text": [
            "Reinforce Loss : 0.01171875 Reinforce Max Reward : -2.2887587547302246"
          ],
          "name": "stdout"
        },
        {
          "output_type": "stream",
          "text": [
            "\n",
            "Batch:  80%|████████  | 8/10 [02:11<00:32, 16.07s/it]\u001b[A"
          ],
          "name": "stderr"
        },
        {
          "output_type": "stream",
          "text": [
            "Reinforce Loss : 0.005859375 Reinforce Max Reward : -2.321742296218872"
          ],
          "name": "stdout"
        },
        {
          "output_type": "stream",
          "text": [
            "\n",
            "Batch:  90%|█████████ | 9/10 [02:26<00:15, 15.93s/it]\u001b[A"
          ],
          "name": "stderr"
        },
        {
          "output_type": "stream",
          "text": [
            "Reinforce Loss : 0.00390625 Reinforce Max Reward : -2.4222257137298584"
          ],
          "name": "stdout"
        },
        {
          "output_type": "stream",
          "text": [
            "\n",
            "Batch: 100%|██████████| 10/10 [02:42<00:00, 15.86s/it]\u001b[A\n",
            "Epoch:   1%|          | 16/1785 [47:24<87:10:27, 177.40s/it]\n",
            "Batch:   0%|          | 0/10 [00:00<?, ?it/s]\u001b[A"
          ],
          "name": "stderr"
        },
        {
          "output_type": "stream",
          "text": [
            "Reinforce Loss : -0.03515625 Reinforce Max Reward : -2.425053358078003"
          ],
          "name": "stdout"
        },
        {
          "output_type": "stream",
          "text": [
            "\n",
            "Batch:  10%|█         | 1/10 [00:21<03:14, 21.63s/it]\u001b[A"
          ],
          "name": "stderr"
        },
        {
          "output_type": "stream",
          "text": [
            "Reinforce Loss : -0.0029296875 Reinforce Max Reward : -2.4385197162628174"
          ],
          "name": "stdout"
        },
        {
          "output_type": "stream",
          "text": [
            "\n",
            "Batch:  20%|██        | 2/10 [00:37<02:38, 19.82s/it]\u001b[A"
          ],
          "name": "stderr"
        },
        {
          "output_type": "stream",
          "text": [
            "Reinforce Loss : 0.00390625 Reinforce Max Reward : -1.688536286354065"
          ],
          "name": "stdout"
        },
        {
          "output_type": "stream",
          "text": [
            "\n",
            "Batch:  30%|███       | 3/10 [00:53<02:10, 18.62s/it]\u001b[A"
          ],
          "name": "stderr"
        },
        {
          "output_type": "stream",
          "text": [
            "Reinforce Loss : -0.00390625 Reinforce Max Reward : -2.275829315185547"
          ],
          "name": "stdout"
        },
        {
          "output_type": "stream",
          "text": [
            "\n",
            "Batch:  40%|████      | 4/10 [01:08<01:46, 17.71s/it]\u001b[A"
          ],
          "name": "stderr"
        },
        {
          "output_type": "stream",
          "text": [
            "Reinforce Loss : -0.015625 Reinforce Max Reward : -1.711172103881836"
          ],
          "name": "stdout"
        },
        {
          "output_type": "stream",
          "text": [
            "\n",
            "Batch:  50%|█████     | 5/10 [01:24<01:25, 17.03s/it]\u001b[A"
          ],
          "name": "stderr"
        },
        {
          "output_type": "stream",
          "text": [
            "Reinforce Loss : 0.0 Reinforce Max Reward : -2.352871894836426"
          ],
          "name": "stdout"
        },
        {
          "output_type": "stream",
          "text": [
            "\n",
            "Batch:  60%|██████    | 6/10 [01:39<01:06, 16.58s/it]\u001b[A"
          ],
          "name": "stderr"
        },
        {
          "output_type": "stream",
          "text": [
            "Reinforce Loss : 0.001953125 Reinforce Max Reward : -2.4119930267333984"
          ],
          "name": "stdout"
        },
        {
          "output_type": "stream",
          "text": [
            "\n",
            "Batch:  70%|███████   | 7/10 [01:55<00:48, 16.32s/it]\u001b[A"
          ],
          "name": "stderr"
        },
        {
          "output_type": "stream",
          "text": [
            "Reinforce Loss : -0.013671875 Reinforce Max Reward : -2.426175594329834"
          ],
          "name": "stdout"
        },
        {
          "output_type": "stream",
          "text": [
            "\n",
            "Batch:  80%|████████  | 8/10 [02:10<00:32, 16.04s/it]\u001b[A"
          ],
          "name": "stderr"
        },
        {
          "output_type": "stream",
          "text": [
            "Reinforce Loss : -0.001953125 Reinforce Max Reward : -2.319709539413452"
          ],
          "name": "stdout"
        },
        {
          "output_type": "stream",
          "text": [
            "\n",
            "Batch:  90%|█████████ | 9/10 [02:26<00:15, 15.97s/it]\u001b[A"
          ],
          "name": "stderr"
        },
        {
          "output_type": "stream",
          "text": [
            "Reinforce Loss : 0.0 Reinforce Max Reward : -2.2844913005828857"
          ],
          "name": "stdout"
        },
        {
          "output_type": "stream",
          "text": [
            "\n",
            "Batch: 100%|██████████| 10/10 [02:42<00:00, 15.88s/it]\u001b[A\n",
            "Epoch:   1%|          | 17/1785 [50:25<87:38:10, 178.44s/it]\n",
            "Batch:   0%|          | 0/10 [00:00<?, ?it/s]\u001b[A"
          ],
          "name": "stderr"
        },
        {
          "output_type": "stream",
          "text": [
            "Reinforce Loss : -0.0068359375 Reinforce Max Reward : -2.3119707107543945"
          ],
          "name": "stdout"
        },
        {
          "output_type": "stream",
          "text": [
            "\n",
            "Batch:  10%|█         | 1/10 [00:20<03:00, 20.01s/it]\u001b[A"
          ],
          "name": "stderr"
        },
        {
          "output_type": "stream",
          "text": [
            "Reinforce Loss : -0.00390625 Reinforce Max Reward : -1.8244019746780396"
          ],
          "name": "stdout"
        },
        {
          "output_type": "stream",
          "text": [
            "\n",
            "Batch:  20%|██        | 2/10 [00:35<02:29, 18.68s/it]\u001b[A"
          ],
          "name": "stderr"
        },
        {
          "output_type": "stream",
          "text": [
            "Reinforce Loss : 0.013671875 Reinforce Max Reward : -2.292095184326172"
          ],
          "name": "stdout"
        },
        {
          "output_type": "stream",
          "text": [
            "\n",
            "Batch:  30%|███       | 3/10 [00:51<02:04, 17.83s/it]\u001b[A"
          ],
          "name": "stderr"
        },
        {
          "output_type": "stream",
          "text": [
            "Reinforce Loss : 0.00390625 Reinforce Max Reward : -1.966522216796875"
          ],
          "name": "stdout"
        },
        {
          "output_type": "stream",
          "text": [
            "\n",
            "Batch:  40%|████      | 4/10 [01:06<01:42, 17.14s/it]\u001b[A"
          ],
          "name": "stderr"
        },
        {
          "output_type": "stream",
          "text": [
            "Reinforce Loss : -0.02734375 Reinforce Max Reward : -2.4197487831115723"
          ],
          "name": "stdout"
        },
        {
          "output_type": "stream",
          "text": [
            "\n",
            "Batch:  50%|█████     | 5/10 [01:22<01:23, 16.68s/it]\u001b[A"
          ],
          "name": "stderr"
        },
        {
          "output_type": "stream",
          "text": [
            "Reinforce Loss : 0.005859375 Reinforce Max Reward : -2.432598352432251"
          ],
          "name": "stdout"
        },
        {
          "output_type": "stream",
          "text": [
            "\n",
            "Batch:  60%|██████    | 6/10 [01:38<01:05, 16.35s/it]\u001b[A"
          ],
          "name": "stderr"
        },
        {
          "output_type": "stream",
          "text": [
            "Reinforce Loss : 0.0 Reinforce Max Reward : -2.326305389404297"
          ],
          "name": "stdout"
        },
        {
          "output_type": "stream",
          "text": [
            "\n",
            "Batch:  70%|███████   | 7/10 [01:53<00:48, 16.16s/it]\u001b[A"
          ],
          "name": "stderr"
        },
        {
          "output_type": "stream",
          "text": [
            "Reinforce Loss : 0.0029296875 Reinforce Max Reward : -2.0107979774475098"
          ],
          "name": "stdout"
        },
        {
          "output_type": "stream",
          "text": [
            "\n",
            "Batch:  80%|████████  | 8/10 [02:09<00:32, 16.02s/it]\u001b[A"
          ],
          "name": "stderr"
        },
        {
          "output_type": "stream",
          "text": [
            "Reinforce Loss : 0.001953125 Reinforce Max Reward : -2.4263694286346436"
          ],
          "name": "stdout"
        },
        {
          "output_type": "stream",
          "text": [
            "\n",
            "Batch:  90%|█████████ | 9/10 [02:25<00:15, 15.92s/it]\u001b[A"
          ],
          "name": "stderr"
        },
        {
          "output_type": "stream",
          "text": [
            "Reinforce Loss : 0.01171875 Reinforce Max Reward : -2.4385106563568115"
          ],
          "name": "stdout"
        },
        {
          "output_type": "stream",
          "text": [
            "\n",
            "Batch: 100%|██████████| 10/10 [02:41<00:00, 15.87s/it]\u001b[A\n",
            "Epoch:   1%|          | 18/1785 [53:23<87:28:30, 178.22s/it]\n",
            "Batch:   0%|          | 0/10 [00:00<?, ?it/s]\u001b[A"
          ],
          "name": "stderr"
        },
        {
          "output_type": "stream",
          "text": [
            "Reinforce Loss : 0.0068359375 Reinforce Max Reward : -2.31762433052063"
          ],
          "name": "stdout"
        },
        {
          "output_type": "stream",
          "text": [
            "\n",
            "Batch:  10%|█         | 1/10 [00:18<02:46, 18.51s/it]\u001b[A"
          ],
          "name": "stderr"
        },
        {
          "output_type": "stream",
          "text": [
            "Reinforce Loss : 0.01171875 Reinforce Max Reward : -2.3782958984375"
          ],
          "name": "stdout"
        },
        {
          "output_type": "stream",
          "text": [
            "\n",
            "Batch:  20%|██        | 2/10 [00:34<02:22, 17.79s/it]\u001b[A"
          ],
          "name": "stderr"
        },
        {
          "output_type": "stream",
          "text": [
            "Reinforce Loss : -0.001953125 Reinforce Max Reward : -2.290062189102173"
          ],
          "name": "stdout"
        },
        {
          "output_type": "stream",
          "text": [
            "\n",
            "Batch:  30%|███       | 3/10 [00:50<02:00, 17.18s/it]\u001b[A"
          ],
          "name": "stderr"
        },
        {
          "output_type": "stream",
          "text": [
            "Reinforce Loss : 0.013671875 Reinforce Max Reward : -2.4182419776916504"
          ],
          "name": "stdout"
        },
        {
          "output_type": "stream",
          "text": [
            "\n",
            "Batch:  40%|████      | 4/10 [01:05<01:40, 16.71s/it]\u001b[A"
          ],
          "name": "stderr"
        },
        {
          "output_type": "stream",
          "text": [
            "Reinforce Loss : 0.01171875 Reinforce Max Reward : -2.4273667335510254"
          ],
          "name": "stdout"
        },
        {
          "output_type": "stream",
          "text": [
            "\n",
            "Batch:  50%|█████     | 5/10 [01:21<01:22, 16.42s/it]\u001b[A"
          ],
          "name": "stderr"
        },
        {
          "output_type": "stream",
          "text": [
            "Reinforce Loss : -0.009765625 Reinforce Max Reward : -2.4386043548583984"
          ],
          "name": "stdout"
        },
        {
          "output_type": "stream",
          "text": [
            "\n",
            "Batch:  60%|██████    | 6/10 [01:37<01:04, 16.24s/it]\u001b[A"
          ],
          "name": "stderr"
        },
        {
          "output_type": "stream",
          "text": [
            "Reinforce Loss : -0.005859375 Reinforce Max Reward : -2.087024688720703"
          ],
          "name": "stdout"
        },
        {
          "output_type": "stream",
          "text": [
            "\n",
            "Batch:  70%|███████   | 7/10 [01:53<00:48, 16.12s/it]\u001b[A"
          ],
          "name": "stderr"
        },
        {
          "output_type": "stream",
          "text": [
            "Reinforce Loss : -0.0009765625 Reinforce Max Reward : -2.4047770500183105"
          ],
          "name": "stdout"
        },
        {
          "output_type": "stream",
          "text": [
            "\n",
            "Batch:  80%|████████  | 8/10 [02:09<00:31, 15.98s/it]\u001b[A"
          ],
          "name": "stderr"
        },
        {
          "output_type": "stream",
          "text": [
            "Reinforce Loss : -0.0009765625 Reinforce Max Reward : -2.4290242195129395"
          ],
          "name": "stdout"
        },
        {
          "output_type": "stream",
          "text": [
            "\n",
            "Batch:  90%|█████████ | 9/10 [02:24<00:15, 15.90s/it]\u001b[A"
          ],
          "name": "stderr"
        },
        {
          "output_type": "stream",
          "text": [
            "Reinforce Loss : 0.00390625 Reinforce Max Reward : -2.429887294769287"
          ],
          "name": "stdout"
        },
        {
          "output_type": "stream",
          "text": [
            "\n",
            "Batch: 100%|██████████| 10/10 [02:40<00:00, 15.81s/it]\u001b[A\n",
            "Epoch:   1%|          | 19/1785 [56:17<86:55:13, 177.19s/it]\n",
            "Batch:   0%|          | 0/10 [00:00<?, ?it/s]\u001b[A"
          ],
          "name": "stderr"
        },
        {
          "output_type": "stream",
          "text": [
            "Reinforce Loss : -0.001953125 Reinforce Max Reward : -2.2546539306640625"
          ],
          "name": "stdout"
        },
        {
          "output_type": "stream",
          "text": [
            "\n",
            "Batch:  10%|█         | 1/10 [00:20<03:06, 20.68s/it]\u001b[A"
          ],
          "name": "stderr"
        },
        {
          "output_type": "stream",
          "text": [
            "Reinforce Loss : 0.00390625 Reinforce Max Reward : -2.43253231048584"
          ],
          "name": "stdout"
        },
        {
          "output_type": "stream",
          "text": [
            "\n",
            "Batch:  20%|██        | 2/10 [00:36<02:33, 19.17s/it]\u001b[A"
          ],
          "name": "stderr"
        },
        {
          "output_type": "stream",
          "text": [
            "Reinforce Loss : -0.005859375 Reinforce Max Reward : -2.1036500930786133"
          ],
          "name": "stdout"
        },
        {
          "output_type": "stream",
          "text": [
            "\n",
            "Batch:  30%|███       | 3/10 [00:51<02:06, 18.06s/it]\u001b[A"
          ],
          "name": "stderr"
        },
        {
          "output_type": "stream",
          "text": [
            "Reinforce Loss : 0.0009765625 Reinforce Max Reward : -2.4356849193573"
          ],
          "name": "stdout"
        },
        {
          "output_type": "stream",
          "text": [
            "\n",
            "Batch:  40%|████      | 4/10 [01:07<01:44, 17.34s/it]\u001b[A"
          ],
          "name": "stderr"
        },
        {
          "output_type": "stream",
          "text": [
            "Reinforce Loss : -0.001953125 Reinforce Max Reward : -2.3675074577331543"
          ],
          "name": "stdout"
        },
        {
          "output_type": "stream",
          "text": [
            "\n",
            "Batch:  50%|█████     | 5/10 [01:23<01:24, 16.87s/it]\u001b[A"
          ],
          "name": "stderr"
        },
        {
          "output_type": "stream",
          "text": [
            "Reinforce Loss : -0.005859375 Reinforce Max Reward : -2.3976330757141113"
          ],
          "name": "stdout"
        },
        {
          "output_type": "stream",
          "text": [
            "\n",
            "Batch:  60%|██████    | 6/10 [01:38<01:05, 16.46s/it]\u001b[A"
          ],
          "name": "stderr"
        },
        {
          "output_type": "stream",
          "text": [
            "Reinforce Loss : 0.001953125 Reinforce Max Reward : -2.2308688163757324"
          ],
          "name": "stdout"
        },
        {
          "output_type": "stream",
          "text": [
            "\n",
            "Batch:  70%|███████   | 7/10 [01:54<00:48, 16.25s/it]\u001b[A"
          ],
          "name": "stderr"
        },
        {
          "output_type": "stream",
          "text": [
            "Reinforce Loss : 0.0078125 Reinforce Max Reward : -2.4253921508789062"
          ],
          "name": "stdout"
        },
        {
          "output_type": "stream",
          "text": [
            "\n",
            "Batch:  80%|████████  | 8/10 [02:10<00:32, 16.08s/it]\u001b[A"
          ],
          "name": "stderr"
        },
        {
          "output_type": "stream",
          "text": [
            "Reinforce Loss : 0.0 Reinforce Max Reward : -2.1607723236083984"
          ],
          "name": "stdout"
        },
        {
          "output_type": "stream",
          "text": [
            "\n",
            "Batch:  90%|█████████ | 9/10 [02:25<00:15, 15.97s/it]\u001b[A"
          ],
          "name": "stderr"
        },
        {
          "output_type": "stream",
          "text": [
            "Reinforce Loss : 0.021484375 Reinforce Max Reward : -2.4223625659942627"
          ],
          "name": "stdout"
        },
        {
          "output_type": "stream",
          "text": [
            "\n",
            "Batch: 100%|██████████| 10/10 [02:41<00:00, 15.84s/it]\u001b[A\n",
            "Epoch:   1%|          | 20/1785 [59:14<86:47:52, 177.04s/it]\n",
            "Batch:   0%|          | 0/10 [00:00<?, ?it/s]\u001b[A"
          ],
          "name": "stderr"
        },
        {
          "output_type": "stream",
          "text": [
            "Reinforce Loss : -0.0009765625 Reinforce Max Reward : -2.4464101791381836"
          ],
          "name": "stdout"
        },
        {
          "output_type": "stream",
          "text": [
            "\n",
            "Batch:  10%|█         | 1/10 [00:19<02:58, 19.79s/it]\u001b[A"
          ],
          "name": "stderr"
        },
        {
          "output_type": "stream",
          "text": [
            "Reinforce Loss : -0.0009765625 Reinforce Max Reward : -2.3833508491516113"
          ],
          "name": "stdout"
        },
        {
          "output_type": "stream",
          "text": [
            "\n",
            "Batch:  20%|██        | 2/10 [00:35<02:28, 18.62s/it]\u001b[A"
          ],
          "name": "stderr"
        },
        {
          "output_type": "stream",
          "text": [
            "Reinforce Loss : -0.0078125 Reinforce Max Reward : -2.4262475967407227"
          ],
          "name": "stdout"
        },
        {
          "output_type": "stream",
          "text": [
            "\n",
            "Batch:  30%|███       | 3/10 [00:51<02:04, 17.78s/it]\u001b[A"
          ],
          "name": "stderr"
        },
        {
          "output_type": "stream",
          "text": [
            "Reinforce Loss : -0.00390625 Reinforce Max Reward : -2.323805332183838"
          ],
          "name": "stdout"
        },
        {
          "output_type": "stream",
          "text": [
            "\n",
            "Batch:  40%|████      | 4/10 [01:07<01:43, 17.24s/it]\u001b[A"
          ],
          "name": "stderr"
        },
        {
          "output_type": "stream",
          "text": [
            "Reinforce Loss : -0.0087890625 Reinforce Max Reward : -2.4357681274414062"
          ],
          "name": "stdout"
        },
        {
          "output_type": "stream",
          "text": [
            "\n",
            "Batch:  50%|█████     | 5/10 [01:23<01:23, 16.78s/it]\u001b[A"
          ],
          "name": "stderr"
        },
        {
          "output_type": "stream",
          "text": [
            "Reinforce Loss : -0.005859375 Reinforce Max Reward : -1.9744205474853516"
          ],
          "name": "stdout"
        },
        {
          "output_type": "stream",
          "text": [
            "\n",
            "Batch:  60%|██████    | 6/10 [01:39<01:05, 16.50s/it]\u001b[A"
          ],
          "name": "stderr"
        },
        {
          "output_type": "stream",
          "text": [
            "Reinforce Loss : -0.0048828125 Reinforce Max Reward : -2.4333338737487793"
          ],
          "name": "stdout"
        },
        {
          "output_type": "stream",
          "text": [
            "\n",
            "Batch:  70%|███████   | 7/10 [01:54<00:48, 16.25s/it]\u001b[A"
          ],
          "name": "stderr"
        },
        {
          "output_type": "stream",
          "text": [
            "Reinforce Loss : -0.0048828125 Reinforce Max Reward : -2.4362616539001465"
          ],
          "name": "stdout"
        },
        {
          "output_type": "stream",
          "text": [
            "\n",
            "Batch:  80%|████████  | 8/10 [02:10<00:32, 16.10s/it]\u001b[A"
          ],
          "name": "stderr"
        },
        {
          "output_type": "stream",
          "text": [
            "Reinforce Loss : 0.0 Reinforce Max Reward : -2.371426820755005"
          ],
          "name": "stdout"
        },
        {
          "output_type": "stream",
          "text": [
            "\n",
            "Batch:  90%|█████████ | 9/10 [02:26<00:16, 16.00s/it]\u001b[A"
          ],
          "name": "stderr"
        },
        {
          "output_type": "stream",
          "text": [
            "Reinforce Loss : -0.00390625 Reinforce Max Reward : -2.293996810913086"
          ],
          "name": "stdout"
        },
        {
          "output_type": "stream",
          "text": [
            "\n",
            "Batch: 100%|██████████| 10/10 [02:41<00:00, 15.87s/it]\u001b[A\n",
            "Epoch:   1%|          | 21/1785 [1:02:13<86:57:52, 177.48s/it]\n",
            "Batch:   0%|          | 0/10 [00:00<?, ?it/s]\u001b[A"
          ],
          "name": "stderr"
        },
        {
          "output_type": "stream",
          "text": [
            "Reinforce Loss : -0.0048828125 Reinforce Max Reward : -2.397808790206909"
          ],
          "name": "stdout"
        },
        {
          "output_type": "stream",
          "text": [
            "\n",
            "Batch:  10%|█         | 1/10 [00:19<02:56, 19.59s/it]\u001b[A"
          ],
          "name": "stderr"
        },
        {
          "output_type": "stream",
          "text": [
            "Reinforce Loss : 0.009765625 Reinforce Max Reward : -1.987952470779419"
          ],
          "name": "stdout"
        },
        {
          "output_type": "stream",
          "text": [
            "\n",
            "Batch:  20%|██        | 2/10 [00:35<02:27, 18.47s/it]\u001b[A"
          ],
          "name": "stderr"
        },
        {
          "output_type": "stream",
          "text": [
            "Reinforce Loss : -0.001953125 Reinforce Max Reward : -2.11032772064209"
          ],
          "name": "stdout"
        },
        {
          "output_type": "stream",
          "text": [
            "\n",
            "Batch:  30%|███       | 3/10 [00:51<02:04, 17.72s/it]\u001b[A"
          ],
          "name": "stderr"
        },
        {
          "output_type": "stream",
          "text": [
            "Reinforce Loss : 0.00390625 Reinforce Max Reward : -2.4417927265167236"
          ],
          "name": "stdout"
        },
        {
          "output_type": "stream",
          "text": [
            "\n",
            "Batch:  40%|████      | 4/10 [01:07<01:43, 17.22s/it]\u001b[A"
          ],
          "name": "stderr"
        },
        {
          "output_type": "stream",
          "text": [
            "Reinforce Loss : -0.013671875 Reinforce Max Reward : -2.424806833267212"
          ],
          "name": "stdout"
        },
        {
          "output_type": "stream",
          "text": [
            "\n",
            "Batch:  50%|█████     | 5/10 [01:23<01:23, 16.76s/it]\u001b[A"
          ],
          "name": "stderr"
        },
        {
          "output_type": "stream",
          "text": [
            "Reinforce Loss : -0.0029296875 Reinforce Max Reward : -2.184898614883423"
          ],
          "name": "stdout"
        },
        {
          "output_type": "stream",
          "text": [
            "\n",
            "Batch:  60%|██████    | 6/10 [01:39<01:06, 16.52s/it]\u001b[A"
          ],
          "name": "stderr"
        },
        {
          "output_type": "stream",
          "text": [
            "Reinforce Loss : 0.01171875 Reinforce Max Reward : -2.4210145473480225"
          ],
          "name": "stdout"
        },
        {
          "output_type": "stream",
          "text": [
            "\n",
            "Batch:  70%|███████   | 7/10 [01:54<00:48, 16.29s/it]\u001b[A"
          ],
          "name": "stderr"
        },
        {
          "output_type": "stream",
          "text": [
            "Reinforce Loss : -0.017578125 Reinforce Max Reward : -2.438809394836426"
          ],
          "name": "stdout"
        },
        {
          "output_type": "stream",
          "text": [
            "\n",
            "Batch:  80%|████████  | 8/10 [02:10<00:32, 16.20s/it]\u001b[A"
          ],
          "name": "stderr"
        },
        {
          "output_type": "stream",
          "text": [
            "Reinforce Loss : 0.013671875 Reinforce Max Reward : -2.4219751358032227"
          ],
          "name": "stdout"
        },
        {
          "output_type": "stream",
          "text": [
            "\n",
            "Batch:  90%|█████████ | 9/10 [02:26<00:16, 16.04s/it]\u001b[A"
          ],
          "name": "stderr"
        },
        {
          "output_type": "stream",
          "text": [
            "Reinforce Loss : -0.0078125 Reinforce Max Reward : -2.311931610107422"
          ],
          "name": "stdout"
        },
        {
          "output_type": "stream",
          "text": [
            "\n",
            "Batch: 100%|██████████| 10/10 [02:42<00:00, 15.97s/it]\u001b[A\n",
            "Epoch:   1%|          | 22/1785 [1:05:12<87:09:28, 177.97s/it]\n",
            "Batch:   0%|          | 0/10 [00:00<?, ?it/s]\u001b[A"
          ],
          "name": "stderr"
        },
        {
          "output_type": "stream",
          "text": [
            "Reinforce Loss : 0.0078125 Reinforce Max Reward : -2.3553361892700195"
          ],
          "name": "stdout"
        },
        {
          "output_type": "stream",
          "text": [
            "\n",
            "Batch:  10%|█         | 1/10 [00:20<03:02, 20.26s/it]\u001b[A"
          ],
          "name": "stderr"
        },
        {
          "output_type": "stream",
          "text": [
            "Reinforce Loss : 0.0 Reinforce Max Reward : -2.236896514892578"
          ],
          "name": "stdout"
        },
        {
          "output_type": "stream",
          "text": [
            "\n",
            "Batch:  20%|██        | 2/10 [00:36<02:31, 18.92s/it]\u001b[A"
          ],
          "name": "stderr"
        },
        {
          "output_type": "stream",
          "text": [
            "Reinforce Loss : 0.00390625 Reinforce Max Reward : -2.4362902641296387"
          ],
          "name": "stdout"
        },
        {
          "output_type": "stream",
          "text": [
            "\n",
            "Batch:  30%|███       | 3/10 [00:51<02:05, 17.97s/it]\u001b[A"
          ],
          "name": "stderr"
        },
        {
          "output_type": "stream",
          "text": [
            "Reinforce Loss : -0.0078125 Reinforce Max Reward : -2.355203151702881"
          ],
          "name": "stdout"
        },
        {
          "output_type": "stream",
          "text": [
            "\n",
            "Batch:  40%|████      | 4/10 [01:07<01:44, 17.36s/it]\u001b[A"
          ],
          "name": "stderr"
        },
        {
          "output_type": "stream",
          "text": [
            "Reinforce Loss : 0.001953125 Reinforce Max Reward : -2.4485249519348145"
          ],
          "name": "stdout"
        },
        {
          "output_type": "stream",
          "text": [
            "\n",
            "Batch:  50%|█████     | 5/10 [01:23<01:24, 16.81s/it]\u001b[A"
          ],
          "name": "stderr"
        },
        {
          "output_type": "stream",
          "text": [
            "Reinforce Loss : -0.00390625 Reinforce Max Reward : -2.2927095890045166"
          ],
          "name": "stdout"
        },
        {
          "output_type": "stream",
          "text": [
            "\n",
            "Batch:  60%|██████    | 6/10 [01:38<01:05, 16.46s/it]\u001b[A"
          ],
          "name": "stderr"
        },
        {
          "output_type": "stream",
          "text": [
            "Reinforce Loss : -0.009765625 Reinforce Max Reward : -2.424907684326172"
          ],
          "name": "stdout"
        },
        {
          "output_type": "stream",
          "text": [
            "\n",
            "Batch:  70%|███████   | 7/10 [01:54<00:48, 16.24s/it]\u001b[A"
          ],
          "name": "stderr"
        },
        {
          "output_type": "stream",
          "text": [
            "Reinforce Loss : -0.001953125 Reinforce Max Reward : -1.9748427867889404"
          ],
          "name": "stdout"
        },
        {
          "output_type": "stream",
          "text": [
            "\n",
            "Batch:  80%|████████  | 8/10 [02:10<00:32, 16.13s/it]\u001b[A"
          ],
          "name": "stderr"
        },
        {
          "output_type": "stream",
          "text": [
            "Reinforce Loss : -0.0107421875 Reinforce Max Reward : -2.431887149810791"
          ],
          "name": "stdout"
        },
        {
          "output_type": "stream",
          "text": [
            "\n",
            "Batch:  90%|█████████ | 9/10 [02:26<00:15, 15.95s/it]\u001b[A"
          ],
          "name": "stderr"
        },
        {
          "output_type": "stream",
          "text": [
            "Reinforce Loss : -0.005859375 Reinforce Max Reward : -2.3370323181152344"
          ],
          "name": "stdout"
        },
        {
          "output_type": "stream",
          "text": [
            "\n",
            "Batch: 100%|██████████| 10/10 [02:41<00:00, 15.90s/it]\u001b[A\n",
            "Epoch:   1%|▏         | 23/1785 [1:08:09<87:02:56, 177.85s/it]\n",
            "Batch:   0%|          | 0/10 [00:00<?, ?it/s]\u001b[A"
          ],
          "name": "stderr"
        },
        {
          "output_type": "stream",
          "text": [
            "Reinforce Loss : -0.00390625 Reinforce Max Reward : -2.426577091217041"
          ],
          "name": "stdout"
        },
        {
          "output_type": "stream",
          "text": [
            "\n",
            "Batch:  10%|█         | 1/10 [00:19<02:57, 19.73s/it]\u001b[A"
          ],
          "name": "stderr"
        },
        {
          "output_type": "stream",
          "text": [
            "Reinforce Loss : 0.009765625 Reinforce Max Reward : -2.416271686553955"
          ],
          "name": "stdout"
        },
        {
          "output_type": "stream",
          "text": [
            "\n",
            "Batch:  20%|██        | 2/10 [00:35<02:28, 18.62s/it]\u001b[A"
          ],
          "name": "stderr"
        },
        {
          "output_type": "stream",
          "text": [
            "Reinforce Loss : 0.0107421875 Reinforce Max Reward : -2.286128044128418"
          ],
          "name": "stdout"
        },
        {
          "output_type": "stream",
          "text": [
            "\n",
            "Batch:  30%|███       | 3/10 [00:51<02:04, 17.78s/it]\u001b[A"
          ],
          "name": "stderr"
        },
        {
          "output_type": "stream",
          "text": [
            "Reinforce Loss : 0.0 Reinforce Max Reward : -2.4258484840393066"
          ],
          "name": "stdout"
        },
        {
          "output_type": "stream",
          "text": [
            "\n",
            "Batch:  40%|████      | 4/10 [01:07<01:43, 17.24s/it]\u001b[A"
          ],
          "name": "stderr"
        },
        {
          "output_type": "stream",
          "text": [
            "Reinforce Loss : -0.00390625 Reinforce Max Reward : -2.4370415210723877"
          ],
          "name": "stdout"
        },
        {
          "output_type": "stream",
          "text": [
            "\n",
            "Batch:  50%|█████     | 5/10 [01:23<01:23, 16.77s/it]\u001b[A"
          ],
          "name": "stderr"
        },
        {
          "output_type": "stream",
          "text": [
            "Reinforce Loss : 0.015625 Reinforce Max Reward : -2.4265599250793457"
          ],
          "name": "stdout"
        },
        {
          "output_type": "stream",
          "text": [
            "\n",
            "Batch:  60%|██████    | 6/10 [01:39<01:05, 16.48s/it]\u001b[A"
          ],
          "name": "stderr"
        },
        {
          "output_type": "stream",
          "text": [
            "Reinforce Loss : -0.009765625 Reinforce Max Reward : -2.261742353439331"
          ],
          "name": "stdout"
        },
        {
          "output_type": "stream",
          "text": [
            "\n",
            "Batch:  70%|███████   | 7/10 [01:54<00:48, 16.24s/it]\u001b[A"
          ],
          "name": "stderr"
        },
        {
          "output_type": "stream",
          "text": [
            "Reinforce Loss : -0.005859375 Reinforce Max Reward : -2.212923049926758"
          ],
          "name": "stdout"
        },
        {
          "output_type": "stream",
          "text": [
            "\n",
            "Batch:  80%|████████  | 8/10 [02:10<00:32, 16.13s/it]\u001b[A"
          ],
          "name": "stderr"
        },
        {
          "output_type": "stream",
          "text": [
            "Reinforce Loss : -0.0029296875 Reinforce Max Reward : -2.052536964416504"
          ],
          "name": "stdout"
        },
        {
          "output_type": "stream",
          "text": [
            "\n",
            "Batch:  90%|█████████ | 9/10 [02:26<00:15, 15.99s/it]\u001b[A"
          ],
          "name": "stderr"
        },
        {
          "output_type": "stream",
          "text": [
            "Reinforce Loss : 0.0048828125 Reinforce Max Reward : -2.4237825870513916"
          ],
          "name": "stdout"
        },
        {
          "output_type": "stream",
          "text": [
            "\n",
            "Batch: 100%|██████████| 10/10 [02:41<00:00, 15.89s/it]\u001b[A\n",
            "Epoch:   1%|▏         | 24/1785 [1:11:05<86:41:51, 177.24s/it]\n",
            "Batch:   0%|          | 0/10 [00:00<?, ?it/s]\u001b[A"
          ],
          "name": "stderr"
        },
        {
          "output_type": "stream",
          "text": [
            "Reinforce Loss : 0.03125 Reinforce Max Reward : -2.426820993423462"
          ],
          "name": "stdout"
        },
        {
          "output_type": "stream",
          "text": [
            "\n",
            "Batch:  10%|█         | 1/10 [00:24<03:38, 24.23s/it]\u001b[A"
          ],
          "name": "stderr"
        },
        {
          "output_type": "stream",
          "text": [
            "Reinforce Loss : 0.0078125 Reinforce Max Reward : -2.2003426551818848"
          ],
          "name": "stdout"
        },
        {
          "output_type": "stream",
          "text": [
            "\n",
            "Batch:  20%|██        | 2/10 [00:40<02:53, 21.72s/it]\u001b[A"
          ],
          "name": "stderr"
        },
        {
          "output_type": "stream",
          "text": [
            "Reinforce Loss : 0.0078125 Reinforce Max Reward : -2.425959587097168"
          ],
          "name": "stdout"
        },
        {
          "output_type": "stream",
          "text": [
            "\n",
            "Batch:  30%|███       | 3/10 [00:55<02:19, 19.90s/it]\u001b[A"
          ],
          "name": "stderr"
        },
        {
          "output_type": "stream",
          "text": [
            "Reinforce Loss : -0.0029296875 Reinforce Max Reward : -2.4287896156311035"
          ],
          "name": "stdout"
        },
        {
          "output_type": "stream",
          "text": [
            "\n",
            "Batch:  40%|████      | 4/10 [01:11<01:51, 18.65s/it]\u001b[A"
          ],
          "name": "stderr"
        },
        {
          "output_type": "stream",
          "text": [
            "Reinforce Loss : 0.0 Reinforce Max Reward : -2.431156635284424"
          ],
          "name": "stdout"
        },
        {
          "output_type": "stream",
          "text": [
            "\n",
            "Batch:  50%|█████     | 5/10 [01:27<01:28, 17.74s/it]\u001b[A"
          ],
          "name": "stderr"
        },
        {
          "output_type": "stream",
          "text": [
            "Reinforce Loss : 0.00390625 Reinforce Max Reward : -1.9981896877288818"
          ],
          "name": "stdout"
        },
        {
          "output_type": "stream",
          "text": [
            "\n",
            "Batch:  60%|██████    | 6/10 [01:42<01:08, 17.13s/it]\u001b[A"
          ],
          "name": "stderr"
        },
        {
          "output_type": "stream",
          "text": [
            "Reinforce Loss : 0.0009765625 Reinforce Max Reward : -2.4273946285247803"
          ],
          "name": "stdout"
        },
        {
          "output_type": "stream",
          "text": [
            "\n",
            "Batch:  70%|███████   | 7/10 [01:58<00:49, 16.65s/it]\u001b[A"
          ],
          "name": "stderr"
        },
        {
          "output_type": "stream",
          "text": [
            "Reinforce Loss : 0.00390625 Reinforce Max Reward : -2.4277615547180176"
          ],
          "name": "stdout"
        },
        {
          "output_type": "stream",
          "text": [
            "\n",
            "Batch:  80%|████████  | 8/10 [02:14<00:32, 16.43s/it]\u001b[A"
          ],
          "name": "stderr"
        },
        {
          "output_type": "stream",
          "text": [
            "Reinforce Loss : -0.005859375 Reinforce Max Reward : -2.438361644744873"
          ],
          "name": "stdout"
        },
        {
          "output_type": "stream",
          "text": [
            "\n",
            "Batch:  90%|█████████ | 9/10 [02:29<00:16, 16.19s/it]\u001b[A"
          ],
          "name": "stderr"
        },
        {
          "output_type": "stream",
          "text": [
            "Reinforce Loss : 0.0 Reinforce Max Reward : -2.039639472961426"
          ],
          "name": "stdout"
        },
        {
          "output_type": "stream",
          "text": [
            "\n",
            "Batch: 100%|██████████| 10/10 [02:45<00:00, 16.12s/it]\u001b[A\n",
            "Epoch:   1%|▏         | 25/1785 [1:14:08<87:33:01, 179.08s/it]\n",
            "Batch:   0%|          | 0/10 [00:00<?, ?it/s]\u001b[A"
          ],
          "name": "stderr"
        },
        {
          "output_type": "stream",
          "text": [
            "Reinforce Loss : -0.00390625 Reinforce Max Reward : -2.257150411605835"
          ],
          "name": "stdout"
        },
        {
          "output_type": "stream",
          "text": [
            "\n",
            "Batch:  10%|█         | 1/10 [00:18<02:48, 18.76s/it]\u001b[A"
          ],
          "name": "stderr"
        },
        {
          "output_type": "stream",
          "text": [
            "Reinforce Loss : -0.001953125 Reinforce Max Reward : -1.948468804359436"
          ],
          "name": "stdout"
        },
        {
          "output_type": "stream",
          "text": [
            "\n",
            "Batch:  20%|██        | 2/10 [00:34<02:23, 17.90s/it]\u001b[A"
          ],
          "name": "stderr"
        },
        {
          "output_type": "stream",
          "text": [
            "Reinforce Loss : -0.013671875 Reinforce Max Reward : -2.417476177215576"
          ],
          "name": "stdout"
        },
        {
          "output_type": "stream",
          "text": [
            "\n",
            "Batch:  30%|███       | 3/10 [00:50<02:00, 17.27s/it]\u001b[A"
          ],
          "name": "stderr"
        },
        {
          "output_type": "stream",
          "text": [
            "Reinforce Loss : 0.01171875 Reinforce Max Reward : -2.1089019775390625"
          ],
          "name": "stdout"
        },
        {
          "output_type": "stream",
          "text": [
            "\n",
            "Batch:  40%|████      | 4/10 [01:06<01:41, 16.87s/it]\u001b[A"
          ],
          "name": "stderr"
        },
        {
          "output_type": "stream",
          "text": [
            "Reinforce Loss : 0.001953125 Reinforce Max Reward : -2.139059543609619"
          ],
          "name": "stdout"
        },
        {
          "output_type": "stream",
          "text": [
            "\n",
            "Batch:  50%|█████     | 5/10 [01:21<01:22, 16.49s/it]\u001b[A"
          ],
          "name": "stderr"
        },
        {
          "output_type": "stream",
          "text": [
            "Reinforce Loss : 0.009765625 Reinforce Max Reward : -2.4299607276916504"
          ],
          "name": "stdout"
        },
        {
          "output_type": "stream",
          "text": [
            "\n",
            "Batch:  60%|██████    | 6/10 [01:38<01:05, 16.40s/it]\u001b[A"
          ],
          "name": "stderr"
        },
        {
          "output_type": "stream",
          "text": [
            "Reinforce Loss : 0.0009765625 Reinforce Max Reward : -2.426693916320801"
          ],
          "name": "stdout"
        },
        {
          "output_type": "stream",
          "text": [
            "\n",
            "Batch:  70%|███████   | 7/10 [01:53<00:48, 16.19s/it]\u001b[A"
          ],
          "name": "stderr"
        },
        {
          "output_type": "stream",
          "text": [
            "Reinforce Loss : -0.0048828125 Reinforce Max Reward : -2.22884464263916"
          ],
          "name": "stdout"
        },
        {
          "output_type": "stream",
          "text": [
            "\n",
            "Batch:  80%|████████  | 8/10 [02:09<00:32, 16.12s/it]\u001b[A"
          ],
          "name": "stderr"
        },
        {
          "output_type": "stream",
          "text": [
            "Reinforce Loss : -0.0029296875 Reinforce Max Reward : -2.4134292602539062"
          ],
          "name": "stdout"
        },
        {
          "output_type": "stream",
          "text": [
            "\n",
            "Batch:  90%|█████████ | 9/10 [02:25<00:16, 16.05s/it]\u001b[A"
          ],
          "name": "stderr"
        },
        {
          "output_type": "stream",
          "text": [
            "Reinforce Loss : 0.00390625 Reinforce Max Reward : -1.593005895614624"
          ],
          "name": "stdout"
        },
        {
          "output_type": "stream",
          "text": [
            "\n",
            "Batch: 100%|██████████| 10/10 [02:41<00:00, 16.01s/it]\u001b[A\n",
            "Epoch:   1%|▏         | 26/1785 [1:17:06<87:14:06, 178.54s/it]\n",
            "Batch:   0%|          | 0/10 [00:00<?, ?it/s]\u001b[A"
          ],
          "name": "stderr"
        },
        {
          "output_type": "stream",
          "text": [
            "Reinforce Loss : -0.001953125 Reinforce Max Reward : -2.129917621612549"
          ],
          "name": "stdout"
        },
        {
          "output_type": "stream",
          "text": [
            "\n",
            "Batch:  10%|█         | 1/10 [00:20<03:00, 20.10s/it]\u001b[A"
          ],
          "name": "stderr"
        },
        {
          "output_type": "stream",
          "text": [
            "Reinforce Loss : -0.0068359375 Reinforce Max Reward : -2.4316344261169434"
          ],
          "name": "stdout"
        },
        {
          "output_type": "stream",
          "text": [
            "\n",
            "Batch:  20%|██        | 2/10 [00:36<02:31, 18.89s/it]\u001b[A"
          ],
          "name": "stderr"
        },
        {
          "output_type": "stream",
          "text": [
            "Reinforce Loss : -0.001953125 Reinforce Max Reward : -2.317141532897949"
          ],
          "name": "stdout"
        },
        {
          "output_type": "stream",
          "text": [
            "\n",
            "Batch:  30%|███       | 3/10 [00:52<02:06, 18.04s/it]\u001b[A"
          ],
          "name": "stderr"
        },
        {
          "output_type": "stream",
          "text": [
            "Reinforce Loss : -0.001953125 Reinforce Max Reward : -2.4131245613098145"
          ],
          "name": "stdout"
        },
        {
          "output_type": "stream",
          "text": [
            "\n",
            "Batch:  40%|████      | 4/10 [01:08<01:44, 17.42s/it]\u001b[A"
          ],
          "name": "stderr"
        },
        {
          "output_type": "stream",
          "text": [
            "Reinforce Loss : -0.00390625 Reinforce Max Reward : -2.3985705375671387"
          ],
          "name": "stdout"
        },
        {
          "output_type": "stream",
          "text": [
            "\n",
            "Batch:  50%|█████     | 5/10 [01:23<01:24, 16.92s/it]\u001b[A"
          ],
          "name": "stderr"
        },
        {
          "output_type": "stream",
          "text": [
            "Reinforce Loss : -0.001953125 Reinforce Max Reward : -2.1230149269104004"
          ],
          "name": "stdout"
        },
        {
          "output_type": "stream",
          "text": [
            "\n",
            "Batch:  60%|██████    | 6/10 [01:39<01:06, 16.64s/it]\u001b[A"
          ],
          "name": "stderr"
        },
        {
          "output_type": "stream",
          "text": [
            "Reinforce Loss : 0.0 Reinforce Max Reward : -1.9292056560516357"
          ],
          "name": "stdout"
        },
        {
          "output_type": "stream",
          "text": [
            "\n",
            "Batch:  70%|███████   | 7/10 [01:55<00:49, 16.38s/it]\u001b[A"
          ],
          "name": "stderr"
        },
        {
          "output_type": "stream",
          "text": [
            "Reinforce Loss : 0.015625 Reinforce Max Reward : -2.4325380325317383"
          ],
          "name": "stdout"
        },
        {
          "output_type": "stream",
          "text": [
            "\n",
            "Batch:  80%|████████  | 8/10 [02:11<00:32, 16.21s/it]\u001b[A"
          ],
          "name": "stderr"
        },
        {
          "output_type": "stream",
          "text": [
            "Reinforce Loss : 0.0029296875 Reinforce Max Reward : -2.1737592220306396"
          ],
          "name": "stdout"
        },
        {
          "output_type": "stream",
          "text": [
            "\n",
            "Batch:  90%|█████████ | 9/10 [02:27<00:16, 16.07s/it]\u001b[A"
          ],
          "name": "stderr"
        },
        {
          "output_type": "stream",
          "text": [
            "Reinforce Loss : 0.00390625 Reinforce Max Reward : -2.3212451934814453"
          ],
          "name": "stdout"
        },
        {
          "output_type": "stream",
          "text": [
            "\n",
            "Batch: 100%|██████████| 10/10 [02:43<00:00, 15.99s/it]\u001b[A\n",
            "Epoch:   2%|▏         | 27/1785 [1:20:04<87:05:10, 178.33s/it]\n",
            "Batch:   0%|          | 0/10 [00:00<?, ?it/s]\u001b[A"
          ],
          "name": "stderr"
        },
        {
          "output_type": "stream",
          "text": [
            "Reinforce Loss : -0.01171875 Reinforce Max Reward : -2.4396116733551025"
          ],
          "name": "stdout"
        },
        {
          "output_type": "stream",
          "text": [
            "\n",
            "Batch:  10%|█         | 1/10 [00:20<03:07, 20.84s/it]\u001b[A"
          ],
          "name": "stderr"
        },
        {
          "output_type": "stream",
          "text": [
            "Reinforce Loss : -0.005859375 Reinforce Max Reward : -2.4248886108398438"
          ],
          "name": "stdout"
        },
        {
          "output_type": "stream",
          "text": [
            "\n",
            "Batch:  20%|██        | 2/10 [00:36<02:35, 19.39s/it]\u001b[A"
          ],
          "name": "stderr"
        },
        {
          "output_type": "stream",
          "text": [
            "Reinforce Loss : 0.0 Reinforce Max Reward : -1.8357840776443481"
          ],
          "name": "stdout"
        },
        {
          "output_type": "stream",
          "text": [
            "\n",
            "Batch:  30%|███       | 3/10 [00:52<02:08, 18.36s/it]\u001b[A"
          ],
          "name": "stderr"
        },
        {
          "output_type": "stream",
          "text": [
            "Reinforce Loss : 0.0078125 Reinforce Max Reward : -2.0878355503082275"
          ],
          "name": "stdout"
        },
        {
          "output_type": "stream",
          "text": [
            "\n",
            "Batch:  40%|████      | 4/10 [01:08<01:45, 17.63s/it]\u001b[A"
          ],
          "name": "stderr"
        },
        {
          "output_type": "stream",
          "text": [
            "Reinforce Loss : -0.001953125 Reinforce Max Reward : -2.408278465270996"
          ],
          "name": "stdout"
        },
        {
          "output_type": "stream",
          "text": [
            "\n",
            "Batch:  50%|█████     | 5/10 [01:24<01:25, 17.06s/it]\u001b[A"
          ],
          "name": "stderr"
        },
        {
          "output_type": "stream",
          "text": [
            "Reinforce Loss : 0.013671875 Reinforce Max Reward : -2.040398597717285"
          ],
          "name": "stdout"
        },
        {
          "output_type": "stream",
          "text": [
            "\n",
            "Batch:  60%|██████    | 6/10 [01:40<01:06, 16.71s/it]\u001b[A"
          ],
          "name": "stderr"
        },
        {
          "output_type": "stream",
          "text": [
            "Reinforce Loss : -0.0009765625 Reinforce Max Reward : -2.1542515754699707"
          ],
          "name": "stdout"
        },
        {
          "output_type": "stream",
          "text": [
            "\n",
            "Batch:  70%|███████   | 7/10 [01:56<00:49, 16.45s/it]\u001b[A"
          ],
          "name": "stderr"
        },
        {
          "output_type": "stream",
          "text": [
            "Reinforce Loss : -0.001953125 Reinforce Max Reward : -2.4365017414093018"
          ],
          "name": "stdout"
        },
        {
          "output_type": "stream",
          "text": [
            "\n",
            "Batch:  80%|████████  | 8/10 [02:12<00:32, 16.27s/it]\u001b[A"
          ],
          "name": "stderr"
        },
        {
          "output_type": "stream",
          "text": [
            "Reinforce Loss : 0.0009765625 Reinforce Max Reward : -2.4305708408355713"
          ],
          "name": "stdout"
        },
        {
          "output_type": "stream",
          "text": [
            "\n",
            "Batch:  90%|█████████ | 9/10 [02:27<00:16, 16.06s/it]\u001b[A"
          ],
          "name": "stderr"
        },
        {
          "output_type": "stream",
          "text": [
            "Reinforce Loss : 0.015625 Reinforce Max Reward : -2.4261627197265625"
          ],
          "name": "stdout"
        },
        {
          "output_type": "stream",
          "text": [
            "\n",
            "Batch: 100%|██████████| 10/10 [02:43<00:00, 16.00s/it]\u001b[A\n",
            "Epoch:   2%|▏         | 28/1785 [1:23:03<87:08:16, 178.54s/it]\n",
            "Batch:   0%|          | 0/10 [00:00<?, ?it/s]\u001b[A"
          ],
          "name": "stderr"
        },
        {
          "output_type": "stream",
          "text": [
            "Reinforce Loss : 0.1171875 Reinforce Max Reward : -2.423874855041504"
          ],
          "name": "stdout"
        },
        {
          "output_type": "stream",
          "text": [
            "\n",
            "Batch:  10%|█         | 1/10 [00:20<03:04, 20.48s/it]\u001b[A"
          ],
          "name": "stderr"
        },
        {
          "output_type": "stream",
          "text": [
            "Reinforce Loss : 0.005859375 Reinforce Max Reward : -2.4191794395446777"
          ],
          "name": "stdout"
        },
        {
          "output_type": "stream",
          "text": [
            "\n",
            "Batch:  20%|██        | 2/10 [00:36<02:32, 19.03s/it]\u001b[A"
          ],
          "name": "stderr"
        },
        {
          "output_type": "stream",
          "text": [
            "Reinforce Loss : -0.0078125 Reinforce Max Reward : -1.6940851211547852"
          ],
          "name": "stdout"
        },
        {
          "output_type": "stream",
          "text": [
            "\n",
            "Batch:  30%|███       | 3/10 [00:52<02:06, 18.09s/it]\u001b[A"
          ],
          "name": "stderr"
        },
        {
          "output_type": "stream",
          "text": [
            "Reinforce Loss : -0.005859375 Reinforce Max Reward : -2.2011871337890625"
          ],
          "name": "stdout"
        },
        {
          "output_type": "stream",
          "text": [
            "\n",
            "Batch:  40%|████      | 4/10 [01:07<01:44, 17.45s/it]\u001b[A"
          ],
          "name": "stderr"
        },
        {
          "output_type": "stream",
          "text": [
            "Reinforce Loss : 0.0 Reinforce Max Reward : -2.4197912216186523"
          ],
          "name": "stdout"
        },
        {
          "output_type": "stream",
          "text": [
            "\n",
            "Batch:  50%|█████     | 5/10 [01:23<01:24, 16.99s/it]\u001b[A"
          ],
          "name": "stderr"
        },
        {
          "output_type": "stream",
          "text": [
            "Reinforce Loss : -0.009765625 Reinforce Max Reward : -2.4038734436035156"
          ],
          "name": "stdout"
        },
        {
          "output_type": "stream",
          "text": [
            "\n",
            "Batch:  60%|██████    | 6/10 [01:39<01:06, 16.63s/it]\u001b[A"
          ],
          "name": "stderr"
        },
        {
          "output_type": "stream",
          "text": [
            "Reinforce Loss : 0.001953125 Reinforce Max Reward : -2.146327018737793"
          ],
          "name": "stdout"
        },
        {
          "output_type": "stream",
          "text": [
            "\n",
            "Batch:  70%|███████   | 7/10 [01:55<00:49, 16.35s/it]\u001b[A"
          ],
          "name": "stderr"
        },
        {
          "output_type": "stream",
          "text": [
            "Reinforce Loss : 0.0 Reinforce Max Reward : -2.3343615531921387"
          ],
          "name": "stdout"
        },
        {
          "output_type": "stream",
          "text": [
            "\n",
            "Batch:  80%|████████  | 8/10 [02:11<00:32, 16.15s/it]\u001b[A"
          ],
          "name": "stderr"
        },
        {
          "output_type": "stream",
          "text": [
            "Reinforce Loss : -0.005859375 Reinforce Max Reward : -1.9136197566986084"
          ],
          "name": "stdout"
        },
        {
          "output_type": "stream",
          "text": [
            "\n",
            "Batch:  90%|█████████ | 9/10 [02:26<00:16, 16.02s/it]\u001b[A"
          ],
          "name": "stderr"
        },
        {
          "output_type": "stream",
          "text": [
            "Reinforce Loss : 0.005859375 Reinforce Max Reward : -2.431185007095337"
          ],
          "name": "stdout"
        },
        {
          "output_type": "stream",
          "text": [
            "\n",
            "Batch: 100%|██████████| 10/10 [02:42<00:00, 15.96s/it]\u001b[A\n",
            "Epoch:   2%|▏         | 29/1785 [1:25:58<86:39:56, 177.67s/it]\n",
            "Batch:   0%|          | 0/10 [00:00<?, ?it/s]\u001b[A"
          ],
          "name": "stderr"
        },
        {
          "output_type": "stream",
          "text": [
            "Reinforce Loss : -0.0078125 Reinforce Max Reward : -2.432162046432495"
          ],
          "name": "stdout"
        },
        {
          "output_type": "stream",
          "text": [
            "\n",
            "Batch:  10%|█         | 1/10 [00:23<03:28, 23.20s/it]\u001b[A"
          ],
          "name": "stderr"
        },
        {
          "output_type": "stream",
          "text": [
            "Reinforce Loss : 0.00390625 Reinforce Max Reward : -2.42880916595459"
          ],
          "name": "stdout"
        },
        {
          "output_type": "stream",
          "text": [
            "\n",
            "Batch:  20%|██        | 2/10 [00:38<02:47, 20.92s/it]\u001b[A"
          ],
          "name": "stderr"
        },
        {
          "output_type": "stream",
          "text": [
            "Reinforce Loss : -0.01171875 Reinforce Max Reward : -2.3019039630889893"
          ],
          "name": "stdout"
        },
        {
          "output_type": "stream",
          "text": [
            "\n",
            "Batch:  30%|███       | 3/10 [00:54<02:15, 19.37s/it]\u001b[A"
          ],
          "name": "stderr"
        },
        {
          "output_type": "stream",
          "text": [
            "Reinforce Loss : -0.0078125 Reinforce Max Reward : -2.4394679069519043"
          ],
          "name": "stdout"
        },
        {
          "output_type": "stream",
          "text": [
            "\n",
            "Batch:  40%|████      | 4/10 [01:10<01:49, 18.30s/it]\u001b[A"
          ],
          "name": "stderr"
        },
        {
          "output_type": "stream",
          "text": [
            "Reinforce Loss : 0.00390625 Reinforce Max Reward : -2.430375099182129"
          ],
          "name": "stdout"
        },
        {
          "output_type": "stream",
          "text": [
            "\n",
            "Batch:  50%|█████     | 5/10 [01:26<01:27, 17.55s/it]\u001b[A"
          ],
          "name": "stderr"
        },
        {
          "output_type": "stream",
          "text": [
            "Reinforce Loss : 0.0009765625 Reinforce Max Reward : -1.5912892818450928"
          ],
          "name": "stdout"
        },
        {
          "output_type": "stream",
          "text": [
            "\n",
            "Batch:  60%|██████    | 6/10 [01:41<01:08, 17.01s/it]\u001b[A"
          ],
          "name": "stderr"
        },
        {
          "output_type": "stream",
          "text": [
            "Reinforce Loss : -0.00390625 Reinforce Max Reward : -2.3473987579345703"
          ],
          "name": "stdout"
        },
        {
          "output_type": "stream",
          "text": [
            "\n",
            "Batch:  70%|███████   | 7/10 [01:57<00:49, 16.55s/it]\u001b[A"
          ],
          "name": "stderr"
        },
        {
          "output_type": "stream",
          "text": [
            "Reinforce Loss : 0.0107421875 Reinforce Max Reward : -2.4256656169891357"
          ],
          "name": "stdout"
        },
        {
          "output_type": "stream",
          "text": [
            "\n",
            "Batch:  80%|████████  | 8/10 [02:13<00:32, 16.33s/it]\u001b[A"
          ],
          "name": "stderr"
        },
        {
          "output_type": "stream",
          "text": [
            "Reinforce Loss : 0.005859375 Reinforce Max Reward : -2.430696487426758"
          ],
          "name": "stdout"
        },
        {
          "output_type": "stream",
          "text": [
            "\n",
            "Batch:  90%|█████████ | 9/10 [02:28<00:16, 16.15s/it]\u001b[A"
          ],
          "name": "stderr"
        },
        {
          "output_type": "stream",
          "text": [
            "Reinforce Loss : -0.001953125 Reinforce Max Reward : -2.23854923248291"
          ],
          "name": "stdout"
        },
        {
          "output_type": "stream",
          "text": [
            "\n",
            "Batch: 100%|██████████| 10/10 [02:44<00:00, 16.01s/it]\u001b[A\n",
            "Epoch:   2%|▏         | 30/1785 [1:28:57<86:43:46, 177.91s/it]\n",
            "Batch:   0%|          | 0/10 [00:00<?, ?it/s]\u001b[A"
          ],
          "name": "stderr"
        },
        {
          "output_type": "stream",
          "text": [
            "Reinforce Loss : 0.00390625 Reinforce Max Reward : -2.2512078285217285"
          ],
          "name": "stdout"
        },
        {
          "output_type": "stream",
          "text": [
            "\n",
            "Batch:  10%|█         | 1/10 [00:22<03:19, 22.21s/it]\u001b[A"
          ],
          "name": "stderr"
        },
        {
          "output_type": "stream",
          "text": [
            "Reinforce Loss : -0.001953125 Reinforce Max Reward : -2.396315813064575"
          ],
          "name": "stdout"
        },
        {
          "output_type": "stream",
          "text": [
            "\n",
            "Batch:  20%|██        | 2/10 [00:37<02:41, 20.22s/it]\u001b[A"
          ],
          "name": "stderr"
        },
        {
          "output_type": "stream",
          "text": [
            "Reinforce Loss : -0.00390625 Reinforce Max Reward : -2.3114635944366455"
          ],
          "name": "stdout"
        },
        {
          "output_type": "stream",
          "text": [
            "\n",
            "Batch:  30%|███       | 3/10 [00:53<02:12, 18.90s/it]\u001b[A"
          ],
          "name": "stderr"
        },
        {
          "output_type": "stream",
          "text": [
            "Reinforce Loss : 0.0 Reinforce Max Reward : -2.4105286598205566"
          ],
          "name": "stdout"
        },
        {
          "output_type": "stream",
          "text": [
            "\n",
            "Batch:  40%|████      | 4/10 [01:09<01:47, 17.98s/it]\u001b[A"
          ],
          "name": "stderr"
        },
        {
          "output_type": "stream",
          "text": [
            "Reinforce Loss : 0.0078125 Reinforce Max Reward : -2.4157583713531494"
          ],
          "name": "stdout"
        },
        {
          "output_type": "stream",
          "text": [
            "\n",
            "Batch:  50%|█████     | 5/10 [01:25<01:26, 17.32s/it]\u001b[A"
          ],
          "name": "stderr"
        },
        {
          "output_type": "stream",
          "text": [
            "Reinforce Loss : -0.0078125 Reinforce Max Reward : -2.343968391418457"
          ],
          "name": "stdout"
        },
        {
          "output_type": "stream",
          "text": [
            "\n",
            "Batch:  60%|██████    | 6/10 [01:40<01:07, 16.77s/it]\u001b[A"
          ],
          "name": "stderr"
        },
        {
          "output_type": "stream",
          "text": [
            "Reinforce Loss : 0.005859375 Reinforce Max Reward : -2.079936981201172"
          ],
          "name": "stdout"
        },
        {
          "output_type": "stream",
          "text": [
            "\n",
            "Batch:  70%|███████   | 7/10 [01:56<00:49, 16.45s/it]\u001b[A"
          ],
          "name": "stderr"
        },
        {
          "output_type": "stream",
          "text": [
            "Reinforce Loss : -0.0009765625 Reinforce Max Reward : -2.432197332382202"
          ],
          "name": "stdout"
        },
        {
          "output_type": "stream",
          "text": [
            "\n",
            "Batch:  80%|████████  | 8/10 [02:12<00:32, 16.26s/it]\u001b[A"
          ],
          "name": "stderr"
        },
        {
          "output_type": "stream",
          "text": [
            "Reinforce Loss : 0.009765625 Reinforce Max Reward : -2.4347381591796875"
          ],
          "name": "stdout"
        },
        {
          "output_type": "stream",
          "text": [
            "\n",
            "Batch:  90%|█████████ | 9/10 [02:28<00:16, 16.22s/it]\u001b[A"
          ],
          "name": "stderr"
        },
        {
          "output_type": "stream",
          "text": [
            "Reinforce Loss : 0.00390625 Reinforce Max Reward : -2.3793234825134277"
          ],
          "name": "stdout"
        },
        {
          "output_type": "stream",
          "text": [
            "\n",
            "Batch: 100%|██████████| 10/10 [02:44<00:00, 16.09s/it]\u001b[A\n",
            "Epoch:   2%|▏         | 31/1785 [1:31:55<86:45:10, 178.06s/it]\n",
            "Batch:   0%|          | 0/10 [00:00<?, ?it/s]\u001b[A"
          ],
          "name": "stderr"
        },
        {
          "output_type": "stream",
          "text": [
            "Reinforce Loss : 0.009765625 Reinforce Max Reward : -2.202437400817871"
          ],
          "name": "stdout"
        },
        {
          "output_type": "stream",
          "text": [
            "\n",
            "Batch:  10%|█         | 1/10 [00:22<03:18, 22.03s/it]\u001b[A"
          ],
          "name": "stderr"
        },
        {
          "output_type": "stream",
          "text": [
            "Reinforce Loss : -0.005859375 Reinforce Max Reward : -2.398516893386841"
          ],
          "name": "stdout"
        },
        {
          "output_type": "stream",
          "text": [
            "\n",
            "Batch:  20%|██        | 2/10 [00:37<02:40, 20.08s/it]\u001b[A"
          ],
          "name": "stderr"
        },
        {
          "output_type": "stream",
          "text": [
            "Reinforce Loss : 0.0029296875 Reinforce Max Reward : -2.184218645095825"
          ],
          "name": "stdout"
        },
        {
          "output_type": "stream",
          "text": [
            "\n",
            "Batch:  30%|███       | 3/10 [00:53<02:11, 18.78s/it]\u001b[A"
          ],
          "name": "stderr"
        },
        {
          "output_type": "stream",
          "text": [
            "Reinforce Loss : 0.021484375 Reinforce Max Reward : -2.441462755203247"
          ],
          "name": "stdout"
        },
        {
          "output_type": "stream",
          "text": [
            "\n",
            "Batch:  40%|████      | 4/10 [01:08<01:46, 17.83s/it]\u001b[A"
          ],
          "name": "stderr"
        },
        {
          "output_type": "stream",
          "text": [
            "Reinforce Loss : -0.009765625 Reinforce Max Reward : -1.5567702054977417"
          ],
          "name": "stdout"
        },
        {
          "output_type": "stream",
          "text": [
            "\n",
            "Batch:  50%|█████     | 5/10 [01:24<01:25, 17.20s/it]\u001b[A"
          ],
          "name": "stderr"
        },
        {
          "output_type": "stream",
          "text": [
            "Reinforce Loss : -0.005859375 Reinforce Max Reward : -2.443286657333374"
          ],
          "name": "stdout"
        },
        {
          "output_type": "stream",
          "text": [
            "\n",
            "Batch:  60%|██████    | 6/10 [01:40<01:06, 16.72s/it]\u001b[A"
          ],
          "name": "stderr"
        },
        {
          "output_type": "stream",
          "text": [
            "Reinforce Loss : 0.025390625 Reinforce Max Reward : -2.4357786178588867"
          ],
          "name": "stdout"
        },
        {
          "output_type": "stream",
          "text": [
            "\n",
            "Batch:  70%|███████   | 7/10 [01:55<00:49, 16.42s/it]\u001b[A"
          ],
          "name": "stderr"
        },
        {
          "output_type": "stream",
          "text": [
            "Reinforce Loss : -0.009765625 Reinforce Max Reward : -1.5830695629119873"
          ],
          "name": "stdout"
        },
        {
          "output_type": "stream",
          "text": [
            "\n",
            "Batch:  80%|████████  | 8/10 [02:11<00:32, 16.26s/it]\u001b[A"
          ],
          "name": "stderr"
        },
        {
          "output_type": "stream",
          "text": [
            "Reinforce Loss : -0.001953125 Reinforce Max Reward : -2.2363805770874023"
          ],
          "name": "stdout"
        },
        {
          "output_type": "stream",
          "text": [
            "\n",
            "Batch:  90%|█████████ | 9/10 [02:27<00:16, 16.16s/it]\u001b[A"
          ],
          "name": "stderr"
        },
        {
          "output_type": "stream",
          "text": [
            "Reinforce Loss : -0.001953125 Reinforce Max Reward : -2.048304796218872"
          ],
          "name": "stdout"
        },
        {
          "output_type": "stream",
          "text": [
            "\n",
            "Batch: 100%|██████████| 10/10 [02:43<00:00, 15.99s/it]\u001b[A\n",
            "Epoch:   2%|▏         | 32/1785 [1:36:02<96:41:37, 198.57s/it]\n",
            "Batch:   0%|          | 0/10 [00:00<?, ?it/s]\u001b[A"
          ],
          "name": "stderr"
        },
        {
          "output_type": "stream",
          "text": [
            "Reinforce Loss : 0.005859375 Reinforce Max Reward : -2.4012882709503174"
          ],
          "name": "stdout"
        },
        {
          "output_type": "stream",
          "text": [
            "\n",
            "Batch:  10%|█         | 1/10 [00:19<02:52, 19.21s/it]\u001b[A"
          ],
          "name": "stderr"
        },
        {
          "output_type": "stream",
          "text": [
            "Reinforce Loss : -0.0009765625 Reinforce Max Reward : -2.41839599609375"
          ],
          "name": "stdout"
        },
        {
          "output_type": "stream",
          "text": [
            "\n",
            "Batch:  20%|██        | 2/10 [00:35<02:25, 18.20s/it]\u001b[A"
          ],
          "name": "stderr"
        },
        {
          "output_type": "stream",
          "text": [
            "Reinforce Loss : -0.001953125 Reinforce Max Reward : -2.206540584564209"
          ],
          "name": "stdout"
        },
        {
          "output_type": "stream",
          "text": [
            "\n",
            "Batch:  30%|███       | 3/10 [00:50<02:02, 17.46s/it]\u001b[A"
          ],
          "name": "stderr"
        },
        {
          "output_type": "stream",
          "text": [
            "Reinforce Loss : 0.001953125 Reinforce Max Reward : -2.277005910873413"
          ],
          "name": "stdout"
        },
        {
          "output_type": "stream",
          "text": [
            "\n",
            "Batch:  40%|████      | 4/10 [01:06<01:41, 16.90s/it]\u001b[A"
          ],
          "name": "stderr"
        },
        {
          "output_type": "stream",
          "text": [
            "Reinforce Loss : 0.00390625 Reinforce Max Reward : -2.4302291870117188"
          ],
          "name": "stdout"
        },
        {
          "output_type": "stream",
          "text": [
            "\n",
            "Batch:  50%|█████     | 5/10 [01:22<01:22, 16.58s/it]\u001b[A"
          ],
          "name": "stderr"
        },
        {
          "output_type": "stream",
          "text": [
            "Reinforce Loss : -0.01171875 Reinforce Max Reward : -1.9633291959762573"
          ],
          "name": "stdout"
        },
        {
          "output_type": "stream",
          "text": [
            "\n",
            "Batch:  60%|██████    | 6/10 [01:37<01:05, 16.27s/it]\u001b[A"
          ],
          "name": "stderr"
        },
        {
          "output_type": "stream",
          "text": [
            "Reinforce Loss : 0.013671875 Reinforce Max Reward : -2.4126930236816406"
          ],
          "name": "stdout"
        },
        {
          "output_type": "stream",
          "text": [
            "\n",
            "Batch:  70%|███████   | 7/10 [01:53<00:48, 16.09s/it]\u001b[A"
          ],
          "name": "stderr"
        },
        {
          "output_type": "stream",
          "text": [
            "Reinforce Loss : 0.0068359375 Reinforce Max Reward : -2.4459176063537598"
          ],
          "name": "stdout"
        },
        {
          "output_type": "stream",
          "text": [
            "\n",
            "Batch:  80%|████████  | 8/10 [02:09<00:31, 16.00s/it]\u001b[A"
          ],
          "name": "stderr"
        },
        {
          "output_type": "stream",
          "text": [
            "Reinforce Loss : -0.01171875 Reinforce Max Reward : -2.42751407623291"
          ],
          "name": "stdout"
        },
        {
          "output_type": "stream",
          "text": [
            "\n",
            "Batch:  90%|█████████ | 9/10 [02:25<00:15, 15.97s/it]\u001b[A"
          ],
          "name": "stderr"
        },
        {
          "output_type": "stream",
          "text": [
            "Reinforce Loss : 0.00390625 Reinforce Max Reward : -2.406397581100464"
          ],
          "name": "stdout"
        },
        {
          "output_type": "stream",
          "text": [
            "\n",
            "Batch: 100%|██████████| 10/10 [02:40<00:00, 15.90s/it]\u001b[A\n",
            "Epoch:   2%|▏         | 33/1785 [1:38:58<93:27:49, 192.05s/it]\n",
            "Batch:   0%|          | 0/10 [00:00<?, ?it/s]\u001b[A"
          ],
          "name": "stderr"
        },
        {
          "output_type": "stream",
          "text": [
            "Reinforce Loss : -0.01171875 Reinforce Max Reward : -2.427820920944214"
          ],
          "name": "stdout"
        },
        {
          "output_type": "stream",
          "text": [
            "\n",
            "Batch:  10%|█         | 1/10 [00:19<02:59, 19.96s/it]\u001b[A"
          ],
          "name": "stderr"
        },
        {
          "output_type": "stream",
          "text": [
            "Reinforce Loss : -0.0078125 Reinforce Max Reward : -2.4056472778320312"
          ],
          "name": "stdout"
        },
        {
          "output_type": "stream",
          "text": [
            "\n",
            "Batch:  20%|██        | 2/10 [00:35<02:29, 18.72s/it]\u001b[A"
          ],
          "name": "stderr"
        },
        {
          "output_type": "stream",
          "text": [
            "Reinforce Loss : 0.005859375 Reinforce Max Reward : -2.422118902206421"
          ],
          "name": "stdout"
        },
        {
          "output_type": "stream",
          "text": [
            "\n",
            "Batch:  30%|███       | 3/10 [00:51<02:04, 17.83s/it]\u001b[A"
          ],
          "name": "stderr"
        },
        {
          "output_type": "stream",
          "text": [
            "Reinforce Loss : 0.0087890625 Reinforce Max Reward : -2.4075589179992676"
          ],
          "name": "stdout"
        },
        {
          "output_type": "stream",
          "text": [
            "\n",
            "Batch:  40%|████      | 4/10 [01:07<01:43, 17.18s/it]\u001b[A"
          ],
          "name": "stderr"
        },
        {
          "output_type": "stream",
          "text": [
            "Reinforce Loss : -0.0048828125 Reinforce Max Reward : -2.420107364654541"
          ],
          "name": "stdout"
        },
        {
          "output_type": "stream",
          "text": [
            "\n",
            "Batch:  50%|█████     | 5/10 [01:23<01:23, 16.77s/it]\u001b[A"
          ],
          "name": "stderr"
        },
        {
          "output_type": "stream",
          "text": [
            "Reinforce Loss : 0.001953125 Reinforce Max Reward : -2.1878814697265625"
          ],
          "name": "stdout"
        },
        {
          "output_type": "stream",
          "text": [
            "\n",
            "Batch:  60%|██████    | 6/10 [01:38<01:05, 16.40s/it]\u001b[A"
          ],
          "name": "stderr"
        },
        {
          "output_type": "stream",
          "text": [
            "Reinforce Loss : -0.001953125 Reinforce Max Reward : -2.3945159912109375"
          ],
          "name": "stdout"
        },
        {
          "output_type": "stream",
          "text": [
            "\n",
            "Batch:  70%|███████   | 7/10 [01:54<00:48, 16.23s/it]\u001b[A"
          ],
          "name": "stderr"
        },
        {
          "output_type": "stream",
          "text": [
            "Reinforce Loss : -0.0009765625 Reinforce Max Reward : -2.344029426574707"
          ],
          "name": "stdout"
        },
        {
          "output_type": "stream",
          "text": [
            "\n",
            "Batch:  80%|████████  | 8/10 [02:09<00:32, 16.04s/it]\u001b[A"
          ],
          "name": "stderr"
        },
        {
          "output_type": "stream",
          "text": [
            "Reinforce Loss : 0.01171875 Reinforce Max Reward : -2.4237172603607178"
          ],
          "name": "stdout"
        },
        {
          "output_type": "stream",
          "text": [
            "\n",
            "Batch:  90%|█████████ | 9/10 [02:25<00:15, 15.98s/it]\u001b[A"
          ],
          "name": "stderr"
        },
        {
          "output_type": "stream",
          "text": [
            "Reinforce Loss : -0.0029296875 Reinforce Max Reward : -2.3737831115722656"
          ],
          "name": "stdout"
        },
        {
          "output_type": "stream",
          "text": [
            "\n",
            "Batch: 100%|██████████| 10/10 [02:41<00:00, 15.95s/it]\u001b[A\n",
            "Epoch:   2%|▏         | 34/1785 [1:41:55<91:10:43, 187.46s/it]\n",
            "Batch:   0%|          | 0/10 [00:00<?, ?it/s]\u001b[A"
          ],
          "name": "stderr"
        },
        {
          "output_type": "stream",
          "text": [
            "Reinforce Loss : 0.01953125 Reinforce Max Reward : -2.3485238552093506"
          ],
          "name": "stdout"
        },
        {
          "output_type": "stream",
          "text": [
            "\n",
            "Batch:  10%|█         | 1/10 [00:21<03:09, 21.03s/it]\u001b[A"
          ],
          "name": "stderr"
        },
        {
          "output_type": "stream",
          "text": [
            "Reinforce Loss : 0.0 Reinforce Max Reward : -2.338062286376953"
          ],
          "name": "stdout"
        },
        {
          "output_type": "stream",
          "text": [
            "\n",
            "Batch:  20%|██        | 2/10 [00:36<02:35, 19.43s/it]\u001b[A"
          ],
          "name": "stderr"
        },
        {
          "output_type": "stream",
          "text": [
            "Reinforce Loss : -0.005859375 Reinforce Max Reward : -2.442925453186035"
          ],
          "name": "stdout"
        },
        {
          "output_type": "stream",
          "text": [
            "\n",
            "Batch:  30%|███       | 3/10 [00:52<02:08, 18.29s/it]\u001b[A"
          ],
          "name": "stderr"
        },
        {
          "output_type": "stream",
          "text": [
            "Reinforce Loss : 0.001953125 Reinforce Max Reward : -2.426243782043457"
          ],
          "name": "stdout"
        },
        {
          "output_type": "stream",
          "text": [
            "\n",
            "Batch:  40%|████      | 4/10 [01:07<01:44, 17.49s/it]\u001b[A"
          ],
          "name": "stderr"
        },
        {
          "output_type": "stream",
          "text": [
            "Reinforce Loss : 0.017578125 Reinforce Max Reward : -2.4318952560424805"
          ],
          "name": "stdout"
        },
        {
          "output_type": "stream",
          "text": [
            "\n",
            "Batch:  50%|█████     | 5/10 [01:23<01:24, 16.97s/it]\u001b[A"
          ],
          "name": "stderr"
        },
        {
          "output_type": "stream",
          "text": [
            "Reinforce Loss : 0.0009765625 Reinforce Max Reward : -2.0830955505371094"
          ],
          "name": "stdout"
        },
        {
          "output_type": "stream",
          "text": [
            "\n",
            "Batch:  60%|██████    | 6/10 [01:39<01:06, 16.55s/it]\u001b[A"
          ],
          "name": "stderr"
        },
        {
          "output_type": "stream",
          "text": [
            "Reinforce Loss : -0.001953125 Reinforce Max Reward : -2.194013833999634"
          ],
          "name": "stdout"
        },
        {
          "output_type": "stream",
          "text": [
            "\n",
            "Batch:  70%|███████   | 7/10 [01:55<00:48, 16.31s/it]\u001b[A"
          ],
          "name": "stderr"
        },
        {
          "output_type": "stream",
          "text": [
            "Reinforce Loss : 0.0068359375 Reinforce Max Reward : -2.4225516319274902"
          ],
          "name": "stdout"
        },
        {
          "output_type": "stream",
          "text": [
            "\n",
            "Batch:  80%|████████  | 8/10 [02:10<00:32, 16.12s/it]\u001b[A"
          ],
          "name": "stderr"
        },
        {
          "output_type": "stream",
          "text": [
            "Reinforce Loss : -0.00390625 Reinforce Max Reward : -2.4122507572174072"
          ],
          "name": "stdout"
        },
        {
          "output_type": "stream",
          "text": [
            "\n",
            "Batch:  90%|█████████ | 9/10 [02:26<00:16, 16.05s/it]\u001b[A"
          ],
          "name": "stderr"
        },
        {
          "output_type": "stream",
          "text": [
            "Reinforce Loss : -0.001953125 Reinforce Max Reward : -2.200794219970703"
          ],
          "name": "stdout"
        },
        {
          "output_type": "stream",
          "text": [
            "\n",
            "Batch: 100%|██████████| 10/10 [02:42<00:00, 15.88s/it]\u001b[A\n",
            "Epoch:   2%|▏         | 35/1785 [1:44:53<89:40:04, 184.46s/it]\n",
            "Batch:   0%|          | 0/10 [00:00<?, ?it/s]\u001b[A"
          ],
          "name": "stderr"
        },
        {
          "output_type": "stream",
          "text": [
            "Reinforce Loss : 0.013671875 Reinforce Max Reward : -2.4316229820251465"
          ],
          "name": "stdout"
        },
        {
          "output_type": "stream",
          "text": [
            "\n",
            "Batch:  10%|█         | 1/10 [00:20<03:08, 20.97s/it]\u001b[A"
          ],
          "name": "stderr"
        },
        {
          "output_type": "stream",
          "text": [
            "Reinforce Loss : 0.001953125 Reinforce Max Reward : -2.355431318283081"
          ],
          "name": "stdout"
        },
        {
          "output_type": "stream",
          "text": [
            "\n",
            "Batch:  20%|██        | 2/10 [00:36<02:34, 19.37s/it]\u001b[A"
          ],
          "name": "stderr"
        },
        {
          "output_type": "stream",
          "text": [
            "Reinforce Loss : 0.00390625 Reinforce Max Reward : -2.407207489013672"
          ],
          "name": "stdout"
        },
        {
          "output_type": "stream",
          "text": [
            "\n",
            "Batch:  30%|███       | 3/10 [00:52<02:08, 18.29s/it]\u001b[A"
          ],
          "name": "stderr"
        },
        {
          "output_type": "stream",
          "text": [
            "Reinforce Loss : -0.00390625 Reinforce Max Reward : -2.396725654602051"
          ],
          "name": "stdout"
        },
        {
          "output_type": "stream",
          "text": [
            "\n",
            "Batch:  40%|████      | 4/10 [01:08<01:45, 17.53s/it]\u001b[A"
          ],
          "name": "stderr"
        },
        {
          "output_type": "stream",
          "text": [
            "Reinforce Loss : -0.0078125 Reinforce Max Reward : -2.423917055130005"
          ],
          "name": "stdout"
        },
        {
          "output_type": "stream",
          "text": [
            "\n",
            "Batch:  50%|█████     | 5/10 [01:23<01:25, 17.01s/it]\u001b[A"
          ],
          "name": "stderr"
        },
        {
          "output_type": "stream",
          "text": [
            "Reinforce Loss : -0.0078125 Reinforce Max Reward : -1.9662597179412842"
          ],
          "name": "stdout"
        },
        {
          "output_type": "stream",
          "text": [
            "\n",
            "Batch:  60%|██████    | 6/10 [01:39<01:06, 16.58s/it]\u001b[A"
          ],
          "name": "stderr"
        },
        {
          "output_type": "stream",
          "text": [
            "Reinforce Loss : 0.0087890625 Reinforce Max Reward : -2.430138111114502"
          ],
          "name": "stdout"
        },
        {
          "output_type": "stream",
          "text": [
            "\n",
            "Batch:  70%|███████   | 7/10 [01:55<00:49, 16.38s/it]\u001b[A"
          ],
          "name": "stderr"
        },
        {
          "output_type": "stream",
          "text": [
            "Reinforce Loss : 0.001953125 Reinforce Max Reward : -2.3989148139953613"
          ],
          "name": "stdout"
        },
        {
          "output_type": "stream",
          "text": [
            "\n",
            "Batch:  80%|████████  | 8/10 [02:11<00:32, 16.17s/it]\u001b[A"
          ],
          "name": "stderr"
        },
        {
          "output_type": "stream",
          "text": [
            "Reinforce Loss : -0.0146484375 Reinforce Max Reward : -2.4080357551574707"
          ],
          "name": "stdout"
        },
        {
          "output_type": "stream",
          "text": [
            "\n",
            "Batch:  90%|█████████ | 9/10 [02:26<00:16, 16.04s/it]\u001b[A"
          ],
          "name": "stderr"
        },
        {
          "output_type": "stream",
          "text": [
            "Reinforce Loss : -0.0009765625 Reinforce Max Reward : -2.4237639904022217"
          ],
          "name": "stdout"
        },
        {
          "output_type": "stream",
          "text": [
            "\n",
            "Batch: 100%|██████████| 10/10 [02:42<00:00, 15.91s/it]\u001b[A\n",
            "Epoch:   2%|▏         | 36/1785 [1:47:49<88:29:56, 182.16s/it]\n",
            "Batch:   0%|          | 0/10 [00:00<?, ?it/s]\u001b[A"
          ],
          "name": "stderr"
        },
        {
          "output_type": "stream",
          "text": [
            "Reinforce Loss : -0.01171875 Reinforce Max Reward : -2.251211643218994"
          ],
          "name": "stdout"
        },
        {
          "output_type": "stream",
          "text": [
            "\n",
            "Batch:  10%|█         | 1/10 [00:22<03:19, 22.15s/it]\u001b[A"
          ],
          "name": "stderr"
        },
        {
          "output_type": "stream",
          "text": [
            "Reinforce Loss : 0.0087890625 Reinforce Max Reward : -2.409156560897827"
          ],
          "name": "stdout"
        },
        {
          "output_type": "stream",
          "text": [
            "\n",
            "Batch:  20%|██        | 2/10 [00:38<02:42, 20.27s/it]\u001b[A"
          ],
          "name": "stderr"
        },
        {
          "output_type": "stream",
          "text": [
            "Reinforce Loss : -0.013671875 Reinforce Max Reward : -2.193246364593506"
          ],
          "name": "stdout"
        },
        {
          "output_type": "stream",
          "text": [
            "\n",
            "Batch:  30%|███       | 3/10 [00:53<02:12, 18.91s/it]\u001b[A"
          ],
          "name": "stderr"
        },
        {
          "output_type": "stream",
          "text": [
            "Reinforce Loss : 0.0048828125 Reinforce Max Reward : -2.3183789253234863"
          ],
          "name": "stdout"
        },
        {
          "output_type": "stream",
          "text": [
            "\n",
            "Batch:  40%|████      | 4/10 [01:09<01:47, 17.94s/it]\u001b[A"
          ],
          "name": "stderr"
        },
        {
          "output_type": "stream",
          "text": [
            "Reinforce Loss : 0.001953125 Reinforce Max Reward : -2.4279205799102783"
          ],
          "name": "stdout"
        },
        {
          "output_type": "stream",
          "text": [
            "\n",
            "Batch:  50%|█████     | 5/10 [01:25<01:26, 17.32s/it]\u001b[A"
          ],
          "name": "stderr"
        },
        {
          "output_type": "stream",
          "text": [
            "Reinforce Loss : -0.009765625 Reinforce Max Reward : -2.3711211681365967"
          ],
          "name": "stdout"
        },
        {
          "output_type": "stream",
          "text": [
            "\n",
            "Batch:  60%|██████    | 6/10 [01:40<01:07, 16.80s/it]\u001b[A"
          ],
          "name": "stderr"
        },
        {
          "output_type": "stream",
          "text": [
            "Reinforce Loss : -0.0009765625 Reinforce Max Reward : -2.4367849826812744"
          ],
          "name": "stdout"
        },
        {
          "output_type": "stream",
          "text": [
            "\n",
            "Batch:  70%|███████   | 7/10 [01:56<00:49, 16.49s/it]\u001b[A"
          ],
          "name": "stderr"
        },
        {
          "output_type": "stream",
          "text": [
            "Reinforce Loss : -0.015625 Reinforce Max Reward : -2.423895835876465"
          ],
          "name": "stdout"
        },
        {
          "output_type": "stream",
          "text": [
            "\n",
            "Batch:  80%|████████  | 8/10 [02:12<00:32, 16.31s/it]\u001b[A"
          ],
          "name": "stderr"
        },
        {
          "output_type": "stream",
          "text": [
            "Reinforce Loss : 0.0009765625 Reinforce Max Reward : -2.4192299842834473"
          ],
          "name": "stdout"
        },
        {
          "output_type": "stream",
          "text": [
            "\n",
            "Batch:  90%|█████████ | 9/10 [02:28<00:16, 16.18s/it]\u001b[A"
          ],
          "name": "stderr"
        },
        {
          "output_type": "stream",
          "text": [
            "Reinforce Loss : 0.015625 Reinforce Max Reward : -2.1104812622070312"
          ],
          "name": "stdout"
        },
        {
          "output_type": "stream",
          "text": [
            "\n",
            "Batch: 100%|██████████| 10/10 [02:44<00:00, 16.00s/it]\u001b[A\n",
            "Epoch:   2%|▏         | 37/1785 [1:50:50<88:14:29, 181.73s/it]\n",
            "Batch:   0%|          | 0/10 [00:00<?, ?it/s]\u001b[A"
          ],
          "name": "stderr"
        },
        {
          "output_type": "stream",
          "text": [
            "Reinforce Loss : 0.0078125 Reinforce Max Reward : -2.436558723449707"
          ],
          "name": "stdout"
        },
        {
          "output_type": "stream",
          "text": [
            "\n",
            "Batch:  10%|█         | 1/10 [00:20<03:01, 20.11s/it]\u001b[A"
          ],
          "name": "stderr"
        },
        {
          "output_type": "stream",
          "text": [
            "Reinforce Loss : 0.0087890625 Reinforce Max Reward : -2.4219512939453125"
          ],
          "name": "stdout"
        },
        {
          "output_type": "stream",
          "text": [
            "\n",
            "Batch:  20%|██        | 2/10 [00:36<02:31, 18.90s/it]\u001b[A"
          ],
          "name": "stderr"
        },
        {
          "output_type": "stream",
          "text": [
            "Reinforce Loss : -0.01953125 Reinforce Max Reward : -2.4300894737243652"
          ],
          "name": "stdout"
        },
        {
          "output_type": "stream",
          "text": [
            "\n",
            "Batch:  30%|███       | 3/10 [00:52<02:06, 18.01s/it]\u001b[A"
          ],
          "name": "stderr"
        },
        {
          "output_type": "stream",
          "text": [
            "Reinforce Loss : 0.0 Reinforce Max Reward : -2.4277749061584473"
          ],
          "name": "stdout"
        },
        {
          "output_type": "stream",
          "text": [
            "\n",
            "Batch:  40%|████      | 4/10 [01:08<01:44, 17.41s/it]\u001b[A"
          ],
          "name": "stderr"
        },
        {
          "output_type": "stream",
          "text": [
            "Reinforce Loss : 0.0087890625 Reinforce Max Reward : -2.4298033714294434"
          ],
          "name": "stdout"
        },
        {
          "output_type": "stream",
          "text": [
            "\n",
            "Batch:  50%|█████     | 5/10 [01:23<01:24, 16.94s/it]\u001b[A"
          ],
          "name": "stderr"
        },
        {
          "output_type": "stream",
          "text": [
            "Reinforce Loss : 0.001953125 Reinforce Max Reward : -2.3426854610443115"
          ],
          "name": "stdout"
        },
        {
          "output_type": "stream",
          "text": [
            "\n",
            "Batch:  60%|██████    | 6/10 [01:39<01:06, 16.60s/it]\u001b[A"
          ],
          "name": "stderr"
        },
        {
          "output_type": "stream",
          "text": [
            "Reinforce Loss : 0.001953125 Reinforce Max Reward : -2.43434476852417"
          ],
          "name": "stdout"
        },
        {
          "output_type": "stream",
          "text": [
            "\n",
            "Batch:  70%|███████   | 7/10 [01:55<00:49, 16.40s/it]\u001b[A"
          ],
          "name": "stderr"
        },
        {
          "output_type": "stream",
          "text": [
            "Reinforce Loss : 0.001953125 Reinforce Max Reward : -2.3841099739074707"
          ],
          "name": "stdout"
        },
        {
          "output_type": "stream",
          "text": [
            "\n",
            "Batch:  80%|████████  | 8/10 [02:11<00:32, 16.21s/it]\u001b[A"
          ],
          "name": "stderr"
        },
        {
          "output_type": "stream",
          "text": [
            "Reinforce Loss : 0.0087890625 Reinforce Max Reward : -2.4342427253723145"
          ],
          "name": "stdout"
        },
        {
          "output_type": "stream",
          "text": [
            "\n",
            "Batch:  90%|█████████ | 9/10 [02:27<00:16, 16.12s/it]\u001b[A"
          ],
          "name": "stderr"
        },
        {
          "output_type": "stream",
          "text": [
            "Reinforce Loss : -0.0078125 Reinforce Max Reward : -2.439854621887207"
          ],
          "name": "stdout"
        },
        {
          "output_type": "stream",
          "text": [
            "\n",
            "Batch: 100%|██████████| 10/10 [02:43<00:00, 15.98s/it]\u001b[A\n",
            "Epoch:   2%|▏         | 38/1785 [1:53:46<87:24:07, 180.11s/it]\n",
            "Batch:   0%|          | 0/10 [00:00<?, ?it/s]\u001b[A"
          ],
          "name": "stderr"
        },
        {
          "output_type": "stream",
          "text": [
            "Reinforce Loss : -0.001953125 Reinforce Max Reward : -2.4363887310028076"
          ],
          "name": "stdout"
        },
        {
          "output_type": "stream",
          "text": [
            "\n",
            "Batch:  10%|█         | 1/10 [00:23<03:29, 23.33s/it]\u001b[A"
          ],
          "name": "stderr"
        },
        {
          "output_type": "stream",
          "text": [
            "Reinforce Loss : -0.0087890625 Reinforce Max Reward : -2.1754379272460938"
          ],
          "name": "stdout"
        },
        {
          "output_type": "stream",
          "text": [
            "\n",
            "Batch:  20%|██        | 2/10 [00:39<02:48, 21.09s/it]\u001b[A"
          ],
          "name": "stderr"
        },
        {
          "output_type": "stream",
          "text": [
            "Reinforce Loss : 0.00390625 Reinforce Max Reward : -2.196106433868408"
          ],
          "name": "stdout"
        },
        {
          "output_type": "stream",
          "text": [
            "\n",
            "Batch:  30%|███       | 3/10 [00:55<02:16, 19.53s/it]\u001b[A"
          ],
          "name": "stderr"
        },
        {
          "output_type": "stream",
          "text": [
            "Reinforce Loss : 0.00390625 Reinforce Max Reward : -2.309014320373535"
          ],
          "name": "stdout"
        },
        {
          "output_type": "stream",
          "text": [
            "\n",
            "Batch:  40%|████      | 4/10 [01:10<01:50, 18.37s/it]\u001b[A"
          ],
          "name": "stderr"
        },
        {
          "output_type": "stream",
          "text": [
            "Reinforce Loss : 0.0029296875 Reinforce Max Reward : -2.387683391571045"
          ],
          "name": "stdout"
        },
        {
          "output_type": "stream",
          "text": [
            "\n",
            "Batch:  50%|█████     | 5/10 [01:26<01:27, 17.57s/it]\u001b[A"
          ],
          "name": "stderr"
        },
        {
          "output_type": "stream",
          "text": [
            "Reinforce Loss : -0.01171875 Reinforce Max Reward : -2.3070228099823"
          ],
          "name": "stdout"
        },
        {
          "output_type": "stream",
          "text": [
            "\n",
            "Batch:  60%|██████    | 6/10 [01:42<01:08, 17.04s/it]\u001b[A"
          ],
          "name": "stderr"
        },
        {
          "output_type": "stream",
          "text": [
            "Reinforce Loss : -0.0107421875 Reinforce Max Reward : -2.434027910232544"
          ],
          "name": "stdout"
        },
        {
          "output_type": "stream",
          "text": [
            "\n",
            "Batch:  70%|███████   | 7/10 [01:58<00:49, 16.65s/it]\u001b[A"
          ],
          "name": "stderr"
        },
        {
          "output_type": "stream",
          "text": [
            "Reinforce Loss : 0.0078125 Reinforce Max Reward : -2.431124210357666"
          ],
          "name": "stdout"
        },
        {
          "output_type": "stream",
          "text": [
            "\n",
            "Batch:  80%|████████  | 8/10 [02:13<00:32, 16.38s/it]\u001b[A"
          ],
          "name": "stderr"
        },
        {
          "output_type": "stream",
          "text": [
            "Reinforce Loss : 0.015625 Reinforce Max Reward : -2.4062654972076416"
          ],
          "name": "stdout"
        },
        {
          "output_type": "stream",
          "text": [
            "\n",
            "Batch:  90%|█████████ | 9/10 [02:29<00:16, 16.22s/it]\u001b[A"
          ],
          "name": "stderr"
        },
        {
          "output_type": "stream",
          "text": [
            "Reinforce Loss : -0.0029296875 Reinforce Max Reward : -2.4437971115112305"
          ],
          "name": "stdout"
        },
        {
          "output_type": "stream",
          "text": [
            "\n",
            "Batch: 100%|██████████| 10/10 [02:45<00:00, 16.05s/it]\u001b[A\n",
            "Epoch:   2%|▏         | 39/1785 [1:56:46<87:15:09, 179.90s/it]\n",
            "Batch:   0%|          | 0/10 [00:00<?, ?it/s]\u001b[A"
          ],
          "name": "stderr"
        },
        {
          "output_type": "stream",
          "text": [
            "Reinforce Loss : 0.00390625 Reinforce Max Reward : -2.2276899814605713"
          ],
          "name": "stdout"
        },
        {
          "output_type": "stream",
          "text": [
            "\n",
            "Batch:  10%|█         | 1/10 [00:22<03:22, 22.52s/it]\u001b[A"
          ],
          "name": "stderr"
        },
        {
          "output_type": "stream",
          "text": [
            "Reinforce Loss : -0.001953125 Reinforce Max Reward : -2.371746063232422"
          ],
          "name": "stdout"
        },
        {
          "output_type": "stream",
          "text": [
            "\n",
            "Batch:  20%|██        | 2/10 [00:38<02:43, 20.49s/it]\u001b[A"
          ],
          "name": "stderr"
        },
        {
          "output_type": "stream",
          "text": [
            "Reinforce Loss : 0.009765625 Reinforce Max Reward : -2.4270057678222656"
          ],
          "name": "stdout"
        },
        {
          "output_type": "stream",
          "text": [
            "\n",
            "Batch:  30%|███       | 3/10 [00:54<02:13, 19.11s/it]\u001b[A"
          ],
          "name": "stderr"
        },
        {
          "output_type": "stream",
          "text": [
            "Reinforce Loss : -0.001953125 Reinforce Max Reward : -2.2965869903564453"
          ],
          "name": "stdout"
        },
        {
          "output_type": "stream",
          "text": [
            "\n",
            "Batch:  40%|████      | 4/10 [01:09<01:48, 18.06s/it]\u001b[A"
          ],
          "name": "stderr"
        },
        {
          "output_type": "stream",
          "text": [
            "Reinforce Loss : -0.001953125 Reinforce Max Reward : -2.361577272415161"
          ],
          "name": "stdout"
        },
        {
          "output_type": "stream",
          "text": [
            "\n",
            "Batch:  50%|█████     | 5/10 [01:25<01:27, 17.43s/it]\u001b[A"
          ],
          "name": "stderr"
        },
        {
          "output_type": "stream",
          "text": [
            "Reinforce Loss : -0.001953125 Reinforce Max Reward : -2.37221097946167"
          ],
          "name": "stdout"
        },
        {
          "output_type": "stream",
          "text": [
            "\n",
            "Batch:  60%|██████    | 6/10 [01:41<01:07, 16.97s/it]\u001b[A"
          ],
          "name": "stderr"
        },
        {
          "output_type": "stream",
          "text": [
            "Reinforce Loss : -0.005859375 Reinforce Max Reward : -2.3183319568634033"
          ],
          "name": "stdout"
        },
        {
          "output_type": "stream",
          "text": [
            "\n",
            "Batch:  70%|███████   | 7/10 [01:57<00:49, 16.64s/it]\u001b[A"
          ],
          "name": "stderr"
        },
        {
          "output_type": "stream",
          "text": [
            "Reinforce Loss : 0.001953125 Reinforce Max Reward : -2.410287618637085"
          ],
          "name": "stdout"
        },
        {
          "output_type": "stream",
          "text": [
            "\n",
            "Batch:  80%|████████  | 8/10 [02:13<00:32, 16.34s/it]\u001b[A"
          ],
          "name": "stderr"
        },
        {
          "output_type": "stream",
          "text": [
            "Reinforce Loss : 0.0 Reinforce Max Reward : -2.321382761001587"
          ],
          "name": "stdout"
        },
        {
          "output_type": "stream",
          "text": [
            "\n",
            "Batch:  90%|█████████ | 9/10 [02:28<00:16, 16.17s/it]\u001b[A"
          ],
          "name": "stderr"
        },
        {
          "output_type": "stream",
          "text": [
            "Reinforce Loss : 0.0078125 Reinforce Max Reward : -2.291450262069702"
          ],
          "name": "stdout"
        },
        {
          "output_type": "stream",
          "text": [
            "\n",
            "Batch: 100%|██████████| 10/10 [02:44<00:00, 16.06s/it]\u001b[A\n",
            "Epoch:   2%|▏         | 40/1785 [1:59:46<87:12:12, 179.90s/it]\n",
            "Batch:   0%|          | 0/10 [00:00<?, ?it/s]\u001b[A"
          ],
          "name": "stderr"
        },
        {
          "output_type": "stream",
          "text": [
            "Reinforce Loss : -0.01171875 Reinforce Max Reward : -2.4407849311828613"
          ],
          "name": "stdout"
        },
        {
          "output_type": "stream",
          "text": [
            "\n",
            "Batch:  10%|█         | 1/10 [00:21<03:17, 21.97s/it]\u001b[A"
          ],
          "name": "stderr"
        },
        {
          "output_type": "stream",
          "text": [
            "Reinforce Loss : 0.005859375 Reinforce Max Reward : -2.4313697814941406"
          ],
          "name": "stdout"
        },
        {
          "output_type": "stream",
          "text": [
            "\n",
            "Batch:  20%|██        | 2/10 [00:37<02:41, 20.14s/it]\u001b[A"
          ],
          "name": "stderr"
        },
        {
          "output_type": "stream",
          "text": [
            "Reinforce Loss : -0.0029296875 Reinforce Max Reward : -2.1638388633728027"
          ],
          "name": "stdout"
        },
        {
          "output_type": "stream",
          "text": [
            "\n",
            "Batch:  30%|███       | 3/10 [00:53<02:11, 18.84s/it]\u001b[A"
          ],
          "name": "stderr"
        },
        {
          "output_type": "stream",
          "text": [
            "Reinforce Loss : -0.005859375 Reinforce Max Reward : -2.034780979156494"
          ],
          "name": "stdout"
        },
        {
          "output_type": "stream",
          "text": [
            "\n",
            "Batch:  40%|████      | 4/10 [01:09<01:47, 17.96s/it]\u001b[A"
          ],
          "name": "stderr"
        },
        {
          "output_type": "stream",
          "text": [
            "Reinforce Loss : 0.0029296875 Reinforce Max Reward : -2.1369383335113525"
          ],
          "name": "stdout"
        },
        {
          "output_type": "stream",
          "text": [
            "\n",
            "Batch:  50%|█████     | 5/10 [01:25<01:26, 17.40s/it]\u001b[A"
          ],
          "name": "stderr"
        },
        {
          "output_type": "stream",
          "text": [
            "Reinforce Loss : 0.001953125 Reinforce Max Reward : -1.9352035522460938"
          ],
          "name": "stdout"
        },
        {
          "output_type": "stream",
          "text": [
            "\n",
            "Batch:  60%|██████    | 6/10 [01:41<01:07, 16.93s/it]\u001b[A"
          ],
          "name": "stderr"
        },
        {
          "output_type": "stream",
          "text": [
            "Reinforce Loss : 0.0048828125 Reinforce Max Reward : -2.4093499183654785"
          ],
          "name": "stdout"
        },
        {
          "output_type": "stream",
          "text": [
            "\n",
            "Batch:  70%|███████   | 7/10 [01:57<00:49, 16.64s/it]\u001b[A"
          ],
          "name": "stderr"
        },
        {
          "output_type": "stream",
          "text": [
            "Reinforce Loss : 0.001953125 Reinforce Max Reward : -2.38531231880188"
          ],
          "name": "stdout"
        },
        {
          "output_type": "stream",
          "text": [
            "\n",
            "Batch:  80%|████████  | 8/10 [02:13<00:32, 16.36s/it]\u001b[A"
          ],
          "name": "stderr"
        },
        {
          "output_type": "stream",
          "text": [
            "Reinforce Loss : -0.0009765625 Reinforce Max Reward : -2.4060263633728027"
          ],
          "name": "stdout"
        },
        {
          "output_type": "stream",
          "text": [
            "\n",
            "Batch:  90%|█████████ | 9/10 [02:29<00:16, 16.30s/it]\u001b[A"
          ],
          "name": "stderr"
        },
        {
          "output_type": "stream",
          "text": [
            "Reinforce Loss : -0.0009765625 Reinforce Max Reward : -2.427626609802246"
          ],
          "name": "stdout"
        },
        {
          "output_type": "stream",
          "text": [
            "\n",
            "Batch: 100%|██████████| 10/10 [02:45<00:00, 16.14s/it]\u001b[A\n",
            "Epoch:   2%|▏         | 41/1785 [2:02:50<87:45:37, 181.16s/it]\n",
            "Batch:   0%|          | 0/10 [00:00<?, ?it/s]\u001b[A"
          ],
          "name": "stderr"
        },
        {
          "output_type": "stream",
          "text": [
            "Reinforce Loss : 0.02734375 Reinforce Max Reward : -2.4105706214904785"
          ],
          "name": "stdout"
        },
        {
          "output_type": "stream",
          "text": [
            "\n",
            "Batch:  10%|█         | 1/10 [00:19<02:52, 19.21s/it]\u001b[A"
          ],
          "name": "stderr"
        },
        {
          "output_type": "stream",
          "text": [
            "Reinforce Loss : 0.0029296875 Reinforce Max Reward : -2.4355666637420654"
          ],
          "name": "stdout"
        },
        {
          "output_type": "stream",
          "text": [
            "\n",
            "Batch:  20%|██        | 2/10 [00:35<02:25, 18.23s/it]\u001b[A"
          ],
          "name": "stderr"
        },
        {
          "output_type": "stream",
          "text": [
            "Reinforce Loss : 0.0 Reinforce Max Reward : -2.427964687347412"
          ],
          "name": "stdout"
        },
        {
          "output_type": "stream",
          "text": [
            "\n",
            "Batch:  30%|███       | 3/10 [00:51<02:03, 17.61s/it]\u001b[A"
          ],
          "name": "stderr"
        },
        {
          "output_type": "stream",
          "text": [
            "Reinforce Loss : -0.005859375 Reinforce Max Reward : -2.355384588241577"
          ],
          "name": "stdout"
        },
        {
          "output_type": "stream",
          "text": [
            "\n",
            "Batch:  40%|████      | 4/10 [01:07<01:42, 17.05s/it]\u001b[A"
          ],
          "name": "stderr"
        },
        {
          "output_type": "stream",
          "text": [
            "Reinforce Loss : -0.001953125 Reinforce Max Reward : -2.105229377746582"
          ],
          "name": "stdout"
        },
        {
          "output_type": "stream",
          "text": [
            "\n",
            "Batch:  50%|█████     | 5/10 [01:22<01:23, 16.65s/it]\u001b[A"
          ],
          "name": "stderr"
        },
        {
          "output_type": "stream",
          "text": [
            "Reinforce Loss : 0.0009765625 Reinforce Max Reward : -2.407893180847168"
          ],
          "name": "stdout"
        },
        {
          "output_type": "stream",
          "text": [
            "\n",
            "Batch:  60%|██████    | 6/10 [01:38<01:05, 16.35s/it]\u001b[A"
          ],
          "name": "stderr"
        },
        {
          "output_type": "stream",
          "text": [
            "Reinforce Loss : 0.015625 Reinforce Max Reward : -2.434140682220459"
          ],
          "name": "stdout"
        },
        {
          "output_type": "stream",
          "text": [
            "\n",
            "Batch:  70%|███████   | 7/10 [01:54<00:48, 16.25s/it]\u001b[A"
          ],
          "name": "stderr"
        },
        {
          "output_type": "stream",
          "text": [
            "Reinforce Loss : 0.01953125 Reinforce Max Reward : -2.4313673973083496"
          ],
          "name": "stdout"
        },
        {
          "output_type": "stream",
          "text": [
            "\n",
            "Batch:  80%|████████  | 8/10 [02:10<00:32, 16.08s/it]\u001b[A"
          ],
          "name": "stderr"
        },
        {
          "output_type": "stream",
          "text": [
            "Reinforce Loss : -0.001953125 Reinforce Max Reward : -2.425717353820801"
          ],
          "name": "stdout"
        },
        {
          "output_type": "stream",
          "text": [
            "\n",
            "Batch:  90%|█████████ | 9/10 [02:25<00:15, 15.96s/it]\u001b[A"
          ],
          "name": "stderr"
        },
        {
          "output_type": "stream",
          "text": [
            "Reinforce Loss : -0.001953125 Reinforce Max Reward : -2.411025047302246"
          ],
          "name": "stdout"
        },
        {
          "output_type": "stream",
          "text": [
            "\n",
            "Batch: 100%|██████████| 10/10 [02:41<00:00, 15.86s/it]\u001b[A\n",
            "Epoch:   2%|▏         | 42/1785 [2:05:45<86:51:19, 179.39s/it]\n",
            "Batch:   0%|          | 0/10 [00:00<?, ?it/s]\u001b[A"
          ],
          "name": "stderr"
        },
        {
          "output_type": "stream",
          "text": [
            "Reinforce Loss : -0.0078125 Reinforce Max Reward : -2.177365303039551"
          ],
          "name": "stdout"
        },
        {
          "output_type": "stream",
          "text": [
            "\n",
            "Batch:  10%|█         | 1/10 [00:20<03:04, 20.55s/it]\u001b[A"
          ],
          "name": "stderr"
        },
        {
          "output_type": "stream",
          "text": [
            "Reinforce Loss : 0.0 Reinforce Max Reward : -2.3058981895446777"
          ],
          "name": "stdout"
        },
        {
          "output_type": "stream",
          "text": [
            "\n",
            "Batch:  20%|██        | 2/10 [00:36<02:32, 19.10s/it]\u001b[A"
          ],
          "name": "stderr"
        },
        {
          "output_type": "stream",
          "text": [
            "Reinforce Loss : -0.0009765625 Reinforce Max Reward : -2.4225873947143555"
          ],
          "name": "stdout"
        },
        {
          "output_type": "stream",
          "text": [
            "\n",
            "Batch:  30%|███       | 3/10 [00:51<02:06, 18.01s/it]\u001b[A"
          ],
          "name": "stderr"
        },
        {
          "output_type": "stream",
          "text": [
            "Reinforce Loss : -0.0048828125 Reinforce Max Reward : -2.432313919067383"
          ],
          "name": "stdout"
        },
        {
          "output_type": "stream",
          "text": [
            "\n",
            "Batch:  40%|████      | 4/10 [01:07<01:44, 17.37s/it]\u001b[A"
          ],
          "name": "stderr"
        },
        {
          "output_type": "stream",
          "text": [
            "Reinforce Loss : 0.005859375 Reinforce Max Reward : -2.2926902770996094"
          ],
          "name": "stdout"
        },
        {
          "output_type": "stream",
          "text": [
            "\n",
            "Batch:  50%|█████     | 5/10 [01:23<01:24, 16.87s/it]\u001b[A"
          ],
          "name": "stderr"
        },
        {
          "output_type": "stream",
          "text": [
            "Reinforce Loss : -0.0048828125 Reinforce Max Reward : -2.3453164100646973"
          ],
          "name": "stdout"
        },
        {
          "output_type": "stream",
          "text": [
            "\n",
            "Batch:  60%|██████    | 6/10 [01:39<01:06, 16.54s/it]\u001b[A"
          ],
          "name": "stderr"
        },
        {
          "output_type": "stream",
          "text": [
            "Reinforce Loss : -0.001953125 Reinforce Max Reward : -2.192718029022217"
          ],
          "name": "stdout"
        },
        {
          "output_type": "stream",
          "text": [
            "\n",
            "Batch:  70%|███████   | 7/10 [01:55<00:49, 16.40s/it]\u001b[A"
          ],
          "name": "stderr"
        },
        {
          "output_type": "stream",
          "text": [
            "Reinforce Loss : -0.0078125 Reinforce Max Reward : -2.394136667251587"
          ],
          "name": "stdout"
        },
        {
          "output_type": "stream",
          "text": [
            "\n",
            "Batch:  80%|████████  | 8/10 [02:10<00:32, 16.15s/it]\u001b[A"
          ],
          "name": "stderr"
        },
        {
          "output_type": "stream",
          "text": [
            "Reinforce Loss : 0.005859375 Reinforce Max Reward : -2.4236977100372314"
          ],
          "name": "stdout"
        },
        {
          "output_type": "stream",
          "text": [
            "\n",
            "Batch:  90%|█████████ | 9/10 [02:26<00:16, 16.04s/it]\u001b[A"
          ],
          "name": "stderr"
        },
        {
          "output_type": "stream",
          "text": [
            "Reinforce Loss : 0.015625 Reinforce Max Reward : -2.431894302368164"
          ],
          "name": "stdout"
        },
        {
          "output_type": "stream",
          "text": [
            "\n",
            "Batch: 100%|██████████| 10/10 [02:42<00:00, 15.92s/it]\u001b[A\n",
            "Epoch:   2%|▏         | 43/1785 [2:08:45<86:55:36, 179.64s/it]\n",
            "Batch:   0%|          | 0/10 [00:00<?, ?it/s]\u001b[A"
          ],
          "name": "stderr"
        },
        {
          "output_type": "stream",
          "text": [
            "Reinforce Loss : 0.0 Reinforce Max Reward : -2.4083781242370605"
          ],
          "name": "stdout"
        },
        {
          "output_type": "stream",
          "text": [
            "\n",
            "Batch:  10%|█         | 1/10 [00:18<02:43, 18.19s/it]\u001b[A"
          ],
          "name": "stderr"
        },
        {
          "output_type": "stream",
          "text": [
            "Reinforce Loss : 0.0 Reinforce Max Reward : -2.431985378265381"
          ],
          "name": "stdout"
        },
        {
          "output_type": "stream",
          "text": [
            "\n",
            "Batch:  20%|██        | 2/10 [00:33<02:19, 17.42s/it]\u001b[A"
          ],
          "name": "stderr"
        },
        {
          "output_type": "stream",
          "text": [
            "Reinforce Loss : 0.001953125 Reinforce Max Reward : -2.3454275131225586"
          ],
          "name": "stdout"
        },
        {
          "output_type": "stream",
          "text": [
            "\n",
            "Batch:  30%|███       | 3/10 [00:49<01:57, 16.85s/it]\u001b[A"
          ],
          "name": "stderr"
        },
        {
          "output_type": "stream",
          "text": [
            "Reinforce Loss : -0.0029296875 Reinforce Max Reward : -2.351595163345337"
          ],
          "name": "stdout"
        },
        {
          "output_type": "stream",
          "text": [
            "\n",
            "Batch:  40%|████      | 4/10 [01:05<01:39, 16.57s/it]\u001b[A"
          ],
          "name": "stderr"
        },
        {
          "output_type": "stream",
          "text": [
            "Reinforce Loss : -0.005859375 Reinforce Max Reward : -2.4489529132843018"
          ],
          "name": "stdout"
        },
        {
          "output_type": "stream",
          "text": [
            "\n",
            "Batch:  50%|█████     | 5/10 [01:20<01:21, 16.28s/it]\u001b[A"
          ],
          "name": "stderr"
        },
        {
          "output_type": "stream",
          "text": [
            "Reinforce Loss : 0.0009765625 Reinforce Max Reward : -2.0806376934051514"
          ],
          "name": "stdout"
        },
        {
          "output_type": "stream",
          "text": [
            "\n",
            "Batch:  60%|██████    | 6/10 [01:36<01:04, 16.12s/it]\u001b[A"
          ],
          "name": "stderr"
        },
        {
          "output_type": "stream",
          "text": [
            "Reinforce Loss : 0.00390625 Reinforce Max Reward : -2.344609260559082"
          ],
          "name": "stdout"
        },
        {
          "output_type": "stream",
          "text": [
            "\n",
            "Batch:  70%|███████   | 7/10 [01:51<00:47, 15.90s/it]\u001b[A"
          ],
          "name": "stderr"
        },
        {
          "output_type": "stream",
          "text": [
            "Reinforce Loss : 0.0048828125 Reinforce Max Reward : -2.427938938140869"
          ],
          "name": "stdout"
        },
        {
          "output_type": "stream",
          "text": [
            "\n",
            "Batch:  80%|████████  | 8/10 [02:07<00:31, 15.88s/it]\u001b[A"
          ],
          "name": "stderr"
        },
        {
          "output_type": "stream",
          "text": [
            "Reinforce Loss : -0.01171875 Reinforce Max Reward : -2.339771270751953"
          ],
          "name": "stdout"
        },
        {
          "output_type": "stream",
          "text": [
            "\n",
            "Batch:  90%|█████████ | 9/10 [02:23<00:15, 15.86s/it]\u001b[A"
          ],
          "name": "stderr"
        },
        {
          "output_type": "stream",
          "text": [
            "Reinforce Loss : -0.001953125 Reinforce Max Reward : -2.200223922729492"
          ],
          "name": "stdout"
        },
        {
          "output_type": "stream",
          "text": [
            "\n",
            "Batch: 100%|██████████| 10/10 [02:39<00:00, 15.99s/it]\u001b[A\n",
            "Epoch:   2%|▏         | 44/1785 [2:11:43<86:38:10, 179.14s/it]\n",
            "Batch:   0%|          | 0/10 [00:00<?, ?it/s]\u001b[A"
          ],
          "name": "stderr"
        },
        {
          "output_type": "stream",
          "text": [
            "Reinforce Loss : 0.0068359375 Reinforce Max Reward : -2.4336414337158203"
          ],
          "name": "stdout"
        },
        {
          "output_type": "stream",
          "text": [
            "\n",
            "Batch:  10%|█         | 1/10 [00:18<02:43, 18.15s/it]\u001b[A"
          ],
          "name": "stderr"
        },
        {
          "output_type": "stream",
          "text": [
            "Reinforce Loss : -0.00390625 Reinforce Max Reward : -2.2271952629089355"
          ],
          "name": "stdout"
        },
        {
          "output_type": "stream",
          "text": [
            "\n",
            "Batch:  20%|██        | 2/10 [00:34<02:19, 17.49s/it]\u001b[A"
          ],
          "name": "stderr"
        },
        {
          "output_type": "stream",
          "text": [
            "Reinforce Loss : -0.001953125 Reinforce Max Reward : -2.4271721839904785"
          ],
          "name": "stdout"
        },
        {
          "output_type": "stream",
          "text": [
            "\n",
            "Batch:  30%|███       | 3/10 [00:49<01:59, 17.00s/it]\u001b[A"
          ],
          "name": "stderr"
        },
        {
          "output_type": "stream",
          "text": [
            "Reinforce Loss : -0.0048828125 Reinforce Max Reward : -2.3427228927612305"
          ],
          "name": "stdout"
        },
        {
          "output_type": "stream",
          "text": [
            "\n",
            "Batch:  40%|████      | 4/10 [01:06<01:40, 16.76s/it]\u001b[A"
          ],
          "name": "stderr"
        },
        {
          "output_type": "stream",
          "text": [
            "Reinforce Loss : -0.009765625 Reinforce Max Reward : -2.403477668762207"
          ],
          "name": "stdout"
        },
        {
          "output_type": "stream",
          "text": [
            "\n",
            "Batch:  50%|█████     | 5/10 [01:21<01:22, 16.47s/it]\u001b[A"
          ],
          "name": "stderr"
        },
        {
          "output_type": "stream",
          "text": [
            "Reinforce Loss : 0.0078125 Reinforce Max Reward : -1.9930565357208252"
          ],
          "name": "stdout"
        },
        {
          "output_type": "stream",
          "text": [
            "\n",
            "Batch:  60%|██████    | 6/10 [01:37<01:05, 16.28s/it]\u001b[A"
          ],
          "name": "stderr"
        },
        {
          "output_type": "stream",
          "text": [
            "Reinforce Loss : 0.001953125 Reinforce Max Reward : -2.232964038848877"
          ],
          "name": "stdout"
        },
        {
          "output_type": "stream",
          "text": [
            "\n",
            "Batch:  70%|███████   | 7/10 [01:53<00:48, 16.10s/it]\u001b[A"
          ],
          "name": "stderr"
        },
        {
          "output_type": "stream",
          "text": [
            "Reinforce Loss : 0.01953125 Reinforce Max Reward : -2.2108376026153564"
          ],
          "name": "stdout"
        },
        {
          "output_type": "stream",
          "text": [
            "\n",
            "Batch:  80%|████████  | 8/10 [02:09<00:32, 16.05s/it]\u001b[A"
          ],
          "name": "stderr"
        },
        {
          "output_type": "stream",
          "text": [
            "Reinforce Loss : -0.0009765625 Reinforce Max Reward : -2.1120548248291016"
          ],
          "name": "stdout"
        },
        {
          "output_type": "stream",
          "text": [
            "\n",
            "Batch:  90%|█████████ | 9/10 [02:25<00:15, 15.97s/it]\u001b[A"
          ],
          "name": "stderr"
        },
        {
          "output_type": "stream",
          "text": [
            "Reinforce Loss : 0.001953125 Reinforce Max Reward : -2.4357125759124756"
          ],
          "name": "stdout"
        },
        {
          "output_type": "stream",
          "text": [
            "\n",
            "Batch: 100%|██████████| 10/10 [02:41<00:00, 15.94s/it]\u001b[A\n",
            "Epoch:   3%|▎         | 45/1785 [2:14:41<86:26:07, 178.83s/it]\n",
            "Batch:   0%|          | 0/10 [00:00<?, ?it/s]\u001b[A"
          ],
          "name": "stderr"
        },
        {
          "output_type": "stream",
          "text": [
            "Reinforce Loss : 0.0 Reinforce Max Reward : -2.3931264877319336"
          ],
          "name": "stdout"
        },
        {
          "output_type": "stream",
          "text": [
            "\n",
            "Batch:  10%|█         | 1/10 [00:18<02:48, 18.69s/it]\u001b[A"
          ],
          "name": "stderr"
        },
        {
          "output_type": "stream",
          "text": [
            "Reinforce Loss : -0.001953125 Reinforce Max Reward : -2.190059185028076"
          ],
          "name": "stdout"
        },
        {
          "output_type": "stream",
          "text": [
            "\n",
            "Batch:  20%|██        | 2/10 [00:34<02:22, 17.85s/it]\u001b[A"
          ],
          "name": "stderr"
        },
        {
          "output_type": "stream",
          "text": [
            "Reinforce Loss : 0.01171875 Reinforce Max Reward : -2.420348644256592"
          ],
          "name": "stdout"
        },
        {
          "output_type": "stream",
          "text": [
            "\n",
            "Batch:  30%|███       | 3/10 [00:50<02:00, 17.21s/it]\u001b[A"
          ],
          "name": "stderr"
        },
        {
          "output_type": "stream",
          "text": [
            "Reinforce Loss : -0.00390625 Reinforce Max Reward : -2.1648802757263184"
          ],
          "name": "stdout"
        },
        {
          "output_type": "stream",
          "text": [
            "\n",
            "Batch:  40%|████      | 4/10 [01:06<01:41, 16.90s/it]\u001b[A"
          ],
          "name": "stderr"
        },
        {
          "output_type": "stream",
          "text": [
            "Reinforce Loss : 0.005859375 Reinforce Max Reward : -2.402900457382202"
          ],
          "name": "stdout"
        },
        {
          "output_type": "stream",
          "text": [
            "\n",
            "Batch:  50%|█████     | 5/10 [01:22<01:22, 16.53s/it]\u001b[A"
          ],
          "name": "stderr"
        },
        {
          "output_type": "stream",
          "text": [
            "Reinforce Loss : -0.00390625 Reinforce Max Reward : -2.420545816421509"
          ],
          "name": "stdout"
        },
        {
          "output_type": "stream",
          "text": [
            "\n",
            "Batch:  60%|██████    | 6/10 [01:37<01:05, 16.31s/it]\u001b[A"
          ],
          "name": "stderr"
        },
        {
          "output_type": "stream",
          "text": [
            "Reinforce Loss : 0.0107421875 Reinforce Max Reward : -2.4432497024536133"
          ],
          "name": "stdout"
        },
        {
          "output_type": "stream",
          "text": [
            "\n",
            "Batch:  70%|███████   | 7/10 [01:53<00:48, 16.12s/it]\u001b[A"
          ],
          "name": "stderr"
        },
        {
          "output_type": "stream",
          "text": [
            "Reinforce Loss : 0.0078125 Reinforce Max Reward : -2.4263923168182373"
          ],
          "name": "stdout"
        },
        {
          "output_type": "stream",
          "text": [
            "\n",
            "Batch:  80%|████████  | 8/10 [02:09<00:32, 16.07s/it]\u001b[A"
          ],
          "name": "stderr"
        },
        {
          "output_type": "stream",
          "text": [
            "Reinforce Loss : 0.001953125 Reinforce Max Reward : -2.404827356338501"
          ],
          "name": "stdout"
        },
        {
          "output_type": "stream",
          "text": [
            "\n",
            "Batch:  90%|█████████ | 9/10 [02:25<00:15, 15.92s/it]\u001b[A"
          ],
          "name": "stderr"
        },
        {
          "output_type": "stream",
          "text": [
            "Reinforce Loss : 0.00390625 Reinforce Max Reward : -2.4420976638793945"
          ],
          "name": "stdout"
        },
        {
          "output_type": "stream",
          "text": [
            "\n",
            "Batch: 100%|██████████| 10/10 [02:40<00:00, 15.87s/it]\u001b[A\n",
            "Epoch:   3%|▎         | 46/1785 [2:17:38<86:02:17, 178.11s/it]\n",
            "Batch:   0%|          | 0/10 [00:00<?, ?it/s]\u001b[A"
          ],
          "name": "stderr"
        },
        {
          "output_type": "stream",
          "text": [
            "Reinforce Loss : -0.005859375 Reinforce Max Reward : -2.434061050415039"
          ],
          "name": "stdout"
        },
        {
          "output_type": "stream",
          "text": [
            "\n",
            "Batch:  10%|█         | 1/10 [00:19<02:57, 19.69s/it]\u001b[A"
          ],
          "name": "stderr"
        },
        {
          "output_type": "stream",
          "text": [
            "Reinforce Loss : -0.00390625 Reinforce Max Reward : -2.2146124839782715"
          ],
          "name": "stdout"
        },
        {
          "output_type": "stream",
          "text": [
            "\n",
            "Batch:  20%|██        | 2/10 [00:35<02:27, 18.49s/it]\u001b[A"
          ],
          "name": "stderr"
        },
        {
          "output_type": "stream",
          "text": [
            "Reinforce Loss : 0.001953125 Reinforce Max Reward : -2.4186105728149414"
          ],
          "name": "stdout"
        },
        {
          "output_type": "stream",
          "text": [
            "\n",
            "Batch:  30%|███       | 3/10 [00:50<02:03, 17.58s/it]\u001b[A"
          ],
          "name": "stderr"
        },
        {
          "output_type": "stream",
          "text": [
            "Reinforce Loss : -0.0029296875 Reinforce Max Reward : -2.4344000816345215"
          ],
          "name": "stdout"
        },
        {
          "output_type": "stream",
          "text": [
            "\n",
            "Batch:  40%|████      | 4/10 [01:06<01:42, 17.03s/it]\u001b[A"
          ],
          "name": "stderr"
        },
        {
          "output_type": "stream",
          "text": [
            "Reinforce Loss : 0.0 Reinforce Max Reward : -2.4217443466186523"
          ],
          "name": "stdout"
        },
        {
          "output_type": "stream",
          "text": [
            "\n",
            "Batch:  50%|█████     | 5/10 [01:22<01:23, 16.61s/it]\u001b[A"
          ],
          "name": "stderr"
        },
        {
          "output_type": "stream",
          "text": [
            "Reinforce Loss : 0.001953125 Reinforce Max Reward : -2.4235262870788574"
          ],
          "name": "stdout"
        },
        {
          "output_type": "stream",
          "text": [
            "\n",
            "Batch:  60%|██████    | 6/10 [01:37<01:05, 16.32s/it]\u001b[A"
          ],
          "name": "stderr"
        },
        {
          "output_type": "stream",
          "text": [
            "Reinforce Loss : 0.0068359375 Reinforce Max Reward : -2.42311429977417"
          ],
          "name": "stdout"
        },
        {
          "output_type": "stream",
          "text": [
            "\n",
            "Batch:  70%|███████   | 7/10 [01:53<00:48, 16.09s/it]\u001b[A"
          ],
          "name": "stderr"
        },
        {
          "output_type": "stream",
          "text": [
            "Reinforce Loss : -0.00390625 Reinforce Max Reward : -2.4433979988098145"
          ],
          "name": "stdout"
        },
        {
          "output_type": "stream",
          "text": [
            "\n",
            "Batch:  80%|████████  | 8/10 [02:09<00:32, 16.08s/it]\u001b[A"
          ],
          "name": "stderr"
        },
        {
          "output_type": "stream",
          "text": [
            "Reinforce Loss : -0.001953125 Reinforce Max Reward : -2.4370481967926025"
          ],
          "name": "stdout"
        },
        {
          "output_type": "stream",
          "text": [
            "\n",
            "Batch:  90%|█████████ | 9/10 [02:25<00:15, 15.92s/it]\u001b[A"
          ],
          "name": "stderr"
        },
        {
          "output_type": "stream",
          "text": [
            "Reinforce Loss : 0.0 Reinforce Max Reward : -2.343918800354004"
          ],
          "name": "stdout"
        },
        {
          "output_type": "stream",
          "text": [
            "\n",
            "Batch: 100%|██████████| 10/10 [02:40<00:00, 15.81s/it]\u001b[A\n",
            "Epoch:   3%|▎         | 47/1785 [2:20:34<85:40:28, 177.46s/it]\n",
            "Batch:   0%|          | 0/10 [00:00<?, ?it/s]\u001b[A"
          ],
          "name": "stderr"
        },
        {
          "output_type": "stream",
          "text": [
            "Reinforce Loss : -0.001953125 Reinforce Max Reward : -1.9464795589447021"
          ],
          "name": "stdout"
        },
        {
          "output_type": "stream",
          "text": [
            "\n",
            "Batch:  10%|█         | 1/10 [00:19<02:53, 19.33s/it]\u001b[A"
          ],
          "name": "stderr"
        },
        {
          "output_type": "stream",
          "text": [
            "Reinforce Loss : -0.0078125 Reinforce Max Reward : -2.004286289215088"
          ],
          "name": "stdout"
        },
        {
          "output_type": "stream",
          "text": [
            "\n",
            "Batch:  20%|██        | 2/10 [00:34<02:25, 18.21s/it]\u001b[A"
          ],
          "name": "stderr"
        },
        {
          "output_type": "stream",
          "text": [
            "Reinforce Loss : 0.00390625 Reinforce Max Reward : -2.18027663230896"
          ],
          "name": "stdout"
        },
        {
          "output_type": "stream",
          "text": [
            "\n",
            "Batch:  30%|███       | 3/10 [00:50<02:01, 17.42s/it]\u001b[A"
          ],
          "name": "stderr"
        },
        {
          "output_type": "stream",
          "text": [
            "Reinforce Loss : -0.001953125 Reinforce Max Reward : -2.353332042694092"
          ],
          "name": "stdout"
        },
        {
          "output_type": "stream",
          "text": [
            "\n",
            "Batch:  40%|████      | 4/10 [01:06<01:41, 16.89s/it]\u001b[A"
          ],
          "name": "stderr"
        },
        {
          "output_type": "stream",
          "text": [
            "Reinforce Loss : -0.00390625 Reinforce Max Reward : -2.4345598220825195"
          ],
          "name": "stdout"
        },
        {
          "output_type": "stream",
          "text": [
            "\n",
            "Batch:  50%|█████     | 5/10 [01:21<01:22, 16.51s/it]\u001b[A"
          ],
          "name": "stderr"
        },
        {
          "output_type": "stream",
          "text": [
            "Reinforce Loss : 0.00390625 Reinforce Max Reward : -2.420656681060791"
          ],
          "name": "stdout"
        },
        {
          "output_type": "stream",
          "text": [
            "\n",
            "Batch:  60%|██████    | 6/10 [01:37<01:04, 16.23s/it]\u001b[A"
          ],
          "name": "stderr"
        },
        {
          "output_type": "stream",
          "text": [
            "Reinforce Loss : 0.005859375 Reinforce Max Reward : -2.4329872131347656"
          ],
          "name": "stdout"
        },
        {
          "output_type": "stream",
          "text": [
            "\n",
            "Batch:  70%|███████   | 7/10 [01:53<00:48, 16.09s/it]\u001b[A"
          ],
          "name": "stderr"
        },
        {
          "output_type": "stream",
          "text": [
            "Reinforce Loss : -0.005859375 Reinforce Max Reward : -2.428025245666504"
          ],
          "name": "stdout"
        },
        {
          "output_type": "stream",
          "text": [
            "\n",
            "Batch:  80%|████████  | 8/10 [02:08<00:31, 15.93s/it]\u001b[A"
          ],
          "name": "stderr"
        },
        {
          "output_type": "stream",
          "text": [
            "Reinforce Loss : -0.00390625 Reinforce Max Reward : -2.1855204105377197"
          ],
          "name": "stdout"
        },
        {
          "output_type": "stream",
          "text": [
            "\n",
            "Batch:  90%|█████████ | 9/10 [02:24<00:15, 15.95s/it]\u001b[A"
          ],
          "name": "stderr"
        },
        {
          "output_type": "stream",
          "text": [
            "Reinforce Loss : 0.013671875 Reinforce Max Reward : -2.4350457191467285"
          ],
          "name": "stdout"
        },
        {
          "output_type": "stream",
          "text": [
            "\n",
            "Batch: 100%|██████████| 10/10 [02:40<00:00, 15.86s/it]\u001b[A\n",
            "Epoch:   3%|▎         | 48/1785 [2:23:30<85:29:39, 177.19s/it]\n",
            "Batch:   0%|          | 0/10 [00:00<?, ?it/s]\u001b[A"
          ],
          "name": "stderr"
        },
        {
          "output_type": "stream",
          "text": [
            "Reinforce Loss : -0.01171875 Reinforce Max Reward : -2.4218244552612305"
          ],
          "name": "stdout"
        },
        {
          "output_type": "stream",
          "text": [
            "\n",
            "Batch:  10%|█         | 1/10 [00:19<02:52, 19.20s/it]\u001b[A"
          ],
          "name": "stderr"
        },
        {
          "output_type": "stream",
          "text": [
            "Reinforce Loss : 0.0 Reinforce Max Reward : -2.4202988147735596"
          ],
          "name": "stdout"
        },
        {
          "output_type": "stream",
          "text": [
            "\n",
            "Batch:  20%|██        | 2/10 [00:34<02:24, 18.11s/it]\u001b[A"
          ],
          "name": "stderr"
        },
        {
          "output_type": "stream",
          "text": [
            "Reinforce Loss : -0.0078125 Reinforce Max Reward : -2.4329991340637207"
          ],
          "name": "stdout"
        },
        {
          "output_type": "stream",
          "text": [
            "\n",
            "Batch:  30%|███       | 3/10 [00:50<02:01, 17.33s/it]\u001b[A"
          ],
          "name": "stderr"
        },
        {
          "output_type": "stream",
          "text": [
            "Reinforce Loss : -0.005859375 Reinforce Max Reward : -1.7249903678894043"
          ],
          "name": "stdout"
        },
        {
          "output_type": "stream",
          "text": [
            "\n",
            "Batch:  40%|████      | 4/10 [01:05<01:40, 16.77s/it]\u001b[A"
          ],
          "name": "stderr"
        },
        {
          "output_type": "stream",
          "text": [
            "Reinforce Loss : 0.009765625 Reinforce Max Reward : -2.4142112731933594"
          ],
          "name": "stdout"
        },
        {
          "output_type": "stream",
          "text": [
            "\n",
            "Batch:  50%|█████     | 5/10 [01:21<01:22, 16.52s/it]\u001b[A"
          ],
          "name": "stderr"
        },
        {
          "output_type": "stream",
          "text": [
            "Reinforce Loss : 0.0 Reinforce Max Reward : -2.2633793354034424"
          ],
          "name": "stdout"
        },
        {
          "output_type": "stream",
          "text": [
            "\n",
            "Batch:  60%|██████    | 6/10 [01:37<01:04, 16.23s/it]\u001b[A"
          ],
          "name": "stderr"
        },
        {
          "output_type": "stream",
          "text": [
            "Reinforce Loss : -0.005859375 Reinforce Max Reward : -2.1836280822753906"
          ],
          "name": "stdout"
        },
        {
          "output_type": "stream",
          "text": [
            "\n",
            "Batch:  70%|███████   | 7/10 [01:52<00:48, 16.04s/it]\u001b[A"
          ],
          "name": "stderr"
        },
        {
          "output_type": "stream",
          "text": [
            "Reinforce Loss : 0.005859375 Reinforce Max Reward : -2.433797836303711"
          ],
          "name": "stdout"
        },
        {
          "output_type": "stream",
          "text": [
            "\n",
            "Batch:  80%|████████  | 8/10 [02:08<00:31, 15.85s/it]\u001b[A"
          ],
          "name": "stderr"
        },
        {
          "output_type": "stream",
          "text": [
            "Reinforce Loss : 0.0068359375 Reinforce Max Reward : -2.170653820037842"
          ],
          "name": "stdout"
        },
        {
          "output_type": "stream",
          "text": [
            "\n",
            "Batch:  90%|█████████ | 9/10 [02:24<00:15, 15.85s/it]\u001b[A"
          ],
          "name": "stderr"
        },
        {
          "output_type": "stream",
          "text": [
            "Reinforce Loss : 0.009765625 Reinforce Max Reward : -2.2961668968200684"
          ],
          "name": "stdout"
        },
        {
          "output_type": "stream",
          "text": [
            "\n",
            "Batch: 100%|██████████| 10/10 [02:39<00:00, 15.77s/it]\u001b[A\n",
            "Epoch:   3%|▎         | 49/1785 [2:26:28<85:28:29, 177.25s/it]\n",
            "Batch:   0%|          | 0/10 [00:00<?, ?it/s]\u001b[A"
          ],
          "name": "stderr"
        },
        {
          "output_type": "stream",
          "text": [
            "Reinforce Loss : 0.001953125 Reinforce Max Reward : -2.218735456466675"
          ],
          "name": "stdout"
        },
        {
          "output_type": "stream",
          "text": [
            "\n",
            "Batch:  10%|█         | 1/10 [00:18<02:45, 18.36s/it]\u001b[A"
          ],
          "name": "stderr"
        },
        {
          "output_type": "stream",
          "text": [
            "Reinforce Loss : -0.001953125 Reinforce Max Reward : -2.421006441116333"
          ],
          "name": "stdout"
        },
        {
          "output_type": "stream",
          "text": [
            "\n",
            "Batch:  20%|██        | 2/10 [00:34<02:20, 17.62s/it]\u001b[A"
          ],
          "name": "stderr"
        },
        {
          "output_type": "stream",
          "text": [
            "Reinforce Loss : -0.00390625 Reinforce Max Reward : -2.373602867126465"
          ],
          "name": "stdout"
        },
        {
          "output_type": "stream",
          "text": [
            "\n",
            "Batch:  30%|███       | 3/10 [00:50<01:59, 17.06s/it]\u001b[A"
          ],
          "name": "stderr"
        },
        {
          "output_type": "stream",
          "text": [
            "Reinforce Loss : -0.0009765625 Reinforce Max Reward : -2.311854362487793"
          ],
          "name": "stdout"
        },
        {
          "output_type": "stream",
          "text": [
            "\n",
            "Batch:  40%|████      | 4/10 [01:05<01:39, 16.58s/it]\u001b[A"
          ],
          "name": "stderr"
        },
        {
          "output_type": "stream",
          "text": [
            "Reinforce Loss : -0.0029296875 Reinforce Max Reward : -2.311081886291504"
          ],
          "name": "stdout"
        },
        {
          "output_type": "stream",
          "text": [
            "\n",
            "Batch:  50%|█████     | 5/10 [01:21<01:21, 16.33s/it]\u001b[A"
          ],
          "name": "stderr"
        },
        {
          "output_type": "stream",
          "text": [
            "Reinforce Loss : -0.0078125 Reinforce Max Reward : -2.416252613067627"
          ],
          "name": "stdout"
        },
        {
          "output_type": "stream",
          "text": [
            "\n",
            "Batch:  60%|██████    | 6/10 [01:36<01:04, 16.14s/it]\u001b[A"
          ],
          "name": "stderr"
        },
        {
          "output_type": "stream",
          "text": [
            "Reinforce Loss : 0.0068359375 Reinforce Max Reward : -2.304058074951172"
          ],
          "name": "stdout"
        },
        {
          "output_type": "stream",
          "text": [
            "\n",
            "Batch:  70%|███████   | 7/10 [01:52<00:48, 16.04s/it]\u001b[A"
          ],
          "name": "stderr"
        },
        {
          "output_type": "stream",
          "text": [
            "Reinforce Loss : -0.009765625 Reinforce Max Reward : -2.4332690238952637"
          ],
          "name": "stdout"
        },
        {
          "output_type": "stream",
          "text": [
            "\n",
            "Batch:  80%|████████  | 8/10 [02:08<00:31, 15.86s/it]\u001b[A"
          ],
          "name": "stderr"
        },
        {
          "output_type": "stream",
          "text": [
            "Reinforce Loss : -0.00390625 Reinforce Max Reward : -2.428529977798462"
          ],
          "name": "stdout"
        },
        {
          "output_type": "stream",
          "text": [
            "\n",
            "Batch:  90%|█████████ | 9/10 [02:24<00:15, 15.91s/it]\u001b[A"
          ],
          "name": "stderr"
        },
        {
          "output_type": "stream",
          "text": [
            "Reinforce Loss : -0.0048828125 Reinforce Max Reward : -2.430049180984497"
          ],
          "name": "stdout"
        },
        {
          "output_type": "stream",
          "text": [
            "\n",
            "Batch: 100%|██████████| 10/10 [02:39<00:00, 15.82s/it]\u001b[A\n",
            "Epoch:   3%|▎         | 50/1785 [2:29:26<85:30:15, 177.42s/it]\n",
            "Batch:   0%|          | 0/10 [00:00<?, ?it/s]\u001b[A"
          ],
          "name": "stderr"
        },
        {
          "output_type": "stream",
          "text": [
            "Reinforce Loss : 0.0009765625 Reinforce Max Reward : -2.4321999549865723"
          ],
          "name": "stdout"
        },
        {
          "output_type": "stream",
          "text": [
            "\n",
            "Batch:  10%|█         | 1/10 [00:18<02:42, 18.04s/it]\u001b[A"
          ],
          "name": "stderr"
        },
        {
          "output_type": "stream",
          "text": [
            "Reinforce Loss : -0.00390625 Reinforce Max Reward : -2.255570888519287"
          ],
          "name": "stdout"
        },
        {
          "output_type": "stream",
          "text": [
            "\n",
            "Batch:  20%|██        | 2/10 [00:34<02:19, 17.43s/it]\u001b[A"
          ],
          "name": "stderr"
        },
        {
          "output_type": "stream",
          "text": [
            "Reinforce Loss : -0.0029296875 Reinforce Max Reward : -2.4216954708099365"
          ],
          "name": "stdout"
        },
        {
          "output_type": "stream",
          "text": [
            "\n",
            "Batch:  30%|███       | 3/10 [00:49<01:58, 16.94s/it]\u001b[A"
          ],
          "name": "stderr"
        },
        {
          "output_type": "stream",
          "text": [
            "Reinforce Loss : 0.00390625 Reinforce Max Reward : -2.4294276237487793"
          ],
          "name": "stdout"
        },
        {
          "output_type": "stream",
          "text": [
            "\n",
            "Batch:  40%|████      | 4/10 [01:05<01:39, 16.56s/it]\u001b[A"
          ],
          "name": "stderr"
        },
        {
          "output_type": "stream",
          "text": [
            "Reinforce Loss : -0.0029296875 Reinforce Max Reward : -2.357423782348633"
          ],
          "name": "stdout"
        },
        {
          "output_type": "stream",
          "text": [
            "\n",
            "Batch:  50%|█████     | 5/10 [01:21<01:21, 16.28s/it]\u001b[A"
          ],
          "name": "stderr"
        },
        {
          "output_type": "stream",
          "text": [
            "Reinforce Loss : -0.01171875 Reinforce Max Reward : -2.4431519508361816"
          ],
          "name": "stdout"
        },
        {
          "output_type": "stream",
          "text": [
            "\n",
            "Batch:  60%|██████    | 6/10 [01:37<01:04, 16.19s/it]\u001b[A"
          ],
          "name": "stderr"
        },
        {
          "output_type": "stream",
          "text": [
            "Reinforce Loss : -0.0009765625 Reinforce Max Reward : -2.41027569770813"
          ],
          "name": "stdout"
        },
        {
          "output_type": "stream",
          "text": [
            "\n",
            "Batch:  70%|███████   | 7/10 [01:52<00:48, 16.08s/it]\u001b[A"
          ],
          "name": "stderr"
        },
        {
          "output_type": "stream",
          "text": [
            "Reinforce Loss : 0.001953125 Reinforce Max Reward : -2.3058857917785645"
          ],
          "name": "stdout"
        },
        {
          "output_type": "stream",
          "text": [
            "\n",
            "Batch:  80%|████████  | 8/10 [02:08<00:31, 15.95s/it]\u001b[A"
          ],
          "name": "stderr"
        },
        {
          "output_type": "stream",
          "text": [
            "Reinforce Loss : 0.02734375 Reinforce Max Reward : -2.431680202484131"
          ],
          "name": "stdout"
        },
        {
          "output_type": "stream",
          "text": [
            "\n",
            "Batch:  90%|█████████ | 9/10 [02:24<00:15, 15.98s/it]\u001b[A"
          ],
          "name": "stderr"
        },
        {
          "output_type": "stream",
          "text": [
            "Reinforce Loss : -0.0029296875 Reinforce Max Reward : -2.406342029571533"
          ],
          "name": "stdout"
        },
        {
          "output_type": "stream",
          "text": [
            "\n",
            "Batch: 100%|██████████| 10/10 [02:40<00:00, 16.05s/it]\u001b[A\n",
            "Epoch:   3%|▎         | 51/1785 [2:32:25<85:46:27, 178.08s/it]\n",
            "Batch:   0%|          | 0/10 [00:00<?, ?it/s]\u001b[A"
          ],
          "name": "stderr"
        },
        {
          "output_type": "stream",
          "text": [
            "Reinforce Loss : -0.015625 Reinforce Max Reward : -2.4034690856933594"
          ],
          "name": "stdout"
        },
        {
          "output_type": "stream",
          "text": [
            "\n",
            "Batch:  10%|█         | 1/10 [00:19<02:54, 19.37s/it]\u001b[A"
          ],
          "name": "stderr"
        },
        {
          "output_type": "stream",
          "text": [
            "Reinforce Loss : -0.005859375 Reinforce Max Reward : -2.233501434326172"
          ],
          "name": "stdout"
        },
        {
          "output_type": "stream",
          "text": [
            "\n",
            "Batch:  20%|██        | 2/10 [00:35<02:27, 18.40s/it]\u001b[A"
          ],
          "name": "stderr"
        },
        {
          "output_type": "stream",
          "text": [
            "Reinforce Loss : 0.0048828125 Reinforce Max Reward : -2.4045815467834473"
          ],
          "name": "stdout"
        },
        {
          "output_type": "stream",
          "text": [
            "\n",
            "Batch:  30%|███       | 3/10 [00:51<02:04, 17.72s/it]\u001b[A"
          ],
          "name": "stderr"
        },
        {
          "output_type": "stream",
          "text": [
            "Reinforce Loss : 0.005859375 Reinforce Max Reward : -2.438821315765381"
          ],
          "name": "stdout"
        },
        {
          "output_type": "stream",
          "text": [
            "\n",
            "Batch:  40%|████      | 4/10 [01:07<01:42, 17.10s/it]\u001b[A"
          ],
          "name": "stderr"
        },
        {
          "output_type": "stream",
          "text": [
            "Reinforce Loss : 0.0 Reinforce Max Reward : -2.4427859783172607"
          ],
          "name": "stdout"
        },
        {
          "output_type": "stream",
          "text": [
            "\n",
            "Batch:  50%|█████     | 5/10 [01:23<01:23, 16.70s/it]\u001b[A"
          ],
          "name": "stderr"
        },
        {
          "output_type": "stream",
          "text": [
            "Reinforce Loss : -0.005859375 Reinforce Max Reward : -2.3532862663269043"
          ],
          "name": "stdout"
        },
        {
          "output_type": "stream",
          "text": [
            "\n",
            "Batch:  60%|██████    | 6/10 [01:39<01:06, 16.56s/it]\u001b[A"
          ],
          "name": "stderr"
        },
        {
          "output_type": "stream",
          "text": [
            "Reinforce Loss : -0.0048828125 Reinforce Max Reward : -2.436647891998291"
          ],
          "name": "stdout"
        },
        {
          "output_type": "stream",
          "text": [
            "\n",
            "Batch:  70%|███████   | 7/10 [01:55<00:49, 16.37s/it]\u001b[A"
          ],
          "name": "stderr"
        },
        {
          "output_type": "stream",
          "text": [
            "Reinforce Loss : -0.0078125 Reinforce Max Reward : -2.3749184608459473"
          ],
          "name": "stdout"
        },
        {
          "output_type": "stream",
          "text": [
            "\n",
            "Batch:  80%|████████  | 8/10 [02:10<00:32, 16.17s/it]\u001b[A"
          ],
          "name": "stderr"
        },
        {
          "output_type": "stream",
          "text": [
            "Reinforce Loss : -0.0009765625 Reinforce Max Reward : -2.375035285949707"
          ],
          "name": "stdout"
        },
        {
          "output_type": "stream",
          "text": [
            "\n",
            "Batch:  90%|█████████ | 9/10 [02:26<00:16, 16.07s/it]\u001b[A"
          ],
          "name": "stderr"
        },
        {
          "output_type": "stream",
          "text": [
            "Reinforce Loss : -0.001953125 Reinforce Max Reward : -2.42169189453125"
          ],
          "name": "stdout"
        },
        {
          "output_type": "stream",
          "text": [
            "\n",
            "Batch: 100%|██████████| 10/10 [02:42<00:00, 16.08s/it]\u001b[A\n",
            "Epoch:   3%|▎         | 52/1785 [2:35:26<86:05:08, 178.83s/it]\n",
            "Batch:   0%|          | 0/10 [00:00<?, ?it/s]\u001b[A"
          ],
          "name": "stderr"
        },
        {
          "output_type": "stream",
          "text": [
            "Reinforce Loss : 0.0 Reinforce Max Reward : -2.422163963317871"
          ],
          "name": "stdout"
        },
        {
          "output_type": "stream",
          "text": [
            "\n",
            "Batch:  10%|█         | 1/10 [00:19<02:51, 19.04s/it]\u001b[A"
          ],
          "name": "stderr"
        },
        {
          "output_type": "stream",
          "text": [
            "Reinforce Loss : 0.0078125 Reinforce Max Reward : -2.4257168769836426"
          ],
          "name": "stdout"
        },
        {
          "output_type": "stream",
          "text": [
            "\n",
            "Batch:  20%|██        | 2/10 [00:35<02:25, 18.14s/it]\u001b[A"
          ],
          "name": "stderr"
        },
        {
          "output_type": "stream",
          "text": [
            "Reinforce Loss : 0.009765625 Reinforce Max Reward : -2.396923065185547"
          ],
          "name": "stdout"
        },
        {
          "output_type": "stream",
          "text": [
            "\n",
            "Batch:  30%|███       | 3/10 [00:50<02:02, 17.44s/it]\u001b[A"
          ],
          "name": "stderr"
        },
        {
          "output_type": "stream",
          "text": [
            "Reinforce Loss : -0.001953125 Reinforce Max Reward : -2.3735244274139404"
          ],
          "name": "stdout"
        },
        {
          "output_type": "stream",
          "text": [
            "\n",
            "Batch:  40%|████      | 4/10 [01:06<01:41, 16.97s/it]\u001b[A"
          ],
          "name": "stderr"
        },
        {
          "output_type": "stream",
          "text": [
            "Reinforce Loss : -0.03125 Reinforce Max Reward : -1.8284571170806885"
          ],
          "name": "stdout"
        },
        {
          "output_type": "stream",
          "text": [
            "\n",
            "Batch:  50%|█████     | 5/10 [01:22<01:23, 16.66s/it]\u001b[A"
          ],
          "name": "stderr"
        },
        {
          "output_type": "stream",
          "text": [
            "Reinforce Loss : -0.00390625 Reinforce Max Reward : -2.329960346221924"
          ],
          "name": "stdout"
        },
        {
          "output_type": "stream",
          "text": [
            "\n",
            "Batch:  60%|██████    | 6/10 [01:38<01:05, 16.47s/it]\u001b[A"
          ],
          "name": "stderr"
        },
        {
          "output_type": "stream",
          "text": [
            "Reinforce Loss : 0.0 Reinforce Max Reward : -2.369158983230591"
          ],
          "name": "stdout"
        },
        {
          "output_type": "stream",
          "text": [
            "\n",
            "Batch:  70%|███████   | 7/10 [01:54<00:48, 16.30s/it]\u001b[A"
          ],
          "name": "stderr"
        },
        {
          "output_type": "stream",
          "text": [
            "Reinforce Loss : 0.01953125 Reinforce Max Reward : -2.3889577388763428"
          ],
          "name": "stdout"
        },
        {
          "output_type": "stream",
          "text": [
            "\n",
            "Batch:  80%|████████  | 8/10 [02:10<00:32, 16.11s/it]\u001b[A"
          ],
          "name": "stderr"
        },
        {
          "output_type": "stream",
          "text": [
            "Reinforce Loss : -0.01171875 Reinforce Max Reward : -2.4373655319213867"
          ],
          "name": "stdout"
        },
        {
          "output_type": "stream",
          "text": [
            "\n",
            "Batch:  90%|█████████ | 9/10 [02:26<00:16, 16.05s/it]\u001b[A"
          ],
          "name": "stderr"
        },
        {
          "output_type": "stream",
          "text": [
            "Reinforce Loss : 0.005859375 Reinforce Max Reward : -2.3716039657592773"
          ],
          "name": "stdout"
        },
        {
          "output_type": "stream",
          "text": [
            "\n",
            "Batch: 100%|██████████| 10/10 [02:42<00:00, 16.00s/it]\u001b[A\n",
            "Epoch:   3%|▎         | 53/1785 [2:38:23<85:49:30, 178.39s/it]\n",
            "Batch:   0%|          | 0/10 [00:00<?, ?it/s]\u001b[A"
          ],
          "name": "stderr"
        },
        {
          "output_type": "stream",
          "text": [
            "Reinforce Loss : 0.00390625 Reinforce Max Reward : -2.4443395137786865"
          ],
          "name": "stdout"
        },
        {
          "output_type": "stream",
          "text": [
            "\n",
            "Batch:  10%|█         | 1/10 [00:19<02:59, 19.93s/it]\u001b[A"
          ],
          "name": "stderr"
        },
        {
          "output_type": "stream",
          "text": [
            "Reinforce Loss : 0.0 Reinforce Max Reward : -2.4279823303222656"
          ],
          "name": "stdout"
        },
        {
          "output_type": "stream",
          "text": [
            "\n",
            "Batch:  20%|██        | 2/10 [00:35<02:29, 18.69s/it]\u001b[A"
          ],
          "name": "stderr"
        },
        {
          "output_type": "stream",
          "text": [
            "Reinforce Loss : -0.001953125 Reinforce Max Reward : -1.754830241203308"
          ],
          "name": "stdout"
        },
        {
          "output_type": "stream",
          "text": [
            "\n",
            "Batch:  30%|███       | 3/10 [00:51<02:04, 17.83s/it]\u001b[A"
          ],
          "name": "stderr"
        },
        {
          "output_type": "stream",
          "text": [
            "Reinforce Loss : 0.001953125 Reinforce Max Reward : -2.444150447845459"
          ],
          "name": "stdout"
        },
        {
          "output_type": "stream",
          "text": [
            "\n",
            "Batch:  40%|████      | 4/10 [01:07<01:43, 17.21s/it]\u001b[A"
          ],
          "name": "stderr"
        },
        {
          "output_type": "stream",
          "text": [
            "Reinforce Loss : 0.001953125 Reinforce Max Reward : -2.30808424949646"
          ],
          "name": "stdout"
        },
        {
          "output_type": "stream",
          "text": [
            "\n",
            "Batch:  50%|█████     | 5/10 [01:23<01:24, 16.82s/it]\u001b[A"
          ],
          "name": "stderr"
        },
        {
          "output_type": "stream",
          "text": [
            "Reinforce Loss : -0.005859375 Reinforce Max Reward : -2.00345516204834"
          ],
          "name": "stdout"
        },
        {
          "output_type": "stream",
          "text": [
            "\n",
            "Batch:  60%|██████    | 6/10 [01:38<01:06, 16.50s/it]\u001b[A"
          ],
          "name": "stderr"
        },
        {
          "output_type": "stream",
          "text": [
            "Reinforce Loss : -0.005859375 Reinforce Max Reward : -2.4404945373535156"
          ],
          "name": "stdout"
        },
        {
          "output_type": "stream",
          "text": [
            "\n",
            "Batch:  70%|███████   | 7/10 [01:54<00:48, 16.30s/it]\u001b[A"
          ],
          "name": "stderr"
        },
        {
          "output_type": "stream",
          "text": [
            "Reinforce Loss : -0.00390625 Reinforce Max Reward : -2.396739959716797"
          ],
          "name": "stdout"
        },
        {
          "output_type": "stream",
          "text": [
            "\n",
            "Batch:  80%|████████  | 8/10 [02:10<00:32, 16.13s/it]\u001b[A"
          ],
          "name": "stderr"
        },
        {
          "output_type": "stream",
          "text": [
            "Reinforce Loss : 0.0 Reinforce Max Reward : -2.18109393119812"
          ],
          "name": "stdout"
        },
        {
          "output_type": "stream",
          "text": [
            "\n",
            "Batch:  90%|█████████ | 9/10 [02:26<00:16, 16.03s/it]\u001b[A"
          ],
          "name": "stderr"
        },
        {
          "output_type": "stream",
          "text": [
            "Reinforce Loss : 0.0009765625 Reinforce Max Reward : -2.374969244003296"
          ],
          "name": "stdout"
        },
        {
          "output_type": "stream",
          "text": [
            "\n",
            "Batch: 100%|██████████| 10/10 [02:42<00:00, 16.00s/it]\u001b[A\n",
            "Epoch:   3%|▎         | 54/1785 [2:41:23<86:03:16, 178.97s/it]\n",
            "Batch:   0%|          | 0/10 [00:00<?, ?it/s]\u001b[A"
          ],
          "name": "stderr"
        },
        {
          "output_type": "stream",
          "text": [
            "Reinforce Loss : -0.005859375 Reinforce Max Reward : -2.426471710205078"
          ],
          "name": "stdout"
        },
        {
          "output_type": "stream",
          "text": [
            "\n",
            "Batch:  10%|█         | 1/10 [00:18<02:45, 18.40s/it]\u001b[A"
          ],
          "name": "stderr"
        },
        {
          "output_type": "stream",
          "text": [
            "Reinforce Loss : 0.00390625 Reinforce Max Reward : -2.2822632789611816"
          ],
          "name": "stdout"
        },
        {
          "output_type": "stream",
          "text": [
            "\n",
            "Batch:  20%|██        | 2/10 [00:34<02:21, 17.63s/it]\u001b[A"
          ],
          "name": "stderr"
        },
        {
          "output_type": "stream",
          "text": [
            "Reinforce Loss : -0.0078125 Reinforce Max Reward : -2.431154251098633"
          ],
          "name": "stdout"
        },
        {
          "output_type": "stream",
          "text": [
            "\n",
            "Batch:  30%|███       | 3/10 [00:50<01:59, 17.09s/it]\u001b[A"
          ],
          "name": "stderr"
        },
        {
          "output_type": "stream",
          "text": [
            "Reinforce Loss : 0.0078125 Reinforce Max Reward : -2.4020566940307617"
          ],
          "name": "stdout"
        },
        {
          "output_type": "stream",
          "text": [
            "\n",
            "Batch:  40%|████      | 4/10 [01:05<01:39, 16.66s/it]\u001b[A"
          ],
          "name": "stderr"
        },
        {
          "output_type": "stream",
          "text": [
            "Reinforce Loss : -0.00390625 Reinforce Max Reward : -2.4242146015167236"
          ],
          "name": "stdout"
        },
        {
          "output_type": "stream",
          "text": [
            "\n",
            "Batch:  50%|█████     | 5/10 [01:21<01:22, 16.41s/it]\u001b[A"
          ],
          "name": "stderr"
        },
        {
          "output_type": "stream",
          "text": [
            "Reinforce Loss : 0.0 Reinforce Max Reward : -2.41601300239563"
          ],
          "name": "stdout"
        },
        {
          "output_type": "stream",
          "text": [
            "\n",
            "Batch:  60%|██████    | 6/10 [01:37<01:04, 16.15s/it]\u001b[A"
          ],
          "name": "stderr"
        },
        {
          "output_type": "stream",
          "text": [
            "Reinforce Loss : 0.00390625 Reinforce Max Reward : -2.413769245147705"
          ],
          "name": "stdout"
        },
        {
          "output_type": "stream",
          "text": [
            "\n",
            "Batch:  70%|███████   | 7/10 [01:52<00:47, 15.98s/it]\u001b[A"
          ],
          "name": "stderr"
        },
        {
          "output_type": "stream",
          "text": [
            "Reinforce Loss : 0.02734375 Reinforce Max Reward : -2.4225730895996094"
          ],
          "name": "stdout"
        },
        {
          "output_type": "stream",
          "text": [
            "\n",
            "Batch:  80%|████████  | 8/10 [02:08<00:31, 15.86s/it]\u001b[A"
          ],
          "name": "stderr"
        },
        {
          "output_type": "stream",
          "text": [
            "Reinforce Loss : 0.005859375 Reinforce Max Reward : -2.203042507171631"
          ],
          "name": "stdout"
        },
        {
          "output_type": "stream",
          "text": [
            "\n",
            "Batch:  90%|█████████ | 9/10 [02:24<00:15, 15.88s/it]\u001b[A"
          ],
          "name": "stderr"
        },
        {
          "output_type": "stream",
          "text": [
            "Reinforce Loss : 0.005859375 Reinforce Max Reward : -2.3640637397766113"
          ],
          "name": "stdout"
        },
        {
          "output_type": "stream",
          "text": [
            "\n",
            "Batch: 100%|██████████| 10/10 [02:39<00:00, 15.75s/it]\u001b[A\n",
            "Epoch:   3%|▎         | 55/1785 [2:44:22<85:54:56, 178.78s/it]\n",
            "Batch:   0%|          | 0/10 [00:00<?, ?it/s]\u001b[A"
          ],
          "name": "stderr"
        },
        {
          "output_type": "stream",
          "text": [
            "Reinforce Loss : 0.009765625 Reinforce Max Reward : -2.209937572479248"
          ],
          "name": "stdout"
        },
        {
          "output_type": "stream",
          "text": [
            "\n",
            "Batch:  10%|█         | 1/10 [00:17<02:37, 17.46s/it]\u001b[A"
          ],
          "name": "stderr"
        },
        {
          "output_type": "stream",
          "text": [
            "Reinforce Loss : -0.0048828125 Reinforce Max Reward : -1.9565346240997314"
          ],
          "name": "stdout"
        },
        {
          "output_type": "stream",
          "text": [
            "\n",
            "Batch:  20%|██        | 2/10 [00:33<02:16, 17.11s/it]\u001b[A"
          ],
          "name": "stderr"
        },
        {
          "output_type": "stream",
          "text": [
            "Reinforce Loss : -0.01171875 Reinforce Max Reward : -2.024925708770752"
          ],
          "name": "stdout"
        },
        {
          "output_type": "stream",
          "text": [
            "\n",
            "Batch:  30%|███       | 3/10 [00:49<01:57, 16.72s/it]\u001b[A"
          ],
          "name": "stderr"
        },
        {
          "output_type": "stream",
          "text": [
            "Reinforce Loss : -0.009765625 Reinforce Max Reward : -2.4247143268585205"
          ],
          "name": "stdout"
        },
        {
          "output_type": "stream",
          "text": [
            "\n",
            "Batch:  40%|████      | 4/10 [01:05<01:38, 16.49s/it]\u001b[A"
          ],
          "name": "stderr"
        },
        {
          "output_type": "stream",
          "text": [
            "Reinforce Loss : -0.005859375 Reinforce Max Reward : -2.0448715686798096"
          ],
          "name": "stdout"
        },
        {
          "output_type": "stream",
          "text": [
            "\n",
            "Batch:  50%|█████     | 5/10 [01:21<01:21, 16.31s/it]\u001b[A"
          ],
          "name": "stderr"
        },
        {
          "output_type": "stream",
          "text": [
            "Reinforce Loss : 0.00390625 Reinforce Max Reward : -2.423093795776367"
          ],
          "name": "stdout"
        },
        {
          "output_type": "stream",
          "text": [
            "\n",
            "Batch:  60%|██████    | 6/10 [01:37<01:04, 16.13s/it]\u001b[A"
          ],
          "name": "stderr"
        },
        {
          "output_type": "stream",
          "text": [
            "Reinforce Loss : -0.0048828125 Reinforce Max Reward : -1.9359267950057983"
          ],
          "name": "stdout"
        },
        {
          "output_type": "stream",
          "text": [
            "\n",
            "Batch:  70%|███████   | 7/10 [01:52<00:48, 16.01s/it]\u001b[A"
          ],
          "name": "stderr"
        },
        {
          "output_type": "stream",
          "text": [
            "Reinforce Loss : 0.0048828125 Reinforce Max Reward : -2.403963327407837"
          ],
          "name": "stdout"
        },
        {
          "output_type": "stream",
          "text": [
            "\n",
            "Batch:  80%|████████  | 8/10 [02:08<00:31, 15.90s/it]\u001b[A"
          ],
          "name": "stderr"
        },
        {
          "output_type": "stream",
          "text": [
            "Reinforce Loss : 0.0009765625 Reinforce Max Reward : -2.254390001296997"
          ],
          "name": "stdout"
        },
        {
          "output_type": "stream",
          "text": [
            "\n",
            "Batch:  90%|█████████ | 9/10 [02:24<00:15, 15.89s/it]\u001b[A"
          ],
          "name": "stderr"
        },
        {
          "output_type": "stream",
          "text": [
            "Reinforce Loss : 0.00390625 Reinforce Max Reward : -1.8165638446807861"
          ],
          "name": "stdout"
        },
        {
          "output_type": "stream",
          "text": [
            "\n",
            "Batch: 100%|██████████| 10/10 [02:40<00:00, 15.85s/it]\u001b[A\n",
            "Epoch:   3%|▎         | 56/1785 [2:47:19<85:38:26, 178.31s/it]\n",
            "Batch:   0%|          | 0/10 [00:00<?, ?it/s]\u001b[A"
          ],
          "name": "stderr"
        },
        {
          "output_type": "stream",
          "text": [
            "Reinforce Loss : 0.0048828125 Reinforce Max Reward : -2.41123104095459"
          ],
          "name": "stdout"
        },
        {
          "output_type": "stream",
          "text": [
            "\n",
            "Batch:  10%|█         | 1/10 [00:18<02:46, 18.49s/it]\u001b[A"
          ],
          "name": "stderr"
        },
        {
          "output_type": "stream",
          "text": [
            "Reinforce Loss : 0.0029296875 Reinforce Max Reward : -2.396749973297119"
          ],
          "name": "stdout"
        },
        {
          "output_type": "stream",
          "text": [
            "\n",
            "Batch:  20%|██        | 2/10 [00:34<02:21, 17.68s/it]\u001b[A"
          ],
          "name": "stderr"
        },
        {
          "output_type": "stream",
          "text": [
            "Reinforce Loss : 0.0029296875 Reinforce Max Reward : -2.422006130218506"
          ],
          "name": "stdout"
        },
        {
          "output_type": "stream",
          "text": [
            "\n",
            "Batch:  30%|███       | 3/10 [00:50<01:59, 17.11s/it]\u001b[A"
          ],
          "name": "stderr"
        },
        {
          "output_type": "stream",
          "text": [
            "Reinforce Loss : 0.02734375 Reinforce Max Reward : -2.430187463760376"
          ],
          "name": "stdout"
        },
        {
          "output_type": "stream",
          "text": [
            "\n",
            "Batch:  40%|████      | 4/10 [01:05<01:39, 16.66s/it]\u001b[A"
          ],
          "name": "stderr"
        },
        {
          "output_type": "stream",
          "text": [
            "Reinforce Loss : -0.00390625 Reinforce Max Reward : -2.448540687561035"
          ],
          "name": "stdout"
        },
        {
          "output_type": "stream",
          "text": [
            "\n",
            "Batch:  50%|█████     | 5/10 [01:21<01:21, 16.37s/it]\u001b[A"
          ],
          "name": "stderr"
        },
        {
          "output_type": "stream",
          "text": [
            "Reinforce Loss : -0.0078125 Reinforce Max Reward : -2.307915210723877"
          ],
          "name": "stdout"
        },
        {
          "output_type": "stream",
          "text": [
            "\n",
            "Batch:  60%|██████    | 6/10 [01:37<01:04, 16.18s/it]\u001b[A"
          ],
          "name": "stderr"
        },
        {
          "output_type": "stream",
          "text": [
            "Reinforce Loss : 0.00390625 Reinforce Max Reward : -2.4120519161224365"
          ],
          "name": "stdout"
        },
        {
          "output_type": "stream",
          "text": [
            "\n",
            "Batch:  70%|███████   | 7/10 [01:52<00:48, 16.07s/it]\u001b[A"
          ],
          "name": "stderr"
        },
        {
          "output_type": "stream",
          "text": [
            "Reinforce Loss : -0.00390625 Reinforce Max Reward : -2.4186835289001465"
          ],
          "name": "stdout"
        },
        {
          "output_type": "stream",
          "text": [
            "\n",
            "Batch:  80%|████████  | 8/10 [02:08<00:31, 15.92s/it]\u001b[A"
          ],
          "name": "stderr"
        },
        {
          "output_type": "stream",
          "text": [
            "Reinforce Loss : -0.00390625 Reinforce Max Reward : -2.4150800704956055"
          ],
          "name": "stdout"
        },
        {
          "output_type": "stream",
          "text": [
            "\n",
            "Batch:  90%|█████████ | 9/10 [02:24<00:15, 15.84s/it]\u001b[A"
          ],
          "name": "stderr"
        },
        {
          "output_type": "stream",
          "text": [
            "Reinforce Loss : -0.00390625 Reinforce Max Reward : -2.423184633255005"
          ],
          "name": "stdout"
        },
        {
          "output_type": "stream",
          "text": [
            "\n",
            "Batch: 100%|██████████| 10/10 [02:39<00:00, 15.74s/it]\u001b[A\n",
            "Epoch:   3%|▎         | 57/1785 [2:50:17<85:33:37, 178.25s/it]\n",
            "Batch:   0%|          | 0/10 [00:00<?, ?it/s]\u001b[A"
          ],
          "name": "stderr"
        },
        {
          "output_type": "stream",
          "text": [
            "Reinforce Loss : 0.005859375 Reinforce Max Reward : -2.398935079574585"
          ],
          "name": "stdout"
        },
        {
          "output_type": "stream",
          "text": [
            "\n",
            "Batch:  10%|█         | 1/10 [00:18<02:44, 18.31s/it]\u001b[A"
          ],
          "name": "stderr"
        },
        {
          "output_type": "stream",
          "text": [
            "Reinforce Loss : -0.0029296875 Reinforce Max Reward : -2.4401068687438965"
          ],
          "name": "stdout"
        },
        {
          "output_type": "stream",
          "text": [
            "\n",
            "Batch:  20%|██        | 2/10 [00:33<02:19, 17.50s/it]\u001b[A"
          ],
          "name": "stderr"
        },
        {
          "output_type": "stream",
          "text": [
            "Reinforce Loss : -0.00390625 Reinforce Max Reward : -2.3409423828125"
          ],
          "name": "stdout"
        },
        {
          "output_type": "stream",
          "text": [
            "\n",
            "Batch:  30%|███       | 3/10 [00:49<01:58, 16.95s/it]\u001b[A"
          ],
          "name": "stderr"
        },
        {
          "output_type": "stream",
          "text": [
            "Reinforce Loss : -0.017578125 Reinforce Max Reward : -2.423318862915039"
          ],
          "name": "stdout"
        },
        {
          "output_type": "stream",
          "text": [
            "\n",
            "Batch:  40%|████      | 4/10 [01:05<01:39, 16.56s/it]\u001b[A"
          ],
          "name": "stderr"
        },
        {
          "output_type": "stream",
          "text": [
            "Reinforce Loss : -0.0009765625 Reinforce Max Reward : -2.1605262756347656"
          ],
          "name": "stdout"
        },
        {
          "output_type": "stream",
          "text": [
            "\n",
            "Batch:  50%|█████     | 5/10 [01:20<01:21, 16.22s/it]\u001b[A"
          ],
          "name": "stderr"
        },
        {
          "output_type": "stream",
          "text": [
            "Reinforce Loss : -0.001953125 Reinforce Max Reward : -2.3904929161071777"
          ],
          "name": "stdout"
        },
        {
          "output_type": "stream",
          "text": [
            "\n",
            "Batch:  60%|██████    | 6/10 [01:36<01:04, 16.07s/it]\u001b[A"
          ],
          "name": "stderr"
        },
        {
          "output_type": "stream",
          "text": [
            "Reinforce Loss : -0.017578125 Reinforce Max Reward : -2.4221692085266113"
          ],
          "name": "stdout"
        },
        {
          "output_type": "stream",
          "text": [
            "\n",
            "Batch:  70%|███████   | 7/10 [01:51<00:47, 15.93s/it]\u001b[A"
          ],
          "name": "stderr"
        },
        {
          "output_type": "stream",
          "text": [
            "Reinforce Loss : 0.0 Reinforce Max Reward : -1.9786303043365479"
          ],
          "name": "stdout"
        },
        {
          "output_type": "stream",
          "text": [
            "\n",
            "Batch:  80%|████████  | 8/10 [02:07<00:31, 15.84s/it]\u001b[A"
          ],
          "name": "stderr"
        },
        {
          "output_type": "stream",
          "text": [
            "Reinforce Loss : -0.017578125 Reinforce Max Reward : -2.272418260574341"
          ],
          "name": "stdout"
        },
        {
          "output_type": "stream",
          "text": [
            "\n",
            "Batch:  90%|█████████ | 9/10 [02:23<00:15, 15.80s/it]\u001b[A"
          ],
          "name": "stderr"
        },
        {
          "output_type": "stream",
          "text": [
            "Reinforce Loss : 0.0029296875 Reinforce Max Reward : -1.8132457733154297"
          ],
          "name": "stdout"
        },
        {
          "output_type": "stream",
          "text": [
            "\n",
            "Batch: 100%|██████████| 10/10 [02:38<00:00, 15.69s/it]\u001b[A\n",
            "Epoch:   3%|▎         | 58/1785 [2:53:14<85:18:19, 177.82s/it]\n",
            "Batch:   0%|          | 0/10 [00:00<?, ?it/s]\u001b[A"
          ],
          "name": "stderr"
        },
        {
          "output_type": "stream",
          "text": [
            "Reinforce Loss : -0.001953125 Reinforce Max Reward : -2.0603456497192383"
          ],
          "name": "stdout"
        },
        {
          "output_type": "stream",
          "text": [
            "\n",
            "Batch:  10%|█         | 1/10 [00:18<02:44, 18.23s/it]\u001b[A"
          ],
          "name": "stderr"
        },
        {
          "output_type": "stream",
          "text": [
            "Reinforce Loss : -0.0078125 Reinforce Max Reward : -2.3685789108276367"
          ],
          "name": "stdout"
        },
        {
          "output_type": "stream",
          "text": [
            "\n",
            "Batch:  20%|██        | 2/10 [00:33<02:19, 17.45s/it]\u001b[A"
          ],
          "name": "stderr"
        },
        {
          "output_type": "stream",
          "text": [
            "Reinforce Loss : -0.001953125 Reinforce Max Reward : -2.080378532409668"
          ],
          "name": "stdout"
        },
        {
          "output_type": "stream",
          "text": [
            "\n",
            "Batch:  30%|███       | 3/10 [00:49<01:59, 17.00s/it]\u001b[A"
          ],
          "name": "stderr"
        },
        {
          "output_type": "stream",
          "text": [
            "Reinforce Loss : -0.00390625 Reinforce Max Reward : -2.3920350074768066"
          ],
          "name": "stdout"
        },
        {
          "output_type": "stream",
          "text": [
            "\n",
            "Batch:  40%|████      | 4/10 [01:05<01:40, 16.69s/it]\u001b[A"
          ],
          "name": "stderr"
        },
        {
          "output_type": "stream",
          "text": [
            "Reinforce Loss : 0.00390625 Reinforce Max Reward : -2.411017894744873"
          ],
          "name": "stdout"
        },
        {
          "output_type": "stream",
          "text": [
            "\n",
            "Batch:  50%|█████     | 5/10 [01:21<01:22, 16.43s/it]\u001b[A"
          ],
          "name": "stderr"
        },
        {
          "output_type": "stream",
          "text": [
            "Reinforce Loss : -0.013671875 Reinforce Max Reward : -2.4408822059631348"
          ],
          "name": "stdout"
        },
        {
          "output_type": "stream",
          "text": [
            "\n",
            "Batch:  60%|██████    | 6/10 [01:37<01:04, 16.25s/it]\u001b[A"
          ],
          "name": "stderr"
        },
        {
          "output_type": "stream",
          "text": [
            "Reinforce Loss : 0.00390625 Reinforce Max Reward : -2.4221396446228027"
          ],
          "name": "stdout"
        },
        {
          "output_type": "stream",
          "text": [
            "\n",
            "Batch:  70%|███████   | 7/10 [01:53<00:48, 16.14s/it]\u001b[A"
          ],
          "name": "stderr"
        },
        {
          "output_type": "stream",
          "text": [
            "Reinforce Loss : -0.001953125 Reinforce Max Reward : -2.4367446899414062"
          ],
          "name": "stdout"
        },
        {
          "output_type": "stream",
          "text": [
            "\n",
            "Batch:  80%|████████  | 8/10 [02:09<00:32, 16.10s/it]\u001b[A"
          ],
          "name": "stderr"
        },
        {
          "output_type": "stream",
          "text": [
            "Reinforce Loss : 0.005859375 Reinforce Max Reward : -2.40114164352417"
          ],
          "name": "stdout"
        },
        {
          "output_type": "stream",
          "text": [
            "\n",
            "Batch:  90%|█████████ | 9/10 [02:24<00:15, 15.96s/it]\u001b[A"
          ],
          "name": "stderr"
        },
        {
          "output_type": "stream",
          "text": [
            "Reinforce Loss : 0.001953125 Reinforce Max Reward : -2.375460624694824"
          ],
          "name": "stdout"
        },
        {
          "output_type": "stream",
          "text": [
            "\n",
            "Batch: 100%|██████████| 10/10 [02:40<00:00, 15.96s/it]\u001b[A\n",
            "Epoch:   3%|▎         | 59/1785 [2:56:13<85:24:59, 178.16s/it]\n",
            "Batch:   0%|          | 0/10 [00:00<?, ?it/s]\u001b[A"
          ],
          "name": "stderr"
        },
        {
          "output_type": "stream",
          "text": [
            "Reinforce Loss : -0.009765625 Reinforce Max Reward : -2.4309258460998535"
          ],
          "name": "stdout"
        },
        {
          "output_type": "stream",
          "text": [
            "\n",
            "Batch:  10%|█         | 1/10 [00:18<02:45, 18.44s/it]\u001b[A"
          ],
          "name": "stderr"
        },
        {
          "output_type": "stream",
          "text": [
            "Reinforce Loss : -0.0078125 Reinforce Max Reward : -2.422809600830078"
          ],
          "name": "stdout"
        },
        {
          "output_type": "stream",
          "text": [
            "\n",
            "Batch:  20%|██        | 2/10 [00:34<02:21, 17.69s/it]\u001b[A"
          ],
          "name": "stderr"
        },
        {
          "output_type": "stream",
          "text": [
            "Reinforce Loss : 0.0 Reinforce Max Reward : -2.4329895973205566"
          ],
          "name": "stdout"
        },
        {
          "output_type": "stream",
          "text": [
            "\n",
            "Batch:  30%|███       | 3/10 [00:50<01:59, 17.10s/it]\u001b[A"
          ],
          "name": "stderr"
        },
        {
          "output_type": "stream",
          "text": [
            "Reinforce Loss : 0.00390625 Reinforce Max Reward : -2.4229965209960938"
          ],
          "name": "stdout"
        },
        {
          "output_type": "stream",
          "text": [
            "\n",
            "Batch:  40%|████      | 4/10 [01:05<01:40, 16.74s/it]\u001b[A"
          ],
          "name": "stderr"
        },
        {
          "output_type": "stream",
          "text": [
            "Reinforce Loss : -0.00390625 Reinforce Max Reward : -2.42927885055542"
          ],
          "name": "stdout"
        },
        {
          "output_type": "stream",
          "text": [
            "\n",
            "Batch:  50%|█████     | 5/10 [01:21<01:21, 16.37s/it]\u001b[A"
          ],
          "name": "stderr"
        },
        {
          "output_type": "stream",
          "text": [
            "Reinforce Loss : 0.00390625 Reinforce Max Reward : -1.773529291152954"
          ],
          "name": "stdout"
        },
        {
          "output_type": "stream",
          "text": [
            "\n",
            "Batch:  60%|██████    | 6/10 [01:37<01:04, 16.18s/it]\u001b[A"
          ],
          "name": "stderr"
        },
        {
          "output_type": "stream",
          "text": [
            "Reinforce Loss : 0.017578125 Reinforce Max Reward : -2.237109661102295"
          ],
          "name": "stdout"
        },
        {
          "output_type": "stream",
          "text": [
            "\n",
            "Batch:  70%|███████   | 7/10 [01:52<00:48, 16.01s/it]\u001b[A"
          ],
          "name": "stderr"
        },
        {
          "output_type": "stream",
          "text": [
            "Reinforce Loss : 0.0048828125 Reinforce Max Reward : -1.9257858991622925"
          ],
          "name": "stdout"
        },
        {
          "output_type": "stream",
          "text": [
            "\n",
            "Batch:  80%|████████  | 8/10 [02:08<00:31, 15.99s/it]\u001b[A"
          ],
          "name": "stderr"
        },
        {
          "output_type": "stream",
          "text": [
            "Reinforce Loss : 0.0 Reinforce Max Reward : -2.293292999267578"
          ],
          "name": "stdout"
        },
        {
          "output_type": "stream",
          "text": [
            "\n",
            "Batch:  90%|█████████ | 9/10 [02:24<00:15, 15.87s/it]\u001b[A"
          ],
          "name": "stderr"
        },
        {
          "output_type": "stream",
          "text": [
            "Reinforce Loss : -0.0009765625 Reinforce Max Reward : -1.7451331615447998"
          ],
          "name": "stdout"
        },
        {
          "output_type": "stream",
          "text": [
            "\n",
            "Batch: 100%|██████████| 10/10 [02:40<00:00, 15.85s/it]\u001b[A\n",
            "Epoch:   3%|▎         | 60/1785 [2:59:11<85:21:26, 178.14s/it]\n",
            "Batch:   0%|          | 0/10 [00:00<?, ?it/s]\u001b[A"
          ],
          "name": "stderr"
        },
        {
          "output_type": "stream",
          "text": [
            "Reinforce Loss : -0.001953125 Reinforce Max Reward : -2.4318346977233887"
          ],
          "name": "stdout"
        },
        {
          "output_type": "stream",
          "text": [
            "\n",
            "Batch:  10%|█         | 1/10 [00:19<02:51, 19.03s/it]\u001b[A"
          ],
          "name": "stderr"
        },
        {
          "output_type": "stream",
          "text": [
            "Reinforce Loss : -0.01171875 Reinforce Max Reward : -2.3976640701293945"
          ],
          "name": "stdout"
        },
        {
          "output_type": "stream",
          "text": [
            "\n",
            "Batch:  20%|██        | 2/10 [00:34<02:24, 18.07s/it]\u001b[A"
          ],
          "name": "stderr"
        },
        {
          "output_type": "stream",
          "text": [
            "Reinforce Loss : 0.0009765625 Reinforce Max Reward : -2.3659300804138184"
          ],
          "name": "stdout"
        },
        {
          "output_type": "stream",
          "text": [
            "\n",
            "Batch:  30%|███       | 3/10 [00:50<02:01, 17.33s/it]\u001b[A"
          ],
          "name": "stderr"
        },
        {
          "output_type": "stream",
          "text": [
            "Reinforce Loss : 0.0 Reinforce Max Reward : -2.239863634109497"
          ],
          "name": "stdout"
        },
        {
          "output_type": "stream",
          "text": [
            "\n",
            "Batch:  40%|████      | 4/10 [01:06<01:41, 16.84s/it]\u001b[A"
          ],
          "name": "stderr"
        },
        {
          "output_type": "stream",
          "text": [
            "Reinforce Loss : -0.00390625 Reinforce Max Reward : -2.3543295860290527"
          ],
          "name": "stdout"
        },
        {
          "output_type": "stream",
          "text": [
            "\n",
            "Batch:  50%|█████     | 5/10 [01:21<01:22, 16.48s/it]\u001b[A"
          ],
          "name": "stderr"
        },
        {
          "output_type": "stream",
          "text": [
            "Reinforce Loss : 0.0 Reinforce Max Reward : -2.123084306716919"
          ],
          "name": "stdout"
        },
        {
          "output_type": "stream",
          "text": [
            "\n",
            "Batch:  60%|██████    | 6/10 [01:37<01:04, 16.21s/it]\u001b[A"
          ],
          "name": "stderr"
        },
        {
          "output_type": "stream",
          "text": [
            "Reinforce Loss : 0.01171875 Reinforce Max Reward : -1.7389165163040161"
          ],
          "name": "stdout"
        },
        {
          "output_type": "stream",
          "text": [
            "\n",
            "Batch:  70%|███████   | 7/10 [01:53<00:48, 16.06s/it]\u001b[A"
          ],
          "name": "stderr"
        },
        {
          "output_type": "stream",
          "text": [
            "Reinforce Loss : 0.01171875 Reinforce Max Reward : -2.28053879737854"
          ],
          "name": "stdout"
        },
        {
          "output_type": "stream",
          "text": [
            "\n",
            "Batch:  80%|████████  | 8/10 [02:08<00:31, 15.96s/it]\u001b[A"
          ],
          "name": "stderr"
        },
        {
          "output_type": "stream",
          "text": [
            "Reinforce Loss : 0.00390625 Reinforce Max Reward : -2.3799827098846436"
          ],
          "name": "stdout"
        },
        {
          "output_type": "stream",
          "text": [
            "\n",
            "Batch:  90%|█████████ | 9/10 [02:24<00:15, 15.85s/it]\u001b[A"
          ],
          "name": "stderr"
        },
        {
          "output_type": "stream",
          "text": [
            "Reinforce Loss : -0.0087890625 Reinforce Max Reward : -2.4457614421844482"
          ],
          "name": "stdout"
        },
        {
          "output_type": "stream",
          "text": [
            "\n",
            "Batch: 100%|██████████| 10/10 [02:40<00:00, 15.78s/it]\u001b[A\n",
            "Epoch:   3%|▎         | 61/1785 [3:02:08<85:10:40, 177.87s/it]\n",
            "Batch:   0%|          | 0/10 [00:00<?, ?it/s]\u001b[A"
          ],
          "name": "stderr"
        },
        {
          "output_type": "stream",
          "text": [
            "Reinforce Loss : 0.0078125 Reinforce Max Reward : -2.4253649711608887"
          ],
          "name": "stdout"
        },
        {
          "output_type": "stream",
          "text": [
            "\n",
            "Batch:  10%|█         | 1/10 [00:19<02:54, 19.37s/it]\u001b[A"
          ],
          "name": "stderr"
        },
        {
          "output_type": "stream",
          "text": [
            "Reinforce Loss : 0.00390625 Reinforce Max Reward : -2.4293675422668457"
          ],
          "name": "stdout"
        },
        {
          "output_type": "stream",
          "text": [
            "\n",
            "Batch:  20%|██        | 2/10 [00:35<02:26, 18.32s/it]\u001b[A"
          ],
          "name": "stderr"
        },
        {
          "output_type": "stream",
          "text": [
            "Reinforce Loss : 0.01953125 Reinforce Max Reward : -2.431669235229492"
          ],
          "name": "stdout"
        },
        {
          "output_type": "stream",
          "text": [
            "\n",
            "Batch:  30%|███       | 3/10 [00:50<02:02, 17.53s/it]\u001b[A"
          ],
          "name": "stderr"
        },
        {
          "output_type": "stream",
          "text": [
            "Reinforce Loss : -0.0078125 Reinforce Max Reward : -2.447815418243408"
          ],
          "name": "stdout"
        },
        {
          "output_type": "stream",
          "text": [
            "\n",
            "Batch:  40%|████      | 4/10 [01:06<01:42, 17.02s/it]\u001b[A"
          ],
          "name": "stderr"
        },
        {
          "output_type": "stream",
          "text": [
            "Reinforce Loss : -0.009765625 Reinforce Max Reward : -2.424685478210449"
          ],
          "name": "stdout"
        },
        {
          "output_type": "stream",
          "text": [
            "\n",
            "Batch:  50%|█████     | 5/10 [01:22<01:22, 16.59s/it]\u001b[A"
          ],
          "name": "stderr"
        },
        {
          "output_type": "stream",
          "text": [
            "Reinforce Loss : 0.0048828125 Reinforce Max Reward : -2.392533302307129"
          ],
          "name": "stdout"
        },
        {
          "output_type": "stream",
          "text": [
            "\n",
            "Batch:  60%|██████    | 6/10 [01:38<01:05, 16.39s/it]\u001b[A"
          ],
          "name": "stderr"
        },
        {
          "output_type": "stream",
          "text": [
            "Reinforce Loss : 0.001953125 Reinforce Max Reward : -2.428737163543701"
          ],
          "name": "stdout"
        },
        {
          "output_type": "stream",
          "text": [
            "\n",
            "Batch:  70%|███████   | 7/10 [01:53<00:48, 16.19s/it]\u001b[A"
          ],
          "name": "stderr"
        },
        {
          "output_type": "stream",
          "text": [
            "Reinforce Loss : 0.0068359375 Reinforce Max Reward : -2.4347879886627197"
          ],
          "name": "stdout"
        },
        {
          "output_type": "stream",
          "text": [
            "\n",
            "Batch:  80%|████████  | 8/10 [02:09<00:32, 16.11s/it]\u001b[A"
          ],
          "name": "stderr"
        },
        {
          "output_type": "stream",
          "text": [
            "Reinforce Loss : 0.001953125 Reinforce Max Reward : -2.3929009437561035"
          ],
          "name": "stdout"
        },
        {
          "output_type": "stream",
          "text": [
            "\n",
            "Batch:  90%|█████████ | 9/10 [02:25<00:16, 16.02s/it]\u001b[A"
          ],
          "name": "stderr"
        },
        {
          "output_type": "stream",
          "text": [
            "Reinforce Loss : -0.005859375 Reinforce Max Reward : -2.24861478805542"
          ],
          "name": "stdout"
        },
        {
          "output_type": "stream",
          "text": [
            "\n",
            "Batch: 100%|██████████| 10/10 [02:41<00:00, 15.90s/it]\u001b[A\n",
            "Epoch:   3%|▎         | 62/1785 [3:05:05<85:01:53, 177.66s/it]\n",
            "Batch:   0%|          | 0/10 [00:00<?, ?it/s]\u001b[A"
          ],
          "name": "stderr"
        },
        {
          "output_type": "stream",
          "text": [
            "Reinforce Loss : 0.001953125 Reinforce Max Reward : -2.429792881011963"
          ],
          "name": "stdout"
        },
        {
          "output_type": "stream",
          "text": [
            "\n",
            "Batch:  10%|█         | 1/10 [00:18<02:49, 18.87s/it]\u001b[A"
          ],
          "name": "stderr"
        },
        {
          "output_type": "stream",
          "text": [
            "Reinforce Loss : -0.001953125 Reinforce Max Reward : -1.7791962623596191"
          ],
          "name": "stdout"
        },
        {
          "output_type": "stream",
          "text": [
            "\n",
            "Batch:  20%|██        | 2/10 [00:34<02:23, 17.96s/it]\u001b[A"
          ],
          "name": "stderr"
        },
        {
          "output_type": "stream",
          "text": [
            "Reinforce Loss : -0.0009765625 Reinforce Max Reward : -1.7392494678497314"
          ],
          "name": "stdout"
        },
        {
          "output_type": "stream",
          "text": [
            "\n",
            "Batch:  30%|███       | 3/10 [00:50<02:00, 17.27s/it]\u001b[A"
          ],
          "name": "stderr"
        },
        {
          "output_type": "stream",
          "text": [
            "Reinforce Loss : -0.001953125 Reinforce Max Reward : -2.1729681491851807"
          ],
          "name": "stdout"
        },
        {
          "output_type": "stream",
          "text": [
            "\n",
            "Batch:  40%|████      | 4/10 [01:06<01:40, 16.82s/it]\u001b[A"
          ],
          "name": "stderr"
        },
        {
          "output_type": "stream",
          "text": [
            "Reinforce Loss : -0.021484375 Reinforce Max Reward : -2.373122215270996"
          ],
          "name": "stdout"
        },
        {
          "output_type": "stream",
          "text": [
            "\n",
            "Batch:  50%|█████     | 5/10 [01:21<01:22, 16.51s/it]\u001b[A"
          ],
          "name": "stderr"
        },
        {
          "output_type": "stream",
          "text": [
            "Reinforce Loss : 0.0048828125 Reinforce Max Reward : -2.375248432159424"
          ],
          "name": "stdout"
        },
        {
          "output_type": "stream",
          "text": [
            "\n",
            "Batch:  60%|██████    | 6/10 [01:37<01:05, 16.28s/it]\u001b[A"
          ],
          "name": "stderr"
        },
        {
          "output_type": "stream",
          "text": [
            "Reinforce Loss : 0.0 Reinforce Max Reward : -2.37642502784729"
          ],
          "name": "stdout"
        },
        {
          "output_type": "stream",
          "text": [
            "\n",
            "Batch:  70%|███████   | 7/10 [01:53<00:48, 16.13s/it]\u001b[A"
          ],
          "name": "stderr"
        },
        {
          "output_type": "stream",
          "text": [
            "Reinforce Loss : -0.0068359375 Reinforce Max Reward : -2.4116153717041016"
          ],
          "name": "stdout"
        },
        {
          "output_type": "stream",
          "text": [
            "\n",
            "Batch:  80%|████████  | 8/10 [02:09<00:32, 16.02s/it]\u001b[A"
          ],
          "name": "stderr"
        },
        {
          "output_type": "stream",
          "text": [
            "Reinforce Loss : 0.001953125 Reinforce Max Reward : -2.1839709281921387"
          ],
          "name": "stdout"
        },
        {
          "output_type": "stream",
          "text": [
            "\n",
            "Batch:  90%|█████████ | 9/10 [02:24<00:15, 15.90s/it]\u001b[A"
          ],
          "name": "stderr"
        },
        {
          "output_type": "stream",
          "text": [
            "Reinforce Loss : -0.005859375 Reinforce Max Reward : -2.410430669784546"
          ],
          "name": "stdout"
        },
        {
          "output_type": "stream",
          "text": [
            "\n",
            "Batch: 100%|██████████| 10/10 [02:40<00:00, 15.89s/it]\u001b[A\n",
            "Epoch:   4%|▎         | 63/1785 [3:08:01<84:44:58, 177.18s/it]\n",
            "Batch:   0%|          | 0/10 [00:00<?, ?it/s]\u001b[A"
          ],
          "name": "stderr"
        },
        {
          "output_type": "stream",
          "text": [
            "Reinforce Loss : -0.0029296875 Reinforce Max Reward : -2.2215542793273926"
          ],
          "name": "stdout"
        },
        {
          "output_type": "stream",
          "text": [
            "\n",
            "Batch:  10%|█         | 1/10 [00:19<02:56, 19.62s/it]\u001b[A"
          ],
          "name": "stderr"
        },
        {
          "output_type": "stream",
          "text": [
            "Reinforce Loss : -0.013671875 Reinforce Max Reward : -2.435746431350708"
          ],
          "name": "stdout"
        },
        {
          "output_type": "stream",
          "text": [
            "\n",
            "Batch:  20%|██        | 2/10 [00:35<02:27, 18.42s/it]\u001b[A"
          ],
          "name": "stderr"
        },
        {
          "output_type": "stream",
          "text": [
            "Reinforce Loss : -0.013671875 Reinforce Max Reward : -2.4333910942077637"
          ],
          "name": "stdout"
        },
        {
          "output_type": "stream",
          "text": [
            "\n",
            "Batch:  30%|███       | 3/10 [00:51<02:03, 17.65s/it]\u001b[A"
          ],
          "name": "stderr"
        },
        {
          "output_type": "stream",
          "text": [
            "Reinforce Loss : 0.0078125 Reinforce Max Reward : -2.435809850692749"
          ],
          "name": "stdout"
        },
        {
          "output_type": "stream",
          "text": [
            "\n",
            "Batch:  40%|████      | 4/10 [01:07<01:43, 17.17s/it]\u001b[A"
          ],
          "name": "stderr"
        },
        {
          "output_type": "stream",
          "text": [
            "Reinforce Loss : 0.009765625 Reinforce Max Reward : -1.895572304725647"
          ],
          "name": "stdout"
        },
        {
          "output_type": "stream",
          "text": [
            "\n",
            "Batch:  50%|█████     | 5/10 [01:22<01:23, 16.77s/it]\u001b[A"
          ],
          "name": "stderr"
        },
        {
          "output_type": "stream",
          "text": [
            "Reinforce Loss : 0.0078125 Reinforce Max Reward : -2.4419381618499756"
          ],
          "name": "stdout"
        },
        {
          "output_type": "stream",
          "text": [
            "\n",
            "Batch:  60%|██████    | 6/10 [01:39<01:06, 16.55s/it]\u001b[A"
          ],
          "name": "stderr"
        },
        {
          "output_type": "stream",
          "text": [
            "Reinforce Loss : -0.00390625 Reinforce Max Reward : -2.4250993728637695"
          ],
          "name": "stdout"
        },
        {
          "output_type": "stream",
          "text": [
            "\n",
            "Batch:  70%|███████   | 7/10 [01:54<00:48, 16.33s/it]\u001b[A"
          ],
          "name": "stderr"
        },
        {
          "output_type": "stream",
          "text": [
            "Reinforce Loss : 0.0 Reinforce Max Reward : -2.3743133544921875"
          ],
          "name": "stdout"
        },
        {
          "output_type": "stream",
          "text": [
            "\n",
            "Batch:  80%|████████  | 8/10 [02:10<00:32, 16.25s/it]\u001b[A"
          ],
          "name": "stderr"
        },
        {
          "output_type": "stream",
          "text": [
            "Reinforce Loss : 0.0078125 Reinforce Max Reward : -2.4196176528930664"
          ],
          "name": "stdout"
        },
        {
          "output_type": "stream",
          "text": [
            "\n",
            "Batch:  90%|█████████ | 9/10 [02:26<00:16, 16.14s/it]\u001b[A"
          ],
          "name": "stderr"
        },
        {
          "output_type": "stream",
          "text": [
            "Reinforce Loss : 0.0107421875 Reinforce Max Reward : -2.427048921585083"
          ],
          "name": "stdout"
        },
        {
          "output_type": "stream",
          "text": [
            "\n",
            "Batch: 100%|██████████| 10/10 [02:42<00:00, 16.07s/it]\u001b[A\n",
            "Epoch:   4%|▎         | 64/1785 [3:11:03<85:16:34, 178.38s/it]\n",
            "Batch:   0%|          | 0/10 [00:00<?, ?it/s]\u001b[A"
          ],
          "name": "stderr"
        },
        {
          "output_type": "stream",
          "text": [
            "Reinforce Loss : 0.005859375 Reinforce Max Reward : -2.3816022872924805"
          ],
          "name": "stdout"
        },
        {
          "output_type": "stream",
          "text": [
            "\n",
            "Batch:  10%|█         | 1/10 [00:18<02:50, 18.94s/it]\u001b[A"
          ],
          "name": "stderr"
        },
        {
          "output_type": "stream",
          "text": [
            "Reinforce Loss : -0.005859375 Reinforce Max Reward : -2.4315762519836426"
          ],
          "name": "stdout"
        },
        {
          "output_type": "stream",
          "text": [
            "\n",
            "Batch:  20%|██        | 2/10 [00:34<02:24, 18.00s/it]\u001b[A"
          ],
          "name": "stderr"
        },
        {
          "output_type": "stream",
          "text": [
            "Reinforce Loss : -0.005859375 Reinforce Max Reward : -2.4144904613494873"
          ],
          "name": "stdout"
        },
        {
          "output_type": "stream",
          "text": [
            "\n",
            "Batch:  30%|███       | 3/10 [00:50<02:02, 17.43s/it]\u001b[A"
          ],
          "name": "stderr"
        },
        {
          "output_type": "stream",
          "text": [
            "Reinforce Loss : -0.0029296875 Reinforce Max Reward : -2.0543155670166016"
          ],
          "name": "stdout"
        },
        {
          "output_type": "stream",
          "text": [
            "\n",
            "Batch:  40%|████      | 4/10 [01:06<01:41, 16.92s/it]\u001b[A"
          ],
          "name": "stderr"
        },
        {
          "output_type": "stream",
          "text": [
            "Reinforce Loss : 0.009765625 Reinforce Max Reward : -2.447087049484253"
          ],
          "name": "stdout"
        },
        {
          "output_type": "stream",
          "text": [
            "\n",
            "Batch:  50%|█████     | 5/10 [01:22<01:22, 16.57s/it]\u001b[A"
          ],
          "name": "stderr"
        },
        {
          "output_type": "stream",
          "text": [
            "Reinforce Loss : 0.0068359375 Reinforce Max Reward : -2.163846492767334"
          ],
          "name": "stdout"
        },
        {
          "output_type": "stream",
          "text": [
            "\n",
            "Batch:  60%|██████    | 6/10 [01:38<01:05, 16.32s/it]\u001b[A"
          ],
          "name": "stderr"
        },
        {
          "output_type": "stream",
          "text": [
            "Reinforce Loss : -0.00390625 Reinforce Max Reward : -2.429508686065674"
          ],
          "name": "stdout"
        },
        {
          "output_type": "stream",
          "text": [
            "\n",
            "Batch:  70%|███████   | 7/10 [01:53<00:48, 16.05s/it]\u001b[A"
          ],
          "name": "stderr"
        },
        {
          "output_type": "stream",
          "text": [
            "Reinforce Loss : -0.015625 Reinforce Max Reward : -2.3935818672180176"
          ],
          "name": "stdout"
        },
        {
          "output_type": "stream",
          "text": [
            "\n",
            "Batch:  80%|████████  | 8/10 [02:09<00:32, 16.04s/it]\u001b[A"
          ],
          "name": "stderr"
        },
        {
          "output_type": "stream",
          "text": [
            "Reinforce Loss : 0.001953125 Reinforce Max Reward : -1.6514389514923096"
          ],
          "name": "stdout"
        },
        {
          "output_type": "stream",
          "text": [
            "\n",
            "Batch:  90%|█████████ | 9/10 [02:25<00:15, 15.95s/it]\u001b[A"
          ],
          "name": "stderr"
        },
        {
          "output_type": "stream",
          "text": [
            "Reinforce Loss : -0.001953125 Reinforce Max Reward : -2.435483455657959"
          ],
          "name": "stdout"
        },
        {
          "output_type": "stream",
          "text": [
            "\n",
            "Batch: 100%|██████████| 10/10 [02:41<00:00, 15.91s/it]\u001b[A\n",
            "Epoch:   4%|▎         | 65/1785 [3:13:58<84:50:36, 177.58s/it]\n",
            "Batch:   0%|          | 0/10 [00:00<?, ?it/s]\u001b[A"
          ],
          "name": "stderr"
        },
        {
          "output_type": "stream",
          "text": [
            "Reinforce Loss : -0.0009765625 Reinforce Max Reward : -2.4225821495056152"
          ],
          "name": "stdout"
        },
        {
          "output_type": "stream",
          "text": [
            "\n",
            "Batch:  10%|█         | 1/10 [00:20<03:01, 20.19s/it]\u001b[A"
          ],
          "name": "stderr"
        },
        {
          "output_type": "stream",
          "text": [
            "Reinforce Loss : 0.0048828125 Reinforce Max Reward : -2.4261765480041504"
          ],
          "name": "stdout"
        },
        {
          "output_type": "stream",
          "text": [
            "\n",
            "Batch:  20%|██        | 2/10 [00:36<02:31, 18.88s/it]\u001b[A"
          ],
          "name": "stderr"
        },
        {
          "output_type": "stream",
          "text": [
            "Reinforce Loss : 0.005859375 Reinforce Max Reward : -2.426520347595215"
          ],
          "name": "stdout"
        },
        {
          "output_type": "stream",
          "text": [
            "\n",
            "Batch:  30%|███       | 3/10 [00:52<02:06, 18.07s/it]\u001b[A"
          ],
          "name": "stderr"
        },
        {
          "output_type": "stream",
          "text": [
            "Reinforce Loss : -0.01171875 Reinforce Max Reward : -2.4168701171875"
          ],
          "name": "stdout"
        },
        {
          "output_type": "stream",
          "text": [
            "\n",
            "Batch:  40%|████      | 4/10 [01:08<01:44, 17.42s/it]\u001b[A"
          ],
          "name": "stderr"
        },
        {
          "output_type": "stream",
          "text": [
            "Reinforce Loss : -0.00390625 Reinforce Max Reward : -2.293694496154785"
          ],
          "name": "stdout"
        },
        {
          "output_type": "stream",
          "text": [
            "\n",
            "Batch:  50%|█████     | 5/10 [01:23<01:24, 16.96s/it]\u001b[A"
          ],
          "name": "stderr"
        },
        {
          "output_type": "stream",
          "text": [
            "Reinforce Loss : 0.0078125 Reinforce Max Reward : -2.102236032485962"
          ],
          "name": "stdout"
        },
        {
          "output_type": "stream",
          "text": [
            "\n",
            "Batch:  60%|██████    | 6/10 [01:39<01:06, 16.58s/it]\u001b[A"
          ],
          "name": "stderr"
        },
        {
          "output_type": "stream",
          "text": [
            "Reinforce Loss : -0.015625 Reinforce Max Reward : -1.950042486190796"
          ],
          "name": "stdout"
        },
        {
          "output_type": "stream",
          "text": [
            "\n",
            "Batch:  70%|███████   | 7/10 [01:55<00:49, 16.39s/it]\u001b[A"
          ],
          "name": "stderr"
        },
        {
          "output_type": "stream",
          "text": [
            "Reinforce Loss : -0.001953125 Reinforce Max Reward : -2.3790082931518555"
          ],
          "name": "stdout"
        },
        {
          "output_type": "stream",
          "text": [
            "\n",
            "Batch:  80%|████████  | 8/10 [02:11<00:32, 16.24s/it]\u001b[A"
          ],
          "name": "stderr"
        },
        {
          "output_type": "stream",
          "text": [
            "Reinforce Loss : -0.00390625 Reinforce Max Reward : -2.4275150299072266"
          ],
          "name": "stdout"
        },
        {
          "output_type": "stream",
          "text": [
            "\n",
            "Batch:  90%|█████████ | 9/10 [02:27<00:16, 16.16s/it]\u001b[A"
          ],
          "name": "stderr"
        },
        {
          "output_type": "stream",
          "text": [
            "Reinforce Loss : -0.0068359375 Reinforce Max Reward : -2.3821067810058594"
          ],
          "name": "stdout"
        },
        {
          "output_type": "stream",
          "text": [
            "\n",
            "Batch: 100%|██████████| 10/10 [02:43<00:00, 16.05s/it]\u001b[A\n",
            "Epoch:   4%|▎         | 66/1785 [3:17:00<85:26:22, 178.93s/it]\n",
            "Batch:   0%|          | 0/10 [00:00<?, ?it/s]\u001b[A"
          ],
          "name": "stderr"
        },
        {
          "output_type": "stream",
          "text": [
            "Reinforce Loss : -0.001953125 Reinforce Max Reward : -2.4244141578674316"
          ],
          "name": "stdout"
        },
        {
          "output_type": "stream",
          "text": [
            "\n",
            "Batch:  10%|█         | 1/10 [00:18<02:43, 18.15s/it]\u001b[A"
          ],
          "name": "stderr"
        },
        {
          "output_type": "stream",
          "text": [
            "Reinforce Loss : -0.005859375 Reinforce Max Reward : -2.4074273109436035"
          ],
          "name": "stdout"
        },
        {
          "output_type": "stream",
          "text": [
            "\n",
            "Batch:  20%|██        | 2/10 [00:34<02:19, 17.46s/it]\u001b[A"
          ],
          "name": "stderr"
        },
        {
          "output_type": "stream",
          "text": [
            "Reinforce Loss : 0.0078125 Reinforce Max Reward : -2.441112995147705"
          ],
          "name": "stdout"
        },
        {
          "output_type": "stream",
          "text": [
            "\n",
            "Batch:  30%|███       | 3/10 [00:50<01:59, 17.13s/it]\u001b[A"
          ],
          "name": "stderr"
        },
        {
          "output_type": "stream",
          "text": [
            "Reinforce Loss : -0.013671875 Reinforce Max Reward : -2.3367090225219727"
          ],
          "name": "stdout"
        },
        {
          "output_type": "stream",
          "text": [
            "\n",
            "Batch:  40%|████      | 4/10 [01:06<01:40, 16.69s/it]\u001b[A"
          ],
          "name": "stderr"
        },
        {
          "output_type": "stream",
          "text": [
            "Reinforce Loss : -0.001953125 Reinforce Max Reward : -2.2710914611816406"
          ],
          "name": "stdout"
        },
        {
          "output_type": "stream",
          "text": [
            "\n",
            "Batch:  50%|█████     | 5/10 [01:21<01:22, 16.43s/it]\u001b[A"
          ],
          "name": "stderr"
        },
        {
          "output_type": "stream",
          "text": [
            "Reinforce Loss : -0.00390625 Reinforce Max Reward : -2.3740735054016113"
          ],
          "name": "stdout"
        },
        {
          "output_type": "stream",
          "text": [
            "\n",
            "Batch:  60%|██████    | 6/10 [01:37<01:04, 16.22s/it]\u001b[A"
          ],
          "name": "stderr"
        },
        {
          "output_type": "stream",
          "text": [
            "Reinforce Loss : -0.0068359375 Reinforce Max Reward : -2.429434299468994"
          ],
          "name": "stdout"
        },
        {
          "output_type": "stream",
          "text": [
            "\n",
            "Batch:  70%|███████   | 7/10 [01:53<00:48, 16.05s/it]\u001b[A"
          ],
          "name": "stderr"
        },
        {
          "output_type": "stream",
          "text": [
            "Reinforce Loss : -0.0234375 Reinforce Max Reward : -2.428116798400879"
          ],
          "name": "stdout"
        },
        {
          "output_type": "stream",
          "text": [
            "\n",
            "Batch:  80%|████████  | 8/10 [02:09<00:31, 15.96s/it]\u001b[A"
          ],
          "name": "stderr"
        },
        {
          "output_type": "stream",
          "text": [
            "Reinforce Loss : 0.00390625 Reinforce Max Reward : -2.0541114807128906"
          ],
          "name": "stdout"
        },
        {
          "output_type": "stream",
          "text": [
            "\n",
            "Batch:  90%|█████████ | 9/10 [02:24<00:15, 15.90s/it]\u001b[A"
          ],
          "name": "stderr"
        },
        {
          "output_type": "stream",
          "text": [
            "Reinforce Loss : 0.0 Reinforce Max Reward : -2.397230625152588"
          ],
          "name": "stdout"
        },
        {
          "output_type": "stream",
          "text": [
            "\n",
            "Batch: 100%|██████████| 10/10 [02:40<00:00, 15.84s/it]\u001b[A\n",
            "Epoch:   4%|▍         | 67/1785 [3:19:56<84:52:15, 177.84s/it]\n",
            "Batch:   0%|          | 0/10 [00:00<?, ?it/s]\u001b[A"
          ],
          "name": "stderr"
        },
        {
          "output_type": "stream",
          "text": [
            "Reinforce Loss : -0.005859375 Reinforce Max Reward : -2.394477367401123"
          ],
          "name": "stdout"
        },
        {
          "output_type": "stream",
          "text": [
            "\n",
            "Batch:  10%|█         | 1/10 [00:20<03:06, 20.77s/it]\u001b[A"
          ],
          "name": "stderr"
        },
        {
          "output_type": "stream",
          "text": [
            "Reinforce Loss : -0.0078125 Reinforce Max Reward : -2.43884539604187"
          ],
          "name": "stdout"
        },
        {
          "output_type": "stream",
          "text": [
            "\n",
            "Batch:  20%|██        | 2/10 [00:36<02:33, 19.23s/it]\u001b[A"
          ],
          "name": "stderr"
        },
        {
          "output_type": "stream",
          "text": [
            "Reinforce Loss : -0.009765625 Reinforce Max Reward : -2.4421677589416504"
          ],
          "name": "stdout"
        },
        {
          "output_type": "stream",
          "text": [
            "\n",
            "Batch:  30%|███       | 3/10 [00:52<02:07, 18.20s/it]\u001b[A"
          ],
          "name": "stderr"
        },
        {
          "output_type": "stream",
          "text": [
            "Reinforce Loss : -0.0048828125 Reinforce Max Reward : -2.4256138801574707"
          ],
          "name": "stdout"
        },
        {
          "output_type": "stream",
          "text": [
            "\n",
            "Batch:  40%|████      | 4/10 [01:07<01:44, 17.45s/it]\u001b[A"
          ],
          "name": "stderr"
        },
        {
          "output_type": "stream",
          "text": [
            "Reinforce Loss : -0.0078125 Reinforce Max Reward : -2.2799670696258545"
          ],
          "name": "stdout"
        },
        {
          "output_type": "stream",
          "text": [
            "\n",
            "Batch:  50%|█████     | 5/10 [01:23<01:24, 16.95s/it]\u001b[A"
          ],
          "name": "stderr"
        },
        {
          "output_type": "stream",
          "text": [
            "Reinforce Loss : 0.005859375 Reinforce Max Reward : -2.4072372913360596"
          ],
          "name": "stdout"
        },
        {
          "output_type": "stream",
          "text": [
            "\n",
            "Batch:  60%|██████    | 6/10 [01:39<01:06, 16.55s/it]\u001b[A"
          ],
          "name": "stderr"
        },
        {
          "output_type": "stream",
          "text": [
            "Reinforce Loss : -0.0068359375 Reinforce Max Reward : -2.4433774948120117"
          ],
          "name": "stdout"
        },
        {
          "output_type": "stream",
          "text": [
            "\n",
            "Batch:  70%|███████   | 7/10 [01:55<00:49, 16.33s/it]\u001b[A"
          ],
          "name": "stderr"
        },
        {
          "output_type": "stream",
          "text": [
            "Reinforce Loss : 0.009765625 Reinforce Max Reward : -2.4282355308532715"
          ],
          "name": "stdout"
        },
        {
          "output_type": "stream",
          "text": [
            "\n",
            "Batch:  80%|████████  | 8/10 [02:10<00:32, 16.15s/it]\u001b[A"
          ],
          "name": "stderr"
        },
        {
          "output_type": "stream",
          "text": [
            "Reinforce Loss : 0.005859375 Reinforce Max Reward : -2.4373536109924316"
          ],
          "name": "stdout"
        },
        {
          "output_type": "stream",
          "text": [
            "\n",
            "Batch:  90%|█████████ | 9/10 [02:26<00:16, 16.01s/it]\u001b[A"
          ],
          "name": "stderr"
        },
        {
          "output_type": "stream",
          "text": [
            "Reinforce Loss : 0.0 Reinforce Max Reward : -2.380204200744629"
          ],
          "name": "stdout"
        },
        {
          "output_type": "stream",
          "text": [
            "\n",
            "Batch: 100%|██████████| 10/10 [02:42<00:00, 15.91s/it]\u001b[A\n",
            "Epoch:   4%|▍         | 68/1785 [3:22:54<84:53:27, 177.99s/it]\n",
            "Batch:   0%|          | 0/10 [00:00<?, ?it/s]\u001b[A"
          ],
          "name": "stderr"
        },
        {
          "output_type": "stream",
          "text": [
            "Reinforce Loss : -0.0078125 Reinforce Max Reward : -2.231701135635376"
          ],
          "name": "stdout"
        },
        {
          "output_type": "stream",
          "text": [
            "\n",
            "Batch:  10%|█         | 1/10 [00:19<02:52, 19.14s/it]\u001b[A"
          ],
          "name": "stderr"
        },
        {
          "output_type": "stream",
          "text": [
            "Reinforce Loss : -0.0234375 Reinforce Max Reward : -2.430738925933838"
          ],
          "name": "stdout"
        },
        {
          "output_type": "stream",
          "text": [
            "\n",
            "Batch:  20%|██        | 2/10 [00:35<02:26, 18.28s/it]\u001b[A"
          ],
          "name": "stderr"
        },
        {
          "output_type": "stream",
          "text": [
            "Reinforce Loss : 0.00390625 Reinforce Max Reward : -2.422469139099121"
          ],
          "name": "stdout"
        },
        {
          "output_type": "stream",
          "text": [
            "\n",
            "Batch:  30%|███       | 3/10 [00:51<02:02, 17.53s/it]\u001b[A"
          ],
          "name": "stderr"
        },
        {
          "output_type": "stream",
          "text": [
            "Reinforce Loss : 0.0107421875 Reinforce Max Reward : -2.3722050189971924"
          ],
          "name": "stdout"
        },
        {
          "output_type": "stream",
          "text": [
            "\n",
            "Batch:  40%|████      | 4/10 [01:07<01:42, 17.06s/it]\u001b[A"
          ],
          "name": "stderr"
        },
        {
          "output_type": "stream",
          "text": [
            "Reinforce Loss : 0.00390625 Reinforce Max Reward : -2.247753620147705"
          ],
          "name": "stdout"
        },
        {
          "output_type": "stream",
          "text": [
            "\n",
            "Batch:  50%|█████     | 5/10 [01:23<01:23, 16.71s/it]\u001b[A"
          ],
          "name": "stderr"
        },
        {
          "output_type": "stream",
          "text": [
            "Reinforce Loss : -0.005859375 Reinforce Max Reward : -2.4277420043945312"
          ],
          "name": "stdout"
        },
        {
          "output_type": "stream",
          "text": [
            "\n",
            "Batch:  60%|██████    | 6/10 [01:38<01:05, 16.43s/it]\u001b[A"
          ],
          "name": "stderr"
        },
        {
          "output_type": "stream",
          "text": [
            "Reinforce Loss : 0.001953125 Reinforce Max Reward : -2.402078151702881"
          ],
          "name": "stdout"
        },
        {
          "output_type": "stream",
          "text": [
            "\n",
            "Batch:  70%|███████   | 7/10 [01:54<00:48, 16.21s/it]\u001b[A"
          ],
          "name": "stderr"
        },
        {
          "output_type": "stream",
          "text": [
            "Reinforce Loss : -0.00390625 Reinforce Max Reward : -2.307788848876953"
          ],
          "name": "stdout"
        },
        {
          "output_type": "stream",
          "text": [
            "\n",
            "Batch:  80%|████████  | 8/10 [02:10<00:32, 16.14s/it]\u001b[A"
          ],
          "name": "stderr"
        },
        {
          "output_type": "stream",
          "text": [
            "Reinforce Loss : -0.015625 Reinforce Max Reward : -2.4223861694335938"
          ],
          "name": "stdout"
        },
        {
          "output_type": "stream",
          "text": [
            "\n",
            "Batch:  90%|█████████ | 9/10 [02:26<00:16, 16.03s/it]\u001b[A"
          ],
          "name": "stderr"
        },
        {
          "output_type": "stream",
          "text": [
            "Reinforce Loss : 0.0029296875 Reinforce Max Reward : -2.4102208614349365"
          ],
          "name": "stdout"
        },
        {
          "output_type": "stream",
          "text": [
            "\n",
            "Batch: 100%|██████████| 10/10 [02:41<00:00, 15.89s/it]\u001b[A\n",
            "Epoch:   4%|▍         | 69/1785 [3:25:49<84:24:40, 177.09s/it]\n",
            "Batch:   0%|          | 0/10 [00:00<?, ?it/s]\u001b[A"
          ],
          "name": "stderr"
        },
        {
          "output_type": "stream",
          "text": [
            "Reinforce Loss : -0.00390625 Reinforce Max Reward : -2.3812170028686523"
          ],
          "name": "stdout"
        },
        {
          "output_type": "stream",
          "text": [
            "\n",
            "Batch:  10%|█         | 1/10 [00:22<03:19, 22.17s/it]\u001b[A"
          ],
          "name": "stderr"
        },
        {
          "output_type": "stream",
          "text": [
            "Reinforce Loss : 0.0 Reinforce Max Reward : -2.2877860069274902"
          ],
          "name": "stdout"
        },
        {
          "output_type": "stream",
          "text": [
            "\n",
            "Batch:  20%|██        | 2/10 [00:37<02:42, 20.26s/it]\u001b[A"
          ],
          "name": "stderr"
        },
        {
          "output_type": "stream",
          "text": [
            "Reinforce Loss : -0.0029296875 Reinforce Max Reward : -1.703292727470398"
          ],
          "name": "stdout"
        },
        {
          "output_type": "stream",
          "text": [
            "\n",
            "Batch:  30%|███       | 3/10 [00:53<02:12, 18.92s/it]\u001b[A"
          ],
          "name": "stderr"
        },
        {
          "output_type": "stream",
          "text": [
            "Reinforce Loss : -0.00390625 Reinforce Max Reward : -2.434767484664917"
          ],
          "name": "stdout"
        },
        {
          "output_type": "stream",
          "text": [
            "\n",
            "Batch:  40%|████      | 4/10 [01:09<01:47, 17.95s/it]\u001b[A"
          ],
          "name": "stderr"
        },
        {
          "output_type": "stream",
          "text": [
            "Reinforce Loss : 0.00390625 Reinforce Max Reward : -2.1814322471618652"
          ],
          "name": "stdout"
        },
        {
          "output_type": "stream",
          "text": [
            "\n",
            "Batch:  50%|█████     | 5/10 [01:25<01:26, 17.31s/it]\u001b[A"
          ],
          "name": "stderr"
        },
        {
          "output_type": "stream",
          "text": [
            "Reinforce Loss : 0.005859375 Reinforce Max Reward : -2.402060031890869"
          ],
          "name": "stdout"
        },
        {
          "output_type": "stream",
          "text": [
            "\n",
            "Batch:  60%|██████    | 6/10 [01:40<01:07, 16.77s/it]\u001b[A"
          ],
          "name": "stderr"
        },
        {
          "output_type": "stream",
          "text": [
            "Reinforce Loss : -0.0009765625 Reinforce Max Reward : -2.3946990966796875"
          ],
          "name": "stdout"
        },
        {
          "output_type": "stream",
          "text": [
            "\n",
            "Batch:  70%|███████   | 7/10 [01:56<00:49, 16.46s/it]\u001b[A"
          ],
          "name": "stderr"
        },
        {
          "output_type": "stream",
          "text": [
            "Reinforce Loss : 0.0 Reinforce Max Reward : -2.396162509918213"
          ],
          "name": "stdout"
        },
        {
          "output_type": "stream",
          "text": [
            "\n",
            "Batch:  80%|████████  | 8/10 [02:12<00:32, 16.30s/it]\u001b[A"
          ],
          "name": "stderr"
        },
        {
          "output_type": "stream",
          "text": [
            "Reinforce Loss : 0.009765625 Reinforce Max Reward : -2.427309989929199"
          ],
          "name": "stdout"
        },
        {
          "output_type": "stream",
          "text": [
            "\n",
            "Batch:  90%|█████████ | 9/10 [02:28<00:16, 16.17s/it]\u001b[A"
          ],
          "name": "stderr"
        },
        {
          "output_type": "stream",
          "text": [
            "Reinforce Loss : -0.0029296875 Reinforce Max Reward : -1.8736991882324219"
          ],
          "name": "stdout"
        },
        {
          "output_type": "stream",
          "text": [
            "\n",
            "Batch: 100%|██████████| 10/10 [02:43<00:00, 15.99s/it]\u001b[A\n",
            "Epoch:   4%|▍         | 70/1785 [3:28:49<84:42:27, 177.81s/it]\n",
            "Batch:   0%|          | 0/10 [00:00<?, ?it/s]\u001b[A"
          ],
          "name": "stderr"
        },
        {
          "output_type": "stream",
          "text": [
            "Reinforce Loss : -0.0078125 Reinforce Max Reward : -2.4090394973754883"
          ],
          "name": "stdout"
        },
        {
          "output_type": "stream",
          "text": [
            "\n",
            "Batch:  10%|█         | 1/10 [00:20<03:00, 20.09s/it]\u001b[A"
          ],
          "name": "stderr"
        },
        {
          "output_type": "stream",
          "text": [
            "Reinforce Loss : 0.0625 Reinforce Max Reward : -2.427065372467041"
          ],
          "name": "stdout"
        },
        {
          "output_type": "stream",
          "text": [
            "\n",
            "Batch:  20%|██        | 2/10 [00:36<02:30, 18.85s/it]\u001b[A"
          ],
          "name": "stderr"
        },
        {
          "output_type": "stream",
          "text": [
            "Reinforce Loss : 0.005859375 Reinforce Max Reward : -2.326730489730835"
          ],
          "name": "stdout"
        },
        {
          "output_type": "stream",
          "text": [
            "\n",
            "Batch:  30%|███       | 3/10 [00:51<02:05, 17.94s/it]\u001b[A"
          ],
          "name": "stderr"
        },
        {
          "output_type": "stream",
          "text": [
            "Reinforce Loss : -0.0078125 Reinforce Max Reward : -2.413054943084717"
          ],
          "name": "stdout"
        },
        {
          "output_type": "stream",
          "text": [
            "\n",
            "Batch:  40%|████      | 4/10 [01:07<01:43, 17.23s/it]\u001b[A"
          ],
          "name": "stderr"
        },
        {
          "output_type": "stream",
          "text": [
            "Reinforce Loss : -0.001953125 Reinforce Max Reward : -2.3793163299560547"
          ],
          "name": "stdout"
        },
        {
          "output_type": "stream",
          "text": [
            "\n",
            "Batch:  50%|█████     | 5/10 [01:23<01:24, 16.85s/it]\u001b[A"
          ],
          "name": "stderr"
        },
        {
          "output_type": "stream",
          "text": [
            "Reinforce Loss : -0.001953125 Reinforce Max Reward : -2.414371967315674"
          ],
          "name": "stdout"
        },
        {
          "output_type": "stream",
          "text": [
            "\n",
            "Batch:  60%|██████    | 6/10 [01:39<01:06, 16.63s/it]\u001b[A"
          ],
          "name": "stderr"
        },
        {
          "output_type": "stream",
          "text": [
            "Reinforce Loss : 0.00390625 Reinforce Max Reward : -2.096989631652832"
          ],
          "name": "stdout"
        },
        {
          "output_type": "stream",
          "text": [
            "\n",
            "Batch:  70%|███████   | 7/10 [01:55<00:49, 16.39s/it]\u001b[A"
          ],
          "name": "stderr"
        },
        {
          "output_type": "stream",
          "text": [
            "Reinforce Loss : 0.00390625 Reinforce Max Reward : -2.3287644386291504"
          ],
          "name": "stdout"
        },
        {
          "output_type": "stream",
          "text": [
            "\n",
            "Batch:  80%|████████  | 8/10 [02:11<00:32, 16.20s/it]\u001b[A"
          ],
          "name": "stderr"
        },
        {
          "output_type": "stream",
          "text": [
            "Reinforce Loss : -0.001953125 Reinforce Max Reward : -2.199021100997925"
          ],
          "name": "stdout"
        },
        {
          "output_type": "stream",
          "text": [
            "\n",
            "Batch:  90%|█████████ | 9/10 [02:26<00:16, 16.10s/it]\u001b[A"
          ],
          "name": "stderr"
        },
        {
          "output_type": "stream",
          "text": [
            "Reinforce Loss : -0.0078125 Reinforce Max Reward : -2.3827054500579834"
          ],
          "name": "stdout"
        },
        {
          "output_type": "stream",
          "text": [
            "\n",
            "Batch: 100%|██████████| 10/10 [02:42<00:00, 15.96s/it]\u001b[A\n",
            "Epoch:   4%|▍         | 71/1785 [3:31:49<85:00:11, 178.54s/it]\n",
            "Batch:   0%|          | 0/10 [00:00<?, ?it/s]\u001b[A"
          ],
          "name": "stderr"
        },
        {
          "output_type": "stream",
          "text": [
            "Reinforce Loss : -0.0078125 Reinforce Max Reward : -2.3590126037597656"
          ],
          "name": "stdout"
        },
        {
          "output_type": "stream",
          "text": [
            "\n",
            "Batch:  10%|█         | 1/10 [00:18<02:46, 18.51s/it]\u001b[A"
          ],
          "name": "stderr"
        },
        {
          "output_type": "stream",
          "text": [
            "Reinforce Loss : 0.009765625 Reinforce Max Reward : -2.038219451904297"
          ],
          "name": "stdout"
        },
        {
          "output_type": "stream",
          "text": [
            "\n",
            "Batch:  20%|██        | 2/10 [00:34<02:21, 17.71s/it]\u001b[A"
          ],
          "name": "stderr"
        },
        {
          "output_type": "stream",
          "text": [
            "Reinforce Loss : -0.009765625 Reinforce Max Reward : -2.4340615272521973"
          ],
          "name": "stdout"
        },
        {
          "output_type": "stream",
          "text": [
            "\n",
            "Batch:  30%|███       | 3/10 [00:49<01:59, 17.06s/it]\u001b[A"
          ],
          "name": "stderr"
        },
        {
          "output_type": "stream",
          "text": [
            "Reinforce Loss : 0.0 Reinforce Max Reward : -2.429377794265747"
          ],
          "name": "stdout"
        },
        {
          "output_type": "stream",
          "text": [
            "\n",
            "Batch:  40%|████      | 4/10 [01:05<01:39, 16.65s/it]\u001b[A"
          ],
          "name": "stderr"
        },
        {
          "output_type": "stream",
          "text": [
            "Reinforce Loss : -0.001953125 Reinforce Max Reward : -2.42724347114563"
          ],
          "name": "stdout"
        },
        {
          "output_type": "stream",
          "text": [
            "\n",
            "Batch:  50%|█████     | 5/10 [01:21<01:21, 16.39s/it]\u001b[A"
          ],
          "name": "stderr"
        },
        {
          "output_type": "stream",
          "text": [
            "Reinforce Loss : -0.0009765625 Reinforce Max Reward : -2.416049003601074"
          ],
          "name": "stdout"
        },
        {
          "output_type": "stream",
          "text": [
            "\n",
            "Batch:  60%|██████    | 6/10 [01:37<01:04, 16.22s/it]\u001b[A"
          ],
          "name": "stderr"
        },
        {
          "output_type": "stream",
          "text": [
            "Reinforce Loss : 0.0 Reinforce Max Reward : -2.1741068363189697"
          ],
          "name": "stdout"
        },
        {
          "output_type": "stream",
          "text": [
            "\n",
            "Batch:  70%|███████   | 7/10 [01:52<00:48, 16.08s/it]\u001b[A"
          ],
          "name": "stderr"
        },
        {
          "output_type": "stream",
          "text": [
            "Reinforce Loss : -0.0048828125 Reinforce Max Reward : -2.2877490520477295"
          ],
          "name": "stdout"
        },
        {
          "output_type": "stream",
          "text": [
            "\n",
            "Batch:  80%|████████  | 8/10 [02:08<00:31, 15.98s/it]\u001b[A"
          ],
          "name": "stderr"
        },
        {
          "output_type": "stream",
          "text": [
            "Reinforce Loss : 0.0107421875 Reinforce Max Reward : -2.4338297843933105"
          ],
          "name": "stdout"
        },
        {
          "output_type": "stream",
          "text": [
            "\n",
            "Batch:  90%|█████████ | 9/10 [02:24<00:15, 15.89s/it]\u001b[A"
          ],
          "name": "stderr"
        },
        {
          "output_type": "stream",
          "text": [
            "Reinforce Loss : 0.0 Reinforce Max Reward : -2.177077293395996"
          ],
          "name": "stdout"
        },
        {
          "output_type": "stream",
          "text": [
            "\n",
            "Batch: 100%|██████████| 10/10 [02:40<00:00, 15.82s/it]\u001b[A\n",
            "Epoch:   4%|▍         | 72/1785 [3:34:45<84:37:53, 177.86s/it]\n",
            "Batch:   0%|          | 0/10 [00:00<?, ?it/s]\u001b[A"
          ],
          "name": "stderr"
        },
        {
          "output_type": "stream",
          "text": [
            "Reinforce Loss : 0.0078125 Reinforce Max Reward : -2.445967197418213"
          ],
          "name": "stdout"
        },
        {
          "output_type": "stream",
          "text": [
            "\n",
            "Batch:  10%|█         | 1/10 [00:20<03:05, 20.61s/it]\u001b[A"
          ],
          "name": "stderr"
        },
        {
          "output_type": "stream",
          "text": [
            "Reinforce Loss : -0.015625 Reinforce Max Reward : -2.42733097076416"
          ],
          "name": "stdout"
        },
        {
          "output_type": "stream",
          "text": [
            "\n",
            "Batch:  20%|██        | 2/10 [00:36<02:33, 19.21s/it]\u001b[A"
          ],
          "name": "stderr"
        },
        {
          "output_type": "stream",
          "text": [
            "Reinforce Loss : 0.0 Reinforce Max Reward : -2.4116013050079346"
          ],
          "name": "stdout"
        },
        {
          "output_type": "stream",
          "text": [
            "\n",
            "Batch:  30%|███       | 3/10 [00:52<02:06, 18.14s/it]\u001b[A"
          ],
          "name": "stderr"
        },
        {
          "output_type": "stream",
          "text": [
            "Reinforce Loss : -0.015625 Reinforce Max Reward : -2.1496500968933105"
          ],
          "name": "stdout"
        },
        {
          "output_type": "stream",
          "text": [
            "\n",
            "Batch:  40%|████      | 4/10 [01:08<01:44, 17.49s/it]\u001b[A"
          ],
          "name": "stderr"
        },
        {
          "output_type": "stream",
          "text": [
            "Reinforce Loss : 0.0 Reinforce Max Reward : -2.260748863220215"
          ],
          "name": "stdout"
        },
        {
          "output_type": "stream",
          "text": [
            "\n",
            "Batch:  50%|█████     | 5/10 [01:23<01:24, 16.98s/it]\u001b[A"
          ],
          "name": "stderr"
        },
        {
          "output_type": "stream",
          "text": [
            "Reinforce Loss : 0.001953125 Reinforce Max Reward : -2.446317672729492"
          ],
          "name": "stdout"
        },
        {
          "output_type": "stream",
          "text": [
            "\n",
            "Batch:  60%|██████    | 6/10 [01:39<01:06, 16.59s/it]\u001b[A"
          ],
          "name": "stderr"
        },
        {
          "output_type": "stream",
          "text": [
            "Reinforce Loss : -0.001953125 Reinforce Max Reward : -2.3946352005004883"
          ],
          "name": "stdout"
        },
        {
          "output_type": "stream",
          "text": [
            "\n",
            "Batch:  70%|███████   | 7/10 [01:55<00:49, 16.35s/it]\u001b[A"
          ],
          "name": "stderr"
        },
        {
          "output_type": "stream",
          "text": [
            "Reinforce Loss : -0.01171875 Reinforce Max Reward : -2.407724380493164"
          ],
          "name": "stdout"
        },
        {
          "output_type": "stream",
          "text": [
            "\n",
            "Batch:  80%|████████  | 8/10 [02:10<00:32, 16.09s/it]\u001b[A"
          ],
          "name": "stderr"
        },
        {
          "output_type": "stream",
          "text": [
            "Reinforce Loss : 0.001953125 Reinforce Max Reward : -2.1620168685913086"
          ],
          "name": "stdout"
        },
        {
          "output_type": "stream",
          "text": [
            "\n",
            "Batch:  90%|█████████ | 9/10 [02:26<00:16, 16.01s/it]\u001b[A"
          ],
          "name": "stderr"
        },
        {
          "output_type": "stream",
          "text": [
            "Reinforce Loss : 0.001953125 Reinforce Max Reward : -2.377110004425049"
          ],
          "name": "stdout"
        },
        {
          "output_type": "stream",
          "text": [
            "\n",
            "Batch: 100%|██████████| 10/10 [02:42<00:00, 15.91s/it]\u001b[A\n",
            "Epoch:   4%|▍         | 73/1785 [3:37:41<84:15:06, 177.16s/it]\n",
            "Batch:   0%|          | 0/10 [00:00<?, ?it/s]\u001b[A"
          ],
          "name": "stderr"
        },
        {
          "output_type": "stream",
          "text": [
            "Reinforce Loss : -0.001953125 Reinforce Max Reward : -2.401759386062622"
          ],
          "name": "stdout"
        },
        {
          "output_type": "stream",
          "text": [
            "\n",
            "Batch:  10%|█         | 1/10 [00:23<03:30, 23.43s/it]\u001b[A"
          ],
          "name": "stderr"
        },
        {
          "output_type": "stream",
          "text": [
            "Reinforce Loss : -0.001953125 Reinforce Max Reward : -2.434499502182007"
          ],
          "name": "stdout"
        },
        {
          "output_type": "stream",
          "text": [
            "\n",
            "Batch:  20%|██        | 2/10 [00:39<02:49, 21.16s/it]\u001b[A"
          ],
          "name": "stderr"
        },
        {
          "output_type": "stream",
          "text": [
            "Reinforce Loss : -0.0009765625 Reinforce Max Reward : -2.4241538047790527"
          ],
          "name": "stdout"
        },
        {
          "output_type": "stream",
          "text": [
            "\n",
            "Batch:  30%|███       | 3/10 [00:55<02:16, 19.55s/it]\u001b[A"
          ],
          "name": "stderr"
        },
        {
          "output_type": "stream",
          "text": [
            "Reinforce Loss : -0.0078125 Reinforce Max Reward : -2.106219530105591"
          ],
          "name": "stdout"
        },
        {
          "output_type": "stream",
          "text": [
            "\n",
            "Batch:  40%|████      | 4/10 [01:10<01:50, 18.41s/it]\u001b[A"
          ],
          "name": "stderr"
        },
        {
          "output_type": "stream",
          "text": [
            "Reinforce Loss : -0.015625 Reinforce Max Reward : -2.282658576965332"
          ],
          "name": "stdout"
        },
        {
          "output_type": "stream",
          "text": [
            "\n",
            "Batch:  50%|█████     | 5/10 [01:26<01:28, 17.62s/it]\u001b[A"
          ],
          "name": "stderr"
        },
        {
          "output_type": "stream",
          "text": [
            "Reinforce Loss : 0.0 Reinforce Max Reward : -2.32193660736084"
          ],
          "name": "stdout"
        },
        {
          "output_type": "stream",
          "text": [
            "\n",
            "Batch:  60%|██████    | 6/10 [01:42<01:08, 17.04s/it]\u001b[A"
          ],
          "name": "stderr"
        },
        {
          "output_type": "stream",
          "text": [
            "Reinforce Loss : -0.00390625 Reinforce Max Reward : -2.4125287532806396"
          ],
          "name": "stdout"
        },
        {
          "output_type": "stream",
          "text": [
            "\n",
            "Batch:  70%|███████   | 7/10 [01:57<00:49, 16.59s/it]\u001b[A"
          ],
          "name": "stderr"
        },
        {
          "output_type": "stream",
          "text": [
            "Reinforce Loss : -0.0078125 Reinforce Max Reward : -2.246312141418457"
          ],
          "name": "stdout"
        },
        {
          "output_type": "stream",
          "text": [
            "\n",
            "Batch:  80%|████████  | 8/10 [02:13<00:32, 16.37s/it]\u001b[A"
          ],
          "name": "stderr"
        },
        {
          "output_type": "stream",
          "text": [
            "Reinforce Loss : -0.005859375 Reinforce Max Reward : -2.4337105751037598"
          ],
          "name": "stdout"
        },
        {
          "output_type": "stream",
          "text": [
            "\n",
            "Batch:  90%|█████████ | 9/10 [02:29<00:16, 16.18s/it]\u001b[A"
          ],
          "name": "stderr"
        },
        {
          "output_type": "stream",
          "text": [
            "Reinforce Loss : -0.015625 Reinforce Max Reward : -2.4286112785339355"
          ],
          "name": "stdout"
        },
        {
          "output_type": "stream",
          "text": [
            "\n",
            "Batch: 100%|██████████| 10/10 [02:45<00:00, 16.10s/it]\u001b[A\n",
            "Epoch:   4%|▍         | 74/1785 [3:40:44<85:04:13, 178.99s/it]\n",
            "Batch:   0%|          | 0/10 [00:00<?, ?it/s]\u001b[A"
          ],
          "name": "stderr"
        },
        {
          "output_type": "stream",
          "text": [
            "Reinforce Loss : 0.00390625 Reinforce Max Reward : -2.245072603225708"
          ],
          "name": "stdout"
        },
        {
          "output_type": "stream",
          "text": [
            "\n",
            "Batch:  10%|█         | 1/10 [00:18<02:42, 18.05s/it]\u001b[A"
          ],
          "name": "stderr"
        },
        {
          "output_type": "stream",
          "text": [
            "Reinforce Loss : 0.0078125 Reinforce Max Reward : -1.58392333984375"
          ],
          "name": "stdout"
        },
        {
          "output_type": "stream",
          "text": [
            "\n",
            "Batch:  20%|██        | 2/10 [00:34<02:19, 17.44s/it]\u001b[A"
          ],
          "name": "stderr"
        },
        {
          "output_type": "stream",
          "text": [
            "Reinforce Loss : -0.00390625 Reinforce Max Reward : -2.4187378883361816"
          ],
          "name": "stdout"
        },
        {
          "output_type": "stream",
          "text": [
            "\n",
            "Batch:  30%|███       | 3/10 [00:49<01:58, 16.91s/it]\u001b[A"
          ],
          "name": "stderr"
        },
        {
          "output_type": "stream",
          "text": [
            "Reinforce Loss : 0.00390625 Reinforce Max Reward : -2.42708158493042"
          ],
          "name": "stdout"
        },
        {
          "output_type": "stream",
          "text": [
            "\n",
            "Batch:  40%|████      | 4/10 [01:05<01:39, 16.55s/it]\u001b[A"
          ],
          "name": "stderr"
        },
        {
          "output_type": "stream",
          "text": [
            "Reinforce Loss : 0.001953125 Reinforce Max Reward : -2.330577850341797"
          ],
          "name": "stdout"
        },
        {
          "output_type": "stream",
          "text": [
            "\n",
            "Batch:  50%|█████     | 5/10 [01:21<01:21, 16.32s/it]\u001b[A"
          ],
          "name": "stderr"
        },
        {
          "output_type": "stream",
          "text": [
            "Reinforce Loss : -0.013671875 Reinforce Max Reward : -2.405121326446533"
          ],
          "name": "stdout"
        },
        {
          "output_type": "stream",
          "text": [
            "\n",
            "Batch:  60%|██████    | 6/10 [01:36<01:04, 16.12s/it]\u001b[A"
          ],
          "name": "stderr"
        },
        {
          "output_type": "stream",
          "text": [
            "Reinforce Loss : 0.001953125 Reinforce Max Reward : -2.424402952194214"
          ],
          "name": "stdout"
        },
        {
          "output_type": "stream",
          "text": [
            "\n",
            "Batch:  70%|███████   | 7/10 [01:52<00:47, 15.95s/it]\u001b[A"
          ],
          "name": "stderr"
        },
        {
          "output_type": "stream",
          "text": [
            "Reinforce Loss : -0.017578125 Reinforce Max Reward : -2.447328805923462"
          ],
          "name": "stdout"
        },
        {
          "output_type": "stream",
          "text": [
            "\n",
            "Batch:  80%|████████  | 8/10 [02:08<00:31, 15.88s/it]\u001b[A"
          ],
          "name": "stderr"
        },
        {
          "output_type": "stream",
          "text": [
            "Reinforce Loss : -0.0029296875 Reinforce Max Reward : -2.3848838806152344"
          ],
          "name": "stdout"
        },
        {
          "output_type": "stream",
          "text": [
            "\n",
            "Batch:  90%|█████████ | 9/10 [02:23<00:15, 15.84s/it]\u001b[A"
          ],
          "name": "stderr"
        },
        {
          "output_type": "stream",
          "text": [
            "Reinforce Loss : -0.00390625 Reinforce Max Reward : -2.447986125946045"
          ],
          "name": "stdout"
        },
        {
          "output_type": "stream",
          "text": [
            "\n",
            "Batch: 100%|██████████| 10/10 [02:39<00:00, 15.82s/it]\u001b[A\n",
            "Epoch:   4%|▍         | 75/1785 [3:43:42<84:50:57, 178.63s/it]\n",
            "Batch:   0%|          | 0/10 [00:00<?, ?it/s]\u001b[A"
          ],
          "name": "stderr"
        },
        {
          "output_type": "stream",
          "text": [
            "Reinforce Loss : 0.00390625 Reinforce Max Reward : -2.322587013244629"
          ],
          "name": "stdout"
        },
        {
          "output_type": "stream",
          "text": [
            "\n",
            "Batch:  10%|█         | 1/10 [00:18<02:46, 18.54s/it]\u001b[A"
          ],
          "name": "stderr"
        },
        {
          "output_type": "stream",
          "text": [
            "Reinforce Loss : -0.0048828125 Reinforce Max Reward : -2.4220879077911377"
          ],
          "name": "stdout"
        },
        {
          "output_type": "stream",
          "text": [
            "\n",
            "Batch:  20%|██        | 2/10 [00:34<02:21, 17.73s/it]\u001b[A"
          ],
          "name": "stderr"
        },
        {
          "output_type": "stream",
          "text": [
            "Reinforce Loss : 0.005859375 Reinforce Max Reward : -2.202033519744873"
          ],
          "name": "stdout"
        },
        {
          "output_type": "stream",
          "text": [
            "\n",
            "Batch:  30%|███       | 3/10 [00:50<01:59, 17.13s/it]\u001b[A"
          ],
          "name": "stderr"
        },
        {
          "output_type": "stream",
          "text": [
            "Reinforce Loss : -0.0234375 Reinforce Max Reward : -2.437242269515991"
          ],
          "name": "stdout"
        },
        {
          "output_type": "stream",
          "text": [
            "\n",
            "Batch:  40%|████      | 4/10 [01:06<01:40, 16.76s/it]\u001b[A"
          ],
          "name": "stderr"
        },
        {
          "output_type": "stream",
          "text": [
            "Reinforce Loss : -0.0029296875 Reinforce Max Reward : -2.097682476043701"
          ],
          "name": "stdout"
        },
        {
          "output_type": "stream",
          "text": [
            "\n",
            "Batch:  50%|█████     | 5/10 [01:21<01:22, 16.48s/it]\u001b[A"
          ],
          "name": "stderr"
        },
        {
          "output_type": "stream",
          "text": [
            "Reinforce Loss : 0.00048828125 Reinforce Max Reward : -2.36441707611084"
          ],
          "name": "stdout"
        },
        {
          "output_type": "stream",
          "text": [
            "\n",
            "Batch:  60%|██████    | 6/10 [01:37<01:05, 16.35s/it]\u001b[A"
          ],
          "name": "stderr"
        },
        {
          "output_type": "stream",
          "text": [
            "Reinforce Loss : -0.0078125 Reinforce Max Reward : -2.4270248413085938"
          ],
          "name": "stdout"
        },
        {
          "output_type": "stream",
          "text": [
            "\n",
            "Batch:  70%|███████   | 7/10 [01:53<00:48, 16.19s/it]\u001b[A"
          ],
          "name": "stderr"
        },
        {
          "output_type": "stream",
          "text": [
            "Reinforce Loss : 0.0078125 Reinforce Max Reward : -2.434508800506592"
          ],
          "name": "stdout"
        },
        {
          "output_type": "stream",
          "text": [
            "\n",
            "Batch:  80%|████████  | 8/10 [02:09<00:32, 16.16s/it]\u001b[A"
          ],
          "name": "stderr"
        },
        {
          "output_type": "stream",
          "text": [
            "Reinforce Loss : -0.00390625 Reinforce Max Reward : -2.39347505569458"
          ],
          "name": "stdout"
        },
        {
          "output_type": "stream",
          "text": [
            "\n",
            "Batch:  90%|█████████ | 9/10 [02:25<00:16, 16.09s/it]\u001b[A"
          ],
          "name": "stderr"
        },
        {
          "output_type": "stream",
          "text": [
            "Reinforce Loss : -0.001953125 Reinforce Max Reward : -2.421752691268921"
          ],
          "name": "stdout"
        },
        {
          "output_type": "stream",
          "text": [
            "\n",
            "Batch: 100%|██████████| 10/10 [02:41<00:00, 16.10s/it]\u001b[A\n",
            "Epoch:   4%|▍         | 76/1785 [3:46:38<84:30:48, 178.03s/it]\n",
            "Batch:   0%|          | 0/10 [00:00<?, ?it/s]\u001b[A"
          ],
          "name": "stderr"
        },
        {
          "output_type": "stream",
          "text": [
            "Reinforce Loss : -0.0009765625 Reinforce Max Reward : -2.421710968017578"
          ],
          "name": "stdout"
        },
        {
          "output_type": "stream",
          "text": [
            "\n",
            "Batch:  10%|█         | 1/10 [00:19<02:57, 19.74s/it]\u001b[A"
          ],
          "name": "stderr"
        },
        {
          "output_type": "stream",
          "text": [
            "Reinforce Loss : 0.005859375 Reinforce Max Reward : -2.179328680038452"
          ],
          "name": "stdout"
        },
        {
          "output_type": "stream",
          "text": [
            "\n",
            "Batch:  20%|██        | 2/10 [00:35<02:28, 18.57s/it]\u001b[A"
          ],
          "name": "stderr"
        },
        {
          "output_type": "stream",
          "text": [
            "Reinforce Loss : 0.0087890625 Reinforce Max Reward : -2.4120025634765625"
          ],
          "name": "stdout"
        },
        {
          "output_type": "stream",
          "text": [
            "\n",
            "Batch:  30%|███       | 3/10 [00:51<02:03, 17.71s/it]\u001b[A"
          ],
          "name": "stderr"
        },
        {
          "output_type": "stream",
          "text": [
            "Reinforce Loss : -0.009765625 Reinforce Max Reward : -2.226600408554077"
          ],
          "name": "stdout"
        },
        {
          "output_type": "stream",
          "text": [
            "\n",
            "Batch:  40%|████      | 4/10 [01:07<01:42, 17.12s/it]\u001b[A"
          ],
          "name": "stderr"
        },
        {
          "output_type": "stream",
          "text": [
            "Reinforce Loss : -0.0048828125 Reinforce Max Reward : -2.399989604949951"
          ],
          "name": "stdout"
        },
        {
          "output_type": "stream",
          "text": [
            "\n",
            "Batch:  50%|█████     | 5/10 [01:22<01:23, 16.71s/it]\u001b[A"
          ],
          "name": "stderr"
        },
        {
          "output_type": "stream",
          "text": [
            "Reinforce Loss : -0.009765625 Reinforce Max Reward : -2.4276037216186523"
          ],
          "name": "stdout"
        },
        {
          "output_type": "stream",
          "text": [
            "\n",
            "Batch:  60%|██████    | 6/10 [01:38<01:05, 16.43s/it]\u001b[A"
          ],
          "name": "stderr"
        },
        {
          "output_type": "stream",
          "text": [
            "Reinforce Loss : -0.005859375 Reinforce Max Reward : -1.6591585874557495"
          ],
          "name": "stdout"
        },
        {
          "output_type": "stream",
          "text": [
            "\n",
            "Batch:  70%|███████   | 7/10 [01:54<00:48, 16.18s/it]\u001b[A"
          ],
          "name": "stderr"
        },
        {
          "output_type": "stream",
          "text": [
            "Reinforce Loss : 0.005859375 Reinforce Max Reward : -2.4349417686462402"
          ],
          "name": "stdout"
        },
        {
          "output_type": "stream",
          "text": [
            "\n",
            "Batch:  80%|████████  | 8/10 [02:09<00:32, 16.04s/it]\u001b[A"
          ],
          "name": "stderr"
        },
        {
          "output_type": "stream",
          "text": [
            "Reinforce Loss : 0.001953125 Reinforce Max Reward : -2.1868343353271484"
          ],
          "name": "stdout"
        },
        {
          "output_type": "stream",
          "text": [
            "\n",
            "Batch:  90%|█████████ | 9/10 [02:25<00:15, 15.94s/it]\u001b[A"
          ],
          "name": "stderr"
        },
        {
          "output_type": "stream",
          "text": [
            "Reinforce Loss : -0.005859375 Reinforce Max Reward : -1.6382280588150024"
          ],
          "name": "stdout"
        },
        {
          "output_type": "stream",
          "text": [
            "\n",
            "Batch: 100%|██████████| 10/10 [02:41<00:00, 15.89s/it]\u001b[A\n",
            "Epoch:   4%|▍         | 77/1785 [3:49:34<84:11:39, 177.46s/it]\n",
            "Batch:   0%|          | 0/10 [00:00<?, ?it/s]\u001b[A"
          ],
          "name": "stderr"
        },
        {
          "output_type": "stream",
          "text": [
            "Reinforce Loss : -0.015625 Reinforce Max Reward : -2.413341760635376"
          ],
          "name": "stdout"
        },
        {
          "output_type": "stream",
          "text": [
            "\n",
            "Batch:  10%|█         | 1/10 [00:19<02:58, 19.83s/it]\u001b[A"
          ],
          "name": "stderr"
        },
        {
          "output_type": "stream",
          "text": [
            "Reinforce Loss : -0.0048828125 Reinforce Max Reward : -2.4140849113464355"
          ],
          "name": "stdout"
        },
        {
          "output_type": "stream",
          "text": [
            "\n",
            "Batch:  20%|██        | 2/10 [00:35<02:29, 18.67s/it]\u001b[A"
          ],
          "name": "stderr"
        },
        {
          "output_type": "stream",
          "text": [
            "Reinforce Loss : 0.001953125 Reinforce Max Reward : -2.357696056365967"
          ],
          "name": "stdout"
        },
        {
          "output_type": "stream",
          "text": [
            "\n",
            "Batch:  30%|███       | 3/10 [00:51<02:04, 17.84s/it]\u001b[A"
          ],
          "name": "stderr"
        },
        {
          "output_type": "stream",
          "text": [
            "Reinforce Loss : 0.0048828125 Reinforce Max Reward : -2.4367446899414062"
          ],
          "name": "stdout"
        },
        {
          "output_type": "stream",
          "text": [
            "\n",
            "Batch:  40%|████      | 4/10 [01:07<01:43, 17.23s/it]\u001b[A"
          ],
          "name": "stderr"
        },
        {
          "output_type": "stream",
          "text": [
            "Reinforce Loss : -0.0009765625 Reinforce Max Reward : -2.425827980041504"
          ],
          "name": "stdout"
        },
        {
          "output_type": "stream",
          "text": [
            "\n",
            "Batch:  50%|█████     | 5/10 [01:23<01:24, 16.95s/it]\u001b[A"
          ],
          "name": "stderr"
        },
        {
          "output_type": "stream",
          "text": [
            "Reinforce Loss : 0.0009765625 Reinforce Max Reward : -2.423478603363037"
          ],
          "name": "stdout"
        },
        {
          "output_type": "stream",
          "text": [
            "\n",
            "Batch:  60%|██████    | 6/10 [01:39<01:06, 16.60s/it]\u001b[A"
          ],
          "name": "stderr"
        },
        {
          "output_type": "stream",
          "text": [
            "Reinforce Loss : 0.00390625 Reinforce Max Reward : -2.4412145614624023"
          ],
          "name": "stdout"
        },
        {
          "output_type": "stream",
          "text": [
            "\n",
            "Batch:  70%|███████   | 7/10 [01:55<00:48, 16.32s/it]\u001b[A"
          ],
          "name": "stderr"
        },
        {
          "output_type": "stream",
          "text": [
            "Reinforce Loss : -0.01171875 Reinforce Max Reward : -2.4012646675109863"
          ],
          "name": "stdout"
        },
        {
          "output_type": "stream",
          "text": [
            "\n",
            "Batch:  80%|████████  | 8/10 [02:11<00:32, 16.17s/it]\u001b[A"
          ],
          "name": "stderr"
        },
        {
          "output_type": "stream",
          "text": [
            "Reinforce Loss : -0.0068359375 Reinforce Max Reward : -2.4349136352539062"
          ],
          "name": "stdout"
        },
        {
          "output_type": "stream",
          "text": [
            "\n",
            "Batch:  90%|█████████ | 9/10 [02:26<00:16, 16.04s/it]\u001b[A"
          ],
          "name": "stderr"
        },
        {
          "output_type": "stream",
          "text": [
            "Reinforce Loss : -0.0078125 Reinforce Max Reward : -2.3346712589263916"
          ],
          "name": "stdout"
        },
        {
          "output_type": "stream",
          "text": [
            "\n",
            "Batch: 100%|██████████| 10/10 [02:42<00:00, 15.95s/it]\u001b[A\n",
            "Epoch:   4%|▍         | 78/1785 [3:52:32<84:07:49, 177.43s/it]\n",
            "Batch:   0%|          | 0/10 [00:00<?, ?it/s]\u001b[A"
          ],
          "name": "stderr"
        },
        {
          "output_type": "stream",
          "text": [
            "Reinforce Loss : -0.001953125 Reinforce Max Reward : -2.264626979827881"
          ],
          "name": "stdout"
        },
        {
          "output_type": "stream",
          "text": [
            "\n",
            "Batch:  10%|█         | 1/10 [00:20<03:03, 20.43s/it]\u001b[A"
          ],
          "name": "stderr"
        },
        {
          "output_type": "stream",
          "text": [
            "Reinforce Loss : 0.00390625 Reinforce Max Reward : -2.3491644859313965"
          ],
          "name": "stdout"
        },
        {
          "output_type": "stream",
          "text": [
            "\n",
            "Batch:  20%|██        | 2/10 [00:36<02:31, 18.98s/it]\u001b[A"
          ],
          "name": "stderr"
        },
        {
          "output_type": "stream",
          "text": [
            "Reinforce Loss : -0.0068359375 Reinforce Max Reward : -2.434201240539551"
          ],
          "name": "stdout"
        },
        {
          "output_type": "stream",
          "text": [
            "\n",
            "Batch:  30%|███       | 3/10 [00:51<02:05, 17.98s/it]\u001b[A"
          ],
          "name": "stderr"
        },
        {
          "output_type": "stream",
          "text": [
            "Reinforce Loss : 0.0 Reinforce Max Reward : -2.4181742668151855"
          ],
          "name": "stdout"
        },
        {
          "output_type": "stream",
          "text": [
            "\n",
            "Batch:  40%|████      | 4/10 [01:07<01:43, 17.21s/it]\u001b[A"
          ],
          "name": "stderr"
        },
        {
          "output_type": "stream",
          "text": [
            "Reinforce Loss : -0.00390625 Reinforce Max Reward : -2.2498466968536377"
          ],
          "name": "stdout"
        },
        {
          "output_type": "stream",
          "text": [
            "\n",
            "Batch:  50%|█████     | 5/10 [01:22<01:23, 16.75s/it]\u001b[A"
          ],
          "name": "stderr"
        },
        {
          "output_type": "stream",
          "text": [
            "Reinforce Loss : 0.013671875 Reinforce Max Reward : -2.137885093688965"
          ],
          "name": "stdout"
        },
        {
          "output_type": "stream",
          "text": [
            "\n",
            "Batch:  60%|██████    | 6/10 [01:38<01:05, 16.40s/it]\u001b[A"
          ],
          "name": "stderr"
        },
        {
          "output_type": "stream",
          "text": [
            "Reinforce Loss : -0.0048828125 Reinforce Max Reward : -2.3959898948669434"
          ],
          "name": "stdout"
        },
        {
          "output_type": "stream",
          "text": [
            "\n",
            "Batch:  70%|███████   | 7/10 [01:53<00:48, 16.16s/it]\u001b[A"
          ],
          "name": "stderr"
        },
        {
          "output_type": "stream",
          "text": [
            "Reinforce Loss : -0.0078125 Reinforce Max Reward : -2.3398752212524414"
          ],
          "name": "stdout"
        },
        {
          "output_type": "stream",
          "text": [
            "\n",
            "Batch:  80%|████████  | 8/10 [02:09<00:32, 16.02s/it]\u001b[A"
          ],
          "name": "stderr"
        },
        {
          "output_type": "stream",
          "text": [
            "Reinforce Loss : -0.001953125 Reinforce Max Reward : -2.2773125171661377"
          ],
          "name": "stdout"
        },
        {
          "output_type": "stream",
          "text": [
            "\n",
            "Batch:  90%|█████████ | 9/10 [02:25<00:15, 15.90s/it]\u001b[A"
          ],
          "name": "stderr"
        },
        {
          "output_type": "stream",
          "text": [
            "Reinforce Loss : 0.009765625 Reinforce Max Reward : -1.6811001300811768"
          ],
          "name": "stdout"
        },
        {
          "output_type": "stream",
          "text": [
            "\n",
            "Batch: 100%|██████████| 10/10 [02:40<00:00, 15.79s/it]\u001b[A\n",
            "Epoch:   4%|▍         | 79/1785 [3:55:26<83:36:03, 176.41s/it]\n",
            "Batch:   0%|          | 0/10 [00:00<?, ?it/s]\u001b[A"
          ],
          "name": "stderr"
        },
        {
          "output_type": "stream",
          "text": [
            "Reinforce Loss : -0.0029296875 Reinforce Max Reward : -2.3898282051086426"
          ],
          "name": "stdout"
        },
        {
          "output_type": "stream",
          "text": [
            "\n",
            "Batch:  10%|█         | 1/10 [00:22<03:18, 22.00s/it]\u001b[A"
          ],
          "name": "stderr"
        },
        {
          "output_type": "stream",
          "text": [
            "Reinforce Loss : -0.009765625 Reinforce Max Reward : -2.0586166381835938"
          ],
          "name": "stdout"
        },
        {
          "output_type": "stream",
          "text": [
            "\n",
            "Batch:  20%|██        | 2/10 [00:37<02:41, 20.16s/it]\u001b[A"
          ],
          "name": "stderr"
        },
        {
          "output_type": "stream",
          "text": [
            "Reinforce Loss : 0.01953125 Reinforce Max Reward : -2.3694067001342773"
          ],
          "name": "stdout"
        },
        {
          "output_type": "stream",
          "text": [
            "\n",
            "Batch:  30%|███       | 3/10 [00:53<02:11, 18.85s/it]\u001b[A"
          ],
          "name": "stderr"
        },
        {
          "output_type": "stream",
          "text": [
            "Reinforce Loss : 0.03125 Reinforce Max Reward : -2.4245734214782715"
          ],
          "name": "stdout"
        },
        {
          "output_type": "stream",
          "text": [
            "\n",
            "Batch:  40%|████      | 4/10 [01:09<01:47, 17.88s/it]\u001b[A"
          ],
          "name": "stderr"
        },
        {
          "output_type": "stream",
          "text": [
            "Reinforce Loss : 0.001953125 Reinforce Max Reward : -2.2936391830444336"
          ],
          "name": "stdout"
        },
        {
          "output_type": "stream",
          "text": [
            "\n",
            "Batch:  50%|█████     | 5/10 [01:24<01:26, 17.22s/it]\u001b[A"
          ],
          "name": "stderr"
        },
        {
          "output_type": "stream",
          "text": [
            "Reinforce Loss : -0.001953125 Reinforce Max Reward : -1.9684767723083496"
          ],
          "name": "stdout"
        },
        {
          "output_type": "stream",
          "text": [
            "\n",
            "Batch:  60%|██████    | 6/10 [01:40<01:07, 16.76s/it]\u001b[A"
          ],
          "name": "stderr"
        },
        {
          "output_type": "stream",
          "text": [
            "Reinforce Loss : -0.0048828125 Reinforce Max Reward : -2.3983449935913086"
          ],
          "name": "stdout"
        },
        {
          "output_type": "stream",
          "text": [
            "\n",
            "Batch:  70%|███████   | 7/10 [01:56<00:49, 16.47s/it]\u001b[A"
          ],
          "name": "stderr"
        },
        {
          "output_type": "stream",
          "text": [
            "Reinforce Loss : -0.015625 Reinforce Max Reward : -2.3854854106903076"
          ],
          "name": "stdout"
        },
        {
          "output_type": "stream",
          "text": [
            "\n",
            "Batch:  80%|████████  | 8/10 [02:11<00:32, 16.18s/it]\u001b[A"
          ],
          "name": "stderr"
        },
        {
          "output_type": "stream",
          "text": [
            "Reinforce Loss : 0.001953125 Reinforce Max Reward : -2.358593463897705"
          ],
          "name": "stdout"
        },
        {
          "output_type": "stream",
          "text": [
            "\n",
            "Batch:  90%|█████████ | 9/10 [02:27<00:16, 16.05s/it]\u001b[A"
          ],
          "name": "stderr"
        },
        {
          "output_type": "stream",
          "text": [
            "Reinforce Loss : -0.03125 Reinforce Max Reward : -2.4231460094451904"
          ],
          "name": "stdout"
        },
        {
          "output_type": "stream",
          "text": [
            "\n",
            "Batch: 100%|██████████| 10/10 [02:43<00:00, 15.91s/it]\u001b[A\n",
            "Epoch:   4%|▍         | 80/1785 [3:58:23<83:43:14, 176.77s/it]\n",
            "Batch:   0%|          | 0/10 [00:00<?, ?it/s]\u001b[A"
          ],
          "name": "stderr"
        },
        {
          "output_type": "stream",
          "text": [
            "Reinforce Loss : 0.009765625 Reinforce Max Reward : -2.4239144325256348"
          ],
          "name": "stdout"
        },
        {
          "output_type": "stream",
          "text": [
            "\n",
            "Batch:  10%|█         | 1/10 [00:21<03:10, 21.18s/it]\u001b[A"
          ],
          "name": "stderr"
        },
        {
          "output_type": "stream",
          "text": [
            "Reinforce Loss : 0.0146484375 Reinforce Max Reward : -2.4425549507141113"
          ],
          "name": "stdout"
        },
        {
          "output_type": "stream",
          "text": [
            "\n",
            "Batch:  20%|██        | 2/10 [00:36<02:36, 19.55s/it]\u001b[A"
          ],
          "name": "stderr"
        },
        {
          "output_type": "stream",
          "text": [
            "Reinforce Loss : 0.005859375 Reinforce Max Reward : -2.4342637062072754"
          ],
          "name": "stdout"
        },
        {
          "output_type": "stream",
          "text": [
            "\n",
            "Batch:  30%|███       | 3/10 [00:52<02:09, 18.46s/it]\u001b[A"
          ],
          "name": "stderr"
        },
        {
          "output_type": "stream",
          "text": [
            "Reinforce Loss : -0.033203125 Reinforce Max Reward : -2.416099786758423"
          ],
          "name": "stdout"
        },
        {
          "output_type": "stream",
          "text": [
            "\n",
            "Batch:  40%|████      | 4/10 [01:08<01:45, 17.64s/it]\u001b[A"
          ],
          "name": "stderr"
        },
        {
          "output_type": "stream",
          "text": [
            "Reinforce Loss : -0.009765625 Reinforce Max Reward : -2.417320728302002"
          ],
          "name": "stdout"
        },
        {
          "output_type": "stream",
          "text": [
            "\n",
            "Batch:  50%|█████     | 5/10 [01:24<01:25, 17.12s/it]\u001b[A"
          ],
          "name": "stderr"
        },
        {
          "output_type": "stream",
          "text": [
            "Reinforce Loss : 0.005859375 Reinforce Max Reward : -2.4043045043945312"
          ],
          "name": "stdout"
        },
        {
          "output_type": "stream",
          "text": [
            "\n",
            "Batch:  60%|██████    | 6/10 [01:40<01:07, 16.80s/it]\u001b[A"
          ],
          "name": "stderr"
        },
        {
          "output_type": "stream",
          "text": [
            "Reinforce Loss : -0.00390625 Reinforce Max Reward : -2.308516502380371"
          ],
          "name": "stdout"
        },
        {
          "output_type": "stream",
          "text": [
            "\n",
            "Batch:  70%|███████   | 7/10 [01:56<00:49, 16.55s/it]\u001b[A"
          ],
          "name": "stderr"
        },
        {
          "output_type": "stream",
          "text": [
            "Reinforce Loss : -0.001953125 Reinforce Max Reward : -2.4083290100097656"
          ],
          "name": "stdout"
        },
        {
          "output_type": "stream",
          "text": [
            "\n",
            "Batch:  80%|████████  | 8/10 [02:12<00:32, 16.31s/it]\u001b[A"
          ],
          "name": "stderr"
        },
        {
          "output_type": "stream",
          "text": [
            "Reinforce Loss : -0.01171875 Reinforce Max Reward : -2.434601306915283"
          ],
          "name": "stdout"
        },
        {
          "output_type": "stream",
          "text": [
            "\n",
            "Batch:  90%|█████████ | 9/10 [02:28<00:16, 16.19s/it]\u001b[A"
          ],
          "name": "stderr"
        },
        {
          "output_type": "stream",
          "text": [
            "Reinforce Loss : 0.00390625 Reinforce Max Reward : -2.4260125160217285"
          ],
          "name": "stdout"
        },
        {
          "output_type": "stream",
          "text": [
            "\n",
            "Batch: 100%|██████████| 10/10 [02:44<00:00, 16.11s/it]\u001b[A\n",
            "Epoch:   5%|▍         | 81/1785 [4:01:24<84:10:18, 177.83s/it]\n",
            "Batch:   0%|          | 0/10 [00:00<?, ?it/s]\u001b[A"
          ],
          "name": "stderr"
        },
        {
          "output_type": "stream",
          "text": [
            "Reinforce Loss : 0.0 Reinforce Max Reward : -2.4310007095336914"
          ],
          "name": "stdout"
        },
        {
          "output_type": "stream",
          "text": [
            "\n",
            "Batch:  10%|█         | 1/10 [00:20<03:01, 20.11s/it]\u001b[A"
          ],
          "name": "stderr"
        },
        {
          "output_type": "stream",
          "text": [
            "Reinforce Loss : -0.009765625 Reinforce Max Reward : -2.1517796516418457"
          ],
          "name": "stdout"
        },
        {
          "output_type": "stream",
          "text": [
            "\n",
            "Batch:  20%|██        | 2/10 [00:36<02:31, 18.89s/it]\u001b[A"
          ],
          "name": "stderr"
        },
        {
          "output_type": "stream",
          "text": [
            "Reinforce Loss : 0.00390625 Reinforce Max Reward : -2.1829864978790283"
          ],
          "name": "stdout"
        },
        {
          "output_type": "stream",
          "text": [
            "\n",
            "Batch:  30%|███       | 3/10 [00:52<02:06, 18.02s/it]\u001b[A"
          ],
          "name": "stderr"
        },
        {
          "output_type": "stream",
          "text": [
            "Reinforce Loss : 0.005859375 Reinforce Max Reward : -2.375415802001953"
          ],
          "name": "stdout"
        },
        {
          "output_type": "stream",
          "text": [
            "\n",
            "Batch:  40%|████      | 4/10 [01:08<01:44, 17.42s/it]\u001b[A"
          ],
          "name": "stderr"
        },
        {
          "output_type": "stream",
          "text": [
            "Reinforce Loss : 0.00390625 Reinforce Max Reward : -2.4332122802734375"
          ],
          "name": "stdout"
        },
        {
          "output_type": "stream",
          "text": [
            "\n",
            "Batch:  50%|█████     | 5/10 [01:24<01:24, 17.00s/it]\u001b[A"
          ],
          "name": "stderr"
        },
        {
          "output_type": "stream",
          "text": [
            "Reinforce Loss : 0.0 Reinforce Max Reward : -2.3368468284606934"
          ],
          "name": "stdout"
        },
        {
          "output_type": "stream",
          "text": [
            "\n",
            "Batch:  60%|██████    | 6/10 [01:40<01:06, 16.66s/it]\u001b[A"
          ],
          "name": "stderr"
        },
        {
          "output_type": "stream",
          "text": [
            "Reinforce Loss : -0.00390625 Reinforce Max Reward : -2.4252662658691406"
          ],
          "name": "stdout"
        },
        {
          "output_type": "stream",
          "text": [
            "\n",
            "Batch:  70%|███████   | 7/10 [01:56<00:49, 16.47s/it]\u001b[A"
          ],
          "name": "stderr"
        },
        {
          "output_type": "stream",
          "text": [
            "Reinforce Loss : 0.001953125 Reinforce Max Reward : -2.3770766258239746"
          ],
          "name": "stdout"
        },
        {
          "output_type": "stream",
          "text": [
            "\n",
            "Batch:  80%|████████  | 8/10 [02:11<00:32, 16.26s/it]\u001b[A"
          ],
          "name": "stderr"
        },
        {
          "output_type": "stream",
          "text": [
            "Reinforce Loss : -0.00390625 Reinforce Max Reward : -2.4264683723449707"
          ],
          "name": "stdout"
        },
        {
          "output_type": "stream",
          "text": [
            "\n",
            "Batch:  90%|█████████ | 9/10 [02:27<00:16, 16.11s/it]\u001b[A"
          ],
          "name": "stderr"
        },
        {
          "output_type": "stream",
          "text": [
            "Reinforce Loss : 0.0029296875 Reinforce Max Reward : -2.4387664794921875"
          ],
          "name": "stdout"
        },
        {
          "output_type": "stream",
          "text": [
            "\n",
            "Batch: 100%|██████████| 10/10 [02:43<00:00, 16.04s/it]\u001b[A\n",
            "Epoch:   5%|▍         | 82/1785 [4:04:23<84:17:50, 178.20s/it]\n",
            "Batch:   0%|          | 0/10 [00:00<?, ?it/s]\u001b[A"
          ],
          "name": "stderr"
        },
        {
          "output_type": "stream",
          "text": [
            "Reinforce Loss : -0.01953125 Reinforce Max Reward : -2.415189743041992"
          ],
          "name": "stdout"
        },
        {
          "output_type": "stream",
          "text": [
            "\n",
            "Batch:  10%|█         | 1/10 [00:21<03:09, 21.10s/it]\u001b[A"
          ],
          "name": "stderr"
        },
        {
          "output_type": "stream",
          "text": [
            "Reinforce Loss : -0.0234375 Reinforce Max Reward : -2.4529378414154053"
          ],
          "name": "stdout"
        },
        {
          "output_type": "stream",
          "text": [
            "\n",
            "Batch:  20%|██        | 2/10 [00:36<02:35, 19.47s/it]\u001b[A"
          ],
          "name": "stderr"
        },
        {
          "output_type": "stream",
          "text": [
            "Reinforce Loss : -0.001953125 Reinforce Max Reward : -2.429947853088379"
          ],
          "name": "stdout"
        },
        {
          "output_type": "stream",
          "text": [
            "\n",
            "Batch:  30%|███       | 3/10 [00:52<02:08, 18.30s/it]\u001b[A"
          ],
          "name": "stderr"
        },
        {
          "output_type": "stream",
          "text": [
            "Reinforce Loss : 0.0 Reinforce Max Reward : -2.38112211227417"
          ],
          "name": "stdout"
        },
        {
          "output_type": "stream",
          "text": [
            "\n",
            "Batch:  40%|████      | 4/10 [01:07<01:45, 17.50s/it]\u001b[A"
          ],
          "name": "stderr"
        },
        {
          "output_type": "stream",
          "text": [
            "Reinforce Loss : -0.0009765625 Reinforce Max Reward : -2.419891834259033"
          ],
          "name": "stdout"
        },
        {
          "output_type": "stream",
          "text": [
            "\n",
            "Batch:  50%|█████     | 5/10 [01:23<01:24, 16.99s/it]\u001b[A"
          ],
          "name": "stderr"
        },
        {
          "output_type": "stream",
          "text": [
            "Reinforce Loss : 0.0009765625 Reinforce Max Reward : -2.374481678009033"
          ],
          "name": "stdout"
        },
        {
          "output_type": "stream",
          "text": [
            "\n",
            "Batch:  60%|██████    | 6/10 [01:39<01:06, 16.60s/it]\u001b[A"
          ],
          "name": "stderr"
        },
        {
          "output_type": "stream",
          "text": [
            "Reinforce Loss : -0.01171875 Reinforce Max Reward : -2.425480365753174"
          ],
          "name": "stdout"
        },
        {
          "output_type": "stream",
          "text": [
            "\n",
            "Batch:  70%|███████   | 7/10 [01:55<00:49, 16.40s/it]\u001b[A"
          ],
          "name": "stderr"
        },
        {
          "output_type": "stream",
          "text": [
            "Reinforce Loss : 0.0078125 Reinforce Max Reward : -2.297636032104492"
          ],
          "name": "stdout"
        },
        {
          "output_type": "stream",
          "text": [
            "\n",
            "Batch:  80%|████████  | 8/10 [02:11<00:32, 16.28s/it]\u001b[A"
          ],
          "name": "stderr"
        },
        {
          "output_type": "stream",
          "text": [
            "Reinforce Loss : 0.0029296875 Reinforce Max Reward : -2.414590358734131"
          ],
          "name": "stdout"
        },
        {
          "output_type": "stream",
          "text": [
            "\n",
            "Batch:  90%|█████████ | 9/10 [02:27<00:16, 16.19s/it]\u001b[A"
          ],
          "name": "stderr"
        },
        {
          "output_type": "stream",
          "text": [
            "Reinforce Loss : -0.0078125 Reinforce Max Reward : -2.33351993560791"
          ],
          "name": "stdout"
        },
        {
          "output_type": "stream",
          "text": [
            "\n",
            "Batch: 100%|██████████| 10/10 [02:43<00:00, 16.05s/it]\u001b[A\n",
            "Epoch:   5%|▍         | 83/1785 [4:07:22<84:23:07, 178.49s/it]\n",
            "Batch:   0%|          | 0/10 [00:00<?, ?it/s]\u001b[A"
          ],
          "name": "stderr"
        },
        {
          "output_type": "stream",
          "text": [
            "Reinforce Loss : 0.005859375 Reinforce Max Reward : -2.338935375213623"
          ],
          "name": "stdout"
        },
        {
          "output_type": "stream",
          "text": [
            "\n",
            "Batch:  10%|█         | 1/10 [00:20<03:07, 20.78s/it]\u001b[A"
          ],
          "name": "stderr"
        },
        {
          "output_type": "stream",
          "text": [
            "Reinforce Loss : 0.0 Reinforce Max Reward : -2.4284400939941406"
          ],
          "name": "stdout"
        },
        {
          "output_type": "stream",
          "text": [
            "\n",
            "Batch:  20%|██        | 2/10 [00:36<02:34, 19.33s/it]\u001b[A"
          ],
          "name": "stderr"
        },
        {
          "output_type": "stream",
          "text": [
            "Reinforce Loss : -0.00390625 Reinforce Max Reward : -2.370859146118164"
          ],
          "name": "stdout"
        },
        {
          "output_type": "stream",
          "text": [
            "\n",
            "Batch:  30%|███       | 3/10 [00:53<02:08, 18.42s/it]\u001b[A"
          ],
          "name": "stderr"
        },
        {
          "output_type": "stream",
          "text": [
            "Reinforce Loss : 0.0 Reinforce Max Reward : -2.4268038272857666"
          ],
          "name": "stdout"
        },
        {
          "output_type": "stream",
          "text": [
            "\n",
            "Batch:  40%|████      | 4/10 [01:08<01:45, 17.58s/it]\u001b[A"
          ],
          "name": "stderr"
        },
        {
          "output_type": "stream",
          "text": [
            "Reinforce Loss : -0.0068359375 Reinforce Max Reward : -2.422262191772461"
          ],
          "name": "stdout"
        },
        {
          "output_type": "stream",
          "text": [
            "\n",
            "Batch:  50%|█████     | 5/10 [01:24<01:25, 17.05s/it]\u001b[A"
          ],
          "name": "stderr"
        },
        {
          "output_type": "stream",
          "text": [
            "Reinforce Loss : -0.0078125 Reinforce Max Reward : -1.9661998748779297"
          ],
          "name": "stdout"
        },
        {
          "output_type": "stream",
          "text": [
            "\n",
            "Batch:  60%|██████    | 6/10 [01:40<01:07, 16.76s/it]\u001b[A"
          ],
          "name": "stderr"
        },
        {
          "output_type": "stream",
          "text": [
            "Reinforce Loss : -0.005859375 Reinforce Max Reward : -1.8447667360305786"
          ],
          "name": "stdout"
        },
        {
          "output_type": "stream",
          "text": [
            "\n",
            "Batch:  70%|███████   | 7/10 [01:56<00:49, 16.52s/it]\u001b[A"
          ],
          "name": "stderr"
        },
        {
          "output_type": "stream",
          "text": [
            "Reinforce Loss : -0.0078125 Reinforce Max Reward : -2.3802952766418457"
          ],
          "name": "stdout"
        },
        {
          "output_type": "stream",
          "text": [
            "\n",
            "Batch:  80%|████████  | 8/10 [02:12<00:32, 16.32s/it]\u001b[A"
          ],
          "name": "stderr"
        },
        {
          "output_type": "stream",
          "text": [
            "Reinforce Loss : -0.00390625 Reinforce Max Reward : -2.4075183868408203"
          ],
          "name": "stdout"
        },
        {
          "output_type": "stream",
          "text": [
            "\n",
            "Batch:  90%|█████████ | 9/10 [02:28<00:16, 16.24s/it]\u001b[A"
          ],
          "name": "stderr"
        },
        {
          "output_type": "stream",
          "text": [
            "Reinforce Loss : 0.0 Reinforce Max Reward : -2.433065176010132"
          ],
          "name": "stdout"
        },
        {
          "output_type": "stream",
          "text": [
            "\n",
            "Batch: 100%|██████████| 10/10 [02:44<00:00, 16.23s/it]\u001b[A\n",
            "Epoch:   5%|▍         | 84/1785 [4:10:25<84:55:10, 179.72s/it]\n",
            "Batch:   0%|          | 0/10 [00:00<?, ?it/s]\u001b[A"
          ],
          "name": "stderr"
        },
        {
          "output_type": "stream",
          "text": [
            "Reinforce Loss : -0.001953125 Reinforce Max Reward : -2.231813669204712"
          ],
          "name": "stdout"
        },
        {
          "output_type": "stream",
          "text": [
            "\n",
            "Batch:  10%|█         | 1/10 [00:18<02:50, 18.95s/it]\u001b[A"
          ],
          "name": "stderr"
        },
        {
          "output_type": "stream",
          "text": [
            "Reinforce Loss : -0.00390625 Reinforce Max Reward : -2.1201562881469727"
          ],
          "name": "stdout"
        },
        {
          "output_type": "stream",
          "text": [
            "\n",
            "Batch:  20%|██        | 2/10 [00:34<02:24, 18.03s/it]\u001b[A"
          ],
          "name": "stderr"
        },
        {
          "output_type": "stream",
          "text": [
            "Reinforce Loss : 0.005859375 Reinforce Max Reward : -2.424886465072632"
          ],
          "name": "stdout"
        },
        {
          "output_type": "stream",
          "text": [
            "\n",
            "Batch:  30%|███       | 3/10 [00:51<02:02, 17.48s/it]\u001b[A"
          ],
          "name": "stderr"
        },
        {
          "output_type": "stream",
          "text": [
            "Reinforce Loss : -0.0078125 Reinforce Max Reward : -2.4106011390686035"
          ],
          "name": "stdout"
        },
        {
          "output_type": "stream",
          "text": [
            "\n",
            "Batch:  40%|████      | 4/10 [01:06<01:41, 16.97s/it]\u001b[A"
          ],
          "name": "stderr"
        },
        {
          "output_type": "stream",
          "text": [
            "Reinforce Loss : 0.00390625 Reinforce Max Reward : -2.1686153411865234"
          ],
          "name": "stdout"
        },
        {
          "output_type": "stream",
          "text": [
            "\n",
            "Batch:  50%|█████     | 5/10 [01:22<01:23, 16.68s/it]\u001b[A"
          ],
          "name": "stderr"
        },
        {
          "output_type": "stream",
          "text": [
            "Reinforce Loss : -0.005859375 Reinforce Max Reward : -2.0393550395965576"
          ],
          "name": "stdout"
        },
        {
          "output_type": "stream",
          "text": [
            "\n",
            "Batch:  60%|██████    | 6/10 [01:38<01:05, 16.48s/it]\u001b[A"
          ],
          "name": "stderr"
        },
        {
          "output_type": "stream",
          "text": [
            "Reinforce Loss : -0.015625 Reinforce Max Reward : -2.2487430572509766"
          ],
          "name": "stdout"
        },
        {
          "output_type": "stream",
          "text": [
            "\n",
            "Batch:  70%|███████   | 7/10 [01:54<00:49, 16.35s/it]\u001b[A"
          ],
          "name": "stderr"
        },
        {
          "output_type": "stream",
          "text": [
            "Reinforce Loss : -0.009765625 Reinforce Max Reward : -2.398853302001953"
          ],
          "name": "stdout"
        },
        {
          "output_type": "stream",
          "text": [
            "\n",
            "Batch:  80%|████████  | 8/10 [02:10<00:32, 16.16s/it]\u001b[A"
          ],
          "name": "stderr"
        },
        {
          "output_type": "stream",
          "text": [
            "Reinforce Loss : -0.0029296875 Reinforce Max Reward : -2.433101177215576"
          ],
          "name": "stdout"
        },
        {
          "output_type": "stream",
          "text": [
            "\n",
            "Batch:  90%|█████████ | 9/10 [02:26<00:16, 16.04s/it]\u001b[A"
          ],
          "name": "stderr"
        },
        {
          "output_type": "stream",
          "text": [
            "Reinforce Loss : -0.001953125 Reinforce Max Reward : -2.4225339889526367"
          ],
          "name": "stdout"
        },
        {
          "output_type": "stream",
          "text": [
            "\n",
            "Batch: 100%|██████████| 10/10 [02:42<00:00, 16.06s/it]\u001b[A\n",
            "Epoch:   5%|▍         | 85/1785 [4:13:21<84:21:49, 178.65s/it]\n",
            "Batch:   0%|          | 0/10 [00:00<?, ?it/s]\u001b[A"
          ],
          "name": "stderr"
        },
        {
          "output_type": "stream",
          "text": [
            "Reinforce Loss : -0.0009765625 Reinforce Max Reward : -2.082972526550293"
          ],
          "name": "stdout"
        },
        {
          "output_type": "stream",
          "text": [
            "\n",
            "Batch:  10%|█         | 1/10 [00:24<03:39, 24.42s/it]\u001b[A"
          ],
          "name": "stderr"
        },
        {
          "output_type": "stream",
          "text": [
            "Reinforce Loss : 0.01171875 Reinforce Max Reward : -2.3260302543640137"
          ],
          "name": "stdout"
        },
        {
          "output_type": "stream",
          "text": [
            "\n",
            "Batch:  20%|██        | 2/10 [00:40<02:54, 21.86s/it]\u001b[A"
          ],
          "name": "stderr"
        },
        {
          "output_type": "stream",
          "text": [
            "Reinforce Loss : -0.0068359375 Reinforce Max Reward : -1.7483415603637695"
          ],
          "name": "stdout"
        },
        {
          "output_type": "stream",
          "text": [
            "\n",
            "Batch:  30%|███       | 3/10 [00:56<02:21, 20.15s/it]\u001b[A"
          ],
          "name": "stderr"
        },
        {
          "output_type": "stream",
          "text": [
            "Reinforce Loss : -0.005859375 Reinforce Max Reward : -2.381739616394043"
          ],
          "name": "stdout"
        },
        {
          "output_type": "stream",
          "text": [
            "\n",
            "Batch:  40%|████      | 4/10 [01:12<01:53, 18.84s/it]\u001b[A"
          ],
          "name": "stderr"
        },
        {
          "output_type": "stream",
          "text": [
            "Reinforce Loss : 0.02734375 Reinforce Max Reward : -2.3013453483581543"
          ],
          "name": "stdout"
        },
        {
          "output_type": "stream",
          "text": [
            "\n",
            "Batch:  50%|█████     | 5/10 [01:27<01:29, 17.90s/it]\u001b[A"
          ],
          "name": "stderr"
        },
        {
          "output_type": "stream",
          "text": [
            "Reinforce Loss : 0.0029296875 Reinforce Max Reward : -2.4257707595825195"
          ],
          "name": "stdout"
        },
        {
          "output_type": "stream",
          "text": [
            "\n",
            "Batch:  60%|██████    | 6/10 [01:43<01:09, 17.28s/it]\u001b[A"
          ],
          "name": "stderr"
        },
        {
          "output_type": "stream",
          "text": [
            "Reinforce Loss : -0.005859375 Reinforce Max Reward : -2.2401490211486816"
          ],
          "name": "stdout"
        },
        {
          "output_type": "stream",
          "text": [
            "\n",
            "Batch:  70%|███████   | 7/10 [01:59<00:50, 16.93s/it]\u001b[A"
          ],
          "name": "stderr"
        },
        {
          "output_type": "stream",
          "text": [
            "Reinforce Loss : 0.015625 Reinforce Max Reward : -2.432276964187622"
          ],
          "name": "stdout"
        },
        {
          "output_type": "stream",
          "text": [
            "\n",
            "Batch:  80%|████████  | 8/10 [02:15<00:33, 16.56s/it]\u001b[A"
          ],
          "name": "stderr"
        },
        {
          "output_type": "stream",
          "text": [
            "Reinforce Loss : 0.001953125 Reinforce Max Reward : -2.406630754470825"
          ],
          "name": "stdout"
        },
        {
          "output_type": "stream",
          "text": [
            "\n",
            "Batch:  90%|█████████ | 9/10 [02:31<00:16, 16.35s/it]\u001b[A"
          ],
          "name": "stderr"
        },
        {
          "output_type": "stream",
          "text": [
            "Reinforce Loss : 0.00390625 Reinforce Max Reward : -2.4413199424743652"
          ],
          "name": "stdout"
        },
        {
          "output_type": "stream",
          "text": [
            "\n",
            "Batch: 100%|██████████| 10/10 [02:47<00:00, 16.35s/it]\u001b[A\n",
            "Epoch:   5%|▍         | 86/1785 [4:16:25<85:05:36, 180.30s/it]\n",
            "Batch:   0%|          | 0/10 [00:00<?, ?it/s]\u001b[A"
          ],
          "name": "stderr"
        },
        {
          "output_type": "stream",
          "text": [
            "Reinforce Loss : 0.00390625 Reinforce Max Reward : -2.4252214431762695"
          ],
          "name": "stdout"
        },
        {
          "output_type": "stream",
          "text": [
            "\n",
            "Batch:  10%|█         | 1/10 [00:20<03:06, 20.75s/it]\u001b[A"
          ],
          "name": "stderr"
        },
        {
          "output_type": "stream",
          "text": [
            "Reinforce Loss : -0.001953125 Reinforce Max Reward : -2.4075770378112793"
          ],
          "name": "stdout"
        },
        {
          "output_type": "stream",
          "text": [
            "\n",
            "Batch:  20%|██        | 2/10 [00:36<02:34, 19.31s/it]\u001b[A"
          ],
          "name": "stderr"
        },
        {
          "output_type": "stream",
          "text": [
            "Reinforce Loss : -0.0078125 Reinforce Max Reward : -2.442812919616699"
          ],
          "name": "stdout"
        },
        {
          "output_type": "stream",
          "text": [
            "\n",
            "Batch:  30%|███       | 3/10 [00:52<02:08, 18.38s/it]\u001b[A"
          ],
          "name": "stderr"
        },
        {
          "output_type": "stream",
          "text": [
            "Reinforce Loss : -0.00390625 Reinforce Max Reward : -2.2033987045288086"
          ],
          "name": "stdout"
        },
        {
          "output_type": "stream",
          "text": [
            "\n",
            "Batch:  40%|████      | 4/10 [01:08<01:45, 17.65s/it]\u001b[A"
          ],
          "name": "stderr"
        },
        {
          "output_type": "stream",
          "text": [
            "Reinforce Loss : -0.0107421875 Reinforce Max Reward : -2.1943697929382324"
          ],
          "name": "stdout"
        },
        {
          "output_type": "stream",
          "text": [
            "\n",
            "Batch:  50%|█████     | 5/10 [01:24<01:25, 17.09s/it]\u001b[A"
          ],
          "name": "stderr"
        },
        {
          "output_type": "stream",
          "text": [
            "Reinforce Loss : -0.001953125 Reinforce Max Reward : -2.369832754135132"
          ],
          "name": "stdout"
        },
        {
          "output_type": "stream",
          "text": [
            "\n",
            "Batch:  60%|██████    | 6/10 [01:40<01:06, 16.71s/it]\u001b[A"
          ],
          "name": "stderr"
        },
        {
          "output_type": "stream",
          "text": [
            "Reinforce Loss : -0.009765625 Reinforce Max Reward : -2.2373952865600586"
          ],
          "name": "stdout"
        },
        {
          "output_type": "stream",
          "text": [
            "\n",
            "Batch:  70%|███████   | 7/10 [01:56<00:49, 16.51s/it]\u001b[A"
          ],
          "name": "stderr"
        },
        {
          "output_type": "stream",
          "text": [
            "Reinforce Loss : -0.00390625 Reinforce Max Reward : -2.447159767150879"
          ],
          "name": "stdout"
        },
        {
          "output_type": "stream",
          "text": [
            "\n",
            "Batch:  80%|████████  | 8/10 [02:12<00:32, 16.26s/it]\u001b[A"
          ],
          "name": "stderr"
        },
        {
          "output_type": "stream",
          "text": [
            "Reinforce Loss : -0.0078125 Reinforce Max Reward : -2.3188135623931885"
          ],
          "name": "stdout"
        },
        {
          "output_type": "stream",
          "text": [
            "\n",
            "Batch:  90%|█████████ | 9/10 [02:28<00:16, 16.14s/it]\u001b[A"
          ],
          "name": "stderr"
        },
        {
          "output_type": "stream",
          "text": [
            "Reinforce Loss : 0.001953125 Reinforce Max Reward : -2.401123523712158"
          ],
          "name": "stdout"
        },
        {
          "output_type": "stream",
          "text": [
            "\n",
            "Batch: 100%|██████████| 10/10 [02:44<00:00, 16.14s/it]\u001b[A\n",
            "Epoch:   5%|▍         | 87/1785 [4:19:24<84:52:58, 179.96s/it]\n",
            "Batch:   0%|          | 0/10 [00:00<?, ?it/s]\u001b[A"
          ],
          "name": "stderr"
        },
        {
          "output_type": "stream",
          "text": [
            "Reinforce Loss : -0.021484375 Reinforce Max Reward : -2.4240057468414307"
          ],
          "name": "stdout"
        },
        {
          "output_type": "stream",
          "text": [
            "\n",
            "Batch:  10%|█         | 1/10 [00:21<03:09, 21.03s/it]\u001b[A"
          ],
          "name": "stderr"
        },
        {
          "output_type": "stream",
          "text": [
            "Reinforce Loss : -0.00390625 Reinforce Max Reward : -2.431093215942383"
          ],
          "name": "stdout"
        },
        {
          "output_type": "stream",
          "text": [
            "\n",
            "Batch:  20%|██        | 2/10 [00:36<02:35, 19.47s/it]\u001b[A"
          ],
          "name": "stderr"
        },
        {
          "output_type": "stream",
          "text": [
            "Reinforce Loss : -0.0078125 Reinforce Max Reward : -2.326702117919922"
          ],
          "name": "stdout"
        },
        {
          "output_type": "stream",
          "text": [
            "\n",
            "Batch:  30%|███       | 3/10 [00:53<02:09, 18.49s/it]\u001b[A"
          ],
          "name": "stderr"
        },
        {
          "output_type": "stream",
          "text": [
            "Reinforce Loss : 0.009765625 Reinforce Max Reward : -2.3915581703186035"
          ],
          "name": "stdout"
        },
        {
          "output_type": "stream",
          "text": [
            "\n",
            "Batch:  40%|████      | 4/10 [01:08<01:45, 17.66s/it]\u001b[A"
          ],
          "name": "stderr"
        },
        {
          "output_type": "stream",
          "text": [
            "Reinforce Loss : 0.001953125 Reinforce Max Reward : -2.2955613136291504"
          ],
          "name": "stdout"
        },
        {
          "output_type": "stream",
          "text": [
            "\n",
            "Batch:  50%|█████     | 5/10 [01:24<01:25, 17.14s/it]\u001b[A"
          ],
          "name": "stderr"
        },
        {
          "output_type": "stream",
          "text": [
            "Reinforce Loss : -0.00390625 Reinforce Max Reward : -2.447768449783325"
          ],
          "name": "stdout"
        },
        {
          "output_type": "stream",
          "text": [
            "\n",
            "Batch:  60%|██████    | 6/10 [01:40<01:06, 16.72s/it]\u001b[A"
          ],
          "name": "stderr"
        },
        {
          "output_type": "stream",
          "text": [
            "Reinforce Loss : 0.0078125 Reinforce Max Reward : -2.399115800857544"
          ],
          "name": "stdout"
        },
        {
          "output_type": "stream",
          "text": [
            "\n",
            "Batch:  70%|███████   | 7/10 [01:56<00:49, 16.56s/it]\u001b[A"
          ],
          "name": "stderr"
        },
        {
          "output_type": "stream",
          "text": [
            "Reinforce Loss : 0.0078125 Reinforce Max Reward : -2.3745076656341553"
          ],
          "name": "stdout"
        },
        {
          "output_type": "stream",
          "text": [
            "\n",
            "Batch:  80%|████████  | 8/10 [02:12<00:32, 16.36s/it]\u001b[A"
          ],
          "name": "stderr"
        },
        {
          "output_type": "stream",
          "text": [
            "Reinforce Loss : -0.001953125 Reinforce Max Reward : -2.401871681213379"
          ],
          "name": "stdout"
        },
        {
          "output_type": "stream",
          "text": [
            "\n",
            "Batch:  90%|█████████ | 9/10 [02:28<00:16, 16.30s/it]\u001b[A"
          ],
          "name": "stderr"
        },
        {
          "output_type": "stream",
          "text": [
            "Reinforce Loss : 0.0078125 Reinforce Max Reward : -2.331796407699585"
          ],
          "name": "stdout"
        },
        {
          "output_type": "stream",
          "text": [
            "\n",
            "Batch: 100%|██████████| 10/10 [02:45<00:00, 16.32s/it]\u001b[A\n",
            "Epoch:   5%|▍         | 88/1785 [4:22:26<85:07:07, 180.57s/it]\n",
            "Batch:   0%|          | 0/10 [00:00<?, ?it/s]\u001b[A"
          ],
          "name": "stderr"
        },
        {
          "output_type": "stream",
          "text": [
            "Reinforce Loss : -0.009765625 Reinforce Max Reward : -2.1543922424316406"
          ],
          "name": "stdout"
        },
        {
          "output_type": "stream",
          "text": [
            "\n",
            "Batch:  10%|█         | 1/10 [00:18<02:48, 18.78s/it]\u001b[A"
          ],
          "name": "stderr"
        },
        {
          "output_type": "stream",
          "text": [
            "Reinforce Loss : -0.01171875 Reinforce Max Reward : -2.3417885303497314"
          ],
          "name": "stdout"
        },
        {
          "output_type": "stream",
          "text": [
            "\n",
            "Batch:  20%|██        | 2/10 [00:34<02:23, 17.98s/it]\u001b[A"
          ],
          "name": "stderr"
        },
        {
          "output_type": "stream",
          "text": [
            "Reinforce Loss : -0.0078125 Reinforce Max Reward : -2.4315290451049805"
          ],
          "name": "stdout"
        },
        {
          "output_type": "stream",
          "text": [
            "\n",
            "Batch:  30%|███       | 3/10 [00:51<02:01, 17.42s/it]\u001b[A"
          ],
          "name": "stderr"
        },
        {
          "output_type": "stream",
          "text": [
            "Reinforce Loss : -0.0078125 Reinforce Max Reward : -2.3747713565826416"
          ],
          "name": "stdout"
        },
        {
          "output_type": "stream",
          "text": [
            "\n",
            "Batch:  40%|████      | 4/10 [01:06<01:41, 16.90s/it]\u001b[A"
          ],
          "name": "stderr"
        },
        {
          "output_type": "stream",
          "text": [
            "Reinforce Loss : 0.0 Reinforce Max Reward : -2.3222999572753906"
          ],
          "name": "stdout"
        },
        {
          "output_type": "stream",
          "text": [
            "\n",
            "Batch:  50%|█████     | 5/10 [01:22<01:22, 16.57s/it]\u001b[A"
          ],
          "name": "stderr"
        },
        {
          "output_type": "stream",
          "text": [
            "Reinforce Loss : 0.0 Reinforce Max Reward : -2.430367946624756"
          ],
          "name": "stdout"
        },
        {
          "output_type": "stream",
          "text": [
            "\n",
            "Batch:  60%|██████    | 6/10 [01:38<01:05, 16.40s/it]\u001b[A"
          ],
          "name": "stderr"
        },
        {
          "output_type": "stream",
          "text": [
            "Reinforce Loss : -0.005859375 Reinforce Max Reward : -2.4202871322631836"
          ],
          "name": "stdout"
        },
        {
          "output_type": "stream",
          "text": [
            "\n",
            "Batch:  70%|███████   | 7/10 [01:54<00:49, 16.40s/it]\u001b[A"
          ],
          "name": "stderr"
        },
        {
          "output_type": "stream",
          "text": [
            "Reinforce Loss : 0.0 Reinforce Max Reward : -2.3564696311950684"
          ],
          "name": "stdout"
        },
        {
          "output_type": "stream",
          "text": [
            "\n",
            "Batch:  80%|████████  | 8/10 [02:10<00:32, 16.20s/it]\u001b[A"
          ],
          "name": "stderr"
        },
        {
          "output_type": "stream",
          "text": [
            "Reinforce Loss : -0.0078125 Reinforce Max Reward : -2.4244747161865234"
          ],
          "name": "stdout"
        },
        {
          "output_type": "stream",
          "text": [
            "\n",
            "Batch:  90%|█████████ | 9/10 [02:26<00:16, 16.15s/it]\u001b[A"
          ],
          "name": "stderr"
        },
        {
          "output_type": "stream",
          "text": [
            "Reinforce Loss : 0.0078125 Reinforce Max Reward : -2.4293198585510254"
          ],
          "name": "stdout"
        },
        {
          "output_type": "stream",
          "text": [
            "\n",
            "Batch: 100%|██████████| 10/10 [02:42<00:00, 16.11s/it]\u001b[A\n",
            "Epoch:   5%|▍         | 89/1785 [4:25:25<84:49:14, 180.04s/it]\n",
            "Batch:   0%|          | 0/10 [00:00<?, ?it/s]\u001b[A"
          ],
          "name": "stderr"
        },
        {
          "output_type": "stream",
          "text": [
            "Reinforce Loss : -0.00390625 Reinforce Max Reward : -1.9906678199768066"
          ],
          "name": "stdout"
        },
        {
          "output_type": "stream",
          "text": [
            "\n",
            "Batch:  10%|█         | 1/10 [00:20<03:02, 20.22s/it]\u001b[A"
          ],
          "name": "stderr"
        },
        {
          "output_type": "stream",
          "text": [
            "Reinforce Loss : 0.0078125 Reinforce Max Reward : -2.318991184234619"
          ],
          "name": "stdout"
        },
        {
          "output_type": "stream",
          "text": [
            "\n",
            "Batch:  20%|██        | 2/10 [00:36<02:31, 18.98s/it]\u001b[A"
          ],
          "name": "stderr"
        },
        {
          "output_type": "stream",
          "text": [
            "Reinforce Loss : -0.005859375 Reinforce Max Reward : -2.420910596847534"
          ],
          "name": "stdout"
        },
        {
          "output_type": "stream",
          "text": [
            "\n",
            "Batch:  30%|███       | 3/10 [00:52<02:07, 18.23s/it]\u001b[A"
          ],
          "name": "stderr"
        },
        {
          "output_type": "stream",
          "text": [
            "Reinforce Loss : -0.001953125 Reinforce Max Reward : -2.4244585037231445"
          ],
          "name": "stdout"
        },
        {
          "output_type": "stream",
          "text": [
            "\n",
            "Batch:  40%|████      | 4/10 [01:08<01:45, 17.54s/it]\u001b[A"
          ],
          "name": "stderr"
        },
        {
          "output_type": "stream",
          "text": [
            "Reinforce Loss : -0.009765625 Reinforce Max Reward : -2.4306979179382324"
          ],
          "name": "stdout"
        },
        {
          "output_type": "stream",
          "text": [
            "\n",
            "Batch:  50%|█████     | 5/10 [01:24<01:25, 17.10s/it]\u001b[A"
          ],
          "name": "stderr"
        },
        {
          "output_type": "stream",
          "text": [
            "Reinforce Loss : 0.00390625 Reinforce Max Reward : -2.429335594177246"
          ],
          "name": "stdout"
        },
        {
          "output_type": "stream",
          "text": [
            "\n",
            "Batch:  60%|██████    | 6/10 [01:40<01:07, 16.81s/it]\u001b[A"
          ],
          "name": "stderr"
        },
        {
          "output_type": "stream",
          "text": [
            "Reinforce Loss : -0.009765625 Reinforce Max Reward : -2.3747363090515137"
          ],
          "name": "stdout"
        },
        {
          "output_type": "stream",
          "text": [
            "\n",
            "Batch:  70%|███████   | 7/10 [01:57<00:50, 16.73s/it]\u001b[A"
          ],
          "name": "stderr"
        },
        {
          "output_type": "stream",
          "text": [
            "Reinforce Loss : -0.0068359375 Reinforce Max Reward : -2.3640966415405273"
          ],
          "name": "stdout"
        },
        {
          "output_type": "stream",
          "text": [
            "\n",
            "Batch:  80%|████████  | 8/10 [02:13<00:32, 16.46s/it]\u001b[A"
          ],
          "name": "stderr"
        },
        {
          "output_type": "stream",
          "text": [
            "Reinforce Loss : 0.001953125 Reinforce Max Reward : -2.4280669689178467"
          ],
          "name": "stdout"
        },
        {
          "output_type": "stream",
          "text": [
            "\n",
            "Batch:  90%|█████████ | 9/10 [02:29<00:16, 16.29s/it]\u001b[A"
          ],
          "name": "stderr"
        },
        {
          "output_type": "stream",
          "text": [
            "Reinforce Loss : -0.001953125 Reinforce Max Reward : -2.4047446250915527"
          ],
          "name": "stdout"
        },
        {
          "output_type": "stream",
          "text": [
            "\n",
            "Batch: 100%|██████████| 10/10 [02:45<00:00, 16.26s/it]\u001b[A\n",
            "Epoch:   5%|▌         | 90/1785 [4:28:27<85:01:30, 180.58s/it]\n",
            "Batch:   0%|          | 0/10 [00:00<?, ?it/s]\u001b[A"
          ],
          "name": "stderr"
        },
        {
          "output_type": "stream",
          "text": [
            "Reinforce Loss : -0.001953125 Reinforce Max Reward : -2.4033002853393555"
          ],
          "name": "stdout"
        },
        {
          "output_type": "stream",
          "text": [
            "\n",
            "Batch:  10%|█         | 1/10 [00:19<02:56, 19.64s/it]\u001b[A"
          ],
          "name": "stderr"
        },
        {
          "output_type": "stream",
          "text": [
            "Reinforce Loss : 0.0078125 Reinforce Max Reward : -2.420816421508789"
          ],
          "name": "stdout"
        },
        {
          "output_type": "stream",
          "text": [
            "\n",
            "Batch:  20%|██        | 2/10 [00:35<02:28, 18.51s/it]\u001b[A"
          ],
          "name": "stderr"
        },
        {
          "output_type": "stream",
          "text": [
            "Reinforce Loss : -0.00390625 Reinforce Max Reward : -2.3178162574768066"
          ],
          "name": "stdout"
        },
        {
          "output_type": "stream",
          "text": [
            "\n",
            "Batch:  30%|███       | 3/10 [00:51<02:04, 17.79s/it]\u001b[A"
          ],
          "name": "stderr"
        },
        {
          "output_type": "stream",
          "text": [
            "Reinforce Loss : -0.013671875 Reinforce Max Reward : -2.4214987754821777"
          ],
          "name": "stdout"
        },
        {
          "output_type": "stream",
          "text": [
            "\n",
            "Batch:  40%|████      | 4/10 [01:07<01:43, 17.20s/it]\u001b[A"
          ],
          "name": "stderr"
        },
        {
          "output_type": "stream",
          "text": [
            "Reinforce Loss : -0.01953125 Reinforce Max Reward : -2.3971729278564453"
          ],
          "name": "stdout"
        },
        {
          "output_type": "stream",
          "text": [
            "\n",
            "Batch:  50%|█████     | 5/10 [01:23<01:23, 16.80s/it]\u001b[A"
          ],
          "name": "stderr"
        },
        {
          "output_type": "stream",
          "text": [
            "Reinforce Loss : -0.005859375 Reinforce Max Reward : -2.4399404525756836"
          ],
          "name": "stdout"
        },
        {
          "output_type": "stream",
          "text": [
            "\n",
            "Batch:  60%|██████    | 6/10 [01:39<01:06, 16.51s/it]\u001b[A"
          ],
          "name": "stderr"
        },
        {
          "output_type": "stream",
          "text": [
            "Reinforce Loss : -0.00390625 Reinforce Max Reward : -2.357762336730957"
          ],
          "name": "stdout"
        },
        {
          "output_type": "stream",
          "text": [
            "\n",
            "Batch:  70%|███████   | 7/10 [01:55<00:49, 16.40s/it]\u001b[A"
          ],
          "name": "stderr"
        },
        {
          "output_type": "stream",
          "text": [
            "Reinforce Loss : 0.0009765625 Reinforce Max Reward : -2.2431321144104004"
          ],
          "name": "stdout"
        },
        {
          "output_type": "stream",
          "text": [
            "\n",
            "Batch:  80%|████████  | 8/10 [02:11<00:32, 16.19s/it]\u001b[A"
          ],
          "name": "stderr"
        },
        {
          "output_type": "stream",
          "text": [
            "Reinforce Loss : -0.00390625 Reinforce Max Reward : -2.2381434440612793"
          ],
          "name": "stdout"
        },
        {
          "output_type": "stream",
          "text": [
            "\n",
            "Batch:  90%|█████████ | 9/10 [02:26<00:16, 16.05s/it]\u001b[A"
          ],
          "name": "stderr"
        },
        {
          "output_type": "stream",
          "text": [
            "Reinforce Loss : 0.005859375 Reinforce Max Reward : -2.4468398094177246"
          ],
          "name": "stdout"
        },
        {
          "output_type": "stream",
          "text": [
            "\n",
            "Batch: 100%|██████████| 10/10 [02:42<00:00, 15.97s/it]\u001b[A\n",
            "Epoch:   5%|▌         | 91/1785 [4:31:24<84:29:31, 179.56s/it]\n",
            "Batch:   0%|          | 0/10 [00:00<?, ?it/s]\u001b[A"
          ],
          "name": "stderr"
        },
        {
          "output_type": "stream",
          "text": [
            "Reinforce Loss : 0.0 Reinforce Max Reward : -2.340761423110962"
          ],
          "name": "stdout"
        },
        {
          "output_type": "stream",
          "text": [
            "\n",
            "Batch:  10%|█         | 1/10 [00:20<03:02, 20.33s/it]\u001b[A"
          ],
          "name": "stderr"
        },
        {
          "output_type": "stream",
          "text": [
            "Reinforce Loss : 0.00390625 Reinforce Max Reward : -2.448240280151367"
          ],
          "name": "stdout"
        },
        {
          "output_type": "stream",
          "text": [
            "\n",
            "Batch:  20%|██        | 2/10 [00:35<02:31, 18.91s/it]\u001b[A"
          ],
          "name": "stderr"
        },
        {
          "output_type": "stream",
          "text": [
            "Reinforce Loss : -0.0009765625 Reinforce Max Reward : -1.9316303730010986"
          ],
          "name": "stdout"
        },
        {
          "output_type": "stream",
          "text": [
            "\n",
            "Batch:  30%|███       | 3/10 [00:52<02:07, 18.15s/it]\u001b[A"
          ],
          "name": "stderr"
        },
        {
          "output_type": "stream",
          "text": [
            "Reinforce Loss : -0.01171875 Reinforce Max Reward : -2.439354658126831"
          ],
          "name": "stdout"
        },
        {
          "output_type": "stream",
          "text": [
            "\n",
            "Batch:  40%|████      | 4/10 [01:07<01:44, 17.40s/it]\u001b[A"
          ],
          "name": "stderr"
        },
        {
          "output_type": "stream",
          "text": [
            "Reinforce Loss : -0.01171875 Reinforce Max Reward : -2.35652494430542"
          ],
          "name": "stdout"
        },
        {
          "output_type": "stream",
          "text": [
            "\n",
            "Batch:  50%|█████     | 5/10 [01:23<01:24, 16.87s/it]\u001b[A"
          ],
          "name": "stderr"
        },
        {
          "output_type": "stream",
          "text": [
            "Reinforce Loss : 0.0009765625 Reinforce Max Reward : -2.4351789951324463"
          ],
          "name": "stdout"
        },
        {
          "output_type": "stream",
          "text": [
            "\n",
            "Batch:  60%|██████    | 6/10 [01:39<01:06, 16.52s/it]\u001b[A"
          ],
          "name": "stderr"
        },
        {
          "output_type": "stream",
          "text": [
            "Reinforce Loss : 0.0068359375 Reinforce Max Reward : -2.410686492919922"
          ],
          "name": "stdout"
        },
        {
          "output_type": "stream",
          "text": [
            "\n",
            "Batch:  70%|███████   | 7/10 [01:55<00:48, 16.32s/it]\u001b[A"
          ],
          "name": "stderr"
        },
        {
          "output_type": "stream",
          "text": [
            "Reinforce Loss : -0.009765625 Reinforce Max Reward : -2.436486005783081"
          ],
          "name": "stdout"
        },
        {
          "output_type": "stream",
          "text": [
            "\n",
            "Batch:  80%|████████  | 8/10 [02:10<00:32, 16.13s/it]\u001b[A"
          ],
          "name": "stderr"
        },
        {
          "output_type": "stream",
          "text": [
            "Reinforce Loss : -0.00390625 Reinforce Max Reward : -2.4211721420288086"
          ],
          "name": "stdout"
        },
        {
          "output_type": "stream",
          "text": [
            "\n",
            "Batch:  90%|█████████ | 9/10 [02:26<00:15, 15.97s/it]\u001b[A"
          ],
          "name": "stderr"
        },
        {
          "output_type": "stream",
          "text": [
            "Reinforce Loss : -0.00390625 Reinforce Max Reward : -2.4251537322998047"
          ],
          "name": "stdout"
        },
        {
          "output_type": "stream",
          "text": [
            "\n",
            "Batch: 100%|██████████| 10/10 [02:42<00:00, 15.88s/it]\u001b[A\n",
            "Epoch:   5%|▌         | 92/1785 [4:34:19<83:51:41, 178.32s/it]\n",
            "Batch:   0%|          | 0/10 [00:00<?, ?it/s]\u001b[A"
          ],
          "name": "stderr"
        },
        {
          "output_type": "stream",
          "text": [
            "Reinforce Loss : 0.01171875 Reinforce Max Reward : -2.4207351207733154"
          ],
          "name": "stdout"
        },
        {
          "output_type": "stream",
          "text": [
            "\n",
            "Batch:  10%|█         | 1/10 [00:22<03:18, 22.04s/it]\u001b[A"
          ],
          "name": "stderr"
        },
        {
          "output_type": "stream",
          "text": [
            "Reinforce Loss : 0.001953125 Reinforce Max Reward : -2.442436695098877"
          ],
          "name": "stdout"
        },
        {
          "output_type": "stream",
          "text": [
            "\n",
            "Batch:  20%|██        | 2/10 [00:37<02:41, 20.21s/it]\u001b[A"
          ],
          "name": "stderr"
        },
        {
          "output_type": "stream",
          "text": [
            "Reinforce Loss : 0.0 Reinforce Max Reward : -2.385310649871826"
          ],
          "name": "stdout"
        },
        {
          "output_type": "stream",
          "text": [
            "\n",
            "Batch:  30%|███       | 3/10 [00:53<02:12, 18.94s/it]\u001b[A"
          ],
          "name": "stderr"
        },
        {
          "output_type": "stream",
          "text": [
            "Reinforce Loss : -0.00390625 Reinforce Max Reward : -2.4422411918640137"
          ],
          "name": "stdout"
        },
        {
          "output_type": "stream",
          "text": [
            "\n",
            "Batch:  40%|████      | 4/10 [01:09<01:47, 17.92s/it]\u001b[A"
          ],
          "name": "stderr"
        },
        {
          "output_type": "stream",
          "text": [
            "Reinforce Loss : 0.005859375 Reinforce Max Reward : -2.353795051574707"
          ],
          "name": "stdout"
        },
        {
          "output_type": "stream",
          "text": [
            "\n",
            "Batch:  50%|█████     | 5/10 [01:25<01:26, 17.31s/it]\u001b[A"
          ],
          "name": "stderr"
        },
        {
          "output_type": "stream",
          "text": [
            "Reinforce Loss : 0.0 Reinforce Max Reward : -2.4275593757629395"
          ],
          "name": "stdout"
        },
        {
          "output_type": "stream",
          "text": [
            "\n",
            "Batch:  60%|██████    | 6/10 [01:41<01:07, 16.82s/it]\u001b[A"
          ],
          "name": "stderr"
        },
        {
          "output_type": "stream",
          "text": [
            "Reinforce Loss : -0.009765625 Reinforce Max Reward : -2.4245471954345703"
          ],
          "name": "stdout"
        },
        {
          "output_type": "stream",
          "text": [
            "\n",
            "Batch:  70%|███████   | 7/10 [01:57<00:49, 16.65s/it]\u001b[A"
          ],
          "name": "stderr"
        },
        {
          "output_type": "stream",
          "text": [
            "Reinforce Loss : 0.0 Reinforce Max Reward : -2.4491262435913086"
          ],
          "name": "stdout"
        },
        {
          "output_type": "stream",
          "text": [
            "\n",
            "Batch:  80%|████████  | 8/10 [02:12<00:32, 16.34s/it]\u001b[A"
          ],
          "name": "stderr"
        },
        {
          "output_type": "stream",
          "text": [
            "Reinforce Loss : -0.0078125 Reinforce Max Reward : -2.2412800788879395"
          ],
          "name": "stdout"
        },
        {
          "output_type": "stream",
          "text": [
            "\n",
            "Batch:  90%|█████████ | 9/10 [02:28<00:16, 16.16s/it]\u001b[A"
          ],
          "name": "stderr"
        },
        {
          "output_type": "stream",
          "text": [
            "Reinforce Loss : -0.001953125 Reinforce Max Reward : -2.3821394443511963"
          ],
          "name": "stdout"
        },
        {
          "output_type": "stream",
          "text": [
            "\n",
            "Batch: 100%|██████████| 10/10 [02:44<00:00, 15.98s/it]\u001b[A\n",
            "Epoch:   5%|▌         | 93/1785 [4:37:19<84:03:25, 178.84s/it]\n",
            "Batch:   0%|          | 0/10 [00:00<?, ?it/s]\u001b[A"
          ],
          "name": "stderr"
        },
        {
          "output_type": "stream",
          "text": [
            "Reinforce Loss : -0.00390625 Reinforce Max Reward : -2.1804542541503906"
          ],
          "name": "stdout"
        },
        {
          "output_type": "stream",
          "text": [
            "\n",
            "Batch:  10%|█         | 1/10 [00:21<03:17, 21.93s/it]\u001b[A"
          ],
          "name": "stderr"
        },
        {
          "output_type": "stream",
          "text": [
            "Reinforce Loss : -0.001953125 Reinforce Max Reward : -2.434574604034424"
          ],
          "name": "stdout"
        },
        {
          "output_type": "stream",
          "text": [
            "\n",
            "Batch:  20%|██        | 2/10 [00:37<02:40, 20.07s/it]\u001b[A"
          ],
          "name": "stderr"
        },
        {
          "output_type": "stream",
          "text": [
            "Reinforce Loss : 0.0068359375 Reinforce Max Reward : -2.36171293258667"
          ],
          "name": "stdout"
        },
        {
          "output_type": "stream",
          "text": [
            "\n",
            "Batch:  30%|███       | 3/10 [00:53<02:11, 18.78s/it]\u001b[A"
          ],
          "name": "stderr"
        },
        {
          "output_type": "stream",
          "text": [
            "Reinforce Loss : -0.00390625 Reinforce Max Reward : -2.4325239658355713"
          ],
          "name": "stdout"
        },
        {
          "output_type": "stream",
          "text": [
            "\n",
            "Batch:  40%|████      | 4/10 [01:09<01:47, 17.87s/it]\u001b[A"
          ],
          "name": "stderr"
        },
        {
          "output_type": "stream",
          "text": [
            "Reinforce Loss : -0.017578125 Reinforce Max Reward : -2.2915525436401367"
          ],
          "name": "stdout"
        },
        {
          "output_type": "stream",
          "text": [
            "\n",
            "Batch:  50%|█████     | 5/10 [01:24<01:26, 17.24s/it]\u001b[A"
          ],
          "name": "stderr"
        },
        {
          "output_type": "stream",
          "text": [
            "Reinforce Loss : 0.0 Reinforce Max Reward : -1.7052390575408936"
          ],
          "name": "stdout"
        },
        {
          "output_type": "stream",
          "text": [
            "\n",
            "Batch:  60%|██████    | 6/10 [01:40<01:07, 16.79s/it]\u001b[A"
          ],
          "name": "stderr"
        },
        {
          "output_type": "stream",
          "text": [
            "Reinforce Loss : 0.01171875 Reinforce Max Reward : -2.2384605407714844"
          ],
          "name": "stdout"
        },
        {
          "output_type": "stream",
          "text": [
            "\n",
            "Batch:  70%|███████   | 7/10 [01:56<00:49, 16.53s/it]\u001b[A"
          ],
          "name": "stderr"
        },
        {
          "output_type": "stream",
          "text": [
            "Reinforce Loss : 0.009765625 Reinforce Max Reward : -2.428852081298828"
          ],
          "name": "stdout"
        },
        {
          "output_type": "stream",
          "text": [
            "\n",
            "Batch:  80%|████████  | 8/10 [02:12<00:32, 16.24s/it]\u001b[A"
          ],
          "name": "stderr"
        },
        {
          "output_type": "stream",
          "text": [
            "Reinforce Loss : 0.001953125 Reinforce Max Reward : -2.2447805404663086"
          ],
          "name": "stdout"
        },
        {
          "output_type": "stream",
          "text": [
            "\n",
            "Batch:  90%|█████████ | 9/10 [02:27<00:16, 16.08s/it]\u001b[A"
          ],
          "name": "stderr"
        },
        {
          "output_type": "stream",
          "text": [
            "Reinforce Loss : 0.0 Reinforce Max Reward : -2.427135944366455"
          ],
          "name": "stdout"
        },
        {
          "output_type": "stream",
          "text": [
            "\n",
            "Batch: 100%|██████████| 10/10 [02:43<00:00, 15.94s/it]\u001b[A\n",
            "Epoch:   5%|▌         | 94/1785 [4:40:19<84:04:50, 179.00s/it]\n",
            "Batch:   0%|          | 0/10 [00:00<?, ?it/s]\u001b[A"
          ],
          "name": "stderr"
        },
        {
          "output_type": "stream",
          "text": [
            "Reinforce Loss : 0.0 Reinforce Max Reward : -2.4336130619049072"
          ],
          "name": "stdout"
        },
        {
          "output_type": "stream",
          "text": [
            "\n",
            "Batch:  10%|█         | 1/10 [00:20<03:06, 20.68s/it]\u001b[A"
          ],
          "name": "stderr"
        },
        {
          "output_type": "stream",
          "text": [
            "Reinforce Loss : -0.01171875 Reinforce Max Reward : -2.146679401397705"
          ],
          "name": "stdout"
        },
        {
          "output_type": "stream",
          "text": [
            "\n",
            "Batch:  20%|██        | 2/10 [00:36<02:33, 19.16s/it]\u001b[A"
          ],
          "name": "stderr"
        },
        {
          "output_type": "stream",
          "text": [
            "Reinforce Loss : -0.0048828125 Reinforce Max Reward : -2.323329210281372"
          ],
          "name": "stdout"
        },
        {
          "output_type": "stream",
          "text": [
            "\n",
            "Batch:  30%|███       | 3/10 [00:52<02:07, 18.15s/it]\u001b[A"
          ],
          "name": "stderr"
        },
        {
          "output_type": "stream",
          "text": [
            "Reinforce Loss : -0.00390625 Reinforce Max Reward : -1.996181607246399"
          ],
          "name": "stdout"
        },
        {
          "output_type": "stream",
          "text": [
            "\n",
            "Batch:  40%|████      | 4/10 [01:08<01:45, 17.53s/it]\u001b[A"
          ],
          "name": "stderr"
        },
        {
          "output_type": "stream",
          "text": [
            "Reinforce Loss : 0.0078125 Reinforce Max Reward : -2.431889057159424"
          ],
          "name": "stdout"
        },
        {
          "output_type": "stream",
          "text": [
            "\n",
            "Batch:  50%|█████     | 5/10 [01:23<01:24, 16.98s/it]\u001b[A"
          ],
          "name": "stderr"
        },
        {
          "output_type": "stream",
          "text": [
            "Reinforce Loss : -0.0078125 Reinforce Max Reward : -2.30570125579834"
          ],
          "name": "stdout"
        },
        {
          "output_type": "stream",
          "text": [
            "\n",
            "Batch:  60%|██████    | 6/10 [01:39<01:06, 16.56s/it]\u001b[A"
          ],
          "name": "stderr"
        },
        {
          "output_type": "stream",
          "text": [
            "Reinforce Loss : -0.00390625 Reinforce Max Reward : -2.4318933486938477"
          ],
          "name": "stdout"
        },
        {
          "output_type": "stream",
          "text": [
            "\n",
            "Batch:  70%|███████   | 7/10 [01:55<00:49, 16.39s/it]\u001b[A"
          ],
          "name": "stderr"
        },
        {
          "output_type": "stream",
          "text": [
            "Reinforce Loss : -0.009765625 Reinforce Max Reward : -2.42960262298584"
          ],
          "name": "stdout"
        },
        {
          "output_type": "stream",
          "text": [
            "\n",
            "Batch:  80%|████████  | 8/10 [02:11<00:32, 16.22s/it]\u001b[A"
          ],
          "name": "stderr"
        },
        {
          "output_type": "stream",
          "text": [
            "Reinforce Loss : -0.013671875 Reinforce Max Reward : -2.4183084964752197"
          ],
          "name": "stdout"
        },
        {
          "output_type": "stream",
          "text": [
            "\n",
            "Batch:  90%|█████████ | 9/10 [02:27<00:16, 16.16s/it]\u001b[A"
          ],
          "name": "stderr"
        },
        {
          "output_type": "stream",
          "text": [
            "Reinforce Loss : -0.0048828125 Reinforce Max Reward : -2.420100212097168"
          ],
          "name": "stdout"
        },
        {
          "output_type": "stream",
          "text": [
            "\n",
            "Batch: 100%|██████████| 10/10 [02:43<00:00, 16.04s/it]\u001b[A\n",
            "Epoch:   5%|▌         | 95/1785 [4:43:18<84:04:07, 179.08s/it]\n",
            "Batch:   0%|          | 0/10 [00:00<?, ?it/s]\u001b[A"
          ],
          "name": "stderr"
        },
        {
          "output_type": "stream",
          "text": [
            "Reinforce Loss : -0.0048828125 Reinforce Max Reward : -2.4133450984954834"
          ],
          "name": "stdout"
        },
        {
          "output_type": "stream",
          "text": [
            "\n",
            "Batch:  10%|█         | 1/10 [00:20<03:04, 20.48s/it]\u001b[A"
          ],
          "name": "stderr"
        },
        {
          "output_type": "stream",
          "text": [
            "Reinforce Loss : 0.00390625 Reinforce Max Reward : -2.305889844894409"
          ],
          "name": "stdout"
        },
        {
          "output_type": "stream",
          "text": [
            "\n",
            "Batch:  20%|██        | 2/10 [00:36<02:32, 19.04s/it]\u001b[A"
          ],
          "name": "stderr"
        },
        {
          "output_type": "stream",
          "text": [
            "Reinforce Loss : 0.0 Reinforce Max Reward : -2.4266316890716553"
          ],
          "name": "stdout"
        },
        {
          "output_type": "stream",
          "text": [
            "\n",
            "Batch:  30%|███       | 3/10 [00:51<02:06, 18.02s/it]\u001b[A"
          ],
          "name": "stderr"
        },
        {
          "output_type": "stream",
          "text": [
            "Reinforce Loss : -0.0048828125 Reinforce Max Reward : -2.4195804595947266"
          ],
          "name": "stdout"
        },
        {
          "output_type": "stream",
          "text": [
            "\n",
            "Batch:  40%|████      | 4/10 [01:07<01:44, 17.45s/it]\u001b[A"
          ],
          "name": "stderr"
        },
        {
          "output_type": "stream",
          "text": [
            "Reinforce Loss : 0.0078125 Reinforce Max Reward : -2.387498617172241"
          ],
          "name": "stdout"
        },
        {
          "output_type": "stream",
          "text": [
            "\n",
            "Batch:  50%|█████     | 5/10 [01:23<01:24, 16.93s/it]\u001b[A"
          ],
          "name": "stderr"
        },
        {
          "output_type": "stream",
          "text": [
            "Reinforce Loss : 0.005859375 Reinforce Max Reward : -2.4286389350891113"
          ],
          "name": "stdout"
        },
        {
          "output_type": "stream",
          "text": [
            "\n",
            "Batch:  60%|██████    | 6/10 [01:39<01:06, 16.55s/it]\u001b[A"
          ],
          "name": "stderr"
        },
        {
          "output_type": "stream",
          "text": [
            "Reinforce Loss : -0.0126953125 Reinforce Max Reward : -2.431522846221924"
          ],
          "name": "stdout"
        },
        {
          "output_type": "stream",
          "text": [
            "\n",
            "Batch:  70%|███████   | 7/10 [01:55<00:49, 16.34s/it]\u001b[A"
          ],
          "name": "stderr"
        },
        {
          "output_type": "stream",
          "text": [
            "Reinforce Loss : 0.005859375 Reinforce Max Reward : -2.1467113494873047"
          ],
          "name": "stdout"
        },
        {
          "output_type": "stream",
          "text": [
            "\n",
            "Batch:  80%|████████  | 8/10 [02:11<00:32, 16.22s/it]\u001b[A"
          ],
          "name": "stderr"
        },
        {
          "output_type": "stream",
          "text": [
            "Reinforce Loss : 0.0009765625 Reinforce Max Reward : -2.3079819679260254"
          ],
          "name": "stdout"
        },
        {
          "output_type": "stream",
          "text": [
            "\n",
            "Batch:  90%|█████████ | 9/10 [02:26<00:16, 16.08s/it]\u001b[A"
          ],
          "name": "stderr"
        },
        {
          "output_type": "stream",
          "text": [
            "Reinforce Loss : 0.0078125 Reinforce Max Reward : -2.4262354373931885"
          ],
          "name": "stdout"
        },
        {
          "output_type": "stream",
          "text": [
            "\n",
            "Batch: 100%|██████████| 10/10 [02:42<00:00, 15.91s/it]\u001b[A\n",
            "Epoch:   5%|▌         | 96/1785 [4:46:15<83:43:18, 178.45s/it]\n",
            "Batch:   0%|          | 0/10 [00:00<?, ?it/s]\u001b[A"
          ],
          "name": "stderr"
        },
        {
          "output_type": "stream",
          "text": [
            "Reinforce Loss : 0.0029296875 Reinforce Max Reward : -2.1221296787261963"
          ],
          "name": "stdout"
        },
        {
          "output_type": "stream",
          "text": [
            "\n",
            "Batch:  10%|█         | 1/10 [00:22<03:21, 22.36s/it]\u001b[A"
          ],
          "name": "stderr"
        },
        {
          "output_type": "stream",
          "text": [
            "Reinforce Loss : 0.0087890625 Reinforce Max Reward : -2.374809980392456"
          ],
          "name": "stdout"
        },
        {
          "output_type": "stream",
          "text": [
            "\n",
            "Batch:  20%|██        | 2/10 [00:38<02:42, 20.37s/it]\u001b[A"
          ],
          "name": "stderr"
        },
        {
          "output_type": "stream",
          "text": [
            "Reinforce Loss : 0.00390625 Reinforce Max Reward : -2.4334402084350586"
          ],
          "name": "stdout"
        },
        {
          "output_type": "stream",
          "text": [
            "\n",
            "Batch:  30%|███       | 3/10 [00:53<02:12, 18.97s/it]\u001b[A"
          ],
          "name": "stderr"
        },
        {
          "output_type": "stream",
          "text": [
            "Reinforce Loss : -0.015625 Reinforce Max Reward : -2.4379091262817383"
          ],
          "name": "stdout"
        },
        {
          "output_type": "stream",
          "text": [
            "\n",
            "Batch:  40%|████      | 4/10 [01:09<01:48, 18.05s/it]\u001b[A"
          ],
          "name": "stderr"
        },
        {
          "output_type": "stream",
          "text": [
            "Reinforce Loss : 0.0234375 Reinforce Max Reward : -2.429823875427246"
          ],
          "name": "stdout"
        },
        {
          "output_type": "stream",
          "text": [
            "\n",
            "Batch:  50%|█████     | 5/10 [01:25<01:26, 17.34s/it]\u001b[A"
          ],
          "name": "stderr"
        },
        {
          "output_type": "stream",
          "text": [
            "Reinforce Loss : 0.0 Reinforce Max Reward : -2.4267022609710693"
          ],
          "name": "stdout"
        },
        {
          "output_type": "stream",
          "text": [
            "\n",
            "Batch:  60%|██████    | 6/10 [01:41<01:07, 16.85s/it]\u001b[A"
          ],
          "name": "stderr"
        },
        {
          "output_type": "stream",
          "text": [
            "Reinforce Loss : 0.0087890625 Reinforce Max Reward : -2.43270206451416"
          ],
          "name": "stdout"
        },
        {
          "output_type": "stream",
          "text": [
            "\n",
            "Batch:  70%|███████   | 7/10 [01:57<00:49, 16.57s/it]\u001b[A"
          ],
          "name": "stderr"
        },
        {
          "output_type": "stream",
          "text": [
            "Reinforce Loss : -0.013671875 Reinforce Max Reward : -2.4398388862609863"
          ],
          "name": "stdout"
        },
        {
          "output_type": "stream",
          "text": [
            "\n",
            "Batch:  80%|████████  | 8/10 [02:13<00:33, 16.55s/it]\u001b[A"
          ],
          "name": "stderr"
        },
        {
          "output_type": "stream",
          "text": [
            "Reinforce Loss : 0.0 Reinforce Max Reward : -2.439385414123535"
          ],
          "name": "stdout"
        },
        {
          "output_type": "stream",
          "text": [
            "\n",
            "Batch:  90%|█████████ | 9/10 [02:29<00:16, 16.28s/it]\u001b[A"
          ],
          "name": "stderr"
        },
        {
          "output_type": "stream",
          "text": [
            "Reinforce Loss : 0.005859375 Reinforce Max Reward : -2.394664764404297"
          ],
          "name": "stdout"
        },
        {
          "output_type": "stream",
          "text": [
            "\n",
            "Batch: 100%|██████████| 10/10 [02:45<00:00, 16.18s/it]\u001b[A\n",
            "Epoch:   5%|▌         | 97/1785 [4:49:16<84:02:07, 179.22s/it]\n",
            "Batch:   0%|          | 0/10 [00:00<?, ?it/s]\u001b[A"
          ],
          "name": "stderr"
        },
        {
          "output_type": "stream",
          "text": [
            "Reinforce Loss : -0.0009765625 Reinforce Max Reward : -2.3244309425354004"
          ],
          "name": "stdout"
        },
        {
          "output_type": "stream",
          "text": [
            "\n",
            "Batch:  10%|█         | 1/10 [00:20<03:08, 20.97s/it]\u001b[A"
          ],
          "name": "stderr"
        },
        {
          "output_type": "stream",
          "text": [
            "Reinforce Loss : 0.0078125 Reinforce Max Reward : -2.2378597259521484"
          ],
          "name": "stdout"
        },
        {
          "output_type": "stream",
          "text": [
            "\n",
            "Batch:  20%|██        | 2/10 [00:36<02:35, 19.41s/it]\u001b[A"
          ],
          "name": "stderr"
        },
        {
          "output_type": "stream",
          "text": [
            "Reinforce Loss : -0.001953125 Reinforce Max Reward : -2.2868447303771973"
          ],
          "name": "stdout"
        },
        {
          "output_type": "stream",
          "text": [
            "\n",
            "Batch:  30%|███       | 3/10 [00:52<02:08, 18.41s/it]\u001b[A"
          ],
          "name": "stderr"
        },
        {
          "output_type": "stream",
          "text": [
            "Reinforce Loss : -0.015625 Reinforce Max Reward : -2.1807870864868164"
          ],
          "name": "stdout"
        },
        {
          "output_type": "stream",
          "text": [
            "\n",
            "Batch:  40%|████      | 4/10 [01:09<01:46, 17.82s/it]\u001b[A"
          ],
          "name": "stderr"
        },
        {
          "output_type": "stream",
          "text": [
            "Reinforce Loss : -0.005859375 Reinforce Max Reward : -2.4245097637176514"
          ],
          "name": "stdout"
        },
        {
          "output_type": "stream",
          "text": [
            "\n",
            "Batch:  50%|█████     | 5/10 [01:25<01:26, 17.22s/it]\u001b[A"
          ],
          "name": "stderr"
        },
        {
          "output_type": "stream",
          "text": [
            "Reinforce Loss : 0.001953125 Reinforce Max Reward : -2.4252233505249023"
          ],
          "name": "stdout"
        },
        {
          "output_type": "stream",
          "text": [
            "\n",
            "Batch:  60%|██████    | 6/10 [01:42<01:08, 17.23s/it]\u001b[A"
          ],
          "name": "stderr"
        },
        {
          "output_type": "stream",
          "text": [
            "Reinforce Loss : -0.005859375 Reinforce Max Reward : -2.406165599822998"
          ],
          "name": "stdout"
        },
        {
          "output_type": "stream",
          "text": [
            "\n",
            "Batch:  70%|███████   | 7/10 [01:58<00:50, 16.95s/it]\u001b[A"
          ],
          "name": "stderr"
        },
        {
          "output_type": "stream",
          "text": [
            "Reinforce Loss : -0.001953125 Reinforce Max Reward : -2.4362680912017822"
          ],
          "name": "stdout"
        },
        {
          "output_type": "stream",
          "text": [
            "\n",
            "Batch:  80%|████████  | 8/10 [02:15<00:33, 16.79s/it]\u001b[A"
          ],
          "name": "stderr"
        },
        {
          "output_type": "stream",
          "text": [
            "Reinforce Loss : 0.0078125 Reinforce Max Reward : -2.1308400630950928"
          ],
          "name": "stdout"
        },
        {
          "output_type": "stream",
          "text": [
            "\n",
            "Batch:  90%|█████████ | 9/10 [02:30<00:16, 16.50s/it]\u001b[A"
          ],
          "name": "stderr"
        },
        {
          "output_type": "stream",
          "text": [
            "Reinforce Loss : -0.017578125 Reinforce Max Reward : -2.041020154953003"
          ],
          "name": "stdout"
        },
        {
          "output_type": "stream",
          "text": [
            "\n",
            "Batch: 100%|██████████| 10/10 [02:46<00:00, 16.32s/it]\u001b[A\n",
            "Epoch:   5%|▌         | 98/1785 [4:52:19<84:31:00, 180.36s/it]\n",
            "Batch:   0%|          | 0/10 [00:00<?, ?it/s]\u001b[A"
          ],
          "name": "stderr"
        },
        {
          "output_type": "stream",
          "text": [
            "Reinforce Loss : 0.01953125 Reinforce Max Reward : -2.3439698219299316"
          ],
          "name": "stdout"
        },
        {
          "output_type": "stream",
          "text": [
            "\n",
            "Batch:  10%|█         | 1/10 [00:19<02:58, 19.78s/it]\u001b[A"
          ],
          "name": "stderr"
        },
        {
          "output_type": "stream",
          "text": [
            "Reinforce Loss : 0.0087890625 Reinforce Max Reward : -2.420196533203125"
          ],
          "name": "stdout"
        },
        {
          "output_type": "stream",
          "text": [
            "\n",
            "Batch:  20%|██        | 2/10 [00:35<02:28, 18.57s/it]\u001b[A"
          ],
          "name": "stderr"
        },
        {
          "output_type": "stream",
          "text": [
            "Reinforce Loss : 0.001953125 Reinforce Max Reward : -2.359192371368408"
          ],
          "name": "stdout"
        },
        {
          "output_type": "stream",
          "text": [
            "\n",
            "Batch:  30%|███       | 3/10 [00:51<02:04, 17.82s/it]\u001b[A"
          ],
          "name": "stderr"
        },
        {
          "output_type": "stream",
          "text": [
            "Reinforce Loss : -0.00390625 Reinforce Max Reward : -2.356679916381836"
          ],
          "name": "stdout"
        },
        {
          "output_type": "stream",
          "text": [
            "\n",
            "Batch:  40%|████      | 4/10 [01:07<01:44, 17.34s/it]\u001b[A"
          ],
          "name": "stderr"
        },
        {
          "output_type": "stream",
          "text": [
            "Reinforce Loss : 0.01171875 Reinforce Max Reward : -2.0653786659240723"
          ],
          "name": "stdout"
        },
        {
          "output_type": "stream",
          "text": [
            "\n",
            "Batch:  50%|█████     | 5/10 [01:23<01:24, 16.85s/it]\u001b[A"
          ],
          "name": "stderr"
        },
        {
          "output_type": "stream",
          "text": [
            "Reinforce Loss : 0.0048828125 Reinforce Max Reward : -2.4231436252593994"
          ],
          "name": "stdout"
        },
        {
          "output_type": "stream",
          "text": [
            "\n",
            "Batch:  60%|██████    | 6/10 [01:39<01:06, 16.60s/it]\u001b[A"
          ],
          "name": "stderr"
        },
        {
          "output_type": "stream",
          "text": [
            "Reinforce Loss : -0.0009765625 Reinforce Max Reward : -2.3866095542907715"
          ],
          "name": "stdout"
        },
        {
          "output_type": "stream",
          "text": [
            "\n",
            "Batch:  70%|███████   | 7/10 [01:55<00:49, 16.39s/it]\u001b[A"
          ],
          "name": "stderr"
        },
        {
          "output_type": "stream",
          "text": [
            "Reinforce Loss : -0.005859375 Reinforce Max Reward : -1.954766869544983"
          ],
          "name": "stdout"
        },
        {
          "output_type": "stream",
          "text": [
            "\n",
            "Batch:  80%|████████  | 8/10 [02:11<00:32, 16.30s/it]\u001b[A"
          ],
          "name": "stderr"
        },
        {
          "output_type": "stream",
          "text": [
            "Reinforce Loss : -0.001953125 Reinforce Max Reward : -2.260403871536255"
          ],
          "name": "stdout"
        },
        {
          "output_type": "stream",
          "text": [
            "\n",
            "Batch:  90%|█████████ | 9/10 [02:27<00:16, 16.06s/it]\u001b[A"
          ],
          "name": "stderr"
        },
        {
          "output_type": "stream",
          "text": [
            "Reinforce Loss : -0.005859375 Reinforce Max Reward : -2.241260528564453"
          ],
          "name": "stdout"
        },
        {
          "output_type": "stream",
          "text": [
            "\n",
            "Batch: 100%|██████████| 10/10 [02:43<00:00, 16.04s/it]\u001b[A\n",
            "Epoch:   6%|▌         | 99/1785 [4:55:15<83:52:45, 179.10s/it]\n",
            "Batch:   0%|          | 0/10 [00:00<?, ?it/s]\u001b[A"
          ],
          "name": "stderr"
        },
        {
          "output_type": "stream",
          "text": [
            "Reinforce Loss : 0.013671875 Reinforce Max Reward : -2.4366915225982666"
          ],
          "name": "stdout"
        },
        {
          "output_type": "stream",
          "text": [
            "\n",
            "Batch:  10%|█         | 1/10 [00:22<03:26, 22.97s/it]\u001b[A"
          ],
          "name": "stderr"
        },
        {
          "output_type": "stream",
          "text": [
            "Reinforce Loss : -0.0068359375 Reinforce Max Reward : -2.353447914123535"
          ],
          "name": "stdout"
        },
        {
          "output_type": "stream",
          "text": [
            "\n",
            "Batch:  20%|██        | 2/10 [00:38<02:45, 20.74s/it]\u001b[A"
          ],
          "name": "stderr"
        },
        {
          "output_type": "stream",
          "text": [
            "Reinforce Loss : -0.00390625 Reinforce Max Reward : -2.4309487342834473"
          ],
          "name": "stdout"
        },
        {
          "output_type": "stream",
          "text": [
            "\n",
            "Batch:  30%|███       | 3/10 [00:54<02:15, 19.30s/it]\u001b[A"
          ],
          "name": "stderr"
        },
        {
          "output_type": "stream",
          "text": [
            "Reinforce Loss : -0.013671875 Reinforce Max Reward : -2.437284469604492"
          ],
          "name": "stdout"
        },
        {
          "output_type": "stream",
          "text": [
            "\n",
            "Batch:  40%|████      | 4/10 [01:10<01:50, 18.40s/it]\u001b[A"
          ],
          "name": "stderr"
        },
        {
          "output_type": "stream",
          "text": [
            "Reinforce Loss : 0.01171875 Reinforce Max Reward : -2.43296480178833"
          ],
          "name": "stdout"
        },
        {
          "output_type": "stream",
          "text": [
            "\n",
            "Batch:  50%|█████     | 5/10 [01:26<01:27, 17.54s/it]\u001b[A"
          ],
          "name": "stderr"
        },
        {
          "output_type": "stream",
          "text": [
            "Reinforce Loss : 0.005859375 Reinforce Max Reward : -1.946180820465088"
          ],
          "name": "stdout"
        },
        {
          "output_type": "stream",
          "text": [
            "\n",
            "Batch:  60%|██████    | 6/10 [01:41<01:07, 16.98s/it]\u001b[A"
          ],
          "name": "stderr"
        },
        {
          "output_type": "stream",
          "text": [
            "Reinforce Loss : -0.0078125 Reinforce Max Reward : -2.3812313079833984"
          ],
          "name": "stdout"
        },
        {
          "output_type": "stream",
          "text": [
            "\n",
            "Batch:  70%|███████   | 7/10 [01:57<00:49, 16.61s/it]\u001b[A"
          ],
          "name": "stderr"
        },
        {
          "output_type": "stream",
          "text": [
            "Reinforce Loss : 0.0009765625 Reinforce Max Reward : -2.386368751525879"
          ],
          "name": "stdout"
        },
        {
          "output_type": "stream",
          "text": [
            "\n",
            "Batch:  80%|████████  | 8/10 [02:13<00:32, 16.44s/it]\u001b[A"
          ],
          "name": "stderr"
        },
        {
          "output_type": "stream",
          "text": [
            "Reinforce Loss : 0.0 Reinforce Max Reward : -2.2745814323425293"
          ],
          "name": "stdout"
        },
        {
          "output_type": "stream",
          "text": [
            "\n",
            "Batch:  90%|█████████ | 9/10 [02:29<00:16, 16.18s/it]\u001b[A"
          ],
          "name": "stderr"
        },
        {
          "output_type": "stream",
          "text": [
            "Reinforce Loss : 0.0 Reinforce Max Reward : -2.040541887283325"
          ],
          "name": "stdout"
        },
        {
          "output_type": "stream",
          "text": [
            "\n",
            "Batch: 100%|██████████| 10/10 [02:45<00:00, 16.04s/it]\u001b[A\n",
            "Epoch:   6%|▌         | 100/1785 [4:58:15<83:56:19, 179.33s/it]\n",
            "Batch:   0%|          | 0/10 [00:00<?, ?it/s]\u001b[A"
          ],
          "name": "stderr"
        },
        {
          "output_type": "stream",
          "text": [
            "Reinforce Loss : 0.005859375 Reinforce Max Reward : -2.4345431327819824"
          ],
          "name": "stdout"
        },
        {
          "output_type": "stream",
          "text": [
            "\n",
            "Batch:  10%|█         | 1/10 [00:21<03:15, 21.69s/it]\u001b[A"
          ],
          "name": "stderr"
        },
        {
          "output_type": "stream",
          "text": [
            "Reinforce Loss : -0.00390625 Reinforce Max Reward : -2.422506809234619"
          ],
          "name": "stdout"
        },
        {
          "output_type": "stream",
          "text": [
            "\n",
            "Batch:  20%|██        | 2/10 [00:37<02:38, 19.86s/it]\u001b[A"
          ],
          "name": "stderr"
        },
        {
          "output_type": "stream",
          "text": [
            "Reinforce Loss : 0.0 Reinforce Max Reward : -2.2838616371154785"
          ],
          "name": "stdout"
        },
        {
          "output_type": "stream",
          "text": [
            "\n",
            "Batch:  30%|███       | 3/10 [00:53<02:10, 18.71s/it]\u001b[A"
          ],
          "name": "stderr"
        },
        {
          "output_type": "stream",
          "text": [
            "Reinforce Loss : -0.0234375 Reinforce Max Reward : -2.407339096069336"
          ],
          "name": "stdout"
        },
        {
          "output_type": "stream",
          "text": [
            "\n",
            "Batch:  40%|████      | 4/10 [01:09<01:47, 17.88s/it]\u001b[A"
          ],
          "name": "stderr"
        },
        {
          "output_type": "stream",
          "text": [
            "Reinforce Loss : 0.001953125 Reinforce Max Reward : -2.4334311485290527"
          ],
          "name": "stdout"
        },
        {
          "output_type": "stream",
          "text": [
            "\n",
            "Batch:  50%|█████     | 5/10 [01:24<01:26, 17.23s/it]\u001b[A"
          ],
          "name": "stderr"
        },
        {
          "output_type": "stream",
          "text": [
            "Reinforce Loss : 0.009765625 Reinforce Max Reward : -2.3756532669067383"
          ],
          "name": "stdout"
        },
        {
          "output_type": "stream",
          "text": [
            "\n",
            "Batch:  60%|██████    | 6/10 [01:40<01:06, 16.72s/it]\u001b[A"
          ],
          "name": "stderr"
        },
        {
          "output_type": "stream",
          "text": [
            "Reinforce Loss : 0.005859375 Reinforce Max Reward : -2.2412190437316895"
          ],
          "name": "stdout"
        },
        {
          "output_type": "stream",
          "text": [
            "\n",
            "Batch:  70%|███████   | 7/10 [01:56<00:49, 16.48s/it]\u001b[A"
          ],
          "name": "stderr"
        },
        {
          "output_type": "stream",
          "text": [
            "Reinforce Loss : 0.0078125 Reinforce Max Reward : -2.3898887634277344"
          ],
          "name": "stdout"
        },
        {
          "output_type": "stream",
          "text": [
            "\n",
            "Batch:  80%|████████  | 8/10 [02:12<00:32, 16.44s/it]\u001b[A"
          ],
          "name": "stderr"
        },
        {
          "output_type": "stream",
          "text": [
            "Reinforce Loss : -0.00390625 Reinforce Max Reward : -2.325045108795166"
          ],
          "name": "stdout"
        },
        {
          "output_type": "stream",
          "text": [
            "\n",
            "Batch:  90%|█████████ | 9/10 [02:28<00:16, 16.20s/it]\u001b[A"
          ],
          "name": "stderr"
        },
        {
          "output_type": "stream",
          "text": [
            "Reinforce Loss : 0.00390625 Reinforce Max Reward : -2.397695541381836"
          ],
          "name": "stdout"
        },
        {
          "output_type": "stream",
          "text": [
            "\n",
            "Batch: 100%|██████████| 10/10 [02:44<00:00, 16.12s/it]\u001b[A\n",
            "Epoch:   6%|▌         | 101/1785 [5:01:15<83:58:29, 179.52s/it]\n",
            "Batch:   0%|          | 0/10 [00:00<?, ?it/s]\u001b[A"
          ],
          "name": "stderr"
        },
        {
          "output_type": "stream",
          "text": [
            "Reinforce Loss : -0.009765625 Reinforce Max Reward : -2.4347453117370605"
          ],
          "name": "stdout"
        },
        {
          "output_type": "stream",
          "text": [
            "\n",
            "Batch:  10%|█         | 1/10 [00:21<03:15, 21.67s/it]\u001b[A"
          ],
          "name": "stderr"
        },
        {
          "output_type": "stream",
          "text": [
            "Reinforce Loss : -0.001953125 Reinforce Max Reward : -2.421037197113037"
          ],
          "name": "stdout"
        },
        {
          "output_type": "stream",
          "text": [
            "\n",
            "Batch:  20%|██        | 2/10 [00:37<02:39, 19.88s/it]\u001b[A"
          ],
          "name": "stderr"
        },
        {
          "output_type": "stream",
          "text": [
            "Reinforce Loss : 0.0029296875 Reinforce Max Reward : -2.3535728454589844"
          ],
          "name": "stdout"
        },
        {
          "output_type": "stream",
          "text": [
            "\n",
            "Batch:  30%|███       | 3/10 [00:53<02:10, 18.69s/it]\u001b[A"
          ],
          "name": "stderr"
        },
        {
          "output_type": "stream",
          "text": [
            "Reinforce Loss : -0.01953125 Reinforce Max Reward : -2.4459545612335205"
          ],
          "name": "stdout"
        },
        {
          "output_type": "stream",
          "text": [
            "\n",
            "Batch:  40%|████      | 4/10 [01:09<01:47, 17.88s/it]\u001b[A"
          ],
          "name": "stderr"
        },
        {
          "output_type": "stream",
          "text": [
            "Reinforce Loss : -0.00390625 Reinforce Max Reward : -2.22910213470459"
          ],
          "name": "stdout"
        },
        {
          "output_type": "stream",
          "text": [
            "\n",
            "Batch:  50%|█████     | 5/10 [01:25<01:26, 17.36s/it]\u001b[A"
          ],
          "name": "stderr"
        },
        {
          "output_type": "stream",
          "text": [
            "Reinforce Loss : -0.005859375 Reinforce Max Reward : -2.421471118927002"
          ],
          "name": "stdout"
        },
        {
          "output_type": "stream",
          "text": [
            "\n",
            "Batch:  60%|██████    | 6/10 [01:41<01:07, 16.93s/it]\u001b[A"
          ],
          "name": "stderr"
        },
        {
          "output_type": "stream",
          "text": [
            "Reinforce Loss : 0.013671875 Reinforce Max Reward : -2.4295620918273926"
          ],
          "name": "stdout"
        },
        {
          "output_type": "stream",
          "text": [
            "\n",
            "Batch:  70%|███████   | 7/10 [01:57<00:50, 16.69s/it]\u001b[A"
          ],
          "name": "stderr"
        },
        {
          "output_type": "stream",
          "text": [
            "Reinforce Loss : -0.015625 Reinforce Max Reward : -2.4119625091552734"
          ],
          "name": "stdout"
        },
        {
          "output_type": "stream",
          "text": [
            "\n",
            "Batch:  80%|████████  | 8/10 [02:14<00:33, 16.67s/it]\u001b[A"
          ],
          "name": "stderr"
        },
        {
          "output_type": "stream",
          "text": [
            "Reinforce Loss : 0.001953125 Reinforce Max Reward : -2.4241647720336914"
          ],
          "name": "stdout"
        },
        {
          "output_type": "stream",
          "text": [
            "\n",
            "Batch:  90%|█████████ | 9/10 [02:29<00:16, 16.38s/it]\u001b[A"
          ],
          "name": "stderr"
        },
        {
          "output_type": "stream",
          "text": [
            "Reinforce Loss : -0.00390625 Reinforce Max Reward : -2.4405298233032227"
          ],
          "name": "stdout"
        },
        {
          "output_type": "stream",
          "text": [
            "\n",
            "Batch: 100%|██████████| 10/10 [02:45<00:00, 16.29s/it]\u001b[A\n",
            "Epoch:   6%|▌         | 102/1785 [5:04:19<84:29:44, 180.74s/it]\n",
            "Batch:   0%|          | 0/10 [00:00<?, ?it/s]\u001b[A"
          ],
          "name": "stderr"
        },
        {
          "output_type": "stream",
          "text": [
            "Reinforce Loss : -0.0078125 Reinforce Max Reward : -2.44282865524292"
          ],
          "name": "stdout"
        },
        {
          "output_type": "stream",
          "text": [
            "\n",
            "Batch:  10%|█         | 1/10 [00:18<02:50, 18.96s/it]\u001b[A"
          ],
          "name": "stderr"
        },
        {
          "output_type": "stream",
          "text": [
            "Reinforce Loss : -0.009765625 Reinforce Max Reward : -2.427279472351074"
          ],
          "name": "stdout"
        },
        {
          "output_type": "stream",
          "text": [
            "\n",
            "Batch:  20%|██        | 2/10 [00:34<02:23, 17.99s/it]\u001b[A"
          ],
          "name": "stderr"
        },
        {
          "output_type": "stream",
          "text": [
            "Reinforce Loss : 0.0 Reinforce Max Reward : -2.439213275909424"
          ],
          "name": "stdout"
        },
        {
          "output_type": "stream",
          "text": [
            "\n",
            "Batch:  30%|███       | 3/10 [00:50<02:01, 17.40s/it]\u001b[A"
          ],
          "name": "stderr"
        },
        {
          "output_type": "stream",
          "text": [
            "Reinforce Loss : -0.001953125 Reinforce Max Reward : -2.205441951751709"
          ],
          "name": "stdout"
        },
        {
          "output_type": "stream",
          "text": [
            "\n",
            "Batch:  40%|████      | 4/10 [01:06<01:42, 17.05s/it]\u001b[A"
          ],
          "name": "stderr"
        },
        {
          "output_type": "stream",
          "text": [
            "Reinforce Loss : 0.0048828125 Reinforce Max Reward : -2.4072556495666504"
          ],
          "name": "stdout"
        },
        {
          "output_type": "stream",
          "text": [
            "\n",
            "Batch:  50%|█████     | 5/10 [01:22<01:23, 16.69s/it]\u001b[A"
          ],
          "name": "stderr"
        },
        {
          "output_type": "stream",
          "text": [
            "Reinforce Loss : 0.00390625 Reinforce Max Reward : -2.2255053520202637"
          ],
          "name": "stdout"
        },
        {
          "output_type": "stream",
          "text": [
            "\n",
            "Batch:  60%|██████    | 6/10 [01:38<01:06, 16.51s/it]\u001b[A"
          ],
          "name": "stderr"
        },
        {
          "output_type": "stream",
          "text": [
            "Reinforce Loss : -0.001953125 Reinforce Max Reward : -2.3123161792755127"
          ],
          "name": "stdout"
        },
        {
          "output_type": "stream",
          "text": [
            "\n",
            "Batch:  70%|███████   | 7/10 [01:54<00:49, 16.35s/it]\u001b[A"
          ],
          "name": "stderr"
        },
        {
          "output_type": "stream",
          "text": [
            "Reinforce Loss : 0.0 Reinforce Max Reward : -2.3216052055358887"
          ],
          "name": "stdout"
        },
        {
          "output_type": "stream",
          "text": [
            "\n",
            "Batch:  80%|████████  | 8/10 [02:11<00:32, 16.36s/it]\u001b[A"
          ],
          "name": "stderr"
        },
        {
          "output_type": "stream",
          "text": [
            "Reinforce Loss : -0.009765625 Reinforce Max Reward : -2.405205249786377"
          ],
          "name": "stdout"
        },
        {
          "output_type": "stream",
          "text": [
            "\n",
            "Batch:  90%|█████████ | 9/10 [02:27<00:16, 16.21s/it]\u001b[A"
          ],
          "name": "stderr"
        },
        {
          "output_type": "stream",
          "text": [
            "Reinforce Loss : -0.005859375 Reinforce Max Reward : -2.430877923965454"
          ],
          "name": "stdout"
        },
        {
          "output_type": "stream",
          "text": [
            "\n",
            "Batch: 100%|██████████| 10/10 [02:43<00:00, 16.23s/it]\u001b[A\n",
            "Epoch:   6%|▌         | 103/1785 [5:07:20<84:35:32, 181.05s/it]\n",
            "Batch:   0%|          | 0/10 [00:00<?, ?it/s]\u001b[A"
          ],
          "name": "stderr"
        },
        {
          "output_type": "stream",
          "text": [
            "Reinforce Loss : -0.00390625 Reinforce Max Reward : -2.420340061187744"
          ],
          "name": "stdout"
        },
        {
          "output_type": "stream",
          "text": [
            "\n",
            "Batch:  10%|█         | 1/10 [00:19<02:52, 19.14s/it]\u001b[A"
          ],
          "name": "stderr"
        },
        {
          "output_type": "stream",
          "text": [
            "Reinforce Loss : -0.005859375 Reinforce Max Reward : -2.3120031356811523"
          ],
          "name": "stdout"
        },
        {
          "output_type": "stream",
          "text": [
            "\n",
            "Batch:  20%|██        | 2/10 [00:35<02:25, 18.19s/it]\u001b[A"
          ],
          "name": "stderr"
        },
        {
          "output_type": "stream",
          "text": [
            "Reinforce Loss : 0.025390625 Reinforce Max Reward : -2.4275736808776855"
          ],
          "name": "stdout"
        },
        {
          "output_type": "stream",
          "text": [
            "\n",
            "Batch:  30%|███       | 3/10 [00:51<02:03, 17.68s/it]\u001b[A"
          ],
          "name": "stderr"
        },
        {
          "output_type": "stream",
          "text": [
            "Reinforce Loss : -0.0009765625 Reinforce Max Reward : -2.4288289546966553"
          ],
          "name": "stdout"
        },
        {
          "output_type": "stream",
          "text": [
            "\n",
            "Batch:  40%|████      | 4/10 [01:08<01:44, 17.42s/it]\u001b[A"
          ],
          "name": "stderr"
        },
        {
          "output_type": "stream",
          "text": [
            "Reinforce Loss : 0.005859375 Reinforce Max Reward : -2.11991548538208"
          ],
          "name": "stdout"
        },
        {
          "output_type": "stream",
          "text": [
            "\n",
            "Batch:  50%|█████     | 5/10 [01:24<01:25, 17.02s/it]\u001b[A"
          ],
          "name": "stderr"
        },
        {
          "output_type": "stream",
          "text": [
            "Reinforce Loss : 0.009765625 Reinforce Max Reward : -2.327641010284424"
          ],
          "name": "stdout"
        },
        {
          "output_type": "stream",
          "text": [
            "\n",
            "Batch:  60%|██████    | 6/10 [01:40<01:07, 16.80s/it]\u001b[A"
          ],
          "name": "stderr"
        },
        {
          "output_type": "stream",
          "text": [
            "Reinforce Loss : 0.0 Reinforce Max Reward : -2.432654857635498"
          ],
          "name": "stdout"
        },
        {
          "output_type": "stream",
          "text": [
            "\n",
            "Batch:  70%|███████   | 7/10 [01:57<00:49, 16.64s/it]\u001b[A"
          ],
          "name": "stderr"
        },
        {
          "output_type": "stream",
          "text": [
            "Reinforce Loss : -0.005859375 Reinforce Max Reward : -2.4111409187316895"
          ],
          "name": "stdout"
        },
        {
          "output_type": "stream",
          "text": [
            "\n",
            "Batch:  80%|████████  | 8/10 [02:13<00:33, 16.57s/it]\u001b[A"
          ],
          "name": "stderr"
        },
        {
          "output_type": "stream",
          "text": [
            "Reinforce Loss : 0.0 Reinforce Max Reward : -2.4275407791137695"
          ],
          "name": "stdout"
        },
        {
          "output_type": "stream",
          "text": [
            "\n",
            "Batch:  90%|█████████ | 9/10 [02:29<00:16, 16.48s/it]\u001b[A"
          ],
          "name": "stderr"
        },
        {
          "output_type": "stream",
          "text": [
            "Reinforce Loss : 0.0 Reinforce Max Reward : -2.3691775798797607"
          ],
          "name": "stdout"
        },
        {
          "output_type": "stream",
          "text": [
            "\n",
            "Batch: 100%|██████████| 10/10 [02:46<00:00, 16.45s/it]\u001b[A\n",
            "Epoch:   6%|▌         | 104/1785 [5:10:23<84:42:24, 181.41s/it]\n",
            "Batch:   0%|          | 0/10 [00:00<?, ?it/s]\u001b[A"
          ],
          "name": "stderr"
        },
        {
          "output_type": "stream",
          "text": [
            "Reinforce Loss : 0.015625 Reinforce Max Reward : -2.4376745223999023"
          ],
          "name": "stdout"
        },
        {
          "output_type": "stream",
          "text": [
            "\n",
            "Batch:  10%|█         | 1/10 [00:22<03:18, 22.02s/it]\u001b[A"
          ],
          "name": "stderr"
        },
        {
          "output_type": "stream",
          "text": [
            "Reinforce Loss : 0.0 Reinforce Max Reward : -2.4002063274383545"
          ],
          "name": "stdout"
        },
        {
          "output_type": "stream",
          "text": [
            "\n",
            "Batch:  20%|██        | 2/10 [00:38<02:42, 20.36s/it]\u001b[A"
          ],
          "name": "stderr"
        },
        {
          "output_type": "stream",
          "text": [
            "Reinforce Loss : 0.005859375 Reinforce Max Reward : -2.1975598335266113"
          ],
          "name": "stdout"
        },
        {
          "output_type": "stream",
          "text": [
            "\n",
            "Batch:  30%|███       | 3/10 [00:54<02:13, 19.12s/it]\u001b[A"
          ],
          "name": "stderr"
        },
        {
          "output_type": "stream",
          "text": [
            "Reinforce Loss : 0.009765625 Reinforce Max Reward : -2.430361747741699"
          ],
          "name": "stdout"
        },
        {
          "output_type": "stream",
          "text": [
            "\n",
            "Batch:  40%|████      | 4/10 [01:11<01:49, 18.32s/it]\u001b[A"
          ],
          "name": "stderr"
        },
        {
          "output_type": "stream",
          "text": [
            "Reinforce Loss : -0.0029296875 Reinforce Max Reward : -2.431936740875244"
          ],
          "name": "stdout"
        },
        {
          "output_type": "stream",
          "text": [
            "\n",
            "Batch:  50%|█████     | 5/10 [01:27<01:28, 17.61s/it]\u001b[A"
          ],
          "name": "stderr"
        },
        {
          "output_type": "stream",
          "text": [
            "Reinforce Loss : -0.013671875 Reinforce Max Reward : -2.423893928527832"
          ],
          "name": "stdout"
        },
        {
          "output_type": "stream",
          "text": [
            "\n",
            "Batch:  60%|██████    | 6/10 [01:43<01:08, 17.19s/it]\u001b[A"
          ],
          "name": "stderr"
        },
        {
          "output_type": "stream",
          "text": [
            "Reinforce Loss : -0.001953125 Reinforce Max Reward : -2.425750494003296"
          ],
          "name": "stdout"
        },
        {
          "output_type": "stream",
          "text": [
            "\n",
            "Batch:  70%|███████   | 7/10 [01:59<00:50, 16.91s/it]\u001b[A"
          ],
          "name": "stderr"
        },
        {
          "output_type": "stream",
          "text": [
            "Reinforce Loss : 0.005859375 Reinforce Max Reward : -2.0695953369140625"
          ],
          "name": "stdout"
        },
        {
          "output_type": "stream",
          "text": [
            "\n",
            "Batch:  80%|████████  | 8/10 [02:16<00:33, 16.77s/it]\u001b[A"
          ],
          "name": "stderr"
        },
        {
          "output_type": "stream",
          "text": [
            "Reinforce Loss : -0.001953125 Reinforce Max Reward : -2.4099698066711426"
          ],
          "name": "stdout"
        },
        {
          "output_type": "stream",
          "text": [
            "\n",
            "Batch:  90%|█████████ | 9/10 [02:31<00:16, 16.49s/it]\u001b[A"
          ],
          "name": "stderr"
        },
        {
          "output_type": "stream",
          "text": [
            "Reinforce Loss : -0.009765625 Reinforce Max Reward : -2.403069496154785"
          ],
          "name": "stdout"
        },
        {
          "output_type": "stream",
          "text": [
            "\n",
            "Batch: 100%|██████████| 10/10 [02:48<00:00, 16.43s/it]\u001b[A\n",
            "Epoch:   6%|▌         | 105/1785 [5:13:26<84:53:13, 181.90s/it]\n",
            "Batch:   0%|          | 0/10 [00:00<?, ?it/s]\u001b[A"
          ],
          "name": "stderr"
        },
        {
          "output_type": "stream",
          "text": [
            "Reinforce Loss : 0.0 Reinforce Max Reward : -2.149317502975464"
          ],
          "name": "stdout"
        },
        {
          "output_type": "stream",
          "text": [
            "\n",
            "Batch:  10%|█         | 1/10 [00:20<03:03, 20.35s/it]\u001b[A"
          ],
          "name": "stderr"
        },
        {
          "output_type": "stream",
          "text": [
            "Reinforce Loss : 0.013671875 Reinforce Max Reward : -2.426884412765503"
          ],
          "name": "stdout"
        },
        {
          "output_type": "stream",
          "text": [
            "\n",
            "Batch:  20%|██        | 2/10 [00:36<02:32, 19.12s/it]\u001b[A"
          ],
          "name": "stderr"
        },
        {
          "output_type": "stream",
          "text": [
            "Reinforce Loss : 0.01171875 Reinforce Max Reward : -2.4220125675201416"
          ],
          "name": "stdout"
        },
        {
          "output_type": "stream",
          "text": [
            "\n",
            "Batch:  30%|███       | 3/10 [00:52<02:07, 18.21s/it]\u001b[A"
          ],
          "name": "stderr"
        },
        {
          "output_type": "stream",
          "text": [
            "Reinforce Loss : 0.001953125 Reinforce Max Reward : -2.28587007522583"
          ],
          "name": "stdout"
        },
        {
          "output_type": "stream",
          "text": [
            "\n",
            "Batch:  40%|████      | 4/10 [01:08<01:45, 17.60s/it]\u001b[A"
          ],
          "name": "stderr"
        },
        {
          "output_type": "stream",
          "text": [
            "Reinforce Loss : 0.0029296875 Reinforce Max Reward : -2.445594549179077"
          ],
          "name": "stdout"
        },
        {
          "output_type": "stream",
          "text": [
            "\n",
            "Batch:  50%|█████     | 5/10 [01:24<01:25, 17.04s/it]\u001b[A"
          ],
          "name": "stderr"
        },
        {
          "output_type": "stream",
          "text": [
            "Reinforce Loss : -0.00390625 Reinforce Max Reward : -2.4445533752441406"
          ],
          "name": "stdout"
        },
        {
          "output_type": "stream",
          "text": [
            "\n",
            "Batch:  60%|██████    | 6/10 [01:40<01:07, 16.79s/it]\u001b[A"
          ],
          "name": "stderr"
        },
        {
          "output_type": "stream",
          "text": [
            "Reinforce Loss : -0.00390625 Reinforce Max Reward : -2.149250030517578"
          ],
          "name": "stdout"
        },
        {
          "output_type": "stream",
          "text": [
            "\n",
            "Batch:  70%|███████   | 7/10 [01:56<00:49, 16.57s/it]\u001b[A"
          ],
          "name": "stderr"
        },
        {
          "output_type": "stream",
          "text": [
            "Reinforce Loss : -0.001953125 Reinforce Max Reward : -2.349557876586914"
          ],
          "name": "stdout"
        },
        {
          "output_type": "stream",
          "text": [
            "\n",
            "Batch:  80%|████████  | 8/10 [02:13<00:32, 16.47s/it]\u001b[A"
          ],
          "name": "stderr"
        },
        {
          "output_type": "stream",
          "text": [
            "Reinforce Loss : 0.013671875 Reinforce Max Reward : -2.432534694671631"
          ],
          "name": "stdout"
        },
        {
          "output_type": "stream",
          "text": [
            "\n",
            "Batch:  90%|█████████ | 9/10 [02:28<00:16, 16.29s/it]\u001b[A"
          ],
          "name": "stderr"
        },
        {
          "output_type": "stream",
          "text": [
            "Reinforce Loss : 0.015625 Reinforce Max Reward : -2.324209451675415"
          ],
          "name": "stdout"
        },
        {
          "output_type": "stream",
          "text": [
            "\n",
            "Batch: 100%|██████████| 10/10 [02:45<00:00, 16.27s/it]\u001b[A\n",
            "Epoch:   6%|▌         | 106/1785 [5:16:29<85:02:38, 182.35s/it]\n",
            "Batch:   0%|          | 0/10 [00:00<?, ?it/s]\u001b[A"
          ],
          "name": "stderr"
        },
        {
          "output_type": "stream",
          "text": [
            "Reinforce Loss : 0.0078125 Reinforce Max Reward : -2.311159133911133"
          ],
          "name": "stdout"
        },
        {
          "output_type": "stream",
          "text": [
            "\n",
            "Batch:  10%|█         | 1/10 [00:19<02:59, 19.98s/it]\u001b[A"
          ],
          "name": "stderr"
        },
        {
          "output_type": "stream",
          "text": [
            "Reinforce Loss : 0.0 Reinforce Max Reward : -2.2827463150024414"
          ],
          "name": "stdout"
        },
        {
          "output_type": "stream",
          "text": [
            "\n",
            "Batch:  20%|██        | 2/10 [00:36<02:30, 18.80s/it]\u001b[A"
          ],
          "name": "stderr"
        },
        {
          "output_type": "stream",
          "text": [
            "Reinforce Loss : 0.0078125 Reinforce Max Reward : -2.3484182357788086"
          ],
          "name": "stdout"
        },
        {
          "output_type": "stream",
          "text": [
            "\n",
            "Batch:  30%|███       | 3/10 [00:52<02:06, 18.00s/it]\u001b[A"
          ],
          "name": "stderr"
        },
        {
          "output_type": "stream",
          "text": [
            "Reinforce Loss : 0.021484375 Reinforce Max Reward : -2.4347023963928223"
          ],
          "name": "stdout"
        },
        {
          "output_type": "stream",
          "text": [
            "\n",
            "Batch:  40%|████      | 4/10 [01:08<01:45, 17.53s/it]\u001b[A"
          ],
          "name": "stderr"
        },
        {
          "output_type": "stream",
          "text": [
            "Reinforce Loss : -0.001953125 Reinforce Max Reward : -2.4377388954162598"
          ],
          "name": "stdout"
        },
        {
          "output_type": "stream",
          "text": [
            "\n",
            "Batch:  50%|█████     | 5/10 [01:24<01:25, 17.11s/it]\u001b[A"
          ],
          "name": "stderr"
        },
        {
          "output_type": "stream",
          "text": [
            "Reinforce Loss : 0.0048828125 Reinforce Max Reward : -2.3962693214416504"
          ],
          "name": "stdout"
        },
        {
          "output_type": "stream",
          "text": [
            "\n",
            "Batch:  60%|██████    | 6/10 [01:41<01:07, 16.90s/it]\u001b[A"
          ],
          "name": "stderr"
        },
        {
          "output_type": "stream",
          "text": [
            "Reinforce Loss : 0.021484375 Reinforce Max Reward : -2.4219884872436523"
          ],
          "name": "stdout"
        },
        {
          "output_type": "stream",
          "text": [
            "\n",
            "Batch:  70%|███████   | 7/10 [01:57<00:50, 16.78s/it]\u001b[A"
          ],
          "name": "stderr"
        },
        {
          "output_type": "stream",
          "text": [
            "Reinforce Loss : -0.005859375 Reinforce Max Reward : -2.4066691398620605"
          ],
          "name": "stdout"
        },
        {
          "output_type": "stream",
          "text": [
            "\n",
            "Batch:  80%|████████  | 8/10 [02:13<00:33, 16.64s/it]\u001b[A"
          ],
          "name": "stderr"
        },
        {
          "output_type": "stream",
          "text": [
            "Reinforce Loss : -0.01171875 Reinforce Max Reward : -2.431629180908203"
          ],
          "name": "stdout"
        },
        {
          "output_type": "stream",
          "text": [
            "\n",
            "Batch:  90%|█████████ | 9/10 [02:30<00:16, 16.52s/it]\u001b[A"
          ],
          "name": "stderr"
        },
        {
          "output_type": "stream",
          "text": [
            "Reinforce Loss : 0.0 Reinforce Max Reward : -2.424879550933838"
          ],
          "name": "stdout"
        },
        {
          "output_type": "stream",
          "text": [
            "\n",
            "Batch: 100%|██████████| 10/10 [02:46<00:00, 16.45s/it]\u001b[A\n",
            "Epoch:   6%|▌         | 107/1785 [5:19:33<85:12:45, 182.82s/it]\n",
            "Batch:   0%|          | 0/10 [00:00<?, ?it/s]\u001b[A"
          ],
          "name": "stderr"
        },
        {
          "output_type": "stream",
          "text": [
            "Reinforce Loss : 0.001953125 Reinforce Max Reward : -2.438446044921875"
          ],
          "name": "stdout"
        },
        {
          "output_type": "stream",
          "text": [
            "\n",
            "Batch:  10%|█         | 1/10 [00:20<03:08, 20.94s/it]\u001b[A"
          ],
          "name": "stderr"
        },
        {
          "output_type": "stream",
          "text": [
            "Reinforce Loss : 0.0009765625 Reinforce Max Reward : -1.9722321033477783"
          ],
          "name": "stdout"
        },
        {
          "output_type": "stream",
          "text": [
            "\n",
            "Batch:  20%|██        | 2/10 [00:37<02:36, 19.54s/it]\u001b[A"
          ],
          "name": "stderr"
        },
        {
          "output_type": "stream",
          "text": [
            "Reinforce Loss : -0.0078125 Reinforce Max Reward : -2.434988260269165"
          ],
          "name": "stdout"
        },
        {
          "output_type": "stream",
          "text": [
            "\n",
            "Batch:  30%|███       | 3/10 [00:53<02:10, 18.65s/it]\u001b[A"
          ],
          "name": "stderr"
        },
        {
          "output_type": "stream",
          "text": [
            "Reinforce Loss : 0.001953125 Reinforce Max Reward : -2.1481451988220215"
          ],
          "name": "stdout"
        },
        {
          "output_type": "stream",
          "text": [
            "\n",
            "Batch:  40%|████      | 4/10 [01:10<01:47, 17.94s/it]\u001b[A"
          ],
          "name": "stderr"
        },
        {
          "output_type": "stream",
          "text": [
            "Reinforce Loss : 0.0048828125 Reinforce Max Reward : -2.4023866653442383"
          ],
          "name": "stdout"
        },
        {
          "output_type": "stream",
          "text": [
            "\n",
            "Batch:  50%|█████     | 5/10 [01:26<01:27, 17.44s/it]\u001b[A"
          ],
          "name": "stderr"
        },
        {
          "output_type": "stream",
          "text": [
            "Reinforce Loss : -0.00048828125 Reinforce Max Reward : -2.432166576385498"
          ],
          "name": "stdout"
        },
        {
          "output_type": "stream",
          "text": [
            "\n",
            "Batch:  60%|██████    | 6/10 [01:42<01:08, 17.04s/it]\u001b[A"
          ],
          "name": "stderr"
        },
        {
          "output_type": "stream",
          "text": [
            "Reinforce Loss : -0.0009765625 Reinforce Max Reward : -2.417825698852539"
          ],
          "name": "stdout"
        },
        {
          "output_type": "stream",
          "text": [
            "\n",
            "Batch:  70%|███████   | 7/10 [01:58<00:50, 16.81s/it]\u001b[A"
          ],
          "name": "stderr"
        },
        {
          "output_type": "stream",
          "text": [
            "Reinforce Loss : 0.025390625 Reinforce Max Reward : -2.4232280254364014"
          ],
          "name": "stdout"
        },
        {
          "output_type": "stream",
          "text": [
            "\n",
            "Batch:  80%|████████  | 8/10 [02:14<00:33, 16.64s/it]\u001b[A"
          ],
          "name": "stderr"
        },
        {
          "output_type": "stream",
          "text": [
            "Reinforce Loss : -0.00390625 Reinforce Max Reward : -2.116776943206787"
          ],
          "name": "stdout"
        },
        {
          "output_type": "stream",
          "text": [
            "\n",
            "Batch:  90%|█████████ | 9/10 [02:31<00:16, 16.51s/it]\u001b[A"
          ],
          "name": "stderr"
        },
        {
          "output_type": "stream",
          "text": [
            "Reinforce Loss : 0.0068359375 Reinforce Max Reward : -2.3708560466766357"
          ],
          "name": "stdout"
        },
        {
          "output_type": "stream",
          "text": [
            "\n",
            "Batch: 100%|██████████| 10/10 [02:47<00:00, 16.43s/it]\u001b[A\n",
            "Epoch:   6%|▌         | 108/1785 [5:22:34<84:54:27, 182.27s/it]\n",
            "Batch:   0%|          | 0/10 [00:00<?, ?it/s]\u001b[A"
          ],
          "name": "stderr"
        },
        {
          "output_type": "stream",
          "text": [
            "Reinforce Loss : 0.005859375 Reinforce Max Reward : -2.238260269165039"
          ],
          "name": "stdout"
        },
        {
          "output_type": "stream",
          "text": [
            "\n",
            "Batch:  10%|█         | 1/10 [00:22<03:20, 22.23s/it]\u001b[A"
          ],
          "name": "stderr"
        },
        {
          "output_type": "stream",
          "text": [
            "Reinforce Loss : 0.01171875 Reinforce Max Reward : -2.3501758575439453"
          ],
          "name": "stdout"
        },
        {
          "output_type": "stream",
          "text": [
            "\n",
            "Batch:  20%|██        | 2/10 [00:38<02:43, 20.49s/it]\u001b[A"
          ],
          "name": "stderr"
        },
        {
          "output_type": "stream",
          "text": [
            "Reinforce Loss : -0.0009765625 Reinforce Max Reward : -2.13608980178833"
          ],
          "name": "stdout"
        },
        {
          "output_type": "stream",
          "text": [
            "\n",
            "Batch:  30%|███       | 3/10 [00:54<02:14, 19.17s/it]\u001b[A"
          ],
          "name": "stderr"
        },
        {
          "output_type": "stream",
          "text": [
            "Reinforce Loss : -0.0078125 Reinforce Max Reward : -2.415454626083374"
          ],
          "name": "stdout"
        },
        {
          "output_type": "stream",
          "text": [
            "\n",
            "Batch:  40%|████      | 4/10 [01:10<01:49, 18.27s/it]\u001b[A"
          ],
          "name": "stderr"
        },
        {
          "output_type": "stream",
          "text": [
            "Reinforce Loss : 0.0 Reinforce Max Reward : -2.276538372039795"
          ],
          "name": "stdout"
        },
        {
          "output_type": "stream",
          "text": [
            "\n",
            "Batch:  50%|█████     | 5/10 [01:27<01:28, 17.68s/it]\u001b[A"
          ],
          "name": "stderr"
        },
        {
          "output_type": "stream",
          "text": [
            "Reinforce Loss : 0.009765625 Reinforce Max Reward : -2.3083884716033936"
          ],
          "name": "stdout"
        },
        {
          "output_type": "stream",
          "text": [
            "\n",
            "Batch:  60%|██████    | 6/10 [01:43<01:08, 17.23s/it]\u001b[A"
          ],
          "name": "stderr"
        },
        {
          "output_type": "stream",
          "text": [
            "Reinforce Loss : -0.001953125 Reinforce Max Reward : -2.427649974822998"
          ],
          "name": "stdout"
        },
        {
          "output_type": "stream",
          "text": [
            "\n",
            "Batch:  70%|███████   | 7/10 [01:59<00:50, 16.97s/it]\u001b[A"
          ],
          "name": "stderr"
        },
        {
          "output_type": "stream",
          "text": [
            "Reinforce Loss : 0.0078125 Reinforce Max Reward : -2.429917335510254"
          ],
          "name": "stdout"
        },
        {
          "output_type": "stream",
          "text": [
            "\n",
            "Batch:  80%|████████  | 8/10 [02:15<00:33, 16.66s/it]\u001b[A"
          ],
          "name": "stderr"
        },
        {
          "output_type": "stream",
          "text": [
            "Reinforce Loss : 0.0078125 Reinforce Max Reward : -2.4232349395751953"
          ],
          "name": "stdout"
        },
        {
          "output_type": "stream",
          "text": [
            "\n",
            "Batch:  90%|█████████ | 9/10 [02:31<00:16, 16.50s/it]\u001b[A"
          ],
          "name": "stderr"
        },
        {
          "output_type": "stream",
          "text": [
            "Reinforce Loss : 0.0234375 Reinforce Max Reward : -2.3866443634033203"
          ],
          "name": "stdout"
        },
        {
          "output_type": "stream",
          "text": [
            "\n",
            "Batch: 100%|██████████| 10/10 [02:47<00:00, 16.39s/it]\u001b[A\n",
            "Epoch:   6%|▌         | 109/1785 [5:25:38<85:07:36, 182.85s/it]\n",
            "Batch:   0%|          | 0/10 [00:00<?, ?it/s]\u001b[A"
          ],
          "name": "stderr"
        },
        {
          "output_type": "stream",
          "text": [
            "Reinforce Loss : -0.021484375 Reinforce Max Reward : -2.4208123683929443"
          ],
          "name": "stdout"
        },
        {
          "output_type": "stream",
          "text": [
            "\n",
            "Batch:  10%|█         | 1/10 [00:20<03:03, 20.43s/it]\u001b[A"
          ],
          "name": "stderr"
        },
        {
          "output_type": "stream",
          "text": [
            "Reinforce Loss : -0.001953125 Reinforce Max Reward : -2.355433702468872"
          ],
          "name": "stdout"
        },
        {
          "output_type": "stream",
          "text": [
            "\n",
            "Batch:  20%|██        | 2/10 [00:36<02:33, 19.13s/it]\u001b[A"
          ],
          "name": "stderr"
        },
        {
          "output_type": "stream",
          "text": [
            "Reinforce Loss : -0.0068359375 Reinforce Max Reward : -2.040297508239746"
          ],
          "name": "stdout"
        },
        {
          "output_type": "stream",
          "text": [
            "\n",
            "Batch:  30%|███       | 3/10 [00:52<02:07, 18.24s/it]\u001b[A"
          ],
          "name": "stderr"
        },
        {
          "output_type": "stream",
          "text": [
            "Reinforce Loss : -0.0009765625 Reinforce Max Reward : -2.4290947914123535"
          ],
          "name": "stdout"
        },
        {
          "output_type": "stream",
          "text": [
            "\n",
            "Batch:  40%|████      | 4/10 [01:08<01:45, 17.59s/it]\u001b[A"
          ],
          "name": "stderr"
        },
        {
          "output_type": "stream",
          "text": [
            "Reinforce Loss : 0.0 Reinforce Max Reward : -2.4292407035827637"
          ],
          "name": "stdout"
        },
        {
          "output_type": "stream",
          "text": [
            "\n",
            "Batch:  50%|█████     | 5/10 [01:24<01:25, 17.17s/it]\u001b[A"
          ],
          "name": "stderr"
        },
        {
          "output_type": "stream",
          "text": [
            "Reinforce Loss : -0.015625 Reinforce Max Reward : -2.4386181831359863"
          ],
          "name": "stdout"
        },
        {
          "output_type": "stream",
          "text": [
            "\n",
            "Batch:  60%|██████    | 6/10 [01:41<01:07, 16.86s/it]\u001b[A"
          ],
          "name": "stderr"
        },
        {
          "output_type": "stream",
          "text": [
            "Reinforce Loss : 0.0 Reinforce Max Reward : -2.3857250213623047"
          ],
          "name": "stdout"
        },
        {
          "output_type": "stream",
          "text": [
            "\n",
            "Batch:  70%|███████   | 7/10 [01:57<00:49, 16.64s/it]\u001b[A"
          ],
          "name": "stderr"
        },
        {
          "output_type": "stream",
          "text": [
            "Reinforce Loss : 0.013671875 Reinforce Max Reward : -2.212874412536621"
          ],
          "name": "stdout"
        },
        {
          "output_type": "stream",
          "text": [
            "\n",
            "Batch:  80%|████████  | 8/10 [02:13<00:32, 16.47s/it]\u001b[A"
          ],
          "name": "stderr"
        },
        {
          "output_type": "stream",
          "text": [
            "Reinforce Loss : -0.0009765625 Reinforce Max Reward : -2.398590564727783"
          ],
          "name": "stdout"
        },
        {
          "output_type": "stream",
          "text": [
            "\n",
            "Batch:  90%|█████████ | 9/10 [02:29<00:16, 16.43s/it]\u001b[A"
          ],
          "name": "stderr"
        },
        {
          "output_type": "stream",
          "text": [
            "Reinforce Loss : 0.0 Reinforce Max Reward : -2.3928470611572266"
          ],
          "name": "stdout"
        },
        {
          "output_type": "stream",
          "text": [
            "\n",
            "Batch: 100%|██████████| 10/10 [02:45<00:00, 16.31s/it]\u001b[A\n",
            "Epoch:   6%|▌         | 110/1785 [5:28:41<85:06:35, 182.92s/it]\n",
            "Batch:   0%|          | 0/10 [00:00<?, ?it/s]\u001b[A"
          ],
          "name": "stderr"
        },
        {
          "output_type": "stream",
          "text": [
            "Reinforce Loss : 0.00390625 Reinforce Max Reward : -2.307586669921875"
          ],
          "name": "stdout"
        },
        {
          "output_type": "stream",
          "text": [
            "\n",
            "Batch:  10%|█         | 1/10 [00:19<02:56, 19.66s/it]\u001b[A"
          ],
          "name": "stderr"
        },
        {
          "output_type": "stream",
          "text": [
            "Reinforce Loss : 0.009765625 Reinforce Max Reward : -2.0475196838378906"
          ],
          "name": "stdout"
        },
        {
          "output_type": "stream",
          "text": [
            "\n",
            "Batch:  20%|██        | 2/10 [00:36<02:30, 18.84s/it]\u001b[A"
          ],
          "name": "stderr"
        },
        {
          "output_type": "stream",
          "text": [
            "Reinforce Loss : -0.009765625 Reinforce Max Reward : -2.4280550479888916"
          ],
          "name": "stdout"
        },
        {
          "output_type": "stream",
          "text": [
            "\n",
            "Batch:  30%|███       | 3/10 [00:52<02:06, 18.01s/it]\u001b[A"
          ],
          "name": "stderr"
        },
        {
          "output_type": "stream",
          "text": [
            "Reinforce Loss : 0.01171875 Reinforce Max Reward : -2.4459404945373535"
          ],
          "name": "stdout"
        },
        {
          "output_type": "stream",
          "text": [
            "\n",
            "Batch:  40%|████      | 4/10 [01:08<01:44, 17.46s/it]\u001b[A"
          ],
          "name": "stderr"
        },
        {
          "output_type": "stream",
          "text": [
            "Reinforce Loss : -0.005859375 Reinforce Max Reward : -2.3718442916870117"
          ],
          "name": "stdout"
        },
        {
          "output_type": "stream",
          "text": [
            "\n",
            "Batch:  50%|█████     | 5/10 [01:25<01:25, 17.13s/it]\u001b[A"
          ],
          "name": "stderr"
        },
        {
          "output_type": "stream",
          "text": [
            "Reinforce Loss : 0.005859375 Reinforce Max Reward : -2.1643171310424805"
          ],
          "name": "stdout"
        },
        {
          "output_type": "stream",
          "text": [
            "\n",
            "Batch:  60%|██████    | 6/10 [01:41<01:07, 16.84s/it]\u001b[A"
          ],
          "name": "stderr"
        },
        {
          "output_type": "stream",
          "text": [
            "Reinforce Loss : 0.00390625 Reinforce Max Reward : -2.3942275047302246"
          ],
          "name": "stdout"
        },
        {
          "output_type": "stream",
          "text": [
            "\n",
            "Batch:  70%|███████   | 7/10 [01:57<00:50, 16.74s/it]\u001b[A"
          ],
          "name": "stderr"
        },
        {
          "output_type": "stream",
          "text": [
            "Reinforce Loss : -0.009765625 Reinforce Max Reward : -2.4199728965759277"
          ],
          "name": "stdout"
        },
        {
          "output_type": "stream",
          "text": [
            "\n",
            "Batch:  80%|████████  | 8/10 [02:13<00:32, 16.43s/it]\u001b[A"
          ],
          "name": "stderr"
        },
        {
          "output_type": "stream",
          "text": [
            "Reinforce Loss : 0.0078125 Reinforce Max Reward : -2.2615504264831543"
          ],
          "name": "stdout"
        },
        {
          "output_type": "stream",
          "text": [
            "\n",
            "Batch:  90%|█████████ | 9/10 [02:30<00:16, 16.48s/it]\u001b[A"
          ],
          "name": "stderr"
        },
        {
          "output_type": "stream",
          "text": [
            "Reinforce Loss : -0.00390625 Reinforce Max Reward : -2.4204320907592773"
          ],
          "name": "stdout"
        },
        {
          "output_type": "stream",
          "text": [
            "\n",
            "Batch: 100%|██████████| 10/10 [02:46<00:00, 16.45s/it]\u001b[A\n",
            "Epoch:   6%|▌         | 111/1785 [5:31:44<85:03:07, 182.91s/it]\n",
            "Batch:   0%|          | 0/10 [00:00<?, ?it/s]\u001b[A"
          ],
          "name": "stderr"
        },
        {
          "output_type": "stream",
          "text": [
            "Reinforce Loss : -0.01171875 Reinforce Max Reward : -2.4268717765808105"
          ],
          "name": "stdout"
        },
        {
          "output_type": "stream",
          "text": [
            "\n",
            "Batch:  10%|█         | 1/10 [00:20<03:02, 20.25s/it]\u001b[A"
          ],
          "name": "stderr"
        },
        {
          "output_type": "stream",
          "text": [
            "Reinforce Loss : 0.009765625 Reinforce Max Reward : -2.088197708129883"
          ],
          "name": "stdout"
        },
        {
          "output_type": "stream",
          "text": [
            "\n",
            "Batch:  20%|██        | 2/10 [00:36<02:32, 19.07s/it]\u001b[A"
          ],
          "name": "stderr"
        },
        {
          "output_type": "stream",
          "text": [
            "Reinforce Loss : 0.0009765625 Reinforce Max Reward : -2.408395767211914"
          ],
          "name": "stdout"
        },
        {
          "output_type": "stream",
          "text": [
            "\n",
            "Batch:  30%|███       | 3/10 [00:53<02:08, 18.36s/it]\u001b[A"
          ],
          "name": "stderr"
        },
        {
          "output_type": "stream",
          "text": [
            "Reinforce Loss : 0.001953125 Reinforce Max Reward : -2.411912441253662"
          ],
          "name": "stdout"
        },
        {
          "output_type": "stream",
          "text": [
            "\n",
            "Batch:  40%|████      | 4/10 [01:09<01:46, 17.73s/it]\u001b[A"
          ],
          "name": "stderr"
        },
        {
          "output_type": "stream",
          "text": [
            "Reinforce Loss : -0.00390625 Reinforce Max Reward : -2.4373650550842285"
          ],
          "name": "stdout"
        },
        {
          "output_type": "stream",
          "text": [
            "\n",
            "Batch:  50%|█████     | 5/10 [01:26<01:26, 17.37s/it]\u001b[A"
          ],
          "name": "stderr"
        },
        {
          "output_type": "stream",
          "text": [
            "Reinforce Loss : 0.005859375 Reinforce Max Reward : -2.2472379207611084"
          ],
          "name": "stdout"
        },
        {
          "output_type": "stream",
          "text": [
            "\n",
            "Batch:  60%|██████    | 6/10 [01:42<01:08, 17.17s/it]\u001b[A"
          ],
          "name": "stderr"
        },
        {
          "output_type": "stream",
          "text": [
            "Reinforce Loss : -0.005859375 Reinforce Max Reward : -2.383697032928467"
          ],
          "name": "stdout"
        },
        {
          "output_type": "stream",
          "text": [
            "\n",
            "Batch:  70%|███████   | 7/10 [01:59<00:50, 16.93s/it]\u001b[A"
          ],
          "name": "stderr"
        },
        {
          "output_type": "stream",
          "text": [
            "Reinforce Loss : -0.0048828125 Reinforce Max Reward : -2.3499081134796143"
          ],
          "name": "stdout"
        },
        {
          "output_type": "stream",
          "text": [
            "\n",
            "Batch:  80%|████████  | 8/10 [02:15<00:33, 16.78s/it]\u001b[A"
          ],
          "name": "stderr"
        },
        {
          "output_type": "stream",
          "text": [
            "Reinforce Loss : 0.0 Reinforce Max Reward : -2.389374256134033"
          ],
          "name": "stdout"
        },
        {
          "output_type": "stream",
          "text": [
            "\n",
            "Batch:  90%|█████████ | 9/10 [02:31<00:16, 16.67s/it]\u001b[A"
          ],
          "name": "stderr"
        },
        {
          "output_type": "stream",
          "text": [
            "Reinforce Loss : 0.00390625 Reinforce Max Reward : -2.4101083278656006"
          ],
          "name": "stdout"
        },
        {
          "output_type": "stream",
          "text": [
            "\n",
            "Batch: 100%|██████████| 10/10 [02:48<00:00, 16.66s/it]\u001b[A\n",
            "Epoch:   6%|▋         | 112/1785 [5:34:48<85:11:24, 183.31s/it]\n",
            "Batch:   0%|          | 0/10 [00:00<?, ?it/s]\u001b[A"
          ],
          "name": "stderr"
        },
        {
          "output_type": "stream",
          "text": [
            "Reinforce Loss : -0.005859375 Reinforce Max Reward : -2.4287610054016113"
          ],
          "name": "stdout"
        },
        {
          "output_type": "stream",
          "text": [
            "\n",
            "Batch:  10%|█         | 1/10 [00:20<03:05, 20.57s/it]\u001b[A"
          ],
          "name": "stderr"
        },
        {
          "output_type": "stream",
          "text": [
            "Reinforce Loss : -0.0048828125 Reinforce Max Reward : -2.289313316345215"
          ],
          "name": "stdout"
        },
        {
          "output_type": "stream",
          "text": [
            "\n",
            "Batch:  20%|██        | 2/10 [00:37<02:35, 19.40s/it]\u001b[A"
          ],
          "name": "stderr"
        },
        {
          "output_type": "stream",
          "text": [
            "Reinforce Loss : 0.0078125 Reinforce Max Reward : -2.106978416442871"
          ],
          "name": "stdout"
        },
        {
          "output_type": "stream",
          "text": [
            "\n",
            "Batch:  30%|███       | 3/10 [00:53<02:09, 18.51s/it]\u001b[A"
          ],
          "name": "stderr"
        },
        {
          "output_type": "stream",
          "text": [
            "Reinforce Loss : -0.001953125 Reinforce Max Reward : -1.916501760482788"
          ],
          "name": "stdout"
        },
        {
          "output_type": "stream",
          "text": [
            "\n",
            "Batch:  40%|████      | 4/10 [01:10<01:47, 17.86s/it]\u001b[A"
          ],
          "name": "stderr"
        },
        {
          "output_type": "stream",
          "text": [
            "Reinforce Loss : -0.01171875 Reinforce Max Reward : -2.3684372901916504"
          ],
          "name": "stdout"
        },
        {
          "output_type": "stream",
          "text": [
            "\n",
            "Batch:  50%|█████     | 5/10 [01:26<01:26, 17.38s/it]\u001b[A"
          ],
          "name": "stderr"
        },
        {
          "output_type": "stream",
          "text": [
            "Reinforce Loss : 0.0009765625 Reinforce Max Reward : -2.4272303581237793"
          ],
          "name": "stdout"
        },
        {
          "output_type": "stream",
          "text": [
            "\n",
            "Batch:  60%|██████    | 6/10 [01:42<01:08, 17.08s/it]\u001b[A"
          ],
          "name": "stderr"
        },
        {
          "output_type": "stream",
          "text": [
            "Reinforce Loss : 0.00390625 Reinforce Max Reward : -2.432542324066162"
          ],
          "name": "stdout"
        },
        {
          "output_type": "stream",
          "text": [
            "\n",
            "Batch:  70%|███████   | 7/10 [01:59<00:50, 16.89s/it]\u001b[A"
          ],
          "name": "stderr"
        },
        {
          "output_type": "stream",
          "text": [
            "Reinforce Loss : -0.0078125 Reinforce Max Reward : -2.366408586502075"
          ],
          "name": "stdout"
        },
        {
          "output_type": "stream",
          "text": [
            "\n",
            "Batch:  80%|████████  | 8/10 [02:15<00:33, 16.72s/it]\u001b[A"
          ],
          "name": "stderr"
        },
        {
          "output_type": "stream",
          "text": [
            "Reinforce Loss : 0.0 Reinforce Max Reward : -2.44329833984375"
          ],
          "name": "stdout"
        },
        {
          "output_type": "stream",
          "text": [
            "\n",
            "Batch:  90%|█████████ | 9/10 [02:31<00:16, 16.59s/it]\u001b[A"
          ],
          "name": "stderr"
        },
        {
          "output_type": "stream",
          "text": [
            "Reinforce Loss : 0.005859375 Reinforce Max Reward : -2.2266907691955566"
          ],
          "name": "stdout"
        },
        {
          "output_type": "stream",
          "text": [
            "\n",
            "Batch: 100%|██████████| 10/10 [02:48<00:00, 16.51s/it]\u001b[A\n",
            "Epoch:   6%|▋         | 113/1785 [5:37:51<85:04:55, 183.19s/it]\n",
            "Batch:   0%|          | 0/10 [00:00<?, ?it/s]\u001b[A"
          ],
          "name": "stderr"
        },
        {
          "output_type": "stream",
          "text": [
            "Reinforce Loss : 0.00390625 Reinforce Max Reward : -2.0281052589416504"
          ],
          "name": "stdout"
        },
        {
          "output_type": "stream",
          "text": [
            "\n",
            "Batch:  10%|█         | 1/10 [00:21<03:15, 21.67s/it]\u001b[A"
          ],
          "name": "stderr"
        },
        {
          "output_type": "stream",
          "text": [
            "Reinforce Loss : 0.005859375 Reinforce Max Reward : -2.4049887657165527"
          ],
          "name": "stdout"
        },
        {
          "output_type": "stream",
          "text": [
            "\n",
            "Batch:  20%|██        | 2/10 [00:38<02:41, 20.19s/it]\u001b[A"
          ],
          "name": "stderr"
        },
        {
          "output_type": "stream",
          "text": [
            "Reinforce Loss : -0.001953125 Reinforce Max Reward : -2.319932222366333"
          ],
          "name": "stdout"
        },
        {
          "output_type": "stream",
          "text": [
            "\n",
            "Batch:  30%|███       | 3/10 [00:54<02:13, 19.05s/it]\u001b[A"
          ],
          "name": "stderr"
        },
        {
          "output_type": "stream",
          "text": [
            "Reinforce Loss : 0.0 Reinforce Max Reward : -2.3310651779174805"
          ],
          "name": "stdout"
        },
        {
          "output_type": "stream",
          "text": [
            "\n",
            "Batch:  40%|████      | 4/10 [01:11<01:49, 18.27s/it]\u001b[A"
          ],
          "name": "stderr"
        },
        {
          "output_type": "stream",
          "text": [
            "Reinforce Loss : 0.01171875 Reinforce Max Reward : -2.434605121612549"
          ],
          "name": "stdout"
        },
        {
          "output_type": "stream",
          "text": [
            "\n",
            "Batch:  50%|█████     | 5/10 [01:27<01:28, 17.70s/it]\u001b[A"
          ],
          "name": "stderr"
        },
        {
          "output_type": "stream",
          "text": [
            "Reinforce Loss : 0.0 Reinforce Max Reward : -2.207273244857788"
          ],
          "name": "stdout"
        },
        {
          "output_type": "stream",
          "text": [
            "\n",
            "Batch:  60%|██████    | 6/10 [01:43<01:09, 17.30s/it]\u001b[A"
          ],
          "name": "stderr"
        },
        {
          "output_type": "stream",
          "text": [
            "Reinforce Loss : -0.005859375 Reinforce Max Reward : -2.440826654434204"
          ],
          "name": "stdout"
        },
        {
          "output_type": "stream",
          "text": [
            "\n",
            "Batch:  70%|███████   | 7/10 [02:00<00:51, 17.10s/it]\u001b[A"
          ],
          "name": "stderr"
        },
        {
          "output_type": "stream",
          "text": [
            "Reinforce Loss : -0.0078125 Reinforce Max Reward : -2.4469211101531982"
          ],
          "name": "stdout"
        },
        {
          "output_type": "stream",
          "text": [
            "\n",
            "Batch:  80%|████████  | 8/10 [02:16<00:33, 16.86s/it]\u001b[A"
          ],
          "name": "stderr"
        },
        {
          "output_type": "stream",
          "text": [
            "Reinforce Loss : 0.0048828125 Reinforce Max Reward : -1.6816482543945312"
          ],
          "name": "stdout"
        },
        {
          "output_type": "stream",
          "text": [
            "\n",
            "Batch:  90%|█████████ | 9/10 [02:33<00:16, 16.68s/it]\u001b[A"
          ],
          "name": "stderr"
        },
        {
          "output_type": "stream",
          "text": [
            "Reinforce Loss : -0.00390625 Reinforce Max Reward : -1.7397053241729736"
          ],
          "name": "stdout"
        },
        {
          "output_type": "stream",
          "text": [
            "\n",
            "Batch: 100%|██████████| 10/10 [02:49<00:00, 16.63s/it]\u001b[A\n",
            "Epoch:   6%|▋         | 114/1785 [5:40:57<85:19:56, 183.84s/it]\n",
            "Batch:   0%|          | 0/10 [00:00<?, ?it/s]\u001b[A"
          ],
          "name": "stderr"
        },
        {
          "output_type": "stream",
          "text": [
            "Reinforce Loss : -0.01171875 Reinforce Max Reward : -2.4041907787323"
          ],
          "name": "stdout"
        },
        {
          "output_type": "stream",
          "text": [
            "\n",
            "Batch:  10%|█         | 1/10 [00:21<03:12, 21.40s/it]\u001b[A"
          ],
          "name": "stderr"
        },
        {
          "output_type": "stream",
          "text": [
            "Reinforce Loss : 0.009765625 Reinforce Max Reward : -2.4240102767944336"
          ],
          "name": "stdout"
        },
        {
          "output_type": "stream",
          "text": [
            "\n",
            "Batch:  20%|██        | 2/10 [00:37<02:39, 19.90s/it]\u001b[A"
          ],
          "name": "stderr"
        },
        {
          "output_type": "stream",
          "text": [
            "Reinforce Loss : 0.00390625 Reinforce Max Reward : -2.3982181549072266"
          ],
          "name": "stdout"
        },
        {
          "output_type": "stream",
          "text": [
            "\n",
            "Batch:  30%|███       | 3/10 [00:54<02:12, 18.96s/it]\u001b[A"
          ],
          "name": "stderr"
        },
        {
          "output_type": "stream",
          "text": [
            "Reinforce Loss : -0.01171875 Reinforce Max Reward : -2.425541639328003"
          ],
          "name": "stdout"
        },
        {
          "output_type": "stream",
          "text": [
            "\n",
            "Batch:  40%|████      | 4/10 [01:11<01:49, 18.26s/it]\u001b[A"
          ],
          "name": "stderr"
        },
        {
          "output_type": "stream",
          "text": [
            "Reinforce Loss : 0.001953125 Reinforce Max Reward : -2.3115897178649902"
          ],
          "name": "stdout"
        },
        {
          "output_type": "stream",
          "text": [
            "\n",
            "Batch:  50%|█████     | 5/10 [01:27<01:28, 17.74s/it]\u001b[A"
          ],
          "name": "stderr"
        },
        {
          "output_type": "stream",
          "text": [
            "Reinforce Loss : -0.005859375 Reinforce Max Reward : -2.3903050422668457"
          ],
          "name": "stdout"
        },
        {
          "output_type": "stream",
          "text": [
            "\n",
            "Batch:  60%|██████    | 6/10 [01:44<01:09, 17.39s/it]\u001b[A"
          ],
          "name": "stderr"
        },
        {
          "output_type": "stream",
          "text": [
            "Reinforce Loss : -0.005859375 Reinforce Max Reward : -2.4069056510925293"
          ],
          "name": "stdout"
        },
        {
          "output_type": "stream",
          "text": [
            "\n",
            "Batch:  70%|███████   | 7/10 [02:01<00:52, 17.35s/it]\u001b[A"
          ],
          "name": "stderr"
        },
        {
          "output_type": "stream",
          "text": [
            "Reinforce Loss : -0.001953125 Reinforce Max Reward : -2.2984795570373535"
          ],
          "name": "stdout"
        },
        {
          "output_type": "stream",
          "text": [
            "\n",
            "Batch:  80%|████████  | 8/10 [02:18<00:34, 17.20s/it]\u001b[A"
          ],
          "name": "stderr"
        },
        {
          "output_type": "stream",
          "text": [
            "Reinforce Loss : 0.00390625 Reinforce Max Reward : -2.4234485626220703"
          ],
          "name": "stdout"
        },
        {
          "output_type": "stream",
          "text": [
            "\n",
            "Batch:  90%|█████████ | 9/10 [02:34<00:16, 16.95s/it]\u001b[A"
          ],
          "name": "stderr"
        },
        {
          "output_type": "stream",
          "text": [
            "Reinforce Loss : 0.0087890625 Reinforce Max Reward : -2.4233551025390625"
          ],
          "name": "stdout"
        },
        {
          "output_type": "stream",
          "text": [
            "\n",
            "Batch: 100%|██████████| 10/10 [02:51<00:00, 16.76s/it]\u001b[A\n",
            "Epoch:   6%|▋         | 115/1785 [5:44:04<85:45:05, 184.85s/it]\n",
            "Batch:   0%|          | 0/10 [00:00<?, ?it/s]\u001b[A"
          ],
          "name": "stderr"
        },
        {
          "output_type": "stream",
          "text": [
            "Epoch 330 Batch 0 Iteration 2 Reward -2.44%"
          ],
          "name": "stdout"
        }
      ]
    },
    {
      "cell_type": "code",
      "metadata": {
        "id": "6yK9EP7PkTG5",
        "colab_type": "code",
        "colab": {}
      },
      "source": [
        "#del Policy\n",
        "del Enc\n",
        "del D\n",
        "del Dec\n",
        "torch.cuda.empty_cache()"
      ],
      "execution_count": 0,
      "outputs": []
    },
    {
      "cell_type": "code",
      "metadata": {
        "id": "DS-h8Xuc59tf",
        "colab_type": "code",
        "colab": {}
      },
      "source": [
        "test = next(iter(train_loader))[0]\n",
        "test.shape"
      ],
      "execution_count": 0,
      "outputs": []
    },
    {
      "cell_type": "code",
      "metadata": {
        "id": "cZGbXrWWWTWd",
        "colab_type": "code",
        "colab": {}
      },
      "source": [
        "import os\n",
        "os.environ['CUDA_LAUNCH_BLOCKING'] = \"1\""
      ],
      "execution_count": 0,
      "outputs": []
    },
    {
      "cell_type": "code",
      "metadata": {
        "id": "RfnTPnHV4fTG",
        "colab_type": "code",
        "colab": {}
      },
      "source": [
        "torch.cuda.empty_cache()"
      ],
      "execution_count": 0,
      "outputs": []
    }
  ]
}